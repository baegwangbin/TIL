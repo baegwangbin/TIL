{
 "cells": [
  {
   "cell_type": "markdown",
   "metadata": {},
   "source": [
    "# Probability Theory"
   ]
  },
  {
   "cell_type": "markdown",
   "metadata": {},
   "source": [
    "># 1. Definitions & Theorems"
   ]
  },
  {
   "cell_type": "markdown",
   "metadata": {},
   "source": [
    "### Definitions\n",
    "* **확률 표본**(sample, $\\omega$): 선택된 특정한 하나의 사실\n",
    "* **표본 공간**(sample space, $\\Omega$): 선택될 수 있는 모든 표본의 집합\n",
    "* **사건**(event, $A, B, C, ...$): 일부 표본의 집합\n",
    "* **확률**(probability, $P(A)$): 사건(부분 집합)을 입력하면 숫자(확률값)가 출력되는 함수"
   ]
  },
  {
   "cell_type": "markdown",
   "metadata": {},
   "source": [
    "### 콜모고로프의 공리(Kolmogorov's axioms)\n",
    "* 1) 모든 사건에 대해 확률은 실수이고 양수이다.\n",
    "$$P(A)\\in\\mathbb{R}, P(A)\\geq 0 $$\n",
    "\n",
    "* 2) 표본공간이라는 사건에 대한 확률은 1이다.\n",
    "\n",
    "$$P(\\Omega) = 1$$\n",
    "\n",
    "* 3) 공통 원소가 없는 두 사건의 합집합의 확률은 각각의 사건의 확률의 합이다.\n",
    "\n",
    "$$ A \\cap B = \\emptyset \\;\\;\\; \\rightarrow \\;\\;\\; P(A \\cup B) = P(A) + P(B) $$"
   ]
  },
  {
   "cell_type": "markdown",
   "metadata": {},
   "source": [
    "### 표본의 수가 무한한 경우\n",
    "\n",
    "\n",
    "* 표본의 수가 무한한 경우 특정한 하나의 표본(sample, 원소)이 나올 확률은 모든 표본에 대해서 0\n",
    "\n",
    "\n",
    "$$ P(\\{ \\theta = 0^{\\circ} \\}) = 0$$\n",
    "\n",
    "\n",
    "$$ P(\\{ \\theta = 30^{\\circ} \\}) = 0$$\n",
    "\n",
    "\n",
    "\n",
    "* 확률은 표본(sample, 원소)이 아닌 사건 (event, 집합)에 대해서만 정의\n",
    "\n",
    "\n",
    "$$ P(\\{  0^{\\circ} \\leq \\theta < 30^{\\circ} \\}) = \\frac{1}{12}$$\n",
    "\n",
    "\n",
    "$$ P(\\{  30^{\\circ} \\leq \\theta < 60^{\\circ} \\}) = \\frac{1}{12}$$\n",
    "\n",
    "\n",
    "$$ P(\\{  0^{\\circ} \\leq \\theta < 60^{\\circ} \\}) = \\frac{1}{6}$$\n",
    "\n",
    "\n",
    "$$ P(\\{  0^{\\circ} \\leq \\theta < 1^{\\circ} \\}) = \\frac{1}{360}$$\n"
   ]
  },
  {
   "cell_type": "markdown",
   "metadata": {},
   "source": [
    "### 확률의 성질\n",
    "* 1) 공집합의 확률: $ P(\\emptyset) = 0 $\n",
    "* 2) 여집합의 확률: $ P(A^C) = 1 - P(A) $\n",
    "* 3) 포함-배제 원리: $ P(A \\cup B) = P(A) + P(B) – P(A \\cap B) $\n",
    "* 4) 전체 확률의 법칙: \n",
    "$$ C_i \\cap C_j = \\emptyset \\text{  &  } C_1 \\cup C_2 \\cup \\cdots  = \\Omega $$\n",
    "$$$$\n",
    "$$ \\downarrow $$\n",
    "$$$$\n",
    "$$ P(A) = \\sum_i P(A \\cap C_i) $$\n",
    "* **모두 콜모고로프의 정리를 통해 증명 가능**"
   ]
  },
  {
   "cell_type": "markdown",
   "metadata": {},
   "source": [
    "### 확률의 의미\n",
    "* 1) **빈도주의적**(frequentist) 의미 - 반복된 샘플링을 통해 가능성을 정의\n",
    "* 2) **베이지안**(Bayesian) 의미 - 이미 발생한 일이 특정한 사건에 속할 가능성 / **주장의 신뢰도**\n",
    "  * 베이지안 관점에서의 사건: **\"진짜 표본이 포함되어 있을 가능성이 있는 후보의 집합\", \"진실에 대한 어떤 가설\"**\n",
    "  * 베이지안 관점에서의 확률: **\"진짜 표본이 그 후보 집합에 있을 가능성\", \"어떤 가설이 진실일 가능성\"**"
   ]
  },
  {
   "cell_type": "markdown",
   "metadata": {},
   "source": [
    "> # 2. Bayes' theorem"
   ]
  },
  {
   "cell_type": "markdown",
   "metadata": {},
   "source": [
    "### 결합 확률과 조건부 확률\n",
    "* 1) **결합 확률**(joint probability): 사건 A와 B가 동시에 발생할 확률, $ P(A \\cap B) = P(A, B) $\n",
    "* 2) **조건부 확률**(conditional probability): 사건 B가 사실일 경우 사건 A에 대한 확률, $ P(A | B) $\n",
    "\n",
    "$$ P(A|B) = \\dfrac{P(A,B)}{P(B)} $$"
   ]
  },
  {
   "cell_type": "markdown",
   "metadata": {},
   "source": [
    "### 독립적인 사건의 조건부 확률\n",
    "$$$$\n",
    "$$ P(A,B) = P(A)P(B) $$\n",
    "$$$$\n",
    "$$ P(A|B) = \\dfrac{P(A,B)}{P(B)} = \\dfrac{P(A)P(B)}{P(B)} = P(A) $$\n"
   ]
  },
  {
   "cell_type": "markdown",
   "metadata": {},
   "source": [
    "### 베이즈 정리(Bayes' theorem)\n",
    "* 조건부 확률의 식이 $A$와 $B$에 대칭적임을 이용해 유도할 수 있다\n",
    "\n",
    "$$ P(A|B) = \\dfrac{P(B|A)P(A)}{P(B)} $$\n",
    "\n",
    "* $ P(A|B) $ : 사후 확률(posterior). 사건 B가 발생한 후 갱신된 사건 A의 확률\n",
    "* $ P(A) $ : 사전 확률(prior). 사건 B가 발생하기 전에 가지고 있던 사건 A의 확률\n",
    "* $ P(B|A) $ : likelihood. 사건 A가 발생한 경우 사건 B의 확률\n",
    "* $ P(B) $ : 정규화 상수(normalizing constant): 확률의 크기 조정"
   ]
  },
  {
   "cell_type": "markdown",
   "metadata": {},
   "source": [
    "### 베이즈 정리의 확장\n",
    "$$$$\n",
    "$$ P(A_1|B) = \\dfrac{P(B|A_1)P(A_1)}{P(B)} = \\dfrac{P(B|A_1)P(A_1)}{\\sum_i P(A_i, B)}= \\dfrac{P(B|A_1)P(A_1)}{\\sum_i P(B|A_i)P(A_i)}  $$\n",
    "$$$$\n",
    "* 조건1: $ A_i \\cap A_j = \\emptyset $\n",
    "* 조건2: $ A_1 \\cup A_2 \\cup \\cdots = \\Omega $\n",
    "\n",
    "#### 응용1: $A_1 = A$, $A_2 = A^C$ 인 경우:\n",
    "\n",
    "$$ \n",
    "\\begin{eqnarray}\n",
    "P(A|B) \n",
    "&=& \\dfrac{P(B|A)P(A)}{P(B)} \\\\\n",
    "&=& \\dfrac{P(B|A)P(A)}{P(B,A) + P(B,A^C)} \\\\\n",
    "&=& \\dfrac{P(B|A)P(A)}{P(B|A)P(A) + P(B|A^C)P(A^C)} \\\\\n",
    "&=& \\dfrac{P(B|A)P(A)}{P(B|A)P(A) + P(B|A^C)(1 - P(A))} \n",
    "\\end{eqnarray}\n",
    "$$\n",
    "\n",
    "#### 응용2: 추가적인 사건 $C$가 발생한 경우:\n",
    "\n",
    "$$ P(A,B,C) = P(A|B,C)P(B,C) = P(A|B,C)P(C|B)P(B)$$\n",
    "\n",
    "\n",
    "$$ P(A,B,C) = P(C|A,B)P(A,B) = P(C|A,B)P(A|B)P(B) $$\n",
    "\n",
    "\n",
    "$$ P(A|B,C)P(C|B)P(B) = P(C|A,B)P(A|B)P(B) $$\n",
    "\n",
    "\n",
    "$$ P(A|B,C) = \\dfrac{P(C|A,B)P(A|B)}{P(C|B)} $$\n",
    "\n",
    "$$ \\text{symmetrically,} $$\n",
    "\n",
    "$$ P(A|B,C) = \\dfrac{P(B|A,C)P(A|C)}{P(B|C)} $$"
   ]
  },
  {
   "cell_type": "markdown",
   "metadata": {},
   "source": [
    "> # 3. Probability Model"
   ]
  },
  {
   "cell_type": "markdown",
   "metadata": {},
   "source": [
    "### 확률 모형(probability model)\n",
    "* 확률 변수를 이용해 데이터 분포를 수학적으로 정의하는 방법\n",
    "* 확률 모형만 있으면 동일한 데이터 분포를 얻을 수 있음\n",
    "* 확률 모형론에서는 데이터 그 자체에는 의미가 없으며 데이터 분포 특성만이 중요"
   ]
  },
  {
   "cell_type": "markdown",
   "metadata": {},
   "source": [
    "### 확률 변수(random variable)\n",
    "* 표본 공간의 모든 표본에 대해 어떤 실수 값을 붙인 것 (추상적 개념 $\\rightarrow$ 계산 가능한 숫자)\n",
    ">* 이산 확률 변수(discrete random variable)\n",
    ">* 연속 확률 변수(continuous random variable)\n",
    "* 사건에 대해 할당되는 확률과 달리 확률 변수는 표본 하나 하나에 할당됨\n",
    "* 다음과 같이 표현 가능\n",
    "$$$$\n",
    "$$ A = \\{ \\omega ; a \\leq X(\\omega) < b \\} = \\{ a \\leq X < b \\} $$\n",
    "$$$$\n",
    "* 샘플링(sampling) 또는 실현(realization): 확률 변수를 통해 데이터를 생성하는 과정\n",
    "  * 샘플링은 많은 수의 데이터 집합에서 일부 데이터만 선택하는 과정을 의미하기도 하니 주의"
   ]
  },
  {
   "cell_type": "markdown",
   "metadata": {},
   "source": [
    "### 데이터 분석에 적용\n",
    "1. 자료를 확보한다.\n",
    "2. 확보된 자료를 확률 변수의 표본으로 가정한다.\n",
    "3. 확률 변수가 특정한 확률 모형을 따른다고 가정한다.\n",
    "4. 표본에 대한 정보로부터 확률 모형의 종류나 모수를 추정한다.\n",
    "5. 구해진 확률 모형으로부터 다음에 생성될 데이터나 데이터 특성을 예측한다."
   ]
  },
  {
   "cell_type": "markdown",
   "metadata": {},
   "source": [
    "> # 4. Probability Function"
   ]
  },
  {
   "cell_type": "markdown",
   "metadata": {},
   "source": [
    "### 누적 분포 함수 (cdf, cumulative distribution function)\n",
    "* $\\{ -\\infty \\leq X < x \\} $ 에 할당된 확률:\n",
    "$$$$\n",
    "$$ F(x) = P(\\{X < x\\}) = P(X < x)$$\n",
    "$$$$\n",
    "* $F(-\\infty) = 0$\n",
    "* $F(+\\infty) = 1$\n",
    "* $F(x) \\geq F(y) \\;\\; \\text{ if } \\;\\; x > y $"
   ]
  },
  {
   "cell_type": "markdown",
   "metadata": {},
   "source": [
    "### 확률 밀도 함수 (pdf, probability density function)\n",
    "* cdf를 미분한 결과 / pdf의 값 자체는 확률이 아님\n",
    "$$$$\n",
    "$$ \\dfrac{dF(x)}{dx} = f(x) \\Leftrightarrow F(x) = \\int_{-\\infty}^{x} f(u) du $$\n",
    "$$$$\n",
    "* $-\\infty$ 부터 $\\infty$ 까지 적분하면 그 값은 1이 된다\n",
    "* 확률 밀도 함수는 0보다 같거나 크다"
   ]
  },
  {
   "cell_type": "markdown",
   "metadata": {},
   "source": [
    "### 확률 질량 함수(pmf, probability mass function)\n",
    "* **이산 확률 변수**의 가능한 값 하나 하나에 대해 확률을 정의한 함수\n",
    "* 확률 변수에 대해 각 값을 누적하여 더하면 이산 확률 변수의 누적 분포 함수(cumulative distribution function)를 구할 수 있다"
   ]
  }
 ],
 "metadata": {
  "kernelspec": {
   "display_name": "Python 3",
   "language": "python",
   "name": "python3"
  },
  "language_info": {
   "codemirror_mode": {
    "name": "ipython",
    "version": 3
   },
   "file_extension": ".py",
   "mimetype": "text/x-python",
   "name": "python",
   "nbconvert_exporter": "python",
   "pygments_lexer": "ipython3",
   "version": "3.6.4"
  }
 },
 "nbformat": 4,
 "nbformat_minor": 2
}
