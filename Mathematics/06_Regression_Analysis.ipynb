{
 "cells": [
  {
   "cell_type": "markdown",
   "metadata": {},
   "source": [
    "# Regression Analysis"
   ]
  },
  {
   "cell_type": "markdown",
   "metadata": {},
   "source": [
    "># 1. Sample Data"
   ]
  },
  {
   "cell_type": "markdown",
   "metadata": {
    "school_cell_uuid": "e64881a219a24ff5a49d2d3c00dc7d41"
   },
   "source": [
    "### Boston House Prices dataset\n",
    "* Load data\n",
    "\n",
    "```python\n",
    "from sklearn.datasets import load_boston\n",
    "boston = load_boston()\n",
    "dfX = pd.DataFrame(boston.data, columns=boston.feature_names)\n",
    "dfy = pd.DataFrame(boston.target, columns=[\"MEDV\"])\n",
    "df = pd.concat([dfX, dfy], axis=1)\n",
    "df.tail()\n",
    "```\n",
    "* Pairplot\n",
    "\n",
    "```python\n",
    "cols = [\"LSTAT\", \"NOX\", \"RM\", \"MEDV\"]\n",
    "sns.pairplot(df[cols])\n",
    "plt.show()\n",
    "```"
   ]
  },
  {
   "cell_type": "markdown",
   "metadata": {
    "school_cell_uuid": "b96f30c8dd374f8ca429908de136e054"
   },
   "source": [
    "### Diabetes dataset\n",
    "\n",
    "```python\n",
    "from sklearn.datasets import load_diabetes\n",
    "```"
   ]
  },
  {
   "cell_type": "markdown",
   "metadata": {
    "school_cell_uuid": "90c7971fe95a41ba97fc7352e082086f"
   },
   "source": [
    "### Linnerrud dataset\n",
    "```python\n",
    "from sklearn.datasets import load_linnerud\n",
    "```"
   ]
  },
  {
   "cell_type": "markdown",
   "metadata": {},
   "source": [
    "># 2. make_regression"
   ]
  },
  {
   "cell_type": "markdown",
   "metadata": {
    "school_cell_uuid": "7e3b37e1c4ad49369af170c7d5334139"
   },
   "source": [
    "$$ y = b + w^T x + e $$ \n",
    "[more](http://scikit-learn.org/stable/modules/generated/sklearn.datasets.make_regression.html)"
   ]
  },
  {
   "cell_type": "code",
   "execution_count": 2,
   "metadata": {
    "collapsed": true,
    "school_cell_uuid": "6d8816a958bc49789a92609f641dbe0f"
   },
   "outputs": [],
   "source": [
    "from sklearn.datasets import make_regression\n",
    "X, y, w = make_regression(n_samples=10, n_features=1, bias=0, noise=0, coef=True, random_state=0)"
   ]
  },
  {
   "cell_type": "markdown",
   "metadata": {
    "school_cell_uuid": "2b687230a47643cfaffb4e9e75651b32"
   },
   "source": [
    "* Input \n",
    ">* `n_samples` : No. of samples / default=100\n",
    ">* `n_features` : No. of features / default=100\n",
    ">* `n_targets` : No. of target / default=1\n",
    ">* `n_informative` : No. of features that actually have correlation with targets / default=10\n",
    ">* `effective_rank`: No. of independent features / default=None (all features are independent)\n",
    ">* `tail_strength` : Determines correlation between independent features (`effective_rank != None`) / default = 0.5\n",
    ">* `bias` : Bias / default=0.0\n",
    ">* `noise` : Stdev of error added to the targets / default=0.0 \n",
    ">* `coef` : if True, print the coefficents of the linear model / default=False\n",
    ">* `random_state` : random seed / default=False\n",
    "\n",
    "* Output\n",
    ">* `X` : features in size of [`n_samples`, `n_features`]\n",
    ">* `y` : targets in size of [`n_samples`] or [`n_samples`, `n_targets`]\n",
    ">* `coef` : coefficients in size of [`n_features`] or [`n_features`, `n_targets`]"
   ]
  },
  {
   "cell_type": "markdown",
   "metadata": {
    "school_cell_uuid": "f134cf4eca154d88b2ee222490d055d0"
   },
   "source": [
    "># 3. Deterministic Linear Regression Analysis"
   ]
  },
  {
   "cell_type": "markdown",
   "metadata": {
    "school_cell_uuid": "5b45d88393de4fc7913fd31c9e5cf50e"
   },
   "source": [
    "### Definitions\n",
    "* Regression Analysis: quantitative analysis on the relationship between $x$(independent variables) and $y$(dependent variables)\n",
    "* Deterministic Model:\n",
    "\n",
    "$$ \\hat{y} = f \\left( x \\right) $$\n",
    "\n",
    "* Since the model is dependent on previous data,\n",
    "\n",
    "$$ \\hat{y} = f \\left( x; \\{ x_1, y_1, x_2, y_2, \\cdots, x_N, y_N \\} \\right) $$\n",
    "\n",
    "* Linear Regression Analysis\n",
    "\n",
    "$$ \\hat{y} = w_0 + w_1 x_1 + w_2 x_2 + \\cdots + w_D x_D $$"
   ]
  },
  {
   "cell_type": "markdown",
   "metadata": {
    "school_cell_uuid": "7179ee401e064256aefe640dd2cb4b63"
   },
   "source": [
    "### Augmentation\n",
    "* Adding constant to the independent variables\n",
    "\n",
    "$$\n",
    "X =\n",
    "\\begin{bmatrix}\n",
    "x_{11} & x_{12} & \\cdots & x_{1D} \\\\\n",
    "x_{21} & x_{22} & \\cdots & x_{2D} \\\\\n",
    "\\vdots & \\vdots & \\vdots & \\vdots \\\\\n",
    "x_{N1} & x_{N2} & \\cdots & x_{ND} \\\\\n",
    "\\end{bmatrix}\n",
    "\\rightarrow \n",
    "X_a =\n",
    "\\begin{bmatrix}\n",
    "1 & x_{11} & x_{12} & \\cdots & x_{1D} \\\\\n",
    "1 & x_{21} & x_{22} & \\cdots & x_{2D} \\\\\n",
    "\\vdots & \\vdots & \\vdots & \\vdots & \\vdots \\\\\n",
    "1 & x_{N1} & x_{N2} & \\cdots & x_{ND} \\\\\n",
    "\\end{bmatrix}\n",
    "$$\n",
    "\n",
    "$$ f(x) = w_0 + w_1 x_1 + w_2 x_2 + \\cdots + w_D x_D\n",
    "= \n",
    "\\begin{bmatrix}\n",
    "1 & x_1 & x_2 & \\cdots & x_D\n",
    "\\end{bmatrix}\n",
    "\\begin{bmatrix}\n",
    "w_0 \\\\ w_1 \\\\ w_2 \\\\ \\vdots \\\\ w_D\n",
    "\\end{bmatrix}\n",
    "= x_a^T w_a = w_a^T x_a\n",
    "$$\n",
    "\n",
    "* StatsModels - `add_constant`\n",
    "```python\n",
    "import statsmodels.api as sm\n",
    "X = sm.add_constant(X0)\n",
    "```"
   ]
  },
  {
   "cell_type": "markdown",
   "metadata": {
    "school_cell_uuid": "bf72a59924f84e588c33031b5f4251d3"
   },
   "source": [
    "### OLS (Ordinary Least Squares)\n",
    "* Minimizes RSS (Residual Sum of Squares)\n",
    "$$$$\n",
    "$$ \\hat{y} = Xw $$\n",
    "$$$$\n",
    "$$ e = {y} - \\hat{y} = y - Xw $$\n",
    "$$$$\n",
    "$$\\begin{eqnarray}\n",
    "\\text{RSS}\n",
    "&=&  e^Te \\\\\n",
    "&=& (y - Xw)^T(y - Xw) \\\\\n",
    "&=& y^Ty - 2y^T X w + w^TX^TXw  \n",
    "\\end{eqnarray}$$\n",
    "$$$$\n",
    "$$ \\dfrac{d \\text{RSS}}{d w} = -2 X^T y + 2 X^TX w = 0$$\n",
    "$$$$\n",
    "$$ X^TX w = X^T y $$\n",
    "$$$$\n",
    "$$  w = (X^TX)^{-1} X^T y $$\n",
    "$$$$\n",
    "* **Normal equation:**\n",
    "$$$$\n",
    "$$ X^T y - X^TX w = 0 $$\n",
    "$$$$\n",
    "$$ X^T (y - X w ) = X^T e = 0 $$\n",
    "$$$$\n",
    "$$ x_d^T e = 0 $$\n",
    "$$$$\n",
    "$$ x_d \\perp e $$"
   ]
  },
  {
   "cell_type": "markdown",
   "metadata": {
    "school_cell_uuid": "88dc4731fa8e4144a450082e7ea04138"
   },
   "source": [
    "### OLS - NumPy\n",
    "* True Model:\n",
    "$$ y = 100 + 80.7105 x + e $$\n",
    "* Predicted Model:\n",
    "$$ \\hat{y} = 102.0270 + 81.5975 x $$"
   ]
  },
  {
   "cell_type": "code",
   "execution_count": 4,
   "metadata": {
    "collapsed": true,
    "school_cell_uuid": "6753f3752a5c4db897e033b023ba41cf"
   },
   "outputs": [],
   "source": [
    "from sklearn.datasets import make_regression\n",
    "\n",
    "bias = 100\n",
    "X0, y, coef = make_regression(n_samples=100, n_features=1, bias=bias, noise=10, coef=True, random_state=1)\n",
    "X = sm.add_constant(X0)\n",
    "y = y.reshape(len(y), 1)"
   ]
  },
  {
   "cell_type": "code",
   "execution_count": 5,
   "metadata": {
    "school_cell_uuid": "1744ddcdc74f44f28ebb48c28e0056e0"
   },
   "outputs": [
    {
     "data": {
      "text/plain": [
       "array([[ 102.02701439],\n",
       "       [  81.59750943]])"
      ]
     },
     "execution_count": 5,
     "metadata": {},
     "output_type": "execute_result"
    }
   ],
   "source": [
    "# Direct Calculation\n",
    "w = np.dot(np.dot(np.linalg.inv(np.dot(X.T, X)), X.T), y)\n",
    "w"
   ]
  },
  {
   "cell_type": "code",
   "execution_count": 7,
   "metadata": {
    "school_cell_uuid": "8f968a74bf6c4ead88b49c2a55ae1dc0"
   },
   "outputs": [
    {
     "data": {
      "text/plain": [
       "array([[ 102.02701439],\n",
       "       [  81.59750943]])"
      ]
     },
     "execution_count": 7,
     "metadata": {},
     "output_type": "execute_result"
    }
   ],
   "source": [
    "# use lstsq method\n",
    "w = np.linalg.lstsq(X, y)[0]\n",
    "w"
   ]
  },
  {
   "cell_type": "markdown",
   "metadata": {
    "school_cell_uuid": "1ad9368f82fb44299dc0561613178054"
   },
   "source": [
    "### OLS - Scikit-Learn"
   ]
  },
  {
   "cell_type": "markdown",
   "metadata": {
    "school_cell_uuid": "9c5bc419002d46b195946f049e5c73bd"
   },
   "source": [
    "1. `model = LinearRegression(fit_intercept=True)`\n",
    ">* `fit_intercept=False` if there is no constant coefficient\n",
    ">* The `LinearRegression` object has the following attributes\n",
    ">  * `coef_`: predicted coefficient vector\n",
    ">  * `intercept_`: predicted constant coefficient\n",
    "\n",
    "2. `model = model.fit(X, y)` \n",
    ">* Returns itself\n",
    ">* Augmentation not needed\n",
    "\n",
    "3. `y_new = model.predict(x_new)`"
   ]
  },
  {
   "cell_type": "code",
   "execution_count": 11,
   "metadata": {
    "collapsed": true,
    "school_cell_uuid": "986986e8ba6c434d9e811c573629f99f"
   },
   "outputs": [],
   "source": [
    "from sklearn.datasets import load_boston\n",
    "from sklearn.linear_model import LinearRegression\n",
    "\n",
    "boston = load_boston()\n",
    "model_boston = LinearRegression().fit(boston.data, boston.target)"
   ]
  },
  {
   "cell_type": "code",
   "execution_count": 12,
   "metadata": {
    "school_cell_uuid": "ebf03fd924304a7b8bbe5767ef0d94f1"
   },
   "outputs": [
    {
     "data": {
      "text/plain": [
       "array([ -1.07170557e-01,   4.63952195e-02,   2.08602395e-02,\n",
       "         2.68856140e+00,  -1.77957587e+01,   3.80475246e+00,\n",
       "         7.51061703e-04,  -1.47575880e+00,   3.05655038e-01,\n",
       "        -1.23293463e-02,  -9.53463555e-01,   9.39251272e-03,\n",
       "        -5.25466633e-01])"
      ]
     },
     "execution_count": 12,
     "metadata": {},
     "output_type": "execute_result"
    }
   ],
   "source": [
    "model_boston.coef_"
   ]
  },
  {
   "cell_type": "code",
   "execution_count": 13,
   "metadata": {
    "school_cell_uuid": "433b928560f145b3b733aa5cdecd3380"
   },
   "outputs": [
    {
     "data": {
      "text/plain": [
       "36.491103280359525"
      ]
     },
     "execution_count": 13,
     "metadata": {},
     "output_type": "execute_result"
    }
   ],
   "source": [
    "model_boston.intercept_"
   ]
  },
  {
   "cell_type": "markdown",
   "metadata": {
    "school_cell_uuid": "0d975171501b40f5b1710d5903868a6d"
   },
   "source": [
    "### OLS - StatsModels"
   ]
  },
  {
   "cell_type": "markdown",
   "metadata": {
    "school_cell_uuid": "51cf1872664e456cb430388fcecfbe0a"
   },
   "source": [
    "1. `model = OLS(y, X)`\n",
    ">* Augmentation needed / use `add_constant` method\n",
    "2. `result = model.fit()`\n",
    ">* Returns `RegressionResults` class object\n",
    ">* This class has two methods - `summary` and `predict`\n",
    ">* This class has two attributes - `resid` and `params`\n",
    "3. `y_new = result.predict(x_new)`\n",
    ">* x_new should be augmented"
   ]
  },
  {
   "cell_type": "code",
   "execution_count": 15,
   "metadata": {
    "school_cell_uuid": "bf293ddc7d924313b681232798941e76"
   },
   "outputs": [
    {
     "name": "stdout",
     "output_type": "stream",
     "text": [
      "                            OLS Regression Results                            \n",
      "==============================================================================\n",
      "Dep. Variable:                   MEDV   R-squared:                       0.741\n",
      "Model:                            OLS   Adj. R-squared:                  0.734\n",
      "Method:                 Least Squares   F-statistic:                     108.1\n",
      "Date:                Fri, 13 Oct 2017   Prob (F-statistic):          6.95e-135\n",
      "Time:                        18:06:17   Log-Likelihood:                -1498.8\n",
      "No. Observations:                 506   AIC:                             3026.\n",
      "Df Residuals:                     492   BIC:                             3085.\n",
      "Df Model:                          13                                         \n",
      "Covariance Type:            nonrobust                                         \n",
      "==============================================================================\n",
      "                 coef    std err          t      P>|t|      [0.025      0.975]\n",
      "------------------------------------------------------------------------------\n",
      "const         36.4911      5.104      7.149      0.000      26.462      46.520\n",
      "CRIM          -0.1072      0.033     -3.276      0.001      -0.171      -0.043\n",
      "ZN             0.0464      0.014      3.380      0.001       0.019       0.073\n",
      "INDUS          0.0209      0.061      0.339      0.735      -0.100       0.142\n",
      "CHAS           2.6886      0.862      3.120      0.002       0.996       4.381\n",
      "NOX          -17.7958      3.821     -4.658      0.000     -25.302     -10.289\n",
      "RM             3.8048      0.418      9.102      0.000       2.983       4.626\n",
      "AGE            0.0008      0.013      0.057      0.955      -0.025       0.027\n",
      "DIS           -1.4758      0.199     -7.398      0.000      -1.868      -1.084\n",
      "RAD            0.3057      0.066      4.608      0.000       0.175       0.436\n",
      "TAX           -0.0123      0.004     -3.278      0.001      -0.020      -0.005\n",
      "PTRATIO       -0.9535      0.131     -7.287      0.000      -1.211      -0.696\n",
      "B              0.0094      0.003      3.500      0.001       0.004       0.015\n",
      "LSTAT         -0.5255      0.051    -10.366      0.000      -0.625      -0.426\n",
      "==============================================================================\n",
      "Omnibus:                      178.029   Durbin-Watson:                   1.078\n",
      "Prob(Omnibus):                  0.000   Jarque-Bera (JB):              782.015\n",
      "Skew:                           1.521   Prob(JB):                    1.54e-170\n",
      "Kurtosis:                       8.276   Cond. No.                     1.51e+04\n",
      "==============================================================================\n",
      "\n",
      "Warnings:\n",
      "[1] Standard Errors assume that the covariance matrix of the errors is correctly specified.\n",
      "[2] The condition number is large, 1.51e+04. This might indicate that there are\n",
      "strong multicollinearity or other numerical problems.\n"
     ]
    }
   ],
   "source": [
    "dfX0 = pd.DataFrame(boston.data, columns=boston.feature_names)\n",
    "dfX = sm.add_constant(dfX0)\n",
    "dfy = pd.DataFrame(boston.target, columns=[\"MEDV\"])\n",
    "\n",
    "model_boston2 = sm.OLS(dfy, dfX)\n",
    "result_boston2 = model_boston2.fit()\n",
    "print(result_boston2.summary())"
   ]
  },
  {
   "cell_type": "markdown",
   "metadata": {},
   "source": [
    "># 4. Probabilistic Linear Regression Analysis"
   ]
  },
  {
   "cell_type": "markdown",
   "metadata": {},
   "source": [
    "### Bootstrapping\n",
    "* Regression Analysis with re-sampled data\n",
    "* Check the sample-dependency of the model\n",
    "* Resampling with replacement: choose $N$ data from $N$ data"
   ]
  },
  {
   "cell_type": "markdown",
   "metadata": {
    "school_cell_uuid": "3b6dbca03c014b2ea956213cea629762"
   },
   "source": [
    "### Probabilistic Linear Regression Analysis\n",
    "* **Assumption 1: Target Data Distribution**\n",
    "* ($x$ and $y$ themselves do not have to be Normally distributed)\n",
    "$$ y \\sim \\mathcal{N}(w^Tx, \\sigma^2) $$\n",
    "$$ \\epsilon_i = y - w^Tx $$\n",
    "$$$$\n",
    "* **Assumption 1-1: Normal d.**\n",
    "$$ p(y \\mid x, \\theta) = \\mathcal{N}(y \\mid w^Tx, \\sigma^2 ) $$ <br>\n",
    "$$ p(\\epsilon \\mid \\theta) = \\mathcal{N}(0, \\sigma^2 ) $$ <br>\n",
    "$$$$\n",
    "* **Assumption 1-2: Exogeneity**\n",
    "$$ \\text{E}[\\epsilon \\mid x] = 0$$ <br>\n",
    "$$$$\n",
    "* **Assumption 1-3: Conditional Independence**\n",
    "$$ \\text{Cov}[\\epsilon_i, \\epsilon_j \\mid x] =  0$$ \n",
    "$$$$\n",
    "* **Assumption 2: Independent Variables**\n",
    "$$ \\text{Covariance Matrix of the independent variables is full rank}$$\n",
    "$$$$"
   ]
  },
  {
   "cell_type": "markdown",
   "metadata": {
    "school_cell_uuid": "87346cd6d25e4cee981dd7099508a850"
   },
   "source": [
    "### MLE - Maximum Likelihood Estimation\n",
    "* **Likelihood:**\n",
    "$$\n",
    "\\begin{eqnarray}\n",
    "p(y_{1:N} \\,\\big|\\, x_{1:N}, \\theta)\n",
    "&=& \\prod_{i=1}^N N(y_i \\,\\big|\\, w^T x_i , \\sigma^2) \\\\\n",
    "&=& \\prod_{i=1}^N \\frac{1}{\\sqrt{2\\pi\\sigma^2}}\\exp\\left\\{-\\frac{(y_i-w^T x_i)^2}{2\\sigma^2} \\right\\}  \\\\\n",
    "\\end{eqnarray}\n",
    "$$\n",
    "$$$$\n",
    "* **Log Likelihood:**\n",
    "$$\n",
    "\\begin{eqnarray}\n",
    "\\text{LL}  \n",
    "&=& \\log p(y_{1:N} \\,\\big|\\, x_{1:N}, \\theta) \\\\\n",
    "&=& \\log \\prod_{i=1}^N \\frac{1}{\\sqrt{2\\pi\\sigma^2}}\\exp\\left\\{-\\frac{(y_i-w^T x_i)^2}{2\\sigma^2} \\right\\}  \\\\\n",
    "&=& -\\dfrac{1}{2\\sigma^2} \\sum_{i=1}^N (y_i-w^T x_i)^2 - \\dfrac{1}{2} \\sum_{i=1}^N  \\log{2\\pi}{\\sigma^2}  \\\\\n",
    "\\end{eqnarray}\n",
    "$$\n",
    "$$$$\n",
    "* **LL(Matrix notation):**\n",
    "$$ \\text{LL}  =  -C_1 (y - Xw)^T(y-Xw) - C_0 = -C_1(w^TX^TXw -2 y^TXw + y^Ty) - C_0 $$\n",
    "$$ C_1 =  -\\dfrac{1}{2\\sigma^2} $$\n",
    "$$ C_0 =  \\dfrac{1}{2} \\sum_{i=1}^N  \\log{2\\pi}{\\sigma^2} $$\n",
    "$$$$\n",
    "* **Optimization:**\n",
    "$$ \\dfrac{\\partial}{\\partial w} \\text{LL} \\propto - 2X^TX \\hat{w} + 2X^Ty = 0 $$\n",
    "$$ \\hat{w} = (X^TX)^{-1}X^T y $$"
   ]
  },
  {
   "cell_type": "markdown",
   "metadata": {
    "school_cell_uuid": "ba91ec4f0acf40db8426f39c8f01bd6e"
   },
   "source": [
    "### Residual: normal distribution\n",
    "* Relationship between error($\\epsilon$) and residual($e$)\n",
    "\n",
    "$$  \\hat{y} = X\\hat{w} = X (X^TX)^{-1}X^T y = Hy $$\n",
    "\n",
    "$$ e = y - \\hat{y}= y - Hy = (I - H) y$$\n",
    "\n",
    "* Define $M = I - H$,\n",
    "\n",
    "$$ e = My = M (Xw + \\epsilon) $$\n",
    "\n",
    "* Use Normal Equation,\n",
    "\n",
    "$$\n",
    "X^TX \\hat{w} - X^Ty = 0\n",
    "$$\n",
    "\n",
    "$$\n",
    "X^T(X\\hat{w} - y) = -X^Te = 0\n",
    "$$\n",
    "\n",
    "$$\n",
    "X^TMy = 0 \n",
    "$$\n",
    "\n",
    "* Since this holds for any $y$,\n",
    "\n",
    "$$\n",
    "X^TM = 0\n",
    "$$\n",
    "\n",
    "* Since $H$ is symmetric, $M = I -H$is also symmetric\n",
    "\n",
    "$$\n",
    "MX = 0\n",
    "$$\n",
    "\n",
    "\n",
    "$$ e = MXw + M\\epsilon = M\\epsilon $$\n",
    "\n",
    "\n",
    "$$ e =  M\\epsilon $$\n",
    "\n",
    "* The residual is a linear transformation of the error\n",
    "* Thus, it is also normally distributed"
   ]
  },
  {
   "cell_type": "markdown",
   "metadata": {},
   "source": [
    "### Normality Test"
   ]
  },
  {
   "cell_type": "code",
   "execution_count": 8,
   "metadata": {
    "school_cell_uuid": "3cd80c7dbfe547bc81c0728be2703917"
   },
   "outputs": [
    {
     "data": {
      "image/png": "[encoded data removed]",
      "text/plain": [
       "<matplotlib.figure.Figure at 0x7fd1f4e58a58>"
      ]
     },
     "metadata": {},
     "output_type": "display_data"
    }
   ],
   "source": [
    "sp.stats.probplot(result.resid, plot=plt)\n",
    "plt.show()"
   ]
  },
  {
   "cell_type": "code",
   "execution_count": 9,
   "metadata": {
    "school_cell_uuid": "2c790cf10ac045b18234e1a0e6424d33"
   },
   "outputs": [
    {
     "name": "stdout",
     "output_type": "stream",
     "text": [
      "Chi^2       :  3.523\n",
      "P-value     :  0.172\n"
     ]
    }
   ],
   "source": [
    "test = sms.omni_normtest(result.resid)\n",
    "for xi in zip(['Chi^2', 'P-value'], test):\n",
    "    print(\"%-12s: %6.3f\" % xi)"
   ]
  },
  {
   "cell_type": "code",
   "execution_count": 10,
   "metadata": {
    "school_cell_uuid": "f754ba93998342fca8c1fbdb1ced2dbb"
   },
   "outputs": [
    {
     "name": "stdout",
     "output_type": "stream",
     "text": [
      "Jarque-Bera :  2.059\n",
      "P-value     :  0.357\n",
      "Skew        : -0.073\n",
      "Kurtosis    :  2.312\n"
     ]
    }
   ],
   "source": [
    "test = sms.jarque_bera(result.resid)\n",
    "for xi in zip(['Jarque-Bera', 'P-value', 'Skew', 'Kurtosis'], test):\n",
    "    print(\"%-12s: %6.3f\" % xi)"
   ]
  },
  {
   "cell_type": "markdown",
   "metadata": {
    "school_cell_uuid": "7c0ca21c3a3c44da9dddcb9106173859"
   },
   "source": [
    "### Residual dependence on independent variable"
   ]
  },
  {
   "cell_type": "code",
   "execution_count": 11,
   "metadata": {
    "school_cell_uuid": "a65a8d8949f04bb68e6e206364d55b76"
   },
   "outputs": [
    {
     "data": {
      "image/png": "[encoded data removed]",
      "text/plain": [
       "<matplotlib.figure.Figure at 0x7fd1f2e8e4e0>"
      ]
     },
     "metadata": {},
     "output_type": "display_data"
    }
   ],
   "source": [
    "plt.plot(X0, result.resid, 'o')\n",
    "plt.axhline(y=0, c='k')\n",
    "plt.xlabel(\"X1\")\n",
    "plt.ylabel(\"Residual\")\n",
    "plt.show()"
   ]
  },
  {
   "cell_type": "markdown",
   "metadata": {
    "school_cell_uuid": "e92480caa2fe40aba67291ccf29109d7"
   },
   "source": [
    "### Standard Error of Regression Coefficient\n",
    "* $\\hat{w}$ : normal distribution (since it is a linear transformation of $y$)\n",
    "$$  \n",
    "\\begin{eqnarray}\n",
    "\\hat{w} \n",
    "&=& (X^TX)^{-1} X^T y \\\\\n",
    "&=& (X^TX)^{-1} X^T (X w + \\epsilon) \\\\\n",
    "&=& w + (X^TX)^{-1} X^T \\epsilon \\\\\n",
    "\\end{eqnarray}\n",
    "$$\n",
    "\n",
    "$$  \n",
    "\\begin{eqnarray}\n",
    "\\text{E}[\\hat{w}] \n",
    "&=&  \\text{E}[ w + (X^TX)^{-1} X^T \\epsilon ] \\\\\n",
    "&=&  w + (X^TX)^{-1} X^T \\text{E}[ \\epsilon ] \\\\\n",
    "&=& w\n",
    "\\end{eqnarray}\n",
    "$$\n",
    "\n",
    "* Covariance of the coefficients:\n",
    "\n",
    "$$\n",
    "\\begin{eqnarray}\n",
    "\\text{Cov}[\\hat{w}] \n",
    "&=& E[(\\hat{w} - w)(\\hat{w} - w)^T] \\\\\n",
    "&=& E[((X^TX)^{-1} X^T \\epsilon)((X^TX)^{-1} X^T \\epsilon)^T] \\\\\n",
    "&=& E[(X^TX)^{-1} X^T \\epsilon \\epsilon^T X(X^TX)^{−1} ] \\\\\n",
    "&=& (X^TX)^{-1} X^T E[\\epsilon \\epsilon^T] X(X^TX)^{−1} \\\\\n",
    "&=& (X^TX)^{-1} X^T (\\sigma^2 I) X(X^TX)^{−1} \\\\\n",
    "&=& \\sigma^2  (X^TX)^{-1}\n",
    "\\end{eqnarray}\n",
    "$$\n",
    "\n",
    "* Estimation of $\\sigma^2$ ($N$: no. of data / $K$: no. of independent variables):\n",
    "\n",
    "$$ s^2 = \\dfrac{e^Te}{N-K} = \\dfrac{RSS}{N-K} $$\n",
    "\n",
    "* Hence,\n",
    "\n",
    "$$ \\text{Est.Cov}[\\hat{w}]  = s^2(X^TX)^{-1}$$\n",
    "\n",
    "$$\\text{Est.Var}[\\hat{w}_i]  = \\left( \\text{Est.Cov}[\\hat{w}] \\right)_{ii} $$\n",
    "\n",
    "* **Standard Error of Regression Coefficient**:\n",
    "\n",
    " $$ {se_i} = \\sqrt{s^2 \\big((X^TX)^{-1}\\big)_{ii}} $$"
   ]
  },
  {
   "cell_type": "markdown",
   "metadata": {
    "school_cell_uuid": "bfb683e138564e73be80c6ecd3b6235c"
   },
   "source": [
    "### Single Coefficient t-test"
   ]
  },
  {
   "cell_type": "markdown",
   "metadata": {
    "school_cell_uuid": "948d94cd4f0245229308553645207466"
   },
   "source": [
    "* Determines the significance of each independent variable\n",
    "\n",
    "$$  \\dfrac{\\hat{w}_i - w_i}{se_i} \\sim t_{N-K} $$\n",
    "\n",
    "* Use this as test statistics & test for the following null hypothesis\n",
    "\n",
    "$$ H_0 : \\;\\; w_i = 0 $$\n",
    "\n",
    "* The `RegressionResults` class object has t_test() method"
   ]
  },
  {
   "cell_type": "code",
   "execution_count": 16,
   "metadata": {
    "school_cell_uuid": "e43fa627474b4ffc9535cda99989ddb0"
   },
   "outputs": [
    {
     "name": "stdout",
     "output_type": "stream",
     "text": [
      "                             Test for Constraints                             \n",
      "==============================================================================\n",
      "                 coef    std err          t      P>|t|      [0.025      0.975]\n",
      "------------------------------------------------------------------------------\n",
      "c0            42.8534      2.142      1.332      0.186      38.603      47.104\n",
      "==============================================================================\n"
     ]
    }
   ],
   "source": [
    "print(result.t_test(\"X1 = 40\"))"
   ]
  },
  {
   "cell_type": "markdown",
   "metadata": {
    "school_cell_uuid": "2a490f4d37b54043ab7688bb07700589"
   },
   "source": [
    "### F-statistics (Loss-of-Fit test)\n",
    "* Null hypothesis:\n",
    "$$ H_0 : w_1  = w_2 = \\cdots = w_K = 0 $$\n",
    "* Determines the significance of the entire model / the smaller the better"
   ]
  },
  {
   "cell_type": "markdown",
   "metadata": {
    "collapsed": true
   },
   "source": [
    "># 5. Leverage & Outlier\n",
    "* Leverage: self-influence, self-sensitivity"
   ]
  },
  {
   "cell_type": "markdown",
   "metadata": {},
   "source": [
    "### Mathematical Definition\n",
    "* Influence Matrix (or Hat Matrix):\n",
    "\n",
    "$$  w = (X^TX)^{-1} X^T y $$\n",
    "\n",
    "$$  \\hat{y} = X w = X((X^TX)^{-1} X^T y ) = ( X(X^TX)^{-1} X^T) y $$\n",
    "\n",
    "$$H = X (X^TX)^{-1}X^T$$\n",
    "\n",
    "$$  \\hat{y} =  Hy $$\n",
    "\n",
    "* Leverage:\n",
    "\n",
    "$$ \\hat{y}_i = h_{i1} y_1 + h_{i2} y_2 + \\cdots + h_{ii} y_i + \\cdots + h_{iN} y_N $$\n",
    "\n",
    "$$  h_{ii}=(H)_{ii} $$\n",
    "\n",
    "* 1) $  0 \\leq h_{ii} \\leq 1 $\n",
    "\n",
    "* 2) $  \\text{tr}(H) = \\sum_i^N h_{ii} = K $ / K contains bias\n",
    "\n",
    "* 3) $ h_{ii} \\approx \\dfrac{K}{N} $"
   ]
  },
  {
   "cell_type": "markdown",
   "metadata": {
    "school_cell_uuid": "93acbd33705046688e3acd1d28a8e6f4"
   },
   "source": [
    "### Leverage - StatsModels\n",
    "* `get_influence` method in `RegressionResults` class"
   ]
  },
  {
   "cell_type": "code",
   "execution_count": null,
   "metadata": {
    "collapsed": true
   },
   "outputs": [],
   "source": [
    "model = sm.OLS(y, X)\n",
    "result = model.fit()\n",
    "influence = result.get_influence()\n",
    "hat = influence.hat_matrix_diag\n",
    "hat.sum()"
   ]
  },
  {
   "cell_type": "code",
   "execution_count": null,
   "metadata": {
    "collapsed": true
   },
   "outputs": [],
   "source": [
    "# Visualize the data with high leverage\n",
    "ax = plt.subplot()\n",
    "plt.scatter(X0, y)\n",
    "sm.graphics.abline_plot(model_results=result, ax=ax)\n",
    "\n",
    "idx = hat > 0.05\n",
    "plt.scatter(X0[idx], y[idx], s=300, c=\"r\", alpha=0.5)\n",
    "plt.show()"
   ]
  },
  {
   "cell_type": "markdown",
   "metadata": {
    "school_cell_uuid": "c27ee5d96e0b43a2853fe59ad482b511"
   },
   "source": [
    "### Standardized Residual\n",
    "1) STDEV of Residual\n",
    "* use $HH^T=H$\n",
    "\n",
    "$$ e = y - \\hat{y}= y - Hy = (I - H) y$$\n",
    "\n",
    "$$\n",
    "\\begin{eqnarray}\n",
    "\\text{Var}[e] \n",
    "&=& \\text{E}[(I - H) yy^T (I - H)^T] \\\\\n",
    "&=& (I - H) \\text{E}[yy^T] (I - H)^T \\\\\n",
    "&=& (I - H) \\text{E}[ee^T] (I - H)^T \\\\\n",
    "&=& (I - H) \\sigma^2 I (I - H)^T \\\\\n",
    "&=& \\sigma^2(I - H)(I - H^T) \\\\\n",
    "&=& \\sigma^2(I - H) \\\\\n",
    "\\end{eqnarray}\n",
    "$$\n",
    "\n",
    "$$ \\text{Var}[e_i] = \\sigma^2 (1 - h_{ii}) $$ \n",
    "\n",
    "2) Standardized Residual\n",
    "\n",
    "$$ r_i = \\dfrac{e_i}{s\\sqrt{1-h_{ii}}} $$\n",
    "\n",
    "* where,\n",
    "\n",
    "$$ s^2 = \\dfrac{e^Te}{N-K} = \\dfrac{RSS}{N-K} $$"
   ]
  },
  {
   "cell_type": "markdown",
   "metadata": {
    "school_cell_uuid": "b1642e6f32a447569dbef776cffe53b6"
   },
   "source": [
    "### Outlier\n",
    "* Standard Residual > 2~4 $\\rightarrow$ outlier\n",
    "* Residual: `result.resid`\n",
    "* Standard Residual: `result.resid_pearson`"
   ]
  },
  {
   "cell_type": "markdown",
   "metadata": {},
   "source": [
    "### Cook's Distance\n",
    "* Outlier: big leverage **and** big residual\n",
    "* Cook's distance: \n",
    "$$ D_i = \\frac{r_i^2}{\\text{RSS}}\\left[\\frac{h_{ii}}{(1-h_{ii})^2}\\right] $$\n",
    "* Fox' Outlier Recommendation\n",
    "$$ D_i > \\dfrac{4}{N − K - 1} $$\n",
    "* Outlier visualization\n",
    "  * Leverage vs. Normalized residuals squared plot\n",
    "    * `sm.graphics.plot_leverage_resid2(result)`\n",
    "  * Cook's distance bubble plot\n",
    "    * `sm.graphics.influence_plot(result, plot_alpha=0.3)`"
   ]
  },
  {
   "cell_type": "markdown",
   "metadata": {},
   "source": [
    "># 6. Categorical Variables\n",
    "* Categorical Variable \n",
    "  * dummy variable / indicator variable / design variable / Boolean indicator / binary variable / treatment\n",
    "* One Hot Encoding: One categorical value $\\rightarrow$ One dummy variable\n",
    "  * No constant when using one hot encoding\n",
    "  * **OR** Use constant and drop one categorical value (StatsModels)"
   ]
  },
  {
   "cell_type": "code",
   "execution_count": null,
   "metadata": {
    "collapsed": true
   },
   "outputs": [],
   "source": [
    "model = sm.OLS.from_formula(\"y ~ C(x) + 0\", df)\n",
    "result = model.fit()\n",
    "print(result.summary())"
   ]
  },
  {
   "cell_type": "markdown",
   "metadata": {},
   "source": [
    "># 7. ANOVA - Analysis of Variance"
   ]
  },
  {
   "cell_type": "markdown",
   "metadata": {
    "collapsed": true
   },
   "source": [
    "### Definitions\n",
    "* TSS - Total Sum of Squares\n",
    "$$\\text{TSS} = \\sum_i (y_i-\\bar{y})^2 = (y - \\bar{y})^T(y - \\bar{y} )$$\n",
    "* ESS - Explained Sum of Squares\n",
    "$$\\text{ESS}=\\sum_i (\\hat{y}_i -\\bar{\\hat{y}})^2 = (\\hat{y} - \\bar{\\hat{y}})^T(\\hat{y} - \\bar{\\hat{y}})$$\n",
    "* RSS - Residual Sum of Squares\n",
    "$$\\text{RSS}=\\sum_i (y_i - \\hat{y}_i)^2\\ = e^Te$$"
   ]
  },
  {
   "cell_type": "markdown",
   "metadata": {},
   "source": [
    "### TSS = ESS + RSS\n",
    "* Proof)\n",
    "\n",
    "$$ \\bar{e} = \\bar{y} - \\bar{\\hat{y}} = 0$$\n",
    "\n",
    "$$ \\bar{y} = \\bar{\\hat{y}} $$\n",
    "\n",
    "$$ y = X\\hat{w} + e = \\hat{y} + e $$\n",
    "\n",
    "$$ y - \\bar{y} = \\hat{y} - \\bar{y} + e = (X- \\bar{X})\\hat{w} + e $$\n",
    "\n",
    "$$ X^Te = \\bar{X}^Te = 0 $$\n",
    "\n",
    "$$\n",
    "\\begin{eqnarray}\n",
    "\\text{TSS} \n",
    "&=& (y - \\bar{y})^T(y - \\bar{y} ) \\\\\n",
    "&=& (\\hat{y} - \\bar{y} + e)^T(\\hat{y} - \\bar{y} + e) \\\\\n",
    "&=& (\\hat{y} - \\bar{y})^T(\\hat{y} - \\bar{y}) + e^Te + 2(\\hat{y} - \\bar{y})^Te \\\\\n",
    "&=& (\\hat{y} - \\bar{y})^T(\\hat{y} - \\bar{y}) + e^Te + 2\\hat{w}^T(X - \\bar{X})^Te \\\\\n",
    "&=& (\\hat{y} - \\bar{y})^T(\\hat{y} - \\bar{y}) + e^Te \\\\\n",
    "&=& \\text{ESS} + \\text{RSS}\n",
    "\\end{eqnarray}\n",
    "$$"
   ]
  },
  {
   "cell_type": "markdown",
   "metadata": {},
   "source": [
    "### Coefficient of Determination\n",
    "* Parameterise the model's performance\n",
    "* $R^2=0$ = meaningless model \n",
    "* $R^2=1$ = perfect model\n",
    "$$R^2 \\equiv 1 - \\dfrac{\\text{RSS}}{\\text{TSS}}\\ = \\dfrac{\\text{ESS}}{\\text{TSS}}\\ $$\n",
    "$$$$\n",
    "$$0 \\leq R^2  \\leq 1$$"
   ]
  },
  {
   "cell_type": "markdown",
   "metadata": {},
   "source": [
    "### ANOVA table\n",
    "* $N$: No. of Data\n",
    "* $K$: No. of Parameters\n",
    "\n",
    "| source | degree of freedom | sum of square | $ $ mean square $ $  | F test-statstics | p-value |\n",
    "|-|-|-|-|-|-|\n",
    "| Regression| $$K-1$$  | $$\\text{ESS}$$ | $$s_{\\hat{y}}^2 = \\dfrac{\\text{ESS}}{K-1}$$   | $$F=\\dfrac{s_{\\hat{y}}^2}{s_e^2} $$ | p-value |\n",
    "| Residual  | $$N-K$$  | $$\\text{RSS}$$  | $$s_e^2= \\dfrac{\\text{RSS}}{N-K}$$ |\n",
    "| Total     | $$N-1$$  | $$\\text{TSS}$$ | $$s_y^2= \\dfrac{\\text{TSS}}{N-1}$$ | \n",
    "| $R^2$     |          |  $$\\text{ESS} / \\text{TSS}$$ |  | |\n"
   ]
  },
  {
   "cell_type": "markdown",
   "metadata": {},
   "source": [
    "### ANOVA statsmodels\n",
    "* $TSS$: `result.uncentered_tss`\n",
    "* $RSS$: `result.mse_model`\n",
    "* $RSS$: `result.ssr`\n",
    "* $R^2$: `result.rsquared`\n",
    "* ANOVA table: `sm.stats.anova_lm(result)`"
   ]
  },
  {
   "cell_type": "markdown",
   "metadata": {},
   "source": [
    "### F-test statistics\n",
    "* Null Hypothesis: the model is completely useless ($H_0: R^2 = 0$)\n",
    "* $PR(>F)$: the smaller the better\n",
    "$$$$\n",
    "$$ \\dfrac{\\text{ESS}}{K-1} \\div  \\dfrac{\\text{RSS}}{N-K} = \\dfrac{R^2/(K-1)}{(1-R^2)/(N-K)} \\sim F(K-1, N-K) $$\n",
    "$$$$\n",
    "* Used to analyze the feature importance (compare the reduced model to the full model\n",
    "  * `sm.stats.anova_lm(result, typ=2)`"
   ]
  },
  {
   "cell_type": "markdown",
   "metadata": {},
   "source": [
    "### ANOVA - Categorical Variables\n",
    "\n",
    "* $K$: No. of Category\n",
    "* BSS - Between-Group Variance\n",
    "  $$ BSS = \\sum_{k=1}^K (\\bar{y} - \\bar{y}_k)^2 $$\n",
    "\n",
    "* WSS - Within-Group Variance\n",
    "  $$ WSS = \\sum_{k=1}^K \\sum_{i}^N (y_{i} - \\bar{y}_k)^2 $$\n",
    "\n",
    "* TSS - Total Sum of Squares\n",
    "  $$ TSS = \\sum_{i}^N (y_{i} - \\bar{y})^2 $$\n",
    "\n",
    "| source | degree of freedom | sum of square | $ $ mean square $ $ | F test-statstics | p-value |\n",
    "|-|-|-|-|-|-|\n",
    "| Between  | $$K-1$$ | $$\\text{BSS}$$ | $$s_{\\hat{y}}^2 = \\dfrac{\\text{ESS}}{K-1}$$   | $$F=\\dfrac{s_{\\hat{y}}^2}{s_e^2} $$ | p-value |\n",
    "| Within   | $$N-K$$  | $$\\text{WSS}$$  | $$s_e^2= \\dfrac{\\text{RSS}}{N-K}$$ | \n",
    "| Total     | $$N-1$$  | $$\\text{TSS}$$ | $$s_y^2= \\dfrac{\\text{TSS}}{N-1}$$ | \n",
    "| $R^2$   |    |  $$\\text{BSS} / \\text{TSS}$$ |  | |"
   ]
  },
  {
   "cell_type": "markdown",
   "metadata": {},
   "source": [
    "># 8. Diagnosis"
   ]
  },
  {
   "cell_type": "markdown",
   "metadata": {
    "school_cell_uuid": "34040ca73cf24995bcb9fed6132023bb"
   },
   "source": [
    "### Residuals - Normality Test\n",
    "* QQ Plot\n",
    "\n",
    "```python\n",
    "sp.stats.probplot(result.resid, plot=plt)\n",
    "plt.show()```\n",
    "* Normality Test\n",
    "\n",
    "```python\n",
    "test = sms.omni_normtest(result.resid)\n",
    "for xi in zip(['Chi^2', 'P-value'], test):\n",
    "    print(\"%-12s: %6.3f\" % xi)```"
   ]
  },
  {
   "cell_type": "markdown",
   "metadata": {
    "school_cell_uuid": "7566e1f71cf040c5912278556712006f"
   },
   "source": [
    "### Residuals vs. Independent Variables\n",
    "* If the model is correct, there should be no correlation between the residuals and the independent variables\n",
    "* The absence of such correlation cannot be used to support the correctness of a model"
   ]
  },
  {
   "cell_type": "markdown",
   "metadata": {
    "school_cell_uuid": "4c605fc18c1b4a6a948435ecb23f15e4"
   },
   "source": [
    "### Partial Regression Plot\n",
    "* Visualize the influence of a single feature\n",
    "  * 1) $Y$ ~ $X$ $\\rightarrow e_{YX}$\n",
    "  * 2) $Z$ ~ $X$ $\\rightarrow e_{ZX}$\n",
    "  * 3) $e_{ZX}$ ~ $e_{YX}$ $\\rightarrow$ Partial Regression Plot\n",
    "* Statsmodels - `plot_regress_exog`\n",
    "```python\n",
    "fig = sm.graphics.plot_regress_exog(result, \"X1\")\n",
    "fig.suptitle(\"\")\n",
    "plt.show()\n",
    "```\n",
    "* Statsmodels - `sm.graphs.plot_partregress_grid`\n",
    "```python\n",
    "fig = plt.figure(figsize=(8,20))\n",
    "sm.graphics.plot_partregress_grid(result_boston, fig=fig)\n",
    "fig.suptitle(\"\")\n",
    "plt.show()\n",
    "```"
   ]
  },
  {
   "cell_type": "markdown",
   "metadata": {
    "collapsed": true,
    "school_cell_uuid": "d0368c8e31a347f095634e1b1af04305"
   },
   "source": [
    "### CCPR(Component-Component plus Residual) plot\n",
    "* Visualize the influence of a single feature\n",
    "  * 1) $ y = \\hat{y} + e = w_1 x_1 +  w_2 x_2 +  \\cdots + w_i x_i +  \\cdots +  w_K x_K + e $\n",
    "  * 2) $ x_i \\;\\; \\text{ vs } \\;\\; w_i x_i + e \\rightarrow$ scatter plot\n",
    "* Statsmodels - `plot_ccpr`\n",
    "```python\n",
    "sm.graphics.plot_ccpr(result, \"X1\")\n",
    "plt.show()\n",
    "```\n",
    "* Statsmodels - `plot_ccpr_grid`\n",
    "```python\n",
    "fig = plt.figure(figsize=(8, 15))\n",
    "sm.graphics.plot_ccpr_grid(result_boston, fig=fig)\n",
    "fig.suptitle(\"\")\n",
    "plt.show()\n",
    "```"
   ]
  },
  {
   "cell_type": "markdown",
   "metadata": {
    "school_cell_uuid": "65d6c2ab22e545c0920349ba60936c98"
   },
   "source": [
    "### Heteroskedasticity\n",
    "* In real world data, $\\text{VAR}[Y]$ tend to increase as $X$ increase\n",
    "* One way to solve this problem is to take $log(Y)$ instead of $Y$"
   ]
  },
  {
   "cell_type": "markdown",
   "metadata": {
    "collapsed": true
   },
   "source": [
    "># 9. Estimation of the Model's Relative Quality"
   ]
  },
  {
   "cell_type": "markdown",
   "metadata": {
    "collapsed": true
   },
   "source": [
    "### Adjusted Determinination Constant\n",
    "* The bigger, the better\n",
    "$$$$\n",
    "$$ R_{adj}^2 = 1 - \\frac{n-1}{n-K}(1-R^2) = \\dfrac{(n-1)R^2 +1-K}{n-K} $$"
   ]
  },
  {
   "cell_type": "markdown",
   "metadata": {},
   "source": [
    "### Information Criterion\n",
    "* The smaller, the better\n",
    "* AIC(Akaike IC): $ \\text{AIC} = -2\\log L + 2K $\n",
    "* BIC(Bayesian IC): $ \\text{BIC} = -2\\log L + K\\log n $"
   ]
  },
  {
   "cell_type": "markdown",
   "metadata": {},
   "source": [
    "># 10. Scaling"
   ]
  },
  {
   "cell_type": "markdown",
   "metadata": {},
   "source": [
    "### Condition Number\n",
    "* measures how much the output value of the function can change for a small change in the input argument\n",
    "* the smaller, the better\n",
    "$$$$\n",
    "$$ \\text{condition number} = \\dfrac{\\lambda_{\\text{max}}}{\\lambda_{\\text{min}}} $$\n",
    "$$$$\n",
    "* large Condition No. = ill-conditioned\n",
    " * cause1: difference in units $\\rightarrow$ solve by scaling\n",
    " * cause2: multicolinearity $\\rightarrow$ solve by dimension reduction (e.g. PCA)"
   ]
  },
  {
   "cell_type": "markdown",
   "metadata": {},
   "source": [
    "># 11. Multicolinearity\n",
    "* A variable can be linearly predicted form the others with a substantial degree of accuracy"
   ]
  },
  {
   "cell_type": "markdown",
   "metadata": {},
   "source": [
    "### Check Multicolinearity\n",
    "```python\n",
    "# correlation constant matrix\n",
    "dfX0.corr()\n",
    "# generate heatmap\n",
    "sns.heatmap(dfX0.corr())\n",
    "plt.show()\n",
    "```"
   ]
  },
  {
   "cell_type": "markdown",
   "metadata": {},
   "source": [
    "### Solve Multicolinearity \n",
    "* Delete variables with high dependency\n",
    "* PCA(Principal Component Analysis)\n",
    "* Regularization"
   ]
  },
  {
   "cell_type": "markdown",
   "metadata": {},
   "source": [
    "### VIF(Variation Inflation Factor)\n",
    "* One way to find dependent variables\n",
    "* Idea: predict $i$th variable with other variables and compare the performance\n",
    "$$$$\n",
    "$$ \\text{VIF}_i = \\frac{\\sigma^2}{(n-1)\\text{Var}[X_i]}\\cdot \\frac{1}{1-R_i^2} $$\n",
    "\n",
    "```python\n",
    "from statsmodels.stats.outliers_influence import variance_inflation_factor\n",
    "\n",
    "vif = pd.DataFrame()\n",
    "vif[\"VIF Factor\"] = [variance_inflation_factor(dfX0.values, i) for i in range(dfX0.shape[1])]\n",
    "vif[\"features\"] = dfX0.columns\n",
    "vif\n",
    "```"
   ]
  },
  {
   "cell_type": "markdown",
   "metadata": {},
   "source": [
    "># 12. Polynomial Regression\n",
    "* Used to analyze non-linear data\n",
    "* Use **Linear Basis Function Models**\n",
    "$$ y_i = \\sum_{j=1}^{M} w_j \\phi_j(x)  = w^T \\phi(x)  $$"
   ]
  },
  {
   "cell_type": "markdown",
   "metadata": {
    "school_cell_uuid": "ca32feddec04451a881d1fe2bf0bf111"
   },
   "source": [
    "### Polynomial Regression with StatsModels\n",
    "```python\n",
    "sm.OLS.from_formula(\"y ~ x + I(x**2) + I(x**3)\", data=df).fit().summary() \n",
    "```"
   ]
  },
  {
   "cell_type": "markdown",
   "metadata": {},
   "source": [
    "># 13. Cross Validation\n",
    "* Prevents overfitting\n",
    "* 1) Data $\\rightarrow$ Training / Test\n",
    "* 2) Obtain **mean performance** & **performance variance**"
   ]
  },
  {
   "cell_type": "markdown",
   "metadata": {},
   "source": [
    "### Data Splitter\n",
    "* Parameters\n",
    "  * arrays\n",
    "  * test_size\n",
    "  * train_size\n",
    "  * random_state\n",
    "\n",
    "```python\n",
    "from sklearn.model_selection import train_test_split\n",
    "X_train, X_test, y_train, y_test = train_test_split(X, y, test_size=0.33, random_state=42)\n",
    "```"
   ]
  },
  {
   "cell_type": "markdown",
   "metadata": {},
   "source": [
    "### K-fold CV\n",
    "* Split the data into K subsets\n",
    "* Use 1 of them as test data\n",
    "* `split()` method generates an interator that returns training/test indices\n",
    "\n",
    "```python\n",
    "from sklearn.model_selection import KFold\n",
    "cv = KFold(n_splits=3, shuffle=True, random_state=0)\n",
    "for train_index, test_index in cv.split(X):\n",
    "    pass\n",
    "```"
   ]
  },
  {
   "cell_type": "markdown",
   "metadata": {},
   "source": [
    "### Leave-One-Out (LOO)\n",
    "* Leave one sample as test set\n",
    "\n",
    "```python\n",
    "from sklearn.model_selection import LeaveOneOut\n",
    "cv = LeaveOneOut()\n",
    "for train_index, test_index in cv.split(X):\n",
    "    pass\n",
    "```"
   ]
  },
  {
   "cell_type": "markdown",
   "metadata": {
    "school_cell_uuid": "a7f299b590f64ab6a6ebb210030e6172"
   },
   "source": [
    "### ShuffleSplit\n",
    "* Allow overlap\n",
    "\n",
    "```python\n",
    "from sklearn.model_selection import ShuffleSplit\n",
    "cv = ShuffleSplit(n_splits=5, test_size=.5, random_state=0)\n",
    "for train_index, test_index in cv.split(X):\n",
    "    pass\n",
    "```"
   ]
  },
  {
   "cell_type": "markdown",
   "metadata": {},
   "source": [
    "### Cross Validation\n",
    "* Parameters\n",
    "  * estimator\n",
    "  * X\n",
    "  * y\n",
    "  * scoring\n",
    "  * cv (None: 3-fold CV / K: K-fold CV / CV class object)\n",
    "* Return\n",
    "  * Score list\n",
    "\n",
    "```python\n",
    "from sklearn.model_selection import cross_val_score\n",
    "from sklearn.metrics import r2_score\n",
    "cross_val_score(model, X, y, scoring=\"r2\", cv=KFold(10))\n",
    "```"
   ]
  },
  {
   "cell_type": "markdown",
   "metadata": {},
   "source": [
    "># 14. Regularized Linear Regression\n",
    "* Prevents overfitting by putting restrictions on the weights"
   ]
  },
  {
   "cell_type": "markdown",
   "metadata": {},
   "source": [
    "### Ridge\n",
    "* Minimize the squared sum of weights\n",
    "* Decrease the weights simultaneously\n",
    "* $\\lambda$: hyperparameter\n",
    "\n",
    "$$\n",
    "\\begin{eqnarray}\n",
    "\\text{cost} \n",
    "&=& \\sum e_i^2 + \\lambda \\sum w_i^2\n",
    "\\end{eqnarray}\n",
    "$$"
   ]
  },
  {
   "cell_type": "markdown",
   "metadata": {},
   "source": [
    "### Lasso\n",
    "* Lasso: Least Absolute Shrinkage and Selection Operator\n",
    "* Minimize the sum of the absolute values of weights\n",
    "* Decrease some weights first\n",
    "* $\\lambda$: hyperparameter\n",
    "\n",
    "$$\n",
    "\\begin{eqnarray}\n",
    "\\text{cost} \n",
    "&=& \\sum e_i^2 + \\lambda \\sum | w_i |\n",
    "\\end{eqnarray}\n",
    "$$"
   ]
  },
  {
   "cell_type": "markdown",
   "metadata": {},
   "source": [
    "### Elastic Net\n",
    "* Ridge + Lasso\n",
    "\n",
    "$$\n",
    "\\begin{eqnarray}\n",
    "\\text{cost} \n",
    "&=& \\sum e_i^2 + \\lambda_1 \\sum | w_i | + \\lambda_2 \\sum w_i^2\n",
    "\\end{eqnarray}\n",
    "$$"
   ]
  },
  {
   "cell_type": "markdown",
   "metadata": {},
   "source": [
    "### Regularized Regression in Statsmodels\n",
    "* Hyperparameters: $text{alpha}$ and $text{L1_wt}$\n",
    "* $\\text{L1_wt}$ = 0 $\\rightarrow$ pure Ridge\n",
    "* $\\text{L1_wt}$ = 1 $\\rightarrow$ pure Lasso\n",
    "$$$$\n",
    "$$ \\text{cost} = 0.5 \\times \\text{RSS}/N + \\text{alpha} \\times \\big( 0.5 \\times (1-\\text{L1_wt})\\sum w_i^2 + \\text{L1_wt} \\sum |w_i| \\big) $$\n",
    "\n",
    "```python\n",
    "result = model.fit_regularized(alpha=0.01, L1_wt=0)\n",
    "print(result.params)\n",
    "```"
   ]
  },
  {
   "cell_type": "markdown",
   "metadata": {},
   "source": [
    "### Regularized Regression in Scikit-Learn\n",
    "* Ridge\n",
    "\n",
    "$$ \\text{cost} = \\text{RSS} + \\text{alpha} \\sum w_i^2 $$\n",
    "\n",
    "\n",
    "* Lasso\n",
    "\n",
    "$$ \\text{cost} = 0.5 \\times \\text{RSS}/N + \\text{alpha} \\sum |w_i| $$\n",
    "\n",
    "* ElasticNet\n",
    "\n",
    "$$ \\text{cost} = 0.5 \\times \\text{RSS}/N + 0.5 \\times \\text{alpha} \\times \\big(0.5 \\times  (1-\\text{l1_ratio})\\sum w_i^2 + \\text{l1_ratio} \\sum |w_i| \\big) $$\n",
    "\n",
    "```python\n",
    "from sklearn.preprocessing import PolynomialFeatures\n",
    "from sklearn.pipeline import make_pipeline\n",
    "from sklearn.linear_model import LinearRegression, Ridge, Lasso, ElasticNet\n",
    "\n",
    "poly = PolynomialFeatures(9)\n",
    "model1 = make_pipeline(poly, LinearRegression()).fit(X, y)\n",
    "model2 = make_pipeline(poly, Ridge(alpha=0.01)).fit(X, y)\n",
    "model3 = make_pipeline(poly, Lasso(alpha=0.01)).fit(X, y)\n",
    "model4 = make_pipeline(poly, ElasticNet(alpha=0.01, l1_ratio=0.5)).fit(X, y)\n",
    "```"
   ]
  },
  {
   "cell_type": "markdown",
   "metadata": {},
   "source": [
    "># 15. Optimization\n",
    "* Polynomial Regression - try for different no. of dim.\n",
    "* Hyperparameter - grid search, random search, etc\n",
    "* One Standard Error Rule - simple is the best\n",
    "  * Calculate the STDEV of the performance\n",
    "  * Allow this amount of performance loss\n",
    "  * Choose the simplest model (In regularized model, choose the model with the strongest restriction)"
   ]
  }
 ],
 "metadata": {
  "kernelspec": {
   "display_name": "Python 3",
   "language": "python",
   "name": "python3"
  },
  "language_info": {
   "codemirror_mode": {
    "name": "ipython",
    "version": 3
   },
   "file_extension": ".py",
   "mimetype": "text/x-python",
   "name": "python",
   "nbconvert_exporter": "python",
   "pygments_lexer": "ipython3",
   "version": "3.6.2"
  }
 },
 "nbformat": 4,
 "nbformat_minor": 2
}
