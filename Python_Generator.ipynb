{
 "cells": [
  {
   "cell_type": "markdown",
   "metadata": {},
   "source": [
    "# Generator"
   ]
  },
  {
   "cell_type": "markdown",
   "metadata": {},
   "source": [
    "### 1) iterable vs. iterator\n",
    "* **iterable**: list, dict, str, file, ...\n",
    "* **iterator**: iterable **object**\n",
    "  * `__iter__`: generates iterator object [more](https://docs.python.org/2/library/functions.html#iter)\n",
    "  * `__next__`: returns iterated value / StopIteration error when no value can be iterated [more](https://docs.python.org/2/library/functions.html#next)"
   ]
  },
  {
   "cell_type": "code",
   "execution_count": 13,
   "metadata": {},
   "outputs": [
    {
     "name": "stdout",
     "output_type": "stream",
     "text": [
      "<class 'list_iterator'>\n",
      "<list_iterator object at 0x7f617afceb38>\n"
     ]
    }
   ],
   "source": [
    "it = iter(list(range(5)))\n",
    "print(type(it))\n",
    "print(it)"
   ]
  },
  {
   "cell_type": "code",
   "execution_count": 14,
   "metadata": {
    "collapsed": true
   },
   "outputs": [
    {
     "name": "stdout",
     "output_type": "stream",
     "text": [
      "0\n",
      "1\n",
      "2\n",
      "3\n",
      "4\n"
     ]
    },
    {
     "ename": "StopIteration",
     "evalue": "",
     "output_type": "error",
     "traceback": [
      "\u001b[0;31m---------------------------------------------------------------------------\u001b[0m",
      "\u001b[0;31mStopIteration\u001b[0m                             Traceback (most recent call last)",
      "\u001b[0;32m<ipython-input-14-0e20aee83903>\u001b[0m in \u001b[0;36m<module>\u001b[0;34m()\u001b[0m\n\u001b[1;32m      8\u001b[0m \u001b[0;34m\u001b[0m\u001b[0m\n\u001b[1;32m      9\u001b[0m \u001b[0;31m# StopIteration error raised\u001b[0m\u001b[0;34m\u001b[0m\u001b[0;34m\u001b[0m\u001b[0m\n\u001b[0;32m---> 10\u001b[0;31m \u001b[0mprint\u001b[0m\u001b[0;34m(\u001b[0m\u001b[0mnext\u001b[0m\u001b[0;34m(\u001b[0m\u001b[0mit\u001b[0m\u001b[0;34m)\u001b[0m\u001b[0;34m)\u001b[0m\u001b[0;34m\u001b[0m\u001b[0m\n\u001b[0m",
      "\u001b[0;31mStopIteration\u001b[0m: "
     ]
    }
   ],
   "source": [
    "it = iter(list(range(5))) \n",
    "\n",
    "print(next(it))\n",
    "print(next(it))\n",
    "print(next(it))\n",
    "print(next(it))\n",
    "print(next(it))\n",
    "\n",
    "# StopIteration error raised\n",
    "print(next(it))"
   ]
  },
  {
   "cell_type": "markdown",
   "metadata": {},
   "source": [
    "### 2) for & while\n",
    "* `for`: calls `next` until StopIteration\n",
    "* `while`: iterate over iterator"
   ]
  },
  {
   "cell_type": "code",
   "execution_count": 15,
   "metadata": {},
   "outputs": [
    {
     "name": "stdout",
     "output_type": "stream",
     "text": [
      "0 1 2 3 4 "
     ]
    }
   ],
   "source": [
    "it = iter(list(range(5)))\n",
    "for num in it:\n",
    "    print(num, end=' ')\n",
    "    \n",
    "while True:\n",
    "    try:\n",
    "        val = next(it)\n",
    "        print(val, end=' ')\n",
    "    except StopIteration:\n",
    "        break"
   ]
  },
  {
   "cell_type": "markdown",
   "metadata": {},
   "source": [
    "### 3) Customized iterable object"
   ]
  },
  {
   "cell_type": "code",
   "execution_count": 24,
   "metadata": {},
   "outputs": [
    {
     "name": "stdout",
     "output_type": "stream",
     "text": [
      "hello\n",
      "hello\n"
     ]
    }
   ],
   "source": [
    "class Zrange(object):\n",
    "    def __init__(self, n):\n",
    "        self.n = n\n",
    "    \n",
    "    def __iter__(self):\n",
    "        return Zrange_iter(self.n)\n",
    "\n",
    "class Zrange_iter(object):\n",
    "    def __init__(self, n):\n",
    "        self.i = 0\n",
    "        self.n = n\n",
    "        \n",
    "    def __next__(self):\n",
    "        if self.i < len(self.n):\n",
    "            val = self.n[self.i]\n",
    "            self.i += 1\n",
    "            return val\n",
    "        else:\n",
    "            raise StopIteration()\n",
    "\n",
    "z = Zrange('hello')\n",
    "\n",
    "for i in z:\n",
    "    print (i, end=\"\")\n",
    "    \n",
    "it = iter(z)\n",
    "print(\"\\n\", next(it), next(it), next(it), next(it), next(it), sep=\"\")"
   ]
  },
  {
   "cell_type": "markdown",
   "metadata": {},
   "source": [
    "### 4) Customized iterable object - iterable + iterator"
   ]
  },
  {
   "cell_type": "code",
   "execution_count": 29,
   "metadata": {},
   "outputs": [
    {
     "name": "stdout",
     "output_type": "stream",
     "text": [
      "0 1 2 3 4\n"
     ]
    }
   ],
   "source": [
    "class Zrange2(object):\n",
    "    def __init__(self, n):\n",
    "        self.i = 0\n",
    "        self.n = n\n",
    "        \n",
    "    def __iter__(self): # iterable\n",
    "        return self\n",
    "    \n",
    "    def __next__(self): # iterator\n",
    "        if self.i < self.n:\n",
    "            val = self.i\n",
    "            self.i += 1\n",
    "            return val\n",
    "        else:\n",
    "            raise StopIteration()\n",
    "            \n",
    "z2 = Zrange2(5)\n",
    "print(next(z2), next(z2), next(z2), next(z2), next(z2), sep=\" \")"
   ]
  },
  {
   "cell_type": "markdown",
   "metadata": {},
   "source": [
    "### 5) Generator: iterable object\n",
    "* memory efficient (compared to list object)"
   ]
  },
  {
   "cell_type": "markdown",
   "metadata": {},
   "source": [
    "#### list comprehension"
   ]
  },
  {
   "cell_type": "code",
   "execution_count": 4,
   "metadata": {},
   "outputs": [
    {
     "name": "stdout",
     "output_type": "stream",
     "text": [
      "<class 'list'>\n",
      "[0, 1, 4, 9, 16]\n"
     ]
    }
   ],
   "source": [
    "lst = [i ** 2 for i in range(5)]\n",
    "print(type(lst))\n",
    "print(lst)"
   ]
  },
  {
   "cell_type": "markdown",
   "metadata": {},
   "source": [
    "#### generator comprehension (use `()` instead of `[]`)\n",
    "* generator can be iterated **once**"
   ]
  },
  {
   "cell_type": "code",
   "execution_count": 31,
   "metadata": {},
   "outputs": [
    {
     "name": "stdout",
     "output_type": "stream",
     "text": [
      "<class 'generator'>\n",
      "<generator object <genexpr> at 0x7f617b067f68>\n",
      "0 1 4 9 16\n"
     ]
    }
   ],
   "source": [
    "gen = (i ** 2 for i in range(5))\n",
    "print(type(gen)) \n",
    "print(gen) # generator 객체\n",
    "print(next(gen), next(gen), next(gen), next(gen), next(gen), sep=\" \")"
   ]
  },
  {
   "cell_type": "markdown",
   "metadata": {},
   "source": [
    "### 6) generator function\n",
    "* contains **yield**\n",
    "* **yield** generates value and the next line is computed"
   ]
  },
  {
   "cell_type": "code",
   "execution_count": 42,
   "metadata": {},
   "outputs": [
    {
     "name": "stdout",
     "output_type": "stream",
     "text": [
      "<class 'generator'>\n",
      "<generator object generate at 0x7f617b8fc780>\n",
      "yield\n",
      "yield\n",
      "yield\n",
      "yield\n",
      "yield\n",
      "0 1 2 3 4\n"
     ]
    }
   ],
   "source": [
    "def generate(n):    \n",
    "    i = 0\n",
    "    while i < n:\n",
    "        print(\"yield\")\n",
    "        yield i \n",
    "        i += 1\n",
    "\n",
    "gen = generate(5) # returns \"generator\" object\n",
    "print(type(gen))\n",
    "print(gen)\n",
    "print(next(gen), next(gen), next(gen), next(gen), next(gen), sep=\" \")"
   ]
  },
  {
   "cell_type": "code",
   "execution_count": 44,
   "metadata": {},
   "outputs": [
    {
     "name": "stdout",
     "output_type": "stream",
     "text": [
      "yield\n",
      "0\n",
      "yield\n",
      "1\n",
      "yield\n",
      "2\n",
      "yield\n",
      "3\n",
      "yield\n",
      "4\n"
     ]
    }
   ],
   "source": [
    "gen = generate(5)\n",
    "for i in gen:\n",
    "    print(i)"
   ]
  }
 ],
 "metadata": {
  "kernelspec": {
   "display_name": "Python 3",
   "language": "python",
   "name": "python3"
  },
  "language_info": {
   "codemirror_mode": {
    "name": "ipython",
    "version": 3
   },
   "file_extension": ".py",
   "mimetype": "text/x-python",
   "name": "python",
   "nbconvert_exporter": "python",
   "pygments_lexer": "ipython3",
   "version": "3.6.2"
  }
 },
 "nbformat": 4,
 "nbformat_minor": 2
}
