{
 "cells": [
  {
   "cell_type": "markdown",
   "metadata": {},
   "source": [
    "# Pandas\n",
    "* open-source python data analysis library\n",
    "* widely used for ML analysis (along with scikit-learn)\n",
    "* **Series** & **DataFrame** objects are most widly used"
   ]
  },
  {
   "cell_type": "code",
   "execution_count": null,
   "metadata": {
    "collapsed": true
   },
   "outputs": [],
   "source": [
    "import pandas as pd"
   ]
  },
  {
   "cell_type": "markdown",
   "metadata": {},
   "source": [
    "># 1. Series - generating Series\n",
    "* ndarray + index"
   ]
  },
  {
   "cell_type": "markdown",
   "metadata": {},
   "source": [
    "### generating pd series\n",
    "* default: 0-based index"
   ]
  },
  {
   "cell_type": "code",
   "execution_count": 85,
   "metadata": {},
   "outputs": [
    {
     "name": "stdout",
     "output_type": "stream",
     "text": [
      "0    1\n",
      "1    2\n",
      "2    3\n",
      "3    4\n",
      "4    5\n",
      "dtype: int64\n"
     ]
    }
   ],
   "source": [
    "s1 = pd.Series(list(range(1, 6)))\n",
    "print(s1)"
   ]
  },
  {
   "cell_type": "markdown",
   "metadata": {},
   "source": [
    "### index & values"
   ]
  },
  {
   "cell_type": "code",
   "execution_count": 86,
   "metadata": {},
   "outputs": [
    {
     "data": {
      "text/plain": [
       "(RangeIndex(start=0, stop=5, step=1), array([1, 2, 3, 4, 5]))"
      ]
     },
     "execution_count": 86,
     "metadata": {},
     "output_type": "execute_result"
    }
   ],
   "source": [
    "s2.index, s2.values"
   ]
  },
  {
   "cell_type": "markdown",
   "metadata": {},
   "source": [
    "### customized index\n",
    "* compatible with 0-based index (not when indices are customized with numbers)\n",
    "* index 중복 가능 / 하지만 지양할 것\n",
    "* chr : ASCII code $\\rightarrow$ character\n",
    "* ord : character $\\rightarrow$ ASCII code"
   ]
  },
  {
   "cell_type": "code",
   "execution_count": 109,
   "metadata": {},
   "outputs": [
    {
     "name": "stdout",
     "output_type": "stream",
     "text": [
      "a    1\n",
      "b    2\n",
      "c    3\n",
      "dtype: int64\n"
     ]
    }
   ],
   "source": [
    "s3 = pd.Series(list(range(1, 4)), index = [chr(i) for i in range(97, 100)])\n",
    "print(s3)"
   ]
  },
  {
   "cell_type": "code",
   "execution_count": 111,
   "metadata": {},
   "outputs": [
    {
     "name": "stdout",
     "output_type": "stream",
     "text": [
      "1 1 False\n",
      "Questoin: why is it false?\n"
     ]
    }
   ],
   "source": [
    "print(s3['a'], s3[0], s3['a'] is s3[0])\n",
    "print(\"Questoin: why is it false?\")"
   ]
  },
  {
   "cell_type": "markdown",
   "metadata": {},
   "source": [
    "### re-use index\n",
    "* index of a series can be re-used through .index attribute"
   ]
  },
  {
   "cell_type": "code",
   "execution_count": 101,
   "metadata": {},
   "outputs": [
    {
     "name": "stdout",
     "output_type": "stream",
     "text": [
      "a    2\n",
      "b    2\n",
      "c    2\n",
      "dtype: int64\n"
     ]
    }
   ],
   "source": [
    "s4 = pd.Series(2, index = s3.index)\n",
    "print(s4)"
   ]
  },
  {
   "cell_type": "markdown",
   "metadata": {},
   "source": [
    "### create series with dict"
   ]
  },
  {
   "cell_type": "code",
   "execution_count": 104,
   "metadata": {},
   "outputs": [
    {
     "name": "stdout",
     "output_type": "stream",
     "text": [
      "a    1\n",
      "b    2\n",
      "c    3\n",
      "d    4\n",
      "dtype: int64\n"
     ]
    }
   ],
   "source": [
    "s5 = pd.Series({'a' : 1, 'b' : 2, 'c' : 3, 'd' : 4})\n",
    "print(s5)"
   ]
  },
  {
   "cell_type": "markdown",
   "metadata": {},
   "source": [
    "># 2. Series - operations on Series"
   ]
  },
  {
   "cell_type": "markdown",
   "metadata": {},
   "source": [
    "### basic attributes & operations"
   ]
  },
  {
   "cell_type": "code",
   "execution_count": 114,
   "metadata": {},
   "outputs": [
    {
     "name": "stdout",
     "output_type": "stream",
     "text": [
      "6\n",
      "6\n",
      "(6,)\n",
      "5\n",
      "[  0.   1.   2.   3.  nan]\n",
      "1.0    2\n",
      "3.0    1\n",
      "2.0    1\n",
      "0.0    1\n",
      "dtype: int64\n"
     ]
    },
    {
     "data": {
      "text/plain": [
       "pandas.core.series.Series"
      ]
     },
     "execution_count": 114,
     "metadata": {},
     "output_type": "execute_result"
    }
   ],
   "source": [
    "s = pd.Series([0, 1, 1, 2, 3, np.nan])\n",
    "print(len(s))\n",
    "print(s.size)\n",
    "print(s.shape)\n",
    "print(s.count()) # ignore NaN\n",
    "print(s.unique()) # return ndarray with unique values\n",
    "print(s.value_counts()) # ignore NaN / return pd series\n",
    "type(s.value_counts())"
   ]
  },
  {
   "cell_type": "markdown",
   "metadata": {},
   "source": [
    "### head, tail, take\n",
    "* head : print first n elements (default = 5)\n",
    "* tail : print last n elements (default = 5)\n",
    "* take : return elements matching given index list (only 0-based indexing allowed)"
   ]
  },
  {
   "cell_type": "code",
   "execution_count": 118,
   "metadata": {},
   "outputs": [
    {
     "name": "stdout",
     "output_type": "stream",
     "text": [
      "0    1\n",
      "4    5\n",
      "3    4\n",
      "dtype: int64\n"
     ]
    }
   ],
   "source": [
    "s = pd.Series(range(1,11))\n",
    "print(s.take([0, 4, 3]))"
   ]
  },
  {
   "cell_type": "markdown",
   "metadata": {},
   "source": [
    "### single & multiple value accessing\n",
    "* single: use index\n",
    "  * default: 0-based index\n",
    "  * `loc[]` : use index (인덱스 없는 경우 NaN)\n",
    "  * `iloc[]` : use 0-based index (인덱스 없는 경우 error)\n",
    "* multiple: use **list** of index"
   ]
  },
  {
   "cell_type": "code",
   "execution_count": 124,
   "metadata": {},
   "outputs": [
    {
     "name": "stdout",
     "output_type": "stream",
     "text": [
      "0\n",
      "0\n",
      "0\n",
      "e    3\n",
      "d    2\n",
      "c    1\n",
      "dtype: int64\n"
     ]
    }
   ],
   "source": [
    "s = pd.Series([0, 1, 1, 2, 3, 4], index = ['a','b','c','d','e','f'])\n",
    "print(s[0])\n",
    "print(s.loc['a'])\n",
    "print(s.iloc[0])\n",
    "print(s[[4, 3, 2]])"
   ]
  },
  {
   "cell_type": "markdown",
   "metadata": {},
   "source": [
    "### summation\n",
    "* summation is done over index\n",
    "* non-matching index $\\rightarrow$ NaN"
   ]
  },
  {
   "cell_type": "code",
   "execution_count": 23,
   "metadata": {},
   "outputs": [
    {
     "name": "stdout",
     "output_type": "stream",
     "text": [
      "a    2.0\n",
      "b    4.0\n",
      "c    6.0\n",
      "d    NaN\n",
      "e    NaN\n",
      "dtype: float64\n"
     ]
    }
   ],
   "source": [
    "s1 = pd.Series([1, 2, 3, 4], index=['a', 'b', 'c', 'e'])\n",
    "s2 = pd.Series([4, 3, 2, 1], index=['d', 'c', 'b', 'a'])\n",
    "print(s1 + s2)"
   ]
  },
  {
   "cell_type": "markdown",
   "metadata": {},
   "source": [
    "### numerical operations\n",
    "* series & scalar: element-wise\n",
    "* series & series: index-wise / non-matching index $\\rightarrow$ NaN"
   ]
  },
  {
   "cell_type": "code",
   "execution_count": 24,
   "metadata": {},
   "outputs": [
    {
     "data": {
      "text/plain": [
       "a     1\n",
       "b     4\n",
       "c     9\n",
       "d    16\n",
       "dtype: int64"
      ]
     },
     "execution_count": 24,
     "metadata": {},
     "output_type": "execute_result"
    }
   ],
   "source": [
    "s1 = pd.Series([1, 2, 3, 4], index=['a', 'b', 'c', 'd'])\n",
    "exp = pd.Series(2, s1.index)\n",
    "s1 ** exp"
   ]
  },
  {
   "cell_type": "markdown",
   "metadata": {},
   "source": [
    "### NaN\n",
    "* default: ignore\n",
    "* skipna=False $\\rightarrow$ NaN not ignored"
   ]
  },
  {
   "cell_type": "code",
   "execution_count": 26,
   "metadata": {
    "scrolled": true
   },
   "outputs": [
    {
     "name": "stdout",
     "output_type": "stream",
     "text": [
      "2.5\n",
      "nan\n"
     ]
    }
   ],
   "source": [
    "# Series는 NaN을 무시하고 연산\n",
    "s = pd.Series([1, 2, 3, 4, np.NaN])\n",
    "print(s.mean())\n",
    "print(s.mean(skipna=False))"
   ]
  },
  {
   "cell_type": "markdown",
   "metadata": {},
   "source": [
    "### Boolean selection\n",
    "* similar to ndarray boolean selection\n",
    "* returns pd series"
   ]
  },
  {
   "cell_type": "code",
   "execution_count": 127,
   "metadata": {},
   "outputs": [
    {
     "data": {
      "text/plain": [
       "6    7\n",
       "7    8\n",
       "8    9\n",
       "dtype: int64"
      ]
     },
     "execution_count": 127,
     "metadata": {},
     "output_type": "execute_result"
    }
   ],
   "source": [
    "s = pd.Series(np.arange(1, 10))\n",
    "s[s > 5]\n",
    "s[(s % 2 == 0) & (s % 3 == 0)] # and\n",
    "s[(s % 2 == 0) | (s % 3 == 0)] # or\n",
    "s[s.index > 5]                 # condition for index"
   ]
  },
  {
   "cell_type": "code",
   "execution_count": 33,
   "metadata": {},
   "outputs": [
    {
     "name": "stdout",
     "output_type": "stream",
     "text": [
      "24\n",
      "3\n"
     ]
    }
   ],
   "source": [
    "print(s[s >= 7].sum()) # sum() is operated on series\n",
    "print((s >= 7).sum())  # sum() is operated on Boolean list (True = 1, False = 0)"
   ]
  },
  {
   "cell_type": "markdown",
   "metadata": {},
   "source": [
    "### updating series"
   ]
  },
  {
   "cell_type": "code",
   "execution_count": null,
   "metadata": {
    "collapsed": true
   },
   "outputs": [],
   "source": [
    "s = pd.Series([1, 10, 100], index = ['a', 'b', 'c'])\n",
    "s['d'] = 1000  # add value\n",
    "s['d'] = 10000 # update value"
   ]
  },
  {
   "cell_type": "markdown",
   "metadata": {},
   "source": [
    "### slicing"
   ]
  },
  {
   "cell_type": "code",
   "execution_count": 128,
   "metadata": {},
   "outputs": [
    {
     "data": {
      "text/plain": [
       "17    107\n",
       "18    108\n",
       "19    109\n",
       "dtype: int64"
      ]
     },
     "execution_count": 128,
     "metadata": {},
     "output_type": "execute_result"
    }
   ],
   "source": [
    "s = pd.Series(np.arange(100, 110), index=np.arange(10, 20))\n",
    "s[0:5]\n",
    "s[:5]\n",
    "s[5:]\n",
    "s[-3:]"
   ]
  },
  {
   "cell_type": "markdown",
   "metadata": {},
   "source": [
    "># 3. DataFrame - generating DataFrame\n",
    "* 2-dimensional object / analogous to spreadsheet\n",
    "* index: row index + column index\n",
    "* widely used in Data Analysis & ML $\\rightarrow$ data: row / feature: column"
   ]
  },
  {
   "cell_type": "markdown",
   "metadata": {},
   "source": [
    "### generating DataFrame"
   ]
  },
  {
   "cell_type": "code",
   "execution_count": 139,
   "metadata": {
    "scrolled": true
   },
   "outputs": [
    {
     "name": "stdout",
     "output_type": "stream",
     "text": [
      "    0   1\n",
      "0  10  11\n",
      "1  20  22\n",
      "(2, 2)\n",
      "    0   1   2   3   4\n",
      "0  10  11  12  13  14\n",
      "1  20  21  22  23  24\n",
      "2  20  21  22  23  24\n",
      "(3, 5)\n",
      "   c1  c2\n",
      "0   1   6\n",
      "1   2   7\n",
      "2   3   8\n",
      "3   4   9\n",
      "4   5  10\n",
      "(5, 2)\n",
      "      Age  Height\n",
      "John   22     180\n",
      "Bob    23     170\n",
      "(2, 2)\n"
     ]
    }
   ],
   "source": [
    "df1 = pd.DataFrame(np.array([[10, 11], [20, 22]]))\n",
    "\n",
    "# stacking rows\n",
    "df2 = pd.DataFrame([pd.Series(np.arange(10, 15)), pd.Series(np.arange(20, 25)), pd.Series(np.arange(20, 25))])\n",
    "\n",
    "# stacking columns\n",
    "s1 = pd.Series(np.arange(1, 6, 1))\n",
    "s2 = pd.Series(np.arange(6, 11, 1))\n",
    "df3 = pd.DataFrame({'c1': s1, 'c2': s2})\n",
    "\n",
    "# customizing index & columns\n",
    "df4 = pd.DataFrame(np.array([[22, 180], [23, 170]]), columns = ['Age', 'Height'], index = ['John', 'Bob'])\n",
    "\n",
    "print(df1, df1.shape, df2, df2.shape, df3, df3.shape, df4, df4.shape, sep=\"\\n\")"
   ]
  },
  {
   "cell_type": "markdown",
   "metadata": {},
   "source": [
    "### csv $\\rightarrow$ dataframe\n",
    "* most commonly used method to generate dataframe"
   ]
  },
  {
   "cell_type": "code",
   "execution_count": 148,
   "metadata": {
    "scrolled": true
   },
   "outputs": [
    {
     "data": {
      "text/html": [
       "<div>\n",
       "<style>\n",
       "    .dataframe thead tr:only-child th {\n",
       "        text-align: right;\n",
       "    }\n",
       "\n",
       "    .dataframe thead th {\n",
       "        text-align: left;\n",
       "    }\n",
       "\n",
       "    .dataframe tbody tr th {\n",
       "        vertical-align: top;\n",
       "    }\n",
       "</style>\n",
       "<table border=\"1\" class=\"dataframe\">\n",
       "  <thead>\n",
       "    <tr style=\"text-align: right;\">\n",
       "      <th></th>\n",
       "      <th>Name</th>\n",
       "      <th>Price</th>\n",
       "    </tr>\n",
       "    <tr>\n",
       "      <th>Symbol</th>\n",
       "      <th></th>\n",
       "      <th></th>\n",
       "    </tr>\n",
       "  </thead>\n",
       "  <tbody>\n",
       "    <tr>\n",
       "      <th>MMM</th>\n",
       "      <td>3M Company</td>\n",
       "      <td>177.12</td>\n",
       "    </tr>\n",
       "    <tr>\n",
       "      <th>ABT</th>\n",
       "      <td>Abbott Laboratories</td>\n",
       "      <td>41.89</td>\n",
       "    </tr>\n",
       "    <tr>\n",
       "      <th>ABBV</th>\n",
       "      <td>AbbVie</td>\n",
       "      <td>64.16</td>\n",
       "    </tr>\n",
       "    <tr>\n",
       "      <th>ACN</th>\n",
       "      <td>Accenture plc</td>\n",
       "      <td>115.11</td>\n",
       "    </tr>\n",
       "    <tr>\n",
       "      <th>ATVI</th>\n",
       "      <td>Activision Blizzard</td>\n",
       "      <td>41.29</td>\n",
       "    </tr>\n",
       "  </tbody>\n",
       "</table>\n",
       "</div>"
      ],
      "text/plain": [
       "                       Name   Price\n",
       "Symbol                             \n",
       "MMM              3M Company  177.12\n",
       "ABT     Abbott Laboratories   41.89\n",
       "ABBV                 AbbVie   64.16\n",
       "ACN           Accenture plc  115.11\n",
       "ATVI    Activision Blizzard   41.29"
      ]
     },
     "execution_count": 148,
     "metadata": {},
     "output_type": "execute_result"
    }
   ],
   "source": [
    "sample_file = 'data/sample.csv'\n",
    "sample_df = pd.read_csv(sample_file)\n",
    "sample_df = pd.read_csv(sample_file, usecols = [0, 1, 2, 3, 7]) \n",
    "sample_df = pd.read_csv(sample_file, index_col = 'Symbol', usecols = [0, 1, 2, 3, 7]) \n",
    "sample_df = pd.read_csv(sample_file, index_col = 'Symbol', usecols=['Name', 'Symbol', 'Price'])\n",
    "sample_df.head()"
   ]
  },
  {
   "cell_type": "code",
   "execution_count": 150,
   "metadata": {},
   "outputs": [
    {
     "data": {
      "text/html": [
       "<div>\n",
       "<style>\n",
       "    .dataframe thead tr:only-child th {\n",
       "        text-align: right;\n",
       "    }\n",
       "\n",
       "    .dataframe thead th {\n",
       "        text-align: left;\n",
       "    }\n",
       "\n",
       "    .dataframe tbody tr th {\n",
       "        vertical-align: top;\n",
       "    }\n",
       "</style>\n",
       "<table border=\"1\" class=\"dataframe\">\n",
       "  <thead>\n",
       "    <tr style=\"text-align: right;\">\n",
       "      <th></th>\n",
       "      <th>0</th>\n",
       "      <th>1</th>\n",
       "      <th>2</th>\n",
       "      <th>3</th>\n",
       "      <th>4</th>\n",
       "      <th>5</th>\n",
       "    </tr>\n",
       "  </thead>\n",
       "  <tbody>\n",
       "    <tr>\n",
       "      <th>0</th>\n",
       "      <td>Date</td>\n",
       "      <td>Open</td>\n",
       "      <td>High</td>\n",
       "      <td>Low</td>\n",
       "      <td>Close</td>\n",
       "      <td>Volume</td>\n",
       "    </tr>\n",
       "    <tr>\n",
       "      <th>1</th>\n",
       "      <td>30-Sep-16</td>\n",
       "      <td>112.46</td>\n",
       "      <td>113.37</td>\n",
       "      <td>111.80</td>\n",
       "      <td>113.05</td>\n",
       "      <td>36379106</td>\n",
       "    </tr>\n",
       "    <tr>\n",
       "      <th>2</th>\n",
       "      <td>29-Sep-16</td>\n",
       "      <td>113.16</td>\n",
       "      <td>113.80</td>\n",
       "      <td>111.80</td>\n",
       "      <td>112.18</td>\n",
       "      <td>35886990</td>\n",
       "    </tr>\n",
       "    <tr>\n",
       "      <th>3</th>\n",
       "      <td>28-Sep-16</td>\n",
       "      <td>113.69</td>\n",
       "      <td>114.64</td>\n",
       "      <td>113.43</td>\n",
       "      <td>113.95</td>\n",
       "      <td>29641085</td>\n",
       "    </tr>\n",
       "    <tr>\n",
       "      <th>4</th>\n",
       "      <td>27-Sep-16</td>\n",
       "      <td>113.00</td>\n",
       "      <td>113.18</td>\n",
       "      <td>112.34</td>\n",
       "      <td>113.09</td>\n",
       "      <td>24607412</td>\n",
       "    </tr>\n",
       "  </tbody>\n",
       "</table>\n",
       "</div>"
      ],
      "text/plain": [
       "           0       1       2       3       4         5\n",
       "0       Date    Open    High     Low   Close    Volume\n",
       "1  30-Sep-16  112.46  113.37  111.80  113.05  36379106\n",
       "2  29-Sep-16  113.16  113.80  111.80  112.18  35886990\n",
       "3  28-Sep-16  113.69  114.64  113.43  113.95  29641085\n",
       "4  27-Sep-16  113.00  113.18  112.34  113.09  24607412"
      ]
     },
     "execution_count": 150,
     "metadata": {},
     "output_type": "execute_result"
    }
   ],
   "source": [
    "apple_df = pd.read_csv('data/apple.csv', header = None) # no header\n",
    "apple_df.head()"
   ]
  },
  {
   "cell_type": "markdown",
   "metadata": {},
   "source": [
    "### indexing & slicing\n",
    "* indexing: column\n",
    "* slicing: row (**.loc** & **.iloc** can be used)"
   ]
  },
  {
   "cell_type": "code",
   "execution_count": 160,
   "metadata": {},
   "outputs": [
    {
     "data": {
      "text/html": [
       "<div>\n",
       "<style>\n",
       "    .dataframe thead tr:only-child th {\n",
       "        text-align: right;\n",
       "    }\n",
       "\n",
       "    .dataframe thead th {\n",
       "        text-align: left;\n",
       "    }\n",
       "\n",
       "    .dataframe tbody tr th {\n",
       "        vertical-align: top;\n",
       "    }\n",
       "</style>\n",
       "<table border=\"1\" class=\"dataframe\">\n",
       "  <thead>\n",
       "    <tr style=\"text-align: right;\">\n",
       "      <th></th>\n",
       "      <th>Date</th>\n",
       "      <th>Open</th>\n",
       "      <th>High</th>\n",
       "      <th>Low</th>\n",
       "      <th>Close</th>\n",
       "      <th>Volume</th>\n",
       "    </tr>\n",
       "  </thead>\n",
       "  <tbody>\n",
       "    <tr>\n",
       "      <th>4</th>\n",
       "      <td>26-Sep-16</td>\n",
       "      <td>111.64</td>\n",
       "      <td>113.39</td>\n",
       "      <td>111.55</td>\n",
       "      <td>112.88</td>\n",
       "      <td>29869442</td>\n",
       "    </tr>\n",
       "    <tr>\n",
       "      <th>5</th>\n",
       "      <td>23-Sep-16</td>\n",
       "      <td>114.42</td>\n",
       "      <td>114.79</td>\n",
       "      <td>111.55</td>\n",
       "      <td>112.71</td>\n",
       "      <td>52481151</td>\n",
       "    </tr>\n",
       "    <tr>\n",
       "      <th>6</th>\n",
       "      <td>22-Sep-16</td>\n",
       "      <td>114.35</td>\n",
       "      <td>114.94</td>\n",
       "      <td>114.00</td>\n",
       "      <td>114.62</td>\n",
       "      <td>31073984</td>\n",
       "    </tr>\n",
       "    <tr>\n",
       "      <th>7</th>\n",
       "      <td>21-Sep-16</td>\n",
       "      <td>113.85</td>\n",
       "      <td>113.99</td>\n",
       "      <td>112.44</td>\n",
       "      <td>113.55</td>\n",
       "      <td>36003185</td>\n",
       "    </tr>\n",
       "    <tr>\n",
       "      <th>8</th>\n",
       "      <td>20-Sep-16</td>\n",
       "      <td>113.05</td>\n",
       "      <td>114.12</td>\n",
       "      <td>112.51</td>\n",
       "      <td>113.57</td>\n",
       "      <td>34514269</td>\n",
       "    </tr>\n",
       "  </tbody>\n",
       "</table>\n",
       "</div>"
      ],
      "text/plain": [
       "        Date    Open    High     Low   Close    Volume\n",
       "4  26-Sep-16  111.64  113.39  111.55  112.88  29869442\n",
       "5  23-Sep-16  114.42  114.79  111.55  112.71  52481151\n",
       "6  22-Sep-16  114.35  114.94  114.00  114.62  31073984\n",
       "7  21-Sep-16  113.85  113.99  112.44  113.55  36003185\n",
       "8  20-Sep-16  113.05  114.12  112.51  113.57  34514269"
      ]
     },
     "execution_count": 160,
     "metadata": {},
     "output_type": "execute_result"
    }
   ],
   "source": [
    "apple_df = pd.read_csv('data/apple.csv')\n",
    "apple_df.head()\n",
    "apple_df['Date'] #return Series\n",
    "apple_df[['Date']] #return DataFrame\n",
    "apple_df[['Date', 'Close']] #return DataFrame\n",
    "\n",
    "apple_df[4:9]"
   ]
  },
  {
   "cell_type": "markdown",
   "metadata": {},
   "source": [
    "### head(), tail(), describe(), info()\n",
    "* head(): show first $n$ elements (default = 5)\n",
    "* tail(): show last $n$ elements (default = 5)\n",
    "* describe() & info(): provide information about DF"
   ]
  },
  {
   "cell_type": "code",
   "execution_count": 136,
   "metadata": {
    "collapsed": true
   },
   "outputs": [
    {
     "data": {
      "text/html": [
       "<div>\n",
       "<style>\n",
       "    .dataframe thead tr:only-child th {\n",
       "        text-align: right;\n",
       "    }\n",
       "\n",
       "    .dataframe thead th {\n",
       "        text-align: left;\n",
       "    }\n",
       "\n",
       "    .dataframe tbody tr th {\n",
       "        vertical-align: top;\n",
       "    }\n",
       "</style>\n",
       "<table border=\"1\" class=\"dataframe\">\n",
       "  <thead>\n",
       "    <tr style=\"text-align: right;\">\n",
       "      <th></th>\n",
       "      <th>0</th>\n",
       "      <th>1</th>\n",
       "    </tr>\n",
       "  </thead>\n",
       "  <tbody>\n",
       "    <tr>\n",
       "      <th>count</th>\n",
       "      <td>2.000000</td>\n",
       "      <td>2.000000</td>\n",
       "    </tr>\n",
       "    <tr>\n",
       "      <th>mean</th>\n",
       "      <td>15.000000</td>\n",
       "      <td>16.500000</td>\n",
       "    </tr>\n",
       "    <tr>\n",
       "      <th>std</th>\n",
       "      <td>7.071068</td>\n",
       "      <td>7.778175</td>\n",
       "    </tr>\n",
       "    <tr>\n",
       "      <th>min</th>\n",
       "      <td>10.000000</td>\n",
       "      <td>11.000000</td>\n",
       "    </tr>\n",
       "    <tr>\n",
       "      <th>25%</th>\n",
       "      <td>12.500000</td>\n",
       "      <td>13.750000</td>\n",
       "    </tr>\n",
       "    <tr>\n",
       "      <th>50%</th>\n",
       "      <td>15.000000</td>\n",
       "      <td>16.500000</td>\n",
       "    </tr>\n",
       "    <tr>\n",
       "      <th>75%</th>\n",
       "      <td>17.500000</td>\n",
       "      <td>19.250000</td>\n",
       "    </tr>\n",
       "    <tr>\n",
       "      <th>max</th>\n",
       "      <td>20.000000</td>\n",
       "      <td>22.000000</td>\n",
       "    </tr>\n",
       "  </tbody>\n",
       "</table>\n",
       "</div>"
      ],
      "text/plain": [
       "               0          1\n",
       "count   2.000000   2.000000\n",
       "mean   15.000000  16.500000\n",
       "std     7.071068   7.778175\n",
       "min    10.000000  11.000000\n",
       "25%    12.500000  13.750000\n",
       "50%    15.000000  16.500000\n",
       "75%    17.500000  19.250000\n",
       "max    20.000000  22.000000"
      ]
     },
     "execution_count": 136,
     "metadata": {},
     "output_type": "execute_result"
    }
   ],
   "source": [
    "df1.describe()"
   ]
  },
  {
   "cell_type": "code",
   "execution_count": 137,
   "metadata": {
    "collapsed": true
   },
   "outputs": [
    {
     "name": "stdout",
     "output_type": "stream",
     "text": [
      "<class 'pandas.core.frame.DataFrame'>\n",
      "RangeIndex: 2 entries, 0 to 1\n",
      "Data columns (total 2 columns):\n",
      "0    2 non-null int64\n",
      "1    2 non-null int64\n",
      "dtypes: int64(2)\n",
      "memory usage: 112.0 bytes\n"
     ]
    }
   ],
   "source": [
    "df1.info()"
   ]
  },
  {
   "cell_type": "markdown",
   "metadata": {},
   "source": [
    "### boolean selection"
   ]
  },
  {
   "cell_type": "code",
   "execution_count": 174,
   "metadata": {
    "scrolled": true
   },
   "outputs": [
    {
     "data": {
      "text/html": [
       "<div>\n",
       "<style>\n",
       "    .dataframe thead tr:only-child th {\n",
       "        text-align: right;\n",
       "    }\n",
       "\n",
       "    .dataframe thead th {\n",
       "        text-align: left;\n",
       "    }\n",
       "\n",
       "    .dataframe tbody tr th {\n",
       "        vertical-align: top;\n",
       "    }\n",
       "</style>\n",
       "<table border=\"1\" class=\"dataframe\">\n",
       "  <thead>\n",
       "    <tr style=\"text-align: right;\">\n",
       "      <th></th>\n",
       "      <th>High</th>\n",
       "      <th>Low</th>\n",
       "    </tr>\n",
       "  </thead>\n",
       "  <tbody>\n",
       "    <tr>\n",
       "      <th>2</th>\n",
       "      <td>114.64</td>\n",
       "      <td>113.43</td>\n",
       "    </tr>\n",
       "    <tr>\n",
       "      <th>3</th>\n",
       "      <td>113.18</td>\n",
       "      <td>112.34</td>\n",
       "    </tr>\n",
       "    <tr>\n",
       "      <th>6</th>\n",
       "      <td>114.94</td>\n",
       "      <td>114.00</td>\n",
       "    </tr>\n",
       "    <tr>\n",
       "      <th>7</th>\n",
       "      <td>113.99</td>\n",
       "      <td>112.44</td>\n",
       "    </tr>\n",
       "    <tr>\n",
       "      <th>8</th>\n",
       "      <td>114.12</td>\n",
       "      <td>112.51</td>\n",
       "    </tr>\n",
       "  </tbody>\n",
       "</table>\n",
       "</div>"
      ],
      "text/plain": [
       "     High     Low\n",
       "2  114.64  113.43\n",
       "3  113.18  112.34\n",
       "6  114.94  114.00\n",
       "7  113.99  112.44\n",
       "8  114.12  112.51"
      ]
     },
     "execution_count": 174,
     "metadata": {},
     "output_type": "execute_result"
    }
   ],
   "source": [
    "apple_df[(apple_df['High'] < 115) & (apple_df['Low'] >112)]\n",
    "apple_df[(apple_df['High'] < 115) & (apple_df['Low'] >112)][['High','Low']]"
   ]
  },
  {
   "cell_type": "markdown",
   "metadata": {},
   "source": [
    "### add/delete column"
   ]
  },
  {
   "cell_type": "code",
   "execution_count": 184,
   "metadata": {},
   "outputs": [
    {
     "data": {
      "text/html": [
       "<div>\n",
       "<style>\n",
       "    .dataframe thead tr:only-child th {\n",
       "        text-align: right;\n",
       "    }\n",
       "\n",
       "    .dataframe thead th {\n",
       "        text-align: left;\n",
       "    }\n",
       "\n",
       "    .dataframe tbody tr th {\n",
       "        vertical-align: top;\n",
       "    }\n",
       "</style>\n",
       "<table border=\"1\" class=\"dataframe\">\n",
       "  <thead>\n",
       "    <tr style=\"text-align: right;\">\n",
       "      <th></th>\n",
       "      <th>Date</th>\n",
       "      <th>Open</th>\n",
       "      <th>High</th>\n",
       "      <th>Low</th>\n",
       "      <th>Close</th>\n",
       "      <th>Volume</th>\n",
       "      <th>Average</th>\n",
       "    </tr>\n",
       "  </thead>\n",
       "  <tbody>\n",
       "    <tr>\n",
       "      <th>0</th>\n",
       "      <td>30-Sep-16</td>\n",
       "      <td>112.46</td>\n",
       "      <td>113.37</td>\n",
       "      <td>111.80</td>\n",
       "      <td>113.05</td>\n",
       "      <td>36379106</td>\n",
       "      <td>112.585</td>\n",
       "    </tr>\n",
       "    <tr>\n",
       "      <th>1</th>\n",
       "      <td>29-Sep-16</td>\n",
       "      <td>113.16</td>\n",
       "      <td>113.80</td>\n",
       "      <td>111.80</td>\n",
       "      <td>112.18</td>\n",
       "      <td>35886990</td>\n",
       "      <td>112.800</td>\n",
       "    </tr>\n",
       "    <tr>\n",
       "      <th>2</th>\n",
       "      <td>28-Sep-16</td>\n",
       "      <td>113.69</td>\n",
       "      <td>114.64</td>\n",
       "      <td>113.43</td>\n",
       "      <td>113.95</td>\n",
       "      <td>29641085</td>\n",
       "      <td>114.035</td>\n",
       "    </tr>\n",
       "    <tr>\n",
       "      <th>3</th>\n",
       "      <td>27-Sep-16</td>\n",
       "      <td>113.00</td>\n",
       "      <td>113.18</td>\n",
       "      <td>112.34</td>\n",
       "      <td>113.09</td>\n",
       "      <td>24607412</td>\n",
       "      <td>112.760</td>\n",
       "    </tr>\n",
       "    <tr>\n",
       "      <th>4</th>\n",
       "      <td>26-Sep-16</td>\n",
       "      <td>111.64</td>\n",
       "      <td>113.39</td>\n",
       "      <td>111.55</td>\n",
       "      <td>112.88</td>\n",
       "      <td>29869442</td>\n",
       "      <td>112.470</td>\n",
       "    </tr>\n",
       "  </tbody>\n",
       "</table>\n",
       "</div>"
      ],
      "text/plain": [
       "        Date    Open    High     Low   Close    Volume  Average\n",
       "0  30-Sep-16  112.46  113.37  111.80  113.05  36379106  112.585\n",
       "1  29-Sep-16  113.16  113.80  111.80  112.18  35886990  112.800\n",
       "2  28-Sep-16  113.69  114.64  113.43  113.95  29641085  114.035\n",
       "3  27-Sep-16  113.00  113.18  112.34  113.09  24607412  112.760\n",
       "4  26-Sep-16  111.64  113.39  111.55  112.88  29869442  112.470"
      ]
     },
     "execution_count": 184,
     "metadata": {},
     "output_type": "execute_result"
    }
   ],
   "source": [
    "copy = apple_df.copy()\n",
    "copy['Average'] = (copy['High'] + copy['Low'])/2 # add new column\n",
    "copy.insert(1, 'Open*2', apple_df['Open'] * 2) #add new column in designated index\n",
    "del copy['Open*2']\n",
    "copy.head()"
   ]
  },
  {
   "cell_type": "markdown",
   "metadata": {},
   "source": [
    "### add/delete row"
   ]
  },
  {
   "cell_type": "code",
   "execution_count": 185,
   "metadata": {
    "scrolled": false
   },
   "outputs": [
    {
     "data": {
      "text/html": [
       "<div>\n",
       "<style>\n",
       "    .dataframe thead tr:only-child th {\n",
       "        text-align: right;\n",
       "    }\n",
       "\n",
       "    .dataframe thead th {\n",
       "        text-align: left;\n",
       "    }\n",
       "\n",
       "    .dataframe tbody tr th {\n",
       "        vertical-align: top;\n",
       "    }\n",
       "</style>\n",
       "<table border=\"1\" class=\"dataframe\">\n",
       "  <thead>\n",
       "    <tr style=\"text-align: right;\">\n",
       "      <th></th>\n",
       "      <th>Date</th>\n",
       "      <th>Open</th>\n",
       "      <th>High</th>\n",
       "      <th>Low</th>\n",
       "      <th>Close</th>\n",
       "      <th>Volume</th>\n",
       "      <th>Average</th>\n",
       "    </tr>\n",
       "  </thead>\n",
       "  <tbody>\n",
       "    <tr>\n",
       "      <th>17</th>\n",
       "      <td>7-Sep-16</td>\n",
       "      <td>107.83</td>\n",
       "      <td>108.76</td>\n",
       "      <td>107.07</td>\n",
       "      <td>108.36</td>\n",
       "      <td>42364328</td>\n",
       "      <td>107.915</td>\n",
       "    </tr>\n",
       "    <tr>\n",
       "      <th>18</th>\n",
       "      <td>6-Sep-16</td>\n",
       "      <td>107.90</td>\n",
       "      <td>108.30</td>\n",
       "      <td>107.51</td>\n",
       "      <td>107.70</td>\n",
       "      <td>26880391</td>\n",
       "      <td>107.905</td>\n",
       "    </tr>\n",
       "    <tr>\n",
       "      <th>19</th>\n",
       "      <td>2-Sep-16</td>\n",
       "      <td>107.70</td>\n",
       "      <td>108.00</td>\n",
       "      <td>106.82</td>\n",
       "      <td>107.73</td>\n",
       "      <td>26334858</td>\n",
       "      <td>107.410</td>\n",
       "    </tr>\n",
       "    <tr>\n",
       "      <th>18</th>\n",
       "      <td>6-Sep-16</td>\n",
       "      <td>107.90</td>\n",
       "      <td>108.30</td>\n",
       "      <td>107.51</td>\n",
       "      <td>107.70</td>\n",
       "      <td>26880391</td>\n",
       "      <td>107.905</td>\n",
       "    </tr>\n",
       "    <tr>\n",
       "      <th>19</th>\n",
       "      <td>2-Sep-16</td>\n",
       "      <td>107.70</td>\n",
       "      <td>108.00</td>\n",
       "      <td>106.82</td>\n",
       "      <td>107.73</td>\n",
       "      <td>26334858</td>\n",
       "      <td>107.410</td>\n",
       "    </tr>\n",
       "  </tbody>\n",
       "</table>\n",
       "</div>"
      ],
      "text/plain": [
       "        Date    Open    High     Low   Close    Volume  Average\n",
       "17  7-Sep-16  107.83  108.76  107.07  108.36  42364328  107.915\n",
       "18  6-Sep-16  107.90  108.30  107.51  107.70  26880391  107.905\n",
       "19  2-Sep-16  107.70  108.00  106.82  107.73  26334858  107.410\n",
       "18  6-Sep-16  107.90  108.30  107.51  107.70  26880391  107.905\n",
       "19  2-Sep-16  107.70  108.00  106.82  107.73  26334858  107.410"
      ]
     },
     "execution_count": 185,
     "metadata": {},
     "output_type": "execute_result"
    }
   ],
   "source": [
    "df1 = copy[-3:]\n",
    "copy = copy.append(df1) #add row\n",
    "copy = copy.drop([20]) #delete row\n",
    "copy.tail()"
   ]
  },
  {
   "cell_type": "markdown",
   "metadata": {},
   "source": [
    "># 4. DataFrame - operations on DataFrame"
   ]
  },
  {
   "cell_type": "markdown",
   "metadata": {},
   "source": [
    "># 4.1. group by"
   ]
  },
  {
   "cell_type": "markdown",
   "metadata": {},
   "source": [
    "### group by"
   ]
  },
  {
   "cell_type": "code",
   "execution_count": 251,
   "metadata": {
    "scrolled": true
   },
   "outputs": [
    {
     "data": {
      "text/html": [
       "<div>\n",
       "<style>\n",
       "    .dataframe thead tr:only-child th {\n",
       "        text-align: right;\n",
       "    }\n",
       "\n",
       "    .dataframe thead th {\n",
       "        text-align: left;\n",
       "    }\n",
       "\n",
       "    .dataframe tbody tr th {\n",
       "        vertical-align: top;\n",
       "    }\n",
       "</style>\n",
       "<table border=\"1\" class=\"dataframe\">\n",
       "  <thead>\n",
       "    <tr style=\"text-align: right;\">\n",
       "      <th></th>\n",
       "      <th>Season</th>\n",
       "      <th>Nation</th>\n",
       "      <th>Winners</th>\n",
       "      <th>Score</th>\n",
       "      <th>Runners-up</th>\n",
       "      <th>Runner-UpNation</th>\n",
       "      <th>Venue</th>\n",
       "      <th>Attendance</th>\n",
       "    </tr>\n",
       "  </thead>\n",
       "  <tbody>\n",
       "    <tr>\n",
       "      <th>0</th>\n",
       "      <td>1955–56</td>\n",
       "      <td>Spain</td>\n",
       "      <td>Real Madrid</td>\n",
       "      <td>4–3</td>\n",
       "      <td>Stade de Reims</td>\n",
       "      <td>France</td>\n",
       "      <td>Parc des Princes,Paris</td>\n",
       "      <td>38239</td>\n",
       "    </tr>\n",
       "    <tr>\n",
       "      <th>1</th>\n",
       "      <td>1956–57</td>\n",
       "      <td>Spain</td>\n",
       "      <td>Real Madrid</td>\n",
       "      <td>2–0</td>\n",
       "      <td>Fiorentina</td>\n",
       "      <td>Italy</td>\n",
       "      <td>Santiago Bernabéu Stadium, Madrid</td>\n",
       "      <td>124000</td>\n",
       "    </tr>\n",
       "    <tr>\n",
       "      <th>2</th>\n",
       "      <td>1957–58</td>\n",
       "      <td>Spain</td>\n",
       "      <td>Real Madrid</td>\n",
       "      <td>3–2</td>\n",
       "      <td>Milan</td>\n",
       "      <td>Italy</td>\n",
       "      <td>Heysel Stadium,Brussels</td>\n",
       "      <td>67000</td>\n",
       "    </tr>\n",
       "    <tr>\n",
       "      <th>3</th>\n",
       "      <td>1958–59</td>\n",
       "      <td>Spain</td>\n",
       "      <td>Real Madrid</td>\n",
       "      <td>2–0</td>\n",
       "      <td>Stade de Reims</td>\n",
       "      <td>France</td>\n",
       "      <td>Neckarstadion,Stuttgart</td>\n",
       "      <td>72000</td>\n",
       "    </tr>\n",
       "    <tr>\n",
       "      <th>4</th>\n",
       "      <td>1959–60</td>\n",
       "      <td>Spain</td>\n",
       "      <td>Real Madrid</td>\n",
       "      <td>7–3</td>\n",
       "      <td>Eintracht Frankfurt</td>\n",
       "      <td>Germany</td>\n",
       "      <td>Hampden Park,Glasgow</td>\n",
       "      <td>127621</td>\n",
       "    </tr>\n",
       "  </tbody>\n",
       "</table>\n",
       "</div>"
      ],
      "text/plain": [
       "    Season Nation      Winners Score           Runners-up Runner-UpNation  \\\n",
       "0  1955–56  Spain  Real Madrid   4–3       Stade de Reims          France   \n",
       "1  1956–57  Spain  Real Madrid   2–0           Fiorentina           Italy   \n",
       "2  1957–58  Spain  Real Madrid   3–2                Milan           Italy   \n",
       "3  1958–59  Spain  Real Madrid   2–0       Stade de Reims          France   \n",
       "4  1959–60  Spain  Real Madrid   7–3  Eintracht Frankfurt         Germany   \n",
       "\n",
       "                               Venue  Attendance  \n",
       "0             Parc des Princes,Paris       38239  \n",
       "1  Santiago Bernabéu Stadium, Madrid      124000  \n",
       "2            Heysel Stadium,Brussels       67000  \n",
       "3            Neckarstadion,Stuttgart       72000  \n",
       "4               Hampden Park,Glasgow      127621  "
      ]
     },
     "execution_count": 251,
     "metadata": {},
     "output_type": "execute_result"
    }
   ],
   "source": [
    "df = pd.read_csv('./data/euro_winners.csv')\n",
    "df.head()"
   ]
  },
  {
   "cell_type": "markdown",
   "metadata": {},
   "source": [
    "### .groups"
   ]
  },
  {
   "cell_type": "code",
   "execution_count": 244,
   "metadata": {},
   "outputs": [
    {
     "data": {
      "text/plain": [
       "{'England': Int64Index([12, 21, 22, 23, 24, 25, 26, 28, 43, 49, 52, 56], dtype='int64'),\n",
       " 'France': Int64Index([37], dtype='int64'),\n",
       " 'Germany': Int64Index([18, 19, 20, 27, 41, 45, 57], dtype='int64'),\n",
       " 'Italy': Int64Index([7, 8, 9, 13, 29, 33, 34, 38, 40, 47, 51, 54], dtype='int64'),\n",
       " 'Netherlands': Int64Index([14, 15, 16, 17, 32, 39], dtype='int64'),\n",
       " 'Portugal': Int64Index([5, 6, 31, 48], dtype='int64'),\n",
       " 'Romania': Int64Index([30], dtype='int64'),\n",
       " 'Scotland': Int64Index([11], dtype='int64'),\n",
       " 'Spain': Int64Index([0, 1, 2, 3, 4, 10, 36, 42, 44, 46, 50, 53, 55], dtype='int64'),\n",
       " 'Yugoslavia': Int64Index([35], dtype='int64')}"
      ]
     },
     "execution_count": 244,
     "metadata": {},
     "output_type": "execute_result"
    }
   ],
   "source": [
    "nation_group = df.groupby('Nation')\n",
    "nation_group.groups"
   ]
  },
  {
   "cell_type": "code",
   "execution_count": 245,
   "metadata": {
    "scrolled": true
   },
   "outputs": [
    {
     "data": {
      "text/plain": [
       "10"
      ]
     },
     "execution_count": 245,
     "metadata": {},
     "output_type": "execute_result"
    }
   ],
   "source": [
    "len(nation_group.groups) # no. of groups"
   ]
  },
  {
   "cell_type": "code",
   "execution_count": null,
   "metadata": {
    "collapsed": true
   },
   "outputs": [],
   "source": []
  },
  {
   "cell_type": "markdown",
   "metadata": {},
   "source": [
    "### .count()"
   ]
  },
  {
   "cell_type": "code",
   "execution_count": 246,
   "metadata": {},
   "outputs": [
    {
     "data": {
      "text/html": [
       "<div>\n",
       "<style>\n",
       "    .dataframe thead tr:only-child th {\n",
       "        text-align: right;\n",
       "    }\n",
       "\n",
       "    .dataframe thead th {\n",
       "        text-align: left;\n",
       "    }\n",
       "\n",
       "    .dataframe tbody tr th {\n",
       "        vertical-align: top;\n",
       "    }\n",
       "</style>\n",
       "<table border=\"1\" class=\"dataframe\">\n",
       "  <thead>\n",
       "    <tr style=\"text-align: right;\">\n",
       "      <th></th>\n",
       "      <th>Season</th>\n",
       "      <th>Winners</th>\n",
       "      <th>Score</th>\n",
       "      <th>Runners-up</th>\n",
       "      <th>Runner-UpNation</th>\n",
       "      <th>Venue</th>\n",
       "      <th>Attendance</th>\n",
       "    </tr>\n",
       "    <tr>\n",
       "      <th>Nation</th>\n",
       "      <th></th>\n",
       "      <th></th>\n",
       "      <th></th>\n",
       "      <th></th>\n",
       "      <th></th>\n",
       "      <th></th>\n",
       "      <th></th>\n",
       "    </tr>\n",
       "  </thead>\n",
       "  <tbody>\n",
       "    <tr>\n",
       "      <th>England</th>\n",
       "      <td>12</td>\n",
       "      <td>12</td>\n",
       "      <td>12</td>\n",
       "      <td>12</td>\n",
       "      <td>12</td>\n",
       "      <td>12</td>\n",
       "      <td>12</td>\n",
       "    </tr>\n",
       "    <tr>\n",
       "      <th>France</th>\n",
       "      <td>1</td>\n",
       "      <td>1</td>\n",
       "      <td>1</td>\n",
       "      <td>1</td>\n",
       "      <td>1</td>\n",
       "      <td>1</td>\n",
       "      <td>1</td>\n",
       "    </tr>\n",
       "    <tr>\n",
       "      <th>Germany</th>\n",
       "      <td>7</td>\n",
       "      <td>7</td>\n",
       "      <td>7</td>\n",
       "      <td>7</td>\n",
       "      <td>7</td>\n",
       "      <td>7</td>\n",
       "      <td>7</td>\n",
       "    </tr>\n",
       "    <tr>\n",
       "      <th>Italy</th>\n",
       "      <td>12</td>\n",
       "      <td>12</td>\n",
       "      <td>12</td>\n",
       "      <td>12</td>\n",
       "      <td>12</td>\n",
       "      <td>12</td>\n",
       "      <td>12</td>\n",
       "    </tr>\n",
       "    <tr>\n",
       "      <th>Netherlands</th>\n",
       "      <td>6</td>\n",
       "      <td>6</td>\n",
       "      <td>6</td>\n",
       "      <td>6</td>\n",
       "      <td>6</td>\n",
       "      <td>6</td>\n",
       "      <td>6</td>\n",
       "    </tr>\n",
       "    <tr>\n",
       "      <th>Portugal</th>\n",
       "      <td>4</td>\n",
       "      <td>4</td>\n",
       "      <td>4</td>\n",
       "      <td>4</td>\n",
       "      <td>4</td>\n",
       "      <td>4</td>\n",
       "      <td>4</td>\n",
       "    </tr>\n",
       "    <tr>\n",
       "      <th>Romania</th>\n",
       "      <td>1</td>\n",
       "      <td>1</td>\n",
       "      <td>1</td>\n",
       "      <td>1</td>\n",
       "      <td>1</td>\n",
       "      <td>1</td>\n",
       "      <td>1</td>\n",
       "    </tr>\n",
       "    <tr>\n",
       "      <th>Scotland</th>\n",
       "      <td>1</td>\n",
       "      <td>1</td>\n",
       "      <td>1</td>\n",
       "      <td>1</td>\n",
       "      <td>1</td>\n",
       "      <td>1</td>\n",
       "      <td>1</td>\n",
       "    </tr>\n",
       "    <tr>\n",
       "      <th>Spain</th>\n",
       "      <td>13</td>\n",
       "      <td>13</td>\n",
       "      <td>13</td>\n",
       "      <td>13</td>\n",
       "      <td>13</td>\n",
       "      <td>13</td>\n",
       "      <td>13</td>\n",
       "    </tr>\n",
       "    <tr>\n",
       "      <th>Yugoslavia</th>\n",
       "      <td>1</td>\n",
       "      <td>1</td>\n",
       "      <td>1</td>\n",
       "      <td>1</td>\n",
       "      <td>1</td>\n",
       "      <td>1</td>\n",
       "      <td>1</td>\n",
       "    </tr>\n",
       "  </tbody>\n",
       "</table>\n",
       "</div>"
      ],
      "text/plain": [
       "             Season  Winners  Score  Runners-up  Runner-UpNation  Venue  \\\n",
       "Nation                                                                    \n",
       "England          12       12     12          12               12     12   \n",
       "France            1        1      1           1                1      1   \n",
       "Germany           7        7      7           7                7      7   \n",
       "Italy            12       12     12          12               12     12   \n",
       "Netherlands       6        6      6           6                6      6   \n",
       "Portugal          4        4      4           4                4      4   \n",
       "Romania           1        1      1           1                1      1   \n",
       "Scotland          1        1      1           1                1      1   \n",
       "Spain            13       13     13          13               13     13   \n",
       "Yugoslavia        1        1      1           1                1      1   \n",
       "\n",
       "             Attendance  \n",
       "Nation                   \n",
       "England              12  \n",
       "France                1  \n",
       "Germany               7  \n",
       "Italy                12  \n",
       "Netherlands           6  \n",
       "Portugal              4  \n",
       "Romania               1  \n",
       "Scotland              1  \n",
       "Spain                13  \n",
       "Yugoslavia            1  "
      ]
     },
     "execution_count": 246,
     "metadata": {},
     "output_type": "execute_result"
    }
   ],
   "source": [
    "nation_group.count()"
   ]
  },
  {
   "cell_type": "markdown",
   "metadata": {},
   "source": [
    "### .size()"
   ]
  },
  {
   "cell_type": "code",
   "execution_count": 247,
   "metadata": {
    "scrolled": true
   },
   "outputs": [
    {
     "data": {
      "text/plain": [
       "Nation\n",
       "England        12\n",
       "France          1\n",
       "Germany         7\n",
       "Italy          12\n",
       "Netherlands     6\n",
       "Portugal        4\n",
       "Romania         1\n",
       "Scotland        1\n",
       "Spain          13\n",
       "Yugoslavia      1\n",
       "dtype: int64"
      ]
     },
     "execution_count": 247,
     "metadata": {},
     "output_type": "execute_result"
    }
   ],
   "source": [
    "nation_group.size()"
   ]
  },
  {
   "cell_type": "markdown",
   "metadata": {},
   "source": [
    "### .size().sort_values(ascending = False)"
   ]
  },
  {
   "cell_type": "code",
   "execution_count": 248,
   "metadata": {
    "scrolled": true
   },
   "outputs": [
    {
     "data": {
      "text/plain": [
       "Nation\n",
       "Spain          13\n",
       "Italy          12\n",
       "England        12\n",
       "Germany         7\n",
       "Netherlands     6\n",
       "Portugal        4\n",
       "Yugoslavia      1\n",
       "Scotland        1\n",
       "Romania         1\n",
       "France          1\n",
       "dtype: int64"
      ]
     },
     "execution_count": 248,
     "metadata": {},
     "output_type": "execute_result"
    }
   ],
   "source": [
    "nation_group.size().sort_values(ascending = False)"
   ]
  },
  {
   "cell_type": "markdown",
   "metadata": {},
   "source": [
    "### multiple column grouping"
   ]
  },
  {
   "cell_type": "code",
   "execution_count": 249,
   "metadata": {},
   "outputs": [
    {
     "data": {
      "text/plain": [
       "Nation       Winners          \n",
       "Spain        Real Madrid          9\n",
       "Italy        Milan                7\n",
       "Germany      Bayern Munich        5\n",
       "England      Liverpool            5\n",
       "Spain        Barcelona            4\n",
       "Netherlands  Ajax                 4\n",
       "England      Manchester United    3\n",
       "Italy        Internazionale       3\n",
       "             Juventus             2\n",
       "Portugal     Porto                2\n",
       "             Benfica              2\n",
       "England      Nottingham Forest    2\n",
       "             Chelsea              1\n",
       "France       Marseille            1\n",
       "Yugoslavia   Red Star Belgrade    1\n",
       "Germany      Borussia Dortmund    1\n",
       "             Hamburg              1\n",
       "Netherlands  Feyenoord            1\n",
       "             PSV Eindhoven        1\n",
       "Romania      Steaua Bucure?ti     1\n",
       "Scotland     Celtic               1\n",
       "England      Aston Villa          1\n",
       "dtype: int64"
      ]
     },
     "execution_count": 249,
     "metadata": {},
     "output_type": "execute_result"
    }
   ],
   "source": [
    "club_group = df.groupby(['Nation', 'Winners'])\n",
    "club_group.size().sort_values(ascending = False)"
   ]
  },
  {
   "cell_type": "markdown",
   "metadata": {},
   "source": [
    "># 4.2. change index"
   ]
  },
  {
   "cell_type": "markdown",
   "metadata": {},
   "source": [
    "### .set_index(keys, inplace)"
   ]
  },
  {
   "cell_type": "code",
   "execution_count": 252,
   "metadata": {},
   "outputs": [
    {
     "data": {
      "text/html": [
       "<div>\n",
       "<style>\n",
       "    .dataframe thead tr:only-child th {\n",
       "        text-align: right;\n",
       "    }\n",
       "\n",
       "    .dataframe thead th {\n",
       "        text-align: left;\n",
       "    }\n",
       "\n",
       "    .dataframe tbody tr th {\n",
       "        vertical-align: top;\n",
       "    }\n",
       "</style>\n",
       "<table border=\"1\" class=\"dataframe\">\n",
       "  <thead>\n",
       "    <tr style=\"text-align: right;\">\n",
       "      <th></th>\n",
       "      <th></th>\n",
       "      <th>Season</th>\n",
       "      <th>Nation</th>\n",
       "      <th>Score</th>\n",
       "      <th>Runner-UpNation</th>\n",
       "      <th>Venue</th>\n",
       "      <th>Attendance</th>\n",
       "    </tr>\n",
       "    <tr>\n",
       "      <th>Winners</th>\n",
       "      <th>Runners-up</th>\n",
       "      <th></th>\n",
       "      <th></th>\n",
       "      <th></th>\n",
       "      <th></th>\n",
       "      <th></th>\n",
       "      <th></th>\n",
       "    </tr>\n",
       "  </thead>\n",
       "  <tbody>\n",
       "    <tr>\n",
       "      <th rowspan=\"5\" valign=\"top\">Real Madrid</th>\n",
       "      <th>Stade de Reims</th>\n",
       "      <td>1955–56</td>\n",
       "      <td>Spain</td>\n",
       "      <td>4–3</td>\n",
       "      <td>France</td>\n",
       "      <td>Parc des Princes,Paris</td>\n",
       "      <td>38239</td>\n",
       "    </tr>\n",
       "    <tr>\n",
       "      <th>Fiorentina</th>\n",
       "      <td>1956–57</td>\n",
       "      <td>Spain</td>\n",
       "      <td>2–0</td>\n",
       "      <td>Italy</td>\n",
       "      <td>Santiago Bernabéu Stadium, Madrid</td>\n",
       "      <td>124000</td>\n",
       "    </tr>\n",
       "    <tr>\n",
       "      <th>Milan</th>\n",
       "      <td>1957–58</td>\n",
       "      <td>Spain</td>\n",
       "      <td>3–2</td>\n",
       "      <td>Italy</td>\n",
       "      <td>Heysel Stadium,Brussels</td>\n",
       "      <td>67000</td>\n",
       "    </tr>\n",
       "    <tr>\n",
       "      <th>Stade de Reims</th>\n",
       "      <td>1958–59</td>\n",
       "      <td>Spain</td>\n",
       "      <td>2–0</td>\n",
       "      <td>France</td>\n",
       "      <td>Neckarstadion,Stuttgart</td>\n",
       "      <td>72000</td>\n",
       "    </tr>\n",
       "    <tr>\n",
       "      <th>Eintracht Frankfurt</th>\n",
       "      <td>1959–60</td>\n",
       "      <td>Spain</td>\n",
       "      <td>7–3</td>\n",
       "      <td>Germany</td>\n",
       "      <td>Hampden Park,Glasgow</td>\n",
       "      <td>127621</td>\n",
       "    </tr>\n",
       "  </tbody>\n",
       "</table>\n",
       "</div>"
      ],
      "text/plain": [
       "                                  Season Nation Score Runner-UpNation  \\\n",
       "Winners     Runners-up                                                  \n",
       "Real Madrid Stade de Reims       1955–56  Spain   4–3          France   \n",
       "            Fiorentina           1956–57  Spain   2–0           Italy   \n",
       "            Milan                1957–58  Spain   3–2           Italy   \n",
       "            Stade de Reims       1958–59  Spain   2–0          France   \n",
       "            Eintracht Frankfurt  1959–60  Spain   7–3         Germany   \n",
       "\n",
       "                                                             Venue  Attendance  \n",
       "Winners     Runners-up                                                          \n",
       "Real Madrid Stade de Reims                  Parc des Princes,Paris       38239  \n",
       "            Fiorentina           Santiago Bernabéu Stadium, Madrid      124000  \n",
       "            Milan                          Heysel Stadium,Brussels       67000  \n",
       "            Stade de Reims                 Neckarstadion,Stuttgart       72000  \n",
       "            Eintracht Frankfurt               Hampden Park,Glasgow      127621  "
      ]
     },
     "execution_count": 252,
     "metadata": {},
     "output_type": "execute_result"
    }
   ],
   "source": [
    "#df.set_index('Winners', inplace=True) # inplace=True -> change the original \n",
    "df.set_index(['Winners', 'Runners-up'], inplace=True) # multiple index allowed\n",
    "df.head()"
   ]
  },
  {
   "cell_type": "markdown",
   "metadata": {},
   "source": [
    "### multiple index - data selection"
   ]
  },
  {
   "cell_type": "code",
   "execution_count": 255,
   "metadata": {},
   "outputs": [
    {
     "name": "stderr",
     "output_type": "stream",
     "text": [
      "/home/dockeruser/anaconda3/lib/python3.6/site-packages/ipykernel_launcher.py:3: PerformanceWarning: indexing past lexsort depth may impact performance.\n",
      "  This is separate from the ipykernel package so we can avoid doing imports until\n"
     ]
    },
    {
     "data": {
      "text/html": [
       "<div>\n",
       "<style>\n",
       "    .dataframe thead tr:only-child th {\n",
       "        text-align: right;\n",
       "    }\n",
       "\n",
       "    .dataframe thead th {\n",
       "        text-align: left;\n",
       "    }\n",
       "\n",
       "    .dataframe tbody tr th {\n",
       "        vertical-align: top;\n",
       "    }\n",
       "</style>\n",
       "<table border=\"1\" class=\"dataframe\">\n",
       "  <thead>\n",
       "    <tr style=\"text-align: right;\">\n",
       "      <th></th>\n",
       "      <th></th>\n",
       "      <th>Season</th>\n",
       "      <th>Nation</th>\n",
       "      <th>Score</th>\n",
       "      <th>Runner-UpNation</th>\n",
       "      <th>Venue</th>\n",
       "      <th>Attendance</th>\n",
       "    </tr>\n",
       "    <tr>\n",
       "      <th>Winners</th>\n",
       "      <th>Runners-up</th>\n",
       "      <th></th>\n",
       "      <th></th>\n",
       "      <th></th>\n",
       "      <th></th>\n",
       "      <th></th>\n",
       "      <th></th>\n",
       "    </tr>\n",
       "  </thead>\n",
       "  <tbody>\n",
       "    <tr>\n",
       "      <th>Real Madrid</th>\n",
       "      <th>Milan</th>\n",
       "      <td>1957–58</td>\n",
       "      <td>Spain</td>\n",
       "      <td>3–2</td>\n",
       "      <td>Italy</td>\n",
       "      <td>Heysel Stadium,Brussels</td>\n",
       "      <td>67000</td>\n",
       "    </tr>\n",
       "  </tbody>\n",
       "</table>\n",
       "</div>"
      ],
      "text/plain": [
       "                         Season Nation Score Runner-UpNation  \\\n",
       "Winners     Runners-up                                         \n",
       "Real Madrid Milan       1957–58  Spain   3–2           Italy   \n",
       "\n",
       "                                          Venue  Attendance  \n",
       "Winners     Runners-up                                       \n",
       "Real Madrid Milan       Heysel Stadium,Brussels       67000  "
      ]
     },
     "execution_count": 255,
     "metadata": {},
     "output_type": "execute_result"
    }
   ],
   "source": [
    "df.loc['Real Madrid']\n",
    "df.loc['Real Madrid'].loc['Milan']\n",
    "df.loc['Real Madrid', 'Milan']"
   ]
  },
  {
   "cell_type": "markdown",
   "metadata": {},
   "source": [
    "### .reset_index()"
   ]
  },
  {
   "cell_type": "code",
   "execution_count": 222,
   "metadata": {
    "scrolled": false
   },
   "outputs": [
    {
     "data": {
      "text/html": [
       "<div>\n",
       "<style>\n",
       "    .dataframe thead tr:only-child th {\n",
       "        text-align: right;\n",
       "    }\n",
       "\n",
       "    .dataframe thead th {\n",
       "        text-align: left;\n",
       "    }\n",
       "\n",
       "    .dataframe tbody tr th {\n",
       "        vertical-align: top;\n",
       "    }\n",
       "</style>\n",
       "<table border=\"1\" class=\"dataframe\">\n",
       "  <thead>\n",
       "    <tr style=\"text-align: right;\">\n",
       "      <th></th>\n",
       "      <th>Winners</th>\n",
       "      <th>Runners-up</th>\n",
       "      <th>Season</th>\n",
       "      <th>Nation</th>\n",
       "      <th>Score</th>\n",
       "      <th>Runner-UpNation</th>\n",
       "      <th>Venue</th>\n",
       "      <th>Attendance</th>\n",
       "    </tr>\n",
       "  </thead>\n",
       "  <tbody>\n",
       "    <tr>\n",
       "      <th>0</th>\n",
       "      <td>Real Madrid</td>\n",
       "      <td>Stade de Reims</td>\n",
       "      <td>1955–56</td>\n",
       "      <td>Spain</td>\n",
       "      <td>4–3</td>\n",
       "      <td>France</td>\n",
       "      <td>Parc des Princes,Paris</td>\n",
       "      <td>38239</td>\n",
       "    </tr>\n",
       "    <tr>\n",
       "      <th>1</th>\n",
       "      <td>Real Madrid</td>\n",
       "      <td>Fiorentina</td>\n",
       "      <td>1956–57</td>\n",
       "      <td>Spain</td>\n",
       "      <td>2–0</td>\n",
       "      <td>Italy</td>\n",
       "      <td>Santiago Bernabéu Stadium, Madrid</td>\n",
       "      <td>124000</td>\n",
       "    </tr>\n",
       "    <tr>\n",
       "      <th>2</th>\n",
       "      <td>Real Madrid</td>\n",
       "      <td>Milan</td>\n",
       "      <td>1957–58</td>\n",
       "      <td>Spain</td>\n",
       "      <td>3–2</td>\n",
       "      <td>Italy</td>\n",
       "      <td>Heysel Stadium,Brussels</td>\n",
       "      <td>67000</td>\n",
       "    </tr>\n",
       "    <tr>\n",
       "      <th>3</th>\n",
       "      <td>Real Madrid</td>\n",
       "      <td>Stade de Reims</td>\n",
       "      <td>1958–59</td>\n",
       "      <td>Spain</td>\n",
       "      <td>2–0</td>\n",
       "      <td>France</td>\n",
       "      <td>Neckarstadion,Stuttgart</td>\n",
       "      <td>72000</td>\n",
       "    </tr>\n",
       "    <tr>\n",
       "      <th>4</th>\n",
       "      <td>Real Madrid</td>\n",
       "      <td>Eintracht Frankfurt</td>\n",
       "      <td>1959–60</td>\n",
       "      <td>Spain</td>\n",
       "      <td>7–3</td>\n",
       "      <td>Germany</td>\n",
       "      <td>Hampden Park,Glasgow</td>\n",
       "      <td>127621</td>\n",
       "    </tr>\n",
       "  </tbody>\n",
       "</table>\n",
       "</div>"
      ],
      "text/plain": [
       "       Winners           Runners-up   Season Nation Score Runner-UpNation  \\\n",
       "0  Real Madrid       Stade de Reims  1955–56  Spain   4–3          France   \n",
       "1  Real Madrid           Fiorentina  1956–57  Spain   2–0           Italy   \n",
       "2  Real Madrid                Milan  1957–58  Spain   3–2           Italy   \n",
       "3  Real Madrid       Stade de Reims  1958–59  Spain   2–0          France   \n",
       "4  Real Madrid  Eintracht Frankfurt  1959–60  Spain   7–3         Germany   \n",
       "\n",
       "                               Venue  Attendance  \n",
       "0             Parc des Princes,Paris       38239  \n",
       "1  Santiago Bernabéu Stadium, Madrid      124000  \n",
       "2            Heysel Stadium,Brussels       67000  \n",
       "3            Neckarstadion,Stuttgart       72000  \n",
       "4               Hampden Park,Glasgow      127621  "
      ]
     },
     "execution_count": 222,
     "metadata": {},
     "output_type": "execute_result"
    }
   ],
   "source": [
    "df = df.reset_index()\n",
    "df.head()"
   ]
  },
  {
   "cell_type": "markdown",
   "metadata": {},
   "source": [
    "># 4.3. group by - continued"
   ]
  },
  {
   "cell_type": "code",
   "execution_count": 230,
   "metadata": {},
   "outputs": [
    {
     "data": {
      "text/html": [
       "<div>\n",
       "<style>\n",
       "    .dataframe thead tr:only-child th {\n",
       "        text-align: right;\n",
       "    }\n",
       "\n",
       "    .dataframe thead th {\n",
       "        text-align: left;\n",
       "    }\n",
       "\n",
       "    .dataframe tbody tr th {\n",
       "        vertical-align: top;\n",
       "    }\n",
       "</style>\n",
       "<table border=\"1\" class=\"dataframe\">\n",
       "  <thead>\n",
       "    <tr style=\"text-align: right;\">\n",
       "      <th></th>\n",
       "      <th>Month</th>\n",
       "      <th>Stat</th>\n",
       "      <th>EPL</th>\n",
       "      <th>La Liga</th>\n",
       "      <th>Serie A</th>\n",
       "      <th>Bundesliga</th>\n",
       "    </tr>\n",
       "  </thead>\n",
       "  <tbody>\n",
       "    <tr>\n",
       "      <th>0</th>\n",
       "      <td>08/01/2012</td>\n",
       "      <td>MatchesPlayed</td>\n",
       "      <td>20.0</td>\n",
       "      <td>20</td>\n",
       "      <td>10.0</td>\n",
       "      <td>10.0</td>\n",
       "    </tr>\n",
       "    <tr>\n",
       "      <th>1</th>\n",
       "      <td>09/01/2012</td>\n",
       "      <td>MatchesPlayed</td>\n",
       "      <td>38.0</td>\n",
       "      <td>39</td>\n",
       "      <td>50.0</td>\n",
       "      <td>44.0</td>\n",
       "    </tr>\n",
       "    <tr>\n",
       "      <th>2</th>\n",
       "      <td>10/01/2012</td>\n",
       "      <td>MatchesPlayed</td>\n",
       "      <td>31.0</td>\n",
       "      <td>31</td>\n",
       "      <td>39.0</td>\n",
       "      <td>27.0</td>\n",
       "    </tr>\n",
       "    <tr>\n",
       "      <th>3</th>\n",
       "      <td>11/01/2012</td>\n",
       "      <td>MatchesPlayed</td>\n",
       "      <td>50.0</td>\n",
       "      <td>41</td>\n",
       "      <td>42.0</td>\n",
       "      <td>46.0</td>\n",
       "    </tr>\n",
       "    <tr>\n",
       "      <th>4</th>\n",
       "      <td>12/01/2012</td>\n",
       "      <td>MatchesPlayed</td>\n",
       "      <td>59.0</td>\n",
       "      <td>39</td>\n",
       "      <td>39.0</td>\n",
       "      <td>26.0</td>\n",
       "    </tr>\n",
       "  </tbody>\n",
       "</table>\n",
       "</div>"
      ],
      "text/plain": [
       "        Month           Stat   EPL  La Liga  Serie A  Bundesliga\n",
       "0  08/01/2012  MatchesPlayed  20.0       20     10.0        10.0\n",
       "1  09/01/2012  MatchesPlayed  38.0       39     50.0        44.0\n",
       "2  10/01/2012  MatchesPlayed  31.0       31     39.0        27.0\n",
       "3  11/01/2012  MatchesPlayed  50.0       41     42.0        46.0\n",
       "4  12/01/2012  MatchesPlayed  59.0       39     39.0        26.0"
      ]
     },
     "execution_count": 230,
     "metadata": {},
     "output_type": "execute_result"
    }
   ],
   "source": [
    "df = pd.read_csv('./data/goal_stats_euro_leagues_2012-13.csv')\n",
    "df.head()"
   ]
  },
  {
   "cell_type": "markdown",
   "metadata": {},
   "source": [
    "### group by with function"
   ]
  },
  {
   "cell_type": "code",
   "execution_count": 233,
   "metadata": {},
   "outputs": [
    {
     "data": {
      "text/html": [
       "<div>\n",
       "<style>\n",
       "    .dataframe thead tr:only-child th {\n",
       "        text-align: right;\n",
       "    }\n",
       "\n",
       "    .dataframe thead th {\n",
       "        text-align: left;\n",
       "    }\n",
       "\n",
       "    .dataframe tbody tr th {\n",
       "        vertical-align: top;\n",
       "    }\n",
       "</style>\n",
       "<table border=\"1\" class=\"dataframe\">\n",
       "  <thead>\n",
       "    <tr style=\"text-align: right;\">\n",
       "      <th></th>\n",
       "      <th>Stat</th>\n",
       "      <th>EPL</th>\n",
       "      <th>La Liga</th>\n",
       "      <th>Serie A</th>\n",
       "      <th>Bundesliga</th>\n",
       "    </tr>\n",
       "    <tr>\n",
       "      <th>Month</th>\n",
       "      <th></th>\n",
       "      <th></th>\n",
       "      <th></th>\n",
       "      <th></th>\n",
       "      <th></th>\n",
       "    </tr>\n",
       "  </thead>\n",
       "  <tbody>\n",
       "    <tr>\n",
       "      <th>08/01/2012</th>\n",
       "      <td>MatchesPlayed</td>\n",
       "      <td>20.0</td>\n",
       "      <td>20</td>\n",
       "      <td>10.0</td>\n",
       "      <td>10.0</td>\n",
       "    </tr>\n",
       "    <tr>\n",
       "      <th>09/01/2012</th>\n",
       "      <td>MatchesPlayed</td>\n",
       "      <td>38.0</td>\n",
       "      <td>39</td>\n",
       "      <td>50.0</td>\n",
       "      <td>44.0</td>\n",
       "    </tr>\n",
       "    <tr>\n",
       "      <th>10/01/2012</th>\n",
       "      <td>MatchesPlayed</td>\n",
       "      <td>31.0</td>\n",
       "      <td>31</td>\n",
       "      <td>39.0</td>\n",
       "      <td>27.0</td>\n",
       "    </tr>\n",
       "    <tr>\n",
       "      <th>11/01/2012</th>\n",
       "      <td>MatchesPlayed</td>\n",
       "      <td>50.0</td>\n",
       "      <td>41</td>\n",
       "      <td>42.0</td>\n",
       "      <td>46.0</td>\n",
       "    </tr>\n",
       "    <tr>\n",
       "      <th>12/01/2012</th>\n",
       "      <td>MatchesPlayed</td>\n",
       "      <td>59.0</td>\n",
       "      <td>39</td>\n",
       "      <td>39.0</td>\n",
       "      <td>26.0</td>\n",
       "    </tr>\n",
       "    <tr>\n",
       "      <th>01/01/2013</th>\n",
       "      <td>MatchesPlayed</td>\n",
       "      <td>42.0</td>\n",
       "      <td>40</td>\n",
       "      <td>40.0</td>\n",
       "      <td>18.0</td>\n",
       "    </tr>\n",
       "    <tr>\n",
       "      <th>02/01/2013</th>\n",
       "      <td>MatchesPlayed</td>\n",
       "      <td>30.0</td>\n",
       "      <td>40</td>\n",
       "      <td>40.0</td>\n",
       "      <td>36.0</td>\n",
       "    </tr>\n",
       "    <tr>\n",
       "      <th>03/01/2013</th>\n",
       "      <td>MatchesPlayed</td>\n",
       "      <td>35.0</td>\n",
       "      <td>38</td>\n",
       "      <td>39.0</td>\n",
       "      <td>36.0</td>\n",
       "    </tr>\n",
       "    <tr>\n",
       "      <th>04/01/2013</th>\n",
       "      <td>MatchesPlayed</td>\n",
       "      <td>42.0</td>\n",
       "      <td>42</td>\n",
       "      <td>41.0</td>\n",
       "      <td>36.0</td>\n",
       "    </tr>\n",
       "    <tr>\n",
       "      <th>05/01/2013</th>\n",
       "      <td>MatchesPlayed</td>\n",
       "      <td>33.0</td>\n",
       "      <td>40</td>\n",
       "      <td>40.0</td>\n",
       "      <td>27.0</td>\n",
       "    </tr>\n",
       "  </tbody>\n",
       "</table>\n",
       "</div>"
      ],
      "text/plain": [
       "                     Stat   EPL  La Liga  Serie A  Bundesliga\n",
       "Month                                                        \n",
       "08/01/2012  MatchesPlayed  20.0       20     10.0        10.0\n",
       "09/01/2012  MatchesPlayed  38.0       39     50.0        44.0\n",
       "10/01/2012  MatchesPlayed  31.0       31     39.0        27.0\n",
       "11/01/2012  MatchesPlayed  50.0       41     42.0        46.0\n",
       "12/01/2012  MatchesPlayed  59.0       39     39.0        26.0\n",
       "01/01/2013  MatchesPlayed  42.0       40     40.0        18.0\n",
       "02/01/2013  MatchesPlayed  30.0       40     40.0        36.0\n",
       "03/01/2013  MatchesPlayed  35.0       38     39.0        36.0\n",
       "04/01/2013  MatchesPlayed  42.0       42     41.0        36.0\n",
       "05/01/2013  MatchesPlayed  33.0       40     40.0        27.0"
      ]
     },
     "execution_count": 233,
     "metadata": {},
     "output_type": "execute_result"
    }
   ],
   "source": [
    "df1 = df.set_index('Month')\n",
    "year_group = df1.groupby(lambda month : month.split('/')[2])\n",
    "year_group.head()"
   ]
  },
  {
   "cell_type": "markdown",
   "metadata": {},
   "source": [
    "### mutiple index $\\rightarrow$ grouping with level"
   ]
  },
  {
   "cell_type": "code",
   "execution_count": 241,
   "metadata": {},
   "outputs": [
    {
     "data": {
      "text/html": [
       "<div>\n",
       "<style>\n",
       "    .dataframe thead tr:only-child th {\n",
       "        text-align: right;\n",
       "    }\n",
       "\n",
       "    .dataframe thead th {\n",
       "        text-align: left;\n",
       "    }\n",
       "\n",
       "    .dataframe tbody tr th {\n",
       "        vertical-align: top;\n",
       "    }\n",
       "</style>\n",
       "<table border=\"1\" class=\"dataframe\">\n",
       "  <thead>\n",
       "    <tr style=\"text-align: right;\">\n",
       "      <th></th>\n",
       "      <th></th>\n",
       "      <th>EPL</th>\n",
       "      <th>La Liga</th>\n",
       "      <th>Serie A</th>\n",
       "      <th>Bundesliga</th>\n",
       "    </tr>\n",
       "    <tr>\n",
       "      <th>Month</th>\n",
       "      <th>Stat</th>\n",
       "      <th></th>\n",
       "      <th></th>\n",
       "      <th></th>\n",
       "      <th></th>\n",
       "    </tr>\n",
       "  </thead>\n",
       "  <tbody>\n",
       "    <tr>\n",
       "      <th>08/01/2012</th>\n",
       "      <th>MatchesPlayed</th>\n",
       "      <td>20.0</td>\n",
       "      <td>20</td>\n",
       "      <td>10.0</td>\n",
       "      <td>10.0</td>\n",
       "    </tr>\n",
       "    <tr>\n",
       "      <th>09/01/2012</th>\n",
       "      <th>MatchesPlayed</th>\n",
       "      <td>38.0</td>\n",
       "      <td>39</td>\n",
       "      <td>50.0</td>\n",
       "      <td>44.0</td>\n",
       "    </tr>\n",
       "    <tr>\n",
       "      <th>10/01/2012</th>\n",
       "      <th>MatchesPlayed</th>\n",
       "      <td>31.0</td>\n",
       "      <td>31</td>\n",
       "      <td>39.0</td>\n",
       "      <td>27.0</td>\n",
       "    </tr>\n",
       "    <tr>\n",
       "      <th>11/01/2012</th>\n",
       "      <th>MatchesPlayed</th>\n",
       "      <td>50.0</td>\n",
       "      <td>41</td>\n",
       "      <td>42.0</td>\n",
       "      <td>46.0</td>\n",
       "    </tr>\n",
       "    <tr>\n",
       "      <th>12/01/2012</th>\n",
       "      <th>MatchesPlayed</th>\n",
       "      <td>59.0</td>\n",
       "      <td>39</td>\n",
       "      <td>39.0</td>\n",
       "      <td>26.0</td>\n",
       "    </tr>\n",
       "    <tr>\n",
       "      <th>08/01/2012</th>\n",
       "      <th>GoalsScored</th>\n",
       "      <td>57.0</td>\n",
       "      <td>60</td>\n",
       "      <td>21.0</td>\n",
       "      <td>23.0</td>\n",
       "    </tr>\n",
       "    <tr>\n",
       "      <th>09/01/2012</th>\n",
       "      <th>GoalsScored</th>\n",
       "      <td>111.0</td>\n",
       "      <td>112</td>\n",
       "      <td>133.0</td>\n",
       "      <td>135.0</td>\n",
       "    </tr>\n",
       "    <tr>\n",
       "      <th>10/01/2012</th>\n",
       "      <th>GoalsScored</th>\n",
       "      <td>95.0</td>\n",
       "      <td>88</td>\n",
       "      <td>97.0</td>\n",
       "      <td>77.0</td>\n",
       "    </tr>\n",
       "    <tr>\n",
       "      <th>11/01/2012</th>\n",
       "      <th>GoalsScored</th>\n",
       "      <td>121.0</td>\n",
       "      <td>116</td>\n",
       "      <td>120.0</td>\n",
       "      <td>137.0</td>\n",
       "    </tr>\n",
       "    <tr>\n",
       "      <th>12/01/2012</th>\n",
       "      <th>GoalsScored</th>\n",
       "      <td>183.0</td>\n",
       "      <td>109</td>\n",
       "      <td>125.0</td>\n",
       "      <td>72.0</td>\n",
       "    </tr>\n",
       "  </tbody>\n",
       "</table>\n",
       "</div>"
      ],
      "text/plain": [
       "                            EPL  La Liga  Serie A  Bundesliga\n",
       "Month      Stat                                              \n",
       "08/01/2012 MatchesPlayed   20.0       20     10.0        10.0\n",
       "09/01/2012 MatchesPlayed   38.0       39     50.0        44.0\n",
       "10/01/2012 MatchesPlayed   31.0       31     39.0        27.0\n",
       "11/01/2012 MatchesPlayed   50.0       41     42.0        46.0\n",
       "12/01/2012 MatchesPlayed   59.0       39     39.0        26.0\n",
       "08/01/2012 GoalsScored     57.0       60     21.0        23.0\n",
       "09/01/2012 GoalsScored    111.0      112    133.0       135.0\n",
       "10/01/2012 GoalsScored     95.0       88     97.0        77.0\n",
       "11/01/2012 GoalsScored    121.0      116    120.0       137.0\n",
       "12/01/2012 GoalsScored    183.0      109    125.0        72.0"
      ]
     },
     "execution_count": 241,
     "metadata": {},
     "output_type": "execute_result"
    }
   ],
   "source": [
    "df2 = df.set_index(['Month','Stat'])\n",
    "year_group2 = df2.groupby(level = 1)\n",
    "year_group3 = df2.groupby(level = 'Stat') # same\n",
    "year_group2.head()\n",
    "year_group3.head()"
   ]
  },
  {
   "cell_type": "code",
   "execution_count": 265,
   "metadata": {
    "collapsed": true
   },
   "outputs": [
    {
     "name": "stdout",
     "output_type": "stream",
     "text": [
      "('01/01/2013', 'GoalsScored')\n",
      "                          EPL  La Liga  Serie A  Bundesliga\n",
      "Month      Stat                                            \n",
      "01/01/2013 GoalsScored  117.0      121    104.0        51.0\n",
      "('01/01/2013', 'MatchesPlayed')\n",
      "                           EPL  La Liga  Serie A  Bundesliga\n",
      "Month      Stat                                             \n",
      "01/01/2013 MatchesPlayed  42.0       40     40.0        18.0\n",
      "('02/01/2013', 'GoalsScored')\n",
      "                         EPL  La Liga  Serie A  Bundesliga\n",
      "Month      Stat                                           \n",
      "02/01/2013 GoalsScored  87.0      110    100.0       101.0\n",
      "('02/01/2013', 'MatchesPlayed')\n",
      "                           EPL  La Liga  Serie A  Bundesliga\n",
      "Month      Stat                                             \n",
      "02/01/2013 MatchesPlayed  30.0       40     40.0        36.0\n",
      "('03/01/2013', 'GoalsScored')\n",
      "                         EPL  La Liga  Serie A  Bundesliga\n",
      "Month      Stat                                           \n",
      "03/01/2013 GoalsScored  91.0      101     99.0       106.0\n",
      "('03/01/2013', 'MatchesPlayed')\n",
      "                           EPL  La Liga  Serie A  Bundesliga\n",
      "Month      Stat                                             \n",
      "03/01/2013 MatchesPlayed  35.0       38     39.0        36.0\n",
      "('04/01/2013', 'GoalsScored')\n",
      "                          EPL  La Liga  Serie A  Bundesliga\n",
      "Month      Stat                                            \n",
      "04/01/2013 GoalsScored  105.0      127    102.0       104.0\n",
      "('04/01/2013', 'MatchesPlayed')\n",
      "                           EPL  La Liga  Serie A  Bundesliga\n",
      "Month      Stat                                             \n",
      "04/01/2013 MatchesPlayed  42.0       42     41.0        36.0\n",
      "('05/01/2013', 'GoalsScored')\n",
      "                         EPL  La Liga  Serie A  Bundesliga\n",
      "Month      Stat                                           \n",
      "05/01/2013 GoalsScored  96.0      109    102.0        92.0\n",
      "('05/01/2013', 'MatchesPlayed')\n",
      "                           EPL  La Liga  Serie A  Bundesliga\n",
      "Month      Stat                                             \n",
      "05/01/2013 MatchesPlayed  33.0       40     40.0        27.0\n",
      "('06/01/2013', 'GoalsScored')\n",
      "                        EPL  La Liga  Serie A  Bundesliga\n",
      "Month      Stat                                          \n",
      "06/01/2013 GoalsScored  NaN       80      NaN         NaN\n",
      "('06/02/2013', 'MatchesPlayed')\n",
      "                          EPL  La Liga  Serie A  Bundesliga\n",
      "Month      Stat                                            \n",
      "06/02/2013 MatchesPlayed  NaN       10      NaN         NaN\n",
      "('08/01/2012', 'GoalsScored')\n",
      "                         EPL  La Liga  Serie A  Bundesliga\n",
      "Month      Stat                                           \n",
      "08/01/2012 GoalsScored  57.0       60     21.0        23.0\n",
      "('08/01/2012', 'MatchesPlayed')\n",
      "                           EPL  La Liga  Serie A  Bundesliga\n",
      "Month      Stat                                             \n",
      "08/01/2012 MatchesPlayed  20.0       20     10.0        10.0\n",
      "('09/01/2012', 'GoalsScored')\n",
      "                          EPL  La Liga  Serie A  Bundesliga\n",
      "Month      Stat                                            \n",
      "09/01/2012 GoalsScored  111.0      112    133.0       135.0\n",
      "('09/01/2012', 'MatchesPlayed')\n",
      "                           EPL  La Liga  Serie A  Bundesliga\n",
      "Month      Stat                                             \n",
      "09/01/2012 MatchesPlayed  38.0       39     50.0        44.0\n",
      "('10/01/2012', 'GoalsScored')\n",
      "                         EPL  La Liga  Serie A  Bundesliga\n",
      "Month      Stat                                           \n",
      "10/01/2012 GoalsScored  95.0       88     97.0        77.0\n",
      "('10/01/2012', 'MatchesPlayed')\n",
      "                           EPL  La Liga  Serie A  Bundesliga\n",
      "Month      Stat                                             \n",
      "10/01/2012 MatchesPlayed  31.0       31     39.0        27.0\n",
      "('11/01/2012', 'GoalsScored')\n",
      "                          EPL  La Liga  Serie A  Bundesliga\n",
      "Month      Stat                                            \n",
      "11/01/2012 GoalsScored  121.0      116    120.0       137.0\n",
      "('11/01/2012', 'MatchesPlayed')\n",
      "                           EPL  La Liga  Serie A  Bundesliga\n",
      "Month      Stat                                             \n",
      "11/01/2012 MatchesPlayed  50.0       41     42.0        46.0\n",
      "('12/01/2012', 'GoalsScored')\n",
      "                          EPL  La Liga  Serie A  Bundesliga\n",
      "Month      Stat                                            \n",
      "12/01/2012 GoalsScored  183.0      109    125.0        72.0\n",
      "('12/01/2012', 'MatchesPlayed')\n",
      "                           EPL  La Liga  Serie A  Bundesliga\n",
      "Month      Stat                                             \n",
      "12/01/2012 MatchesPlayed  59.0       39     39.0        26.0\n"
     ]
    }
   ],
   "source": [
    "# multi level grouping\n",
    "month_stat_group = df2.groupby(level = [0, 1])\n",
    "stat_group = df2.groupby(level = 1)\n",
    "\n",
    "for name, group in month_stat_group:\n",
    "    print(name) # tuple of indices\n",
    "    print(group) # data"
   ]
  },
  {
   "cell_type": "markdown",
   "metadata": {},
   "source": [
    "># 4.4 aggregation functions"
   ]
  },
  {
   "cell_type": "markdown",
   "metadata": {},
   "source": [
    "### .sum()"
   ]
  },
  {
   "cell_type": "code",
   "execution_count": 293,
   "metadata": {
    "scrolled": true
   },
   "outputs": [
    {
     "data": {
      "text/html": [
       "<div>\n",
       "<style>\n",
       "    .dataframe thead tr:only-child th {\n",
       "        text-align: right;\n",
       "    }\n",
       "\n",
       "    .dataframe thead th {\n",
       "        text-align: left;\n",
       "    }\n",
       "\n",
       "    .dataframe tbody tr th {\n",
       "        vertical-align: top;\n",
       "    }\n",
       "</style>\n",
       "<table border=\"1\" class=\"dataframe\">\n",
       "  <thead>\n",
       "    <tr style=\"text-align: right;\">\n",
       "      <th></th>\n",
       "      <th>EPL</th>\n",
       "      <th>La Liga</th>\n",
       "      <th>Serie A</th>\n",
       "      <th>Bundesliga</th>\n",
       "    </tr>\n",
       "    <tr>\n",
       "      <th>Stat</th>\n",
       "      <th></th>\n",
       "      <th></th>\n",
       "      <th></th>\n",
       "      <th></th>\n",
       "    </tr>\n",
       "  </thead>\n",
       "  <tbody>\n",
       "    <tr>\n",
       "      <th>GoalsScored</th>\n",
       "      <td>1063.00</td>\n",
       "      <td>1133</td>\n",
       "      <td>1003.00</td>\n",
       "      <td>898.00</td>\n",
       "    </tr>\n",
       "    <tr>\n",
       "      <th>MatchesPlayed</th>\n",
       "      <td>380.00</td>\n",
       "      <td>380</td>\n",
       "      <td>380.00</td>\n",
       "      <td>306.00</td>\n",
       "    </tr>\n",
       "  </tbody>\n",
       "</table>\n",
       "</div>"
      ],
      "text/plain": [
       "                  EPL  La Liga  Serie A  Bundesliga\n",
       "Stat                                               \n",
       "GoalsScored   1063.00     1133  1003.00      898.00\n",
       "MatchesPlayed  380.00      380   380.00      306.00"
      ]
     },
     "execution_count": 293,
     "metadata": {},
     "output_type": "execute_result"
    }
   ],
   "source": [
    "stat_group.sum()\n",
    "df_total = df2.sum(level = 'Stat') #same operation\n",
    "df_total"
   ]
  },
  {
   "cell_type": "markdown",
   "metadata": {},
   "source": [
    "### aggregate methods"
   ]
  },
  {
   "cell_type": "code",
   "execution_count": 306,
   "metadata": {},
   "outputs": [
    {
     "data": {
      "text/html": [
       "<div>\n",
       "<style>\n",
       "    .dataframe thead tr:only-child th {\n",
       "        text-align: right;\n",
       "    }\n",
       "\n",
       "    .dataframe thead th {\n",
       "        text-align: left;\n",
       "    }\n",
       "\n",
       "    .dataframe tbody tr th {\n",
       "        vertical-align: top;\n",
       "    }\n",
       "</style>\n",
       "<table border=\"1\" class=\"dataframe\">\n",
       "  <thead>\n",
       "    <tr>\n",
       "      <th></th>\n",
       "      <th colspan=\"3\" halign=\"left\">EPL</th>\n",
       "      <th colspan=\"3\" halign=\"left\">La Liga</th>\n",
       "      <th colspan=\"3\" halign=\"left\">Serie A</th>\n",
       "      <th colspan=\"3\" halign=\"left\">Bundesliga</th>\n",
       "    </tr>\n",
       "    <tr>\n",
       "      <th></th>\n",
       "      <th>sum</th>\n",
       "      <th>mean</th>\n",
       "      <th>size</th>\n",
       "      <th>sum</th>\n",
       "      <th>mean</th>\n",
       "      <th>size</th>\n",
       "      <th>sum</th>\n",
       "      <th>mean</th>\n",
       "      <th>size</th>\n",
       "      <th>sum</th>\n",
       "      <th>mean</th>\n",
       "      <th>size</th>\n",
       "    </tr>\n",
       "    <tr>\n",
       "      <th>Stat</th>\n",
       "      <th></th>\n",
       "      <th></th>\n",
       "      <th></th>\n",
       "      <th></th>\n",
       "      <th></th>\n",
       "      <th></th>\n",
       "      <th></th>\n",
       "      <th></th>\n",
       "      <th></th>\n",
       "      <th></th>\n",
       "      <th></th>\n",
       "      <th></th>\n",
       "    </tr>\n",
       "  </thead>\n",
       "  <tbody>\n",
       "    <tr>\n",
       "      <th>GoalsScored</th>\n",
       "      <td>1063.00</td>\n",
       "      <td>106.30</td>\n",
       "      <td>11.00</td>\n",
       "      <td>1133</td>\n",
       "      <td>103.00</td>\n",
       "      <td>11</td>\n",
       "      <td>1003.00</td>\n",
       "      <td>100.30</td>\n",
       "      <td>11.00</td>\n",
       "      <td>898.00</td>\n",
       "      <td>89.80</td>\n",
       "      <td>11.00</td>\n",
       "    </tr>\n",
       "    <tr>\n",
       "      <th>MatchesPlayed</th>\n",
       "      <td>380.00</td>\n",
       "      <td>38.00</td>\n",
       "      <td>11.00</td>\n",
       "      <td>380</td>\n",
       "      <td>34.55</td>\n",
       "      <td>11</td>\n",
       "      <td>380.00</td>\n",
       "      <td>38.00</td>\n",
       "      <td>11.00</td>\n",
       "      <td>306.00</td>\n",
       "      <td>30.60</td>\n",
       "      <td>11.00</td>\n",
       "    </tr>\n",
       "  </tbody>\n",
       "</table>\n",
       "</div>"
      ],
      "text/plain": [
       "                  EPL              La Liga             Serie A               \\\n",
       "                  sum   mean  size     sum   mean size     sum   mean  size   \n",
       "Stat                                                                          \n",
       "GoalsScored   1063.00 106.30 11.00    1133 103.00   11 1003.00 100.30 11.00   \n",
       "MatchesPlayed  380.00  38.00 11.00     380  34.55   11  380.00  38.00 11.00   \n",
       "\n",
       "              Bundesliga              \n",
       "                     sum  mean  size  \n",
       "Stat                                  \n",
       "GoalsScored       898.00 89.80 11.00  \n",
       "MatchesPlayed     306.00 30.60 11.00  "
      ]
     },
     "execution_count": 306,
     "metadata": {},
     "output_type": "execute_result"
    }
   ],
   "source": [
    "stat_group.sum()\n",
    "stat_group.aggregate(len)\n",
    "stat_group.aggregate(np.sum) # same as stat_group.sum()\n",
    "stat_group.aggregate([np.sum, np.mean, np.size])"
   ]
  },
  {
   "cell_type": "markdown",
   "metadata": {},
   "source": [
    "### practice - calculating \"goals / match\""
   ]
  },
  {
   "cell_type": "code",
   "execution_count": 294,
   "metadata": {
    "scrolled": true
   },
   "outputs": [
    {
     "data": {
      "text/html": [
       "<div>\n",
       "<style>\n",
       "    .dataframe thead tr:only-child th {\n",
       "        text-align: right;\n",
       "    }\n",
       "\n",
       "    .dataframe thead th {\n",
       "        text-align: left;\n",
       "    }\n",
       "\n",
       "    .dataframe tbody tr th {\n",
       "        vertical-align: top;\n",
       "    }\n",
       "</style>\n",
       "<table border=\"1\" class=\"dataframe\">\n",
       "  <thead>\n",
       "    <tr style=\"text-align: right;\">\n",
       "      <th></th>\n",
       "      <th>EPL</th>\n",
       "      <th>La Liga</th>\n",
       "      <th>Serie A</th>\n",
       "      <th>Bundesliga</th>\n",
       "    </tr>\n",
       "  </thead>\n",
       "  <tbody>\n",
       "    <tr>\n",
       "      <th>goals per game</th>\n",
       "      <td>2.80</td>\n",
       "      <td>2.98</td>\n",
       "      <td>2.64</td>\n",
       "      <td>2.93</td>\n",
       "    </tr>\n",
       "  </tbody>\n",
       "</table>\n",
       "</div>"
      ],
      "text/plain": [
       "                EPL  La Liga  Serie A  Bundesliga\n",
       "goals per game 2.80     2.98     2.64        2.93"
      ]
     },
     "execution_count": 294,
     "metadata": {},
     "output_type": "execute_result"
    }
   ],
   "source": [
    "goals_per_game_df = df_total.loc['GoalsScored'] / df_total.loc['MatchesPlayed']\n",
    "goals_per_game_df = pd.DataFrame(goals_per_game_df).T.rename(index = {0: 'goals per game'})\n",
    "goals_per_game_df"
   ]
  },
  {
   "cell_type": "code",
   "execution_count": 295,
   "metadata": {},
   "outputs": [
    {
     "data": {
      "text/html": [
       "<div>\n",
       "<style>\n",
       "    .dataframe thead tr:only-child th {\n",
       "        text-align: right;\n",
       "    }\n",
       "\n",
       "    .dataframe thead th {\n",
       "        text-align: left;\n",
       "    }\n",
       "\n",
       "    .dataframe tbody tr th {\n",
       "        vertical-align: top;\n",
       "    }\n",
       "</style>\n",
       "<table border=\"1\" class=\"dataframe\">\n",
       "  <thead>\n",
       "    <tr style=\"text-align: right;\">\n",
       "      <th></th>\n",
       "      <th>EPL</th>\n",
       "      <th>La Liga</th>\n",
       "      <th>Serie A</th>\n",
       "      <th>Bundesliga</th>\n",
       "    </tr>\n",
       "  </thead>\n",
       "  <tbody>\n",
       "    <tr>\n",
       "      <th>GoalsScored</th>\n",
       "      <td>1063.00</td>\n",
       "      <td>1133.00</td>\n",
       "      <td>1003.00</td>\n",
       "      <td>898.00</td>\n",
       "    </tr>\n",
       "    <tr>\n",
       "      <th>MatchesPlayed</th>\n",
       "      <td>380.00</td>\n",
       "      <td>380.00</td>\n",
       "      <td>380.00</td>\n",
       "      <td>306.00</td>\n",
       "    </tr>\n",
       "    <tr>\n",
       "      <th>goals per game</th>\n",
       "      <td>2.80</td>\n",
       "      <td>2.98</td>\n",
       "      <td>2.64</td>\n",
       "      <td>2.93</td>\n",
       "    </tr>\n",
       "  </tbody>\n",
       "</table>\n",
       "</div>"
      ],
      "text/plain": [
       "                   EPL  La Liga  Serie A  Bundesliga\n",
       "GoalsScored    1063.00  1133.00  1003.00      898.00\n",
       "MatchesPlayed   380.00   380.00   380.00      306.00\n",
       "goals per game    2.80     2.98     2.64        2.93"
      ]
     },
     "execution_count": 295,
     "metadata": {},
     "output_type": "execute_result"
    }
   ],
   "source": [
    "df_total = df_total.append(goals_per_game_df)\n",
    "pd.options.display.float_format='{:.2f}'.format\n",
    "\n",
    "df_total"
   ]
  },
  {
   "cell_type": "markdown",
   "metadata": {},
   "source": [
    "># 4.5. transform\n",
    "* group by $\\rightarrow$ manipulation $\\rightarrow$ merge"
   ]
  },
  {
   "cell_type": "code",
   "execution_count": 307,
   "metadata": {
    "collapsed": true
   },
   "outputs": [],
   "source": [
    "df = pd.read_excel(\"data/sales_transactions.xlsx\")"
   ]
  },
  {
   "cell_type": "code",
   "execution_count": 315,
   "metadata": {
    "scrolled": true
   },
   "outputs": [
    {
     "data": {
      "text/html": [
       "<div>\n",
       "<style>\n",
       "    .dataframe thead tr:only-child th {\n",
       "        text-align: right;\n",
       "    }\n",
       "\n",
       "    .dataframe thead th {\n",
       "        text-align: left;\n",
       "    }\n",
       "\n",
       "    .dataframe tbody tr th {\n",
       "        vertical-align: top;\n",
       "    }\n",
       "</style>\n",
       "<table border=\"1\" class=\"dataframe\">\n",
       "  <thead>\n",
       "    <tr style=\"text-align: right;\">\n",
       "      <th></th>\n",
       "      <th>account</th>\n",
       "      <th>name</th>\n",
       "      <th>order</th>\n",
       "      <th>sku</th>\n",
       "      <th>quantity</th>\n",
       "      <th>unit price</th>\n",
       "      <th>ext price</th>\n",
       "    </tr>\n",
       "  </thead>\n",
       "  <tbody>\n",
       "    <tr>\n",
       "      <th>0</th>\n",
       "      <td>383080</td>\n",
       "      <td>Will LLC</td>\n",
       "      <td>10001</td>\n",
       "      <td>B1-20000</td>\n",
       "      <td>7</td>\n",
       "      <td>33.69</td>\n",
       "      <td>235.83</td>\n",
       "    </tr>\n",
       "    <tr>\n",
       "      <th>1</th>\n",
       "      <td>383080</td>\n",
       "      <td>Will LLC</td>\n",
       "      <td>10001</td>\n",
       "      <td>S1-27722</td>\n",
       "      <td>11</td>\n",
       "      <td>21.12</td>\n",
       "      <td>232.32</td>\n",
       "    </tr>\n",
       "    <tr>\n",
       "      <th>2</th>\n",
       "      <td>383080</td>\n",
       "      <td>Will LLC</td>\n",
       "      <td>10001</td>\n",
       "      <td>B1-86481</td>\n",
       "      <td>3</td>\n",
       "      <td>35.99</td>\n",
       "      <td>107.97</td>\n",
       "    </tr>\n",
       "    <tr>\n",
       "      <th>3</th>\n",
       "      <td>412290</td>\n",
       "      <td>Jerde-Hilpert</td>\n",
       "      <td>10005</td>\n",
       "      <td>S1-06532</td>\n",
       "      <td>48</td>\n",
       "      <td>55.82</td>\n",
       "      <td>2679.36</td>\n",
       "    </tr>\n",
       "    <tr>\n",
       "      <th>4</th>\n",
       "      <td>412290</td>\n",
       "      <td>Jerde-Hilpert</td>\n",
       "      <td>10005</td>\n",
       "      <td>S1-82801</td>\n",
       "      <td>21</td>\n",
       "      <td>13.62</td>\n",
       "      <td>286.02</td>\n",
       "    </tr>\n",
       "  </tbody>\n",
       "</table>\n",
       "</div>"
      ],
      "text/plain": [
       "   account           name  order       sku  quantity  unit price  ext price\n",
       "0   383080       Will LLC  10001  B1-20000         7       33.69     235.83\n",
       "1   383080       Will LLC  10001  S1-27722        11       21.12     232.32\n",
       "2   383080       Will LLC  10001  B1-86481         3       35.99     107.97\n",
       "3   412290  Jerde-Hilpert  10005  S1-06532        48       55.82    2679.36\n",
       "4   412290  Jerde-Hilpert  10005  S1-82801        21       13.62     286.02"
      ]
     },
     "execution_count": 315,
     "metadata": {},
     "output_type": "execute_result"
    }
   ],
   "source": [
    "df.head()"
   ]
  },
  {
   "cell_type": "code",
   "execution_count": 311,
   "metadata": {
    "scrolled": true
   },
   "outputs": [
    {
     "data": {
      "text/plain": [
       "order\n",
       "10001    576.12\n",
       "10005   8185.49\n",
       "10006   3724.49\n",
       "Name: ext price, dtype: float64"
      ]
     },
     "execution_count": 311,
     "metadata": {},
     "output_type": "execute_result"
    }
   ],
   "source": [
    "df.groupby('order')[\"ext price\"].sum()"
   ]
  },
  {
   "cell_type": "markdown",
   "metadata": {},
   "source": [
    "### now, let's add this information to the original DF"
   ]
  },
  {
   "cell_type": "code",
   "execution_count": 312,
   "metadata": {},
   "outputs": [
    {
     "data": {
      "text/html": [
       "<div>\n",
       "<style>\n",
       "    .dataframe thead tr:only-child th {\n",
       "        text-align: right;\n",
       "    }\n",
       "\n",
       "    .dataframe thead th {\n",
       "        text-align: left;\n",
       "    }\n",
       "\n",
       "    .dataframe tbody tr th {\n",
       "        vertical-align: top;\n",
       "    }\n",
       "</style>\n",
       "<table border=\"1\" class=\"dataframe\">\n",
       "  <thead>\n",
       "    <tr style=\"text-align: right;\">\n",
       "      <th></th>\n",
       "      <th>order</th>\n",
       "      <th>total</th>\n",
       "    </tr>\n",
       "  </thead>\n",
       "  <tbody>\n",
       "    <tr>\n",
       "      <th>0</th>\n",
       "      <td>10001</td>\n",
       "      <td>576.12</td>\n",
       "    </tr>\n",
       "    <tr>\n",
       "      <th>1</th>\n",
       "      <td>10005</td>\n",
       "      <td>8185.49</td>\n",
       "    </tr>\n",
       "    <tr>\n",
       "      <th>2</th>\n",
       "      <td>10006</td>\n",
       "      <td>3724.49</td>\n",
       "    </tr>\n",
       "  </tbody>\n",
       "</table>\n",
       "</div>"
      ],
      "text/plain": [
       "   order   total\n",
       "0  10001  576.12\n",
       "1  10005 8185.49\n",
       "2  10006 3724.49"
      ]
     },
     "execution_count": 312,
     "metadata": {},
     "output_type": "execute_result"
    }
   ],
   "source": [
    "order_total = df.groupby('order')[\"ext price\"].sum().rename(\"total\").reset_index()\n",
    "order_total"
   ]
  },
  {
   "cell_type": "code",
   "execution_count": 316,
   "metadata": {},
   "outputs": [
    {
     "data": {
      "text/html": [
       "<div>\n",
       "<style>\n",
       "    .dataframe thead tr:only-child th {\n",
       "        text-align: right;\n",
       "    }\n",
       "\n",
       "    .dataframe thead th {\n",
       "        text-align: left;\n",
       "    }\n",
       "\n",
       "    .dataframe tbody tr th {\n",
       "        vertical-align: top;\n",
       "    }\n",
       "</style>\n",
       "<table border=\"1\" class=\"dataframe\">\n",
       "  <thead>\n",
       "    <tr style=\"text-align: right;\">\n",
       "      <th></th>\n",
       "      <th>account</th>\n",
       "      <th>name</th>\n",
       "      <th>order</th>\n",
       "      <th>sku</th>\n",
       "      <th>quantity</th>\n",
       "      <th>unit price</th>\n",
       "      <th>ext price</th>\n",
       "      <th>total</th>\n",
       "      <th>portion</th>\n",
       "    </tr>\n",
       "  </thead>\n",
       "  <tbody>\n",
       "    <tr>\n",
       "      <th>0</th>\n",
       "      <td>383080</td>\n",
       "      <td>Will LLC</td>\n",
       "      <td>10001</td>\n",
       "      <td>B1-20000</td>\n",
       "      <td>7</td>\n",
       "      <td>33.69</td>\n",
       "      <td>235.83</td>\n",
       "      <td>576.12</td>\n",
       "      <td>0.41</td>\n",
       "    </tr>\n",
       "    <tr>\n",
       "      <th>1</th>\n",
       "      <td>383080</td>\n",
       "      <td>Will LLC</td>\n",
       "      <td>10001</td>\n",
       "      <td>S1-27722</td>\n",
       "      <td>11</td>\n",
       "      <td>21.12</td>\n",
       "      <td>232.32</td>\n",
       "      <td>576.12</td>\n",
       "      <td>0.40</td>\n",
       "    </tr>\n",
       "    <tr>\n",
       "      <th>2</th>\n",
       "      <td>383080</td>\n",
       "      <td>Will LLC</td>\n",
       "      <td>10001</td>\n",
       "      <td>B1-86481</td>\n",
       "      <td>3</td>\n",
       "      <td>35.99</td>\n",
       "      <td>107.97</td>\n",
       "      <td>576.12</td>\n",
       "      <td>0.19</td>\n",
       "    </tr>\n",
       "    <tr>\n",
       "      <th>3</th>\n",
       "      <td>412290</td>\n",
       "      <td>Jerde-Hilpert</td>\n",
       "      <td>10005</td>\n",
       "      <td>S1-06532</td>\n",
       "      <td>48</td>\n",
       "      <td>55.82</td>\n",
       "      <td>2679.36</td>\n",
       "      <td>8185.49</td>\n",
       "      <td>0.33</td>\n",
       "    </tr>\n",
       "    <tr>\n",
       "      <th>4</th>\n",
       "      <td>412290</td>\n",
       "      <td>Jerde-Hilpert</td>\n",
       "      <td>10005</td>\n",
       "      <td>S1-82801</td>\n",
       "      <td>21</td>\n",
       "      <td>13.62</td>\n",
       "      <td>286.02</td>\n",
       "      <td>8185.49</td>\n",
       "      <td>0.03</td>\n",
       "    </tr>\n",
       "  </tbody>\n",
       "</table>\n",
       "</div>"
      ],
      "text/plain": [
       "   account           name  order       sku  quantity  unit price  ext price  \\\n",
       "0   383080       Will LLC  10001  B1-20000         7       33.69     235.83   \n",
       "1   383080       Will LLC  10001  S1-27722        11       21.12     232.32   \n",
       "2   383080       Will LLC  10001  B1-86481         3       35.99     107.97   \n",
       "3   412290  Jerde-Hilpert  10005  S1-06532        48       55.82    2679.36   \n",
       "4   412290  Jerde-Hilpert  10005  S1-82801        21       13.62     286.02   \n",
       "\n",
       "    total  portion  \n",
       "0  576.12     0.41  \n",
       "1  576.12     0.40  \n",
       "2  576.12     0.19  \n",
       "3 8185.49     0.33  \n",
       "4 8185.49     0.03  "
      ]
     },
     "execution_count": 316,
     "metadata": {},
     "output_type": "execute_result"
    }
   ],
   "source": [
    "result = df.merge(order_total, on='order')\n",
    "result[\"portion\"] = result[\"ext price\"] / result[\"total\"]\n",
    "result.head()"
   ]
  },
  {
   "cell_type": "markdown",
   "metadata": {},
   "source": [
    "### same operation with \"transform\""
   ]
  },
  {
   "cell_type": "code",
   "execution_count": 318,
   "metadata": {},
   "outputs": [
    {
     "data": {
      "text/html": [
       "<div>\n",
       "<style>\n",
       "    .dataframe thead tr:only-child th {\n",
       "        text-align: right;\n",
       "    }\n",
       "\n",
       "    .dataframe thead th {\n",
       "        text-align: left;\n",
       "    }\n",
       "\n",
       "    .dataframe tbody tr th {\n",
       "        vertical-align: top;\n",
       "    }\n",
       "</style>\n",
       "<table border=\"1\" class=\"dataframe\">\n",
       "  <thead>\n",
       "    <tr style=\"text-align: right;\">\n",
       "      <th></th>\n",
       "      <th>account</th>\n",
       "      <th>name</th>\n",
       "      <th>order</th>\n",
       "      <th>sku</th>\n",
       "      <th>quantity</th>\n",
       "      <th>unit price</th>\n",
       "      <th>ext price</th>\n",
       "      <th>total</th>\n",
       "      <th>portion</th>\n",
       "    </tr>\n",
       "  </thead>\n",
       "  <tbody>\n",
       "    <tr>\n",
       "      <th>0</th>\n",
       "      <td>383080</td>\n",
       "      <td>Will LLC</td>\n",
       "      <td>10001</td>\n",
       "      <td>B1-20000</td>\n",
       "      <td>7</td>\n",
       "      <td>33.69</td>\n",
       "      <td>235.83</td>\n",
       "      <td>576.12</td>\n",
       "      <td>0.41</td>\n",
       "    </tr>\n",
       "    <tr>\n",
       "      <th>1</th>\n",
       "      <td>383080</td>\n",
       "      <td>Will LLC</td>\n",
       "      <td>10001</td>\n",
       "      <td>S1-27722</td>\n",
       "      <td>11</td>\n",
       "      <td>21.12</td>\n",
       "      <td>232.32</td>\n",
       "      <td>576.12</td>\n",
       "      <td>0.40</td>\n",
       "    </tr>\n",
       "    <tr>\n",
       "      <th>2</th>\n",
       "      <td>383080</td>\n",
       "      <td>Will LLC</td>\n",
       "      <td>10001</td>\n",
       "      <td>B1-86481</td>\n",
       "      <td>3</td>\n",
       "      <td>35.99</td>\n",
       "      <td>107.97</td>\n",
       "      <td>576.12</td>\n",
       "      <td>0.19</td>\n",
       "    </tr>\n",
       "    <tr>\n",
       "      <th>3</th>\n",
       "      <td>412290</td>\n",
       "      <td>Jerde-Hilpert</td>\n",
       "      <td>10005</td>\n",
       "      <td>S1-06532</td>\n",
       "      <td>48</td>\n",
       "      <td>55.82</td>\n",
       "      <td>2679.36</td>\n",
       "      <td>8185.49</td>\n",
       "      <td>0.33</td>\n",
       "    </tr>\n",
       "    <tr>\n",
       "      <th>4</th>\n",
       "      <td>412290</td>\n",
       "      <td>Jerde-Hilpert</td>\n",
       "      <td>10005</td>\n",
       "      <td>S1-82801</td>\n",
       "      <td>21</td>\n",
       "      <td>13.62</td>\n",
       "      <td>286.02</td>\n",
       "      <td>8185.49</td>\n",
       "      <td>0.03</td>\n",
       "    </tr>\n",
       "  </tbody>\n",
       "</table>\n",
       "</div>"
      ],
      "text/plain": [
       "   account           name  order       sku  quantity  unit price  ext price  \\\n",
       "0   383080       Will LLC  10001  B1-20000         7       33.69     235.83   \n",
       "1   383080       Will LLC  10001  S1-27722        11       21.12     232.32   \n",
       "2   383080       Will LLC  10001  B1-86481         3       35.99     107.97   \n",
       "3   412290  Jerde-Hilpert  10005  S1-06532        48       55.82    2679.36   \n",
       "4   412290  Jerde-Hilpert  10005  S1-82801        21       13.62     286.02   \n",
       "\n",
       "    total  portion  \n",
       "0  576.12     0.41  \n",
       "1  576.12     0.40  \n",
       "2  576.12     0.19  \n",
       "3 8185.49     0.33  \n",
       "4 8185.49     0.03  "
      ]
     },
     "execution_count": 318,
     "metadata": {},
     "output_type": "execute_result"
    }
   ],
   "source": [
    "df['total'] = df.groupby('order')[\"ext price\"].transform(np.sum)\n",
    "df[\"portion\"] = df[\"ext price\"] / df[\"total\"]\n",
    "df.head()"
   ]
  },
  {
   "cell_type": "markdown",
   "metadata": {},
   "source": [
    "># 4.6. pivot & pivot_table\n",
    "* dataframe의 형태 변경 (index, column, data를 명시)"
   ]
  },
  {
   "cell_type": "markdown",
   "metadata": {},
   "source": [
    "### original DF"
   ]
  },
  {
   "cell_type": "code",
   "execution_count": 322,
   "metadata": {},
   "outputs": [
    {
     "data": {
      "text/html": [
       "<div>\n",
       "<style>\n",
       "    .dataframe thead tr:only-child th {\n",
       "        text-align: right;\n",
       "    }\n",
       "\n",
       "    .dataframe thead th {\n",
       "        text-align: left;\n",
       "    }\n",
       "\n",
       "    .dataframe tbody tr th {\n",
       "        vertical-align: top;\n",
       "    }\n",
       "</style>\n",
       "<table border=\"1\" class=\"dataframe\">\n",
       "  <thead>\n",
       "    <tr style=\"text-align: right;\">\n",
       "      <th></th>\n",
       "      <th>observation</th>\n",
       "      <th>weight</th>\n",
       "      <th>group</th>\n",
       "    </tr>\n",
       "  </thead>\n",
       "  <tbody>\n",
       "    <tr>\n",
       "      <th>0</th>\n",
       "      <td>1</td>\n",
       "      <td>4.17</td>\n",
       "      <td>ctrl</td>\n",
       "    </tr>\n",
       "    <tr>\n",
       "      <th>1</th>\n",
       "      <td>2</td>\n",
       "      <td>5.58</td>\n",
       "      <td>ctrl</td>\n",
       "    </tr>\n",
       "    <tr>\n",
       "      <th>2</th>\n",
       "      <td>3</td>\n",
       "      <td>5.18</td>\n",
       "      <td>ctrl</td>\n",
       "    </tr>\n",
       "    <tr>\n",
       "      <th>3</th>\n",
       "      <td>4</td>\n",
       "      <td>6.11</td>\n",
       "      <td>ctrl</td>\n",
       "    </tr>\n",
       "    <tr>\n",
       "      <th>4</th>\n",
       "      <td>5</td>\n",
       "      <td>4.50</td>\n",
       "      <td>ctrl</td>\n",
       "    </tr>\n",
       "    <tr>\n",
       "      <th>5</th>\n",
       "      <td>6</td>\n",
       "      <td>4.61</td>\n",
       "      <td>ctrl</td>\n",
       "    </tr>\n",
       "    <tr>\n",
       "      <th>6</th>\n",
       "      <td>7</td>\n",
       "      <td>5.17</td>\n",
       "      <td>ctrl</td>\n",
       "    </tr>\n",
       "    <tr>\n",
       "      <th>7</th>\n",
       "      <td>8</td>\n",
       "      <td>4.53</td>\n",
       "      <td>ctrl</td>\n",
       "    </tr>\n",
       "    <tr>\n",
       "      <th>8</th>\n",
       "      <td>9</td>\n",
       "      <td>5.33</td>\n",
       "      <td>ctrl</td>\n",
       "    </tr>\n",
       "    <tr>\n",
       "      <th>9</th>\n",
       "      <td>10</td>\n",
       "      <td>5.14</td>\n",
       "      <td>ctrl</td>\n",
       "    </tr>\n",
       "  </tbody>\n",
       "</table>\n",
       "</div>"
      ],
      "text/plain": [
       "   observation  weight group\n",
       "0            1    4.17  ctrl\n",
       "1            2    5.58  ctrl\n",
       "2            3    5.18  ctrl\n",
       "3            4    6.11  ctrl\n",
       "4            5    4.50  ctrl\n",
       "5            6    4.61  ctrl\n",
       "6            7    5.17  ctrl\n",
       "7            8    4.53  ctrl\n",
       "8            9    5.33  ctrl\n",
       "9           10    5.14  ctrl"
      ]
     },
     "execution_count": 322,
     "metadata": {},
     "output_type": "execute_result"
    }
   ],
   "source": [
    "plant_df = pd.read_csv('data/PlantGrowth.csv')\n",
    "plant_df.head(10)"
   ]
  },
  {
   "cell_type": "markdown",
   "metadata": {},
   "source": [
    "### DF reshaped with pivot"
   ]
  },
  {
   "cell_type": "code",
   "execution_count": 326,
   "metadata": {
    "scrolled": true
   },
   "outputs": [
    {
     "data": {
      "text/html": [
       "<div>\n",
       "<style>\n",
       "    .dataframe thead tr:only-child th {\n",
       "        text-align: right;\n",
       "    }\n",
       "\n",
       "    .dataframe thead th {\n",
       "        text-align: left;\n",
       "    }\n",
       "\n",
       "    .dataframe tbody tr th {\n",
       "        vertical-align: top;\n",
       "    }\n",
       "</style>\n",
       "<table border=\"1\" class=\"dataframe\">\n",
       "  <thead>\n",
       "    <tr style=\"text-align: right;\">\n",
       "      <th>group</th>\n",
       "      <th>ctrl</th>\n",
       "      <th>trt1</th>\n",
       "      <th>trt2</th>\n",
       "    </tr>\n",
       "    <tr>\n",
       "      <th>observation</th>\n",
       "      <th></th>\n",
       "      <th></th>\n",
       "      <th></th>\n",
       "    </tr>\n",
       "  </thead>\n",
       "  <tbody>\n",
       "    <tr>\n",
       "      <th>1</th>\n",
       "      <td>4.17</td>\n",
       "      <td>4.81</td>\n",
       "      <td>6.31</td>\n",
       "    </tr>\n",
       "    <tr>\n",
       "      <th>2</th>\n",
       "      <td>5.58</td>\n",
       "      <td>4.17</td>\n",
       "      <td>5.12</td>\n",
       "    </tr>\n",
       "    <tr>\n",
       "      <th>3</th>\n",
       "      <td>5.18</td>\n",
       "      <td>4.41</td>\n",
       "      <td>5.54</td>\n",
       "    </tr>\n",
       "    <tr>\n",
       "      <th>4</th>\n",
       "      <td>6.11</td>\n",
       "      <td>3.59</td>\n",
       "      <td>5.50</td>\n",
       "    </tr>\n",
       "    <tr>\n",
       "      <th>5</th>\n",
       "      <td>4.50</td>\n",
       "      <td>5.87</td>\n",
       "      <td>5.37</td>\n",
       "    </tr>\n",
       "    <tr>\n",
       "      <th>6</th>\n",
       "      <td>4.61</td>\n",
       "      <td>3.83</td>\n",
       "      <td>5.29</td>\n",
       "    </tr>\n",
       "    <tr>\n",
       "      <th>7</th>\n",
       "      <td>5.17</td>\n",
       "      <td>6.03</td>\n",
       "      <td>4.92</td>\n",
       "    </tr>\n",
       "    <tr>\n",
       "      <th>8</th>\n",
       "      <td>4.53</td>\n",
       "      <td>4.89</td>\n",
       "      <td>6.15</td>\n",
       "    </tr>\n",
       "    <tr>\n",
       "      <th>9</th>\n",
       "      <td>5.33</td>\n",
       "      <td>4.32</td>\n",
       "      <td>5.80</td>\n",
       "    </tr>\n",
       "    <tr>\n",
       "      <th>10</th>\n",
       "      <td>5.14</td>\n",
       "      <td>4.69</td>\n",
       "      <td>5.26</td>\n",
       "    </tr>\n",
       "  </tbody>\n",
       "</table>\n",
       "</div>"
      ],
      "text/plain": [
       "group        ctrl  trt1  trt2\n",
       "observation                  \n",
       "1            4.17  4.81  6.31\n",
       "2            5.58  4.17  5.12\n",
       "3            5.18  4.41  5.54\n",
       "4            6.11  3.59  5.50\n",
       "5            4.50  5.87  5.37\n",
       "6            4.61  3.83  5.29\n",
       "7            5.17  6.03  4.92\n",
       "8            4.53  4.89  6.15\n",
       "9            5.33  4.32  5.80\n",
       "10           5.14  4.69  5.26"
      ]
     },
     "execution_count": 326,
     "metadata": {},
     "output_type": "execute_result"
    }
   ],
   "source": [
    "plant_df.pivot(index = 'observation', columns = 'group', values = 'weight')"
   ]
  },
  {
   "cell_type": "markdown",
   "metadata": {},
   "source": [
    "### DF reshaped with pivot_table"
   ]
  },
  {
   "cell_type": "code",
   "execution_count": 323,
   "metadata": {},
   "outputs": [
    {
     "data": {
      "text/html": [
       "<div>\n",
       "<style>\n",
       "    .dataframe thead tr:only-child th {\n",
       "        text-align: right;\n",
       "    }\n",
       "\n",
       "    .dataframe thead th {\n",
       "        text-align: left;\n",
       "    }\n",
       "\n",
       "    .dataframe tbody tr th {\n",
       "        vertical-align: top;\n",
       "    }\n",
       "</style>\n",
       "<table border=\"1\" class=\"dataframe\">\n",
       "  <thead>\n",
       "    <tr style=\"text-align: right;\">\n",
       "      <th>group</th>\n",
       "      <th>ctrl</th>\n",
       "      <th>trt1</th>\n",
       "      <th>trt2</th>\n",
       "    </tr>\n",
       "    <tr>\n",
       "      <th>observation</th>\n",
       "      <th></th>\n",
       "      <th></th>\n",
       "      <th></th>\n",
       "    </tr>\n",
       "  </thead>\n",
       "  <tbody>\n",
       "    <tr>\n",
       "      <th>1</th>\n",
       "      <td>4.17</td>\n",
       "      <td>4.81</td>\n",
       "      <td>6.31</td>\n",
       "    </tr>\n",
       "    <tr>\n",
       "      <th>2</th>\n",
       "      <td>5.58</td>\n",
       "      <td>4.17</td>\n",
       "      <td>5.12</td>\n",
       "    </tr>\n",
       "    <tr>\n",
       "      <th>3</th>\n",
       "      <td>5.18</td>\n",
       "      <td>4.41</td>\n",
       "      <td>5.54</td>\n",
       "    </tr>\n",
       "    <tr>\n",
       "      <th>4</th>\n",
       "      <td>6.11</td>\n",
       "      <td>3.59</td>\n",
       "      <td>5.50</td>\n",
       "    </tr>\n",
       "    <tr>\n",
       "      <th>5</th>\n",
       "      <td>4.50</td>\n",
       "      <td>5.87</td>\n",
       "      <td>5.37</td>\n",
       "    </tr>\n",
       "    <tr>\n",
       "      <th>6</th>\n",
       "      <td>4.61</td>\n",
       "      <td>3.83</td>\n",
       "      <td>5.29</td>\n",
       "    </tr>\n",
       "    <tr>\n",
       "      <th>7</th>\n",
       "      <td>5.17</td>\n",
       "      <td>6.03</td>\n",
       "      <td>4.92</td>\n",
       "    </tr>\n",
       "    <tr>\n",
       "      <th>8</th>\n",
       "      <td>4.53</td>\n",
       "      <td>4.89</td>\n",
       "      <td>6.15</td>\n",
       "    </tr>\n",
       "    <tr>\n",
       "      <th>9</th>\n",
       "      <td>5.33</td>\n",
       "      <td>4.32</td>\n",
       "      <td>5.80</td>\n",
       "    </tr>\n",
       "    <tr>\n",
       "      <th>10</th>\n",
       "      <td>5.14</td>\n",
       "      <td>4.69</td>\n",
       "      <td>5.26</td>\n",
       "    </tr>\n",
       "  </tbody>\n",
       "</table>\n",
       "</div>"
      ],
      "text/plain": [
       "group        ctrl  trt1  trt2\n",
       "observation                  \n",
       "1            4.17  4.81  6.31\n",
       "2            5.58  4.17  5.12\n",
       "3            5.18  4.41  5.54\n",
       "4            6.11  3.59  5.50\n",
       "5            4.50  5.87  5.37\n",
       "6            4.61  3.83  5.29\n",
       "7            5.17  6.03  4.92\n",
       "8            4.53  4.89  6.15\n",
       "9            5.33  4.32  5.80\n",
       "10           5.14  4.69  5.26"
      ]
     },
     "execution_count": 323,
     "metadata": {},
     "output_type": "execute_result"
    }
   ],
   "source": [
    "pd.pivot_table(plant_df, values = 'weight', index = 'observation', columns='group')"
   ]
  },
  {
   "cell_type": "code",
   "execution_count": 324,
   "metadata": {},
   "outputs": [
    {
     "data": {
      "text/html": [
       "<div>\n",
       "<style>\n",
       "    .dataframe thead tr:only-child th {\n",
       "        text-align: right;\n",
       "    }\n",
       "\n",
       "    .dataframe thead th {\n",
       "        text-align: left;\n",
       "    }\n",
       "\n",
       "    .dataframe tbody tr th {\n",
       "        vertical-align: top;\n",
       "    }\n",
       "</style>\n",
       "<table border=\"1\" class=\"dataframe\">\n",
       "  <thead>\n",
       "    <tr style=\"text-align: right;\">\n",
       "      <th>group</th>\n",
       "      <th>ctrl</th>\n",
       "      <th>trt1</th>\n",
       "      <th>trt2</th>\n",
       "    </tr>\n",
       "  </thead>\n",
       "  <tbody>\n",
       "    <tr>\n",
       "      <th>weight</th>\n",
       "      <td>5.03</td>\n",
       "      <td>4.66</td>\n",
       "      <td>5.53</td>\n",
       "    </tr>\n",
       "  </tbody>\n",
       "</table>\n",
       "</div>"
      ],
      "text/plain": [
       "group   ctrl  trt1  trt2\n",
       "weight  5.03  4.66  5.53"
      ]
     },
     "execution_count": 324,
     "metadata": {},
     "output_type": "execute_result"
    }
   ],
   "source": [
    "pd.pivot_table(plant_df, values = 'weight', columns='group')"
   ]
  },
  {
   "cell_type": "code",
   "execution_count": 327,
   "metadata": {},
   "outputs": [
    {
     "data": {
      "text/html": [
       "<div>\n",
       "<style>\n",
       "    .dataframe thead tr:only-child th {\n",
       "        text-align: right;\n",
       "    }\n",
       "\n",
       "    .dataframe thead th {\n",
       "        text-align: left;\n",
       "    }\n",
       "\n",
       "    .dataframe tbody tr th {\n",
       "        vertical-align: top;\n",
       "    }\n",
       "</style>\n",
       "<table border=\"1\" class=\"dataframe\">\n",
       "  <thead>\n",
       "    <tr style=\"text-align: right;\">\n",
       "      <th>observation</th>\n",
       "      <th>1</th>\n",
       "      <th>2</th>\n",
       "      <th>3</th>\n",
       "      <th>4</th>\n",
       "      <th>5</th>\n",
       "      <th>6</th>\n",
       "      <th>7</th>\n",
       "      <th>8</th>\n",
       "      <th>9</th>\n",
       "      <th>10</th>\n",
       "    </tr>\n",
       "  </thead>\n",
       "  <tbody>\n",
       "    <tr>\n",
       "      <th>weight</th>\n",
       "      <td>5.10</td>\n",
       "      <td>4.96</td>\n",
       "      <td>5.04</td>\n",
       "      <td>5.07</td>\n",
       "      <td>5.25</td>\n",
       "      <td>4.58</td>\n",
       "      <td>5.37</td>\n",
       "      <td>5.19</td>\n",
       "      <td>5.15</td>\n",
       "      <td>5.03</td>\n",
       "    </tr>\n",
       "  </tbody>\n",
       "</table>\n",
       "</div>"
      ],
      "text/plain": [
       "observation   1    2    3    4    5    6    7    8    9    10\n",
       "weight      5.10 4.96 5.04 5.07 5.25 4.58 5.37 5.19 5.15 5.03"
      ]
     },
     "execution_count": 327,
     "metadata": {},
     "output_type": "execute_result"
    }
   ],
   "source": [
    "pd.pivot_table(plant_df, values = 'weight', columns='observation')"
   ]
  },
  {
   "cell_type": "markdown",
   "metadata": {},
   "source": [
    "### pivot_table uses aggregate method when needed"
   ]
  },
  {
   "cell_type": "code",
   "execution_count": 338,
   "metadata": {
    "scrolled": true
   },
   "outputs": [
    {
     "data": {
      "text/html": [
       "<div>\n",
       "<style>\n",
       "    .dataframe thead tr:only-child th {\n",
       "        text-align: right;\n",
       "    }\n",
       "\n",
       "    .dataframe thead th {\n",
       "        text-align: left;\n",
       "    }\n",
       "\n",
       "    .dataframe tbody tr th {\n",
       "        vertical-align: top;\n",
       "    }\n",
       "</style>\n",
       "<table border=\"1\" class=\"dataframe\">\n",
       "  <thead>\n",
       "    <tr style=\"text-align: right;\">\n",
       "      <th></th>\n",
       "      <th>Item</th>\n",
       "      <th>CType</th>\n",
       "      <th>US</th>\n",
       "    </tr>\n",
       "  </thead>\n",
       "  <tbody>\n",
       "    <tr>\n",
       "      <th>0</th>\n",
       "      <td>Item0</td>\n",
       "      <td>Gold</td>\n",
       "      <td>1</td>\n",
       "    </tr>\n",
       "    <tr>\n",
       "      <th>1</th>\n",
       "      <td>Item0</td>\n",
       "      <td>Bronze</td>\n",
       "      <td>2</td>\n",
       "    </tr>\n",
       "    <tr>\n",
       "      <th>2</th>\n",
       "      <td>Item0</td>\n",
       "      <td>Gold</td>\n",
       "      <td>3</td>\n",
       "    </tr>\n",
       "    <tr>\n",
       "      <th>3</th>\n",
       "      <td>Item1</td>\n",
       "      <td>Silver</td>\n",
       "      <td>4</td>\n",
       "    </tr>\n",
       "  </tbody>\n",
       "</table>\n",
       "</div>"
      ],
      "text/plain": [
       "    Item   CType  US\n",
       "0  Item0    Gold   1\n",
       "1  Item0  Bronze   2\n",
       "2  Item0    Gold   3\n",
       "3  Item1  Silver   4"
      ]
     },
     "execution_count": 338,
     "metadata": {},
     "output_type": "execute_result"
    }
   ],
   "source": [
    "table = OrderedDict(((\"Item\", ['Item0', 'Item0', 'Item0', 'Item1']), ('CType',['Gold', 'Bronze', 'Gold', 'Silver']), ('US',  [1, 2, 3, 4])))\n",
    "df = pd.DataFrame(table)\n",
    "df"
   ]
  },
  {
   "cell_type": "code",
   "execution_count": 337,
   "metadata": {
    "scrolled": true
   },
   "outputs": [
    {
     "data": {
      "text/html": [
       "<div>\n",
       "<style>\n",
       "    .dataframe thead tr:only-child th {\n",
       "        text-align: right;\n",
       "    }\n",
       "\n",
       "    .dataframe thead th {\n",
       "        text-align: left;\n",
       "    }\n",
       "\n",
       "    .dataframe tbody tr th {\n",
       "        vertical-align: top;\n",
       "    }\n",
       "</style>\n",
       "<table border=\"1\" class=\"dataframe\">\n",
       "  <thead>\n",
       "    <tr style=\"text-align: right;\">\n",
       "      <th>CType</th>\n",
       "      <th>Bronze</th>\n",
       "      <th>Gold</th>\n",
       "      <th>Silver</th>\n",
       "    </tr>\n",
       "    <tr>\n",
       "      <th>Item</th>\n",
       "      <th></th>\n",
       "      <th></th>\n",
       "      <th></th>\n",
       "    </tr>\n",
       "  </thead>\n",
       "  <tbody>\n",
       "    <tr>\n",
       "      <th>Item0</th>\n",
       "      <td>2.00</td>\n",
       "      <td>2.00</td>\n",
       "      <td>nan</td>\n",
       "    </tr>\n",
       "    <tr>\n",
       "      <th>Item1</th>\n",
       "      <td>nan</td>\n",
       "      <td>nan</td>\n",
       "      <td>4.00</td>\n",
       "    </tr>\n",
       "  </tbody>\n",
       "</table>\n",
       "</div>"
      ],
      "text/plain": [
       "CType  Bronze  Gold  Silver\n",
       "Item                       \n",
       "Item0    2.00  2.00     nan\n",
       "Item1     nan   nan    4.00"
      ]
     },
     "execution_count": 337,
     "metadata": {},
     "output_type": "execute_result"
    }
   ],
   "source": [
    "df.pivot_table(index='Item', columns='CType', values='US')\n",
    "# \"Item0 - Gold\" has two values, 1 and 3\n",
    "# pivot_table adds up those values"
   ]
  },
  {
   "cell_type": "code",
   "execution_count": null,
   "metadata": {
    "collapsed": true
   },
   "outputs": [],
   "source": []
  }
 ],
 "metadata": {
  "kernelspec": {
   "display_name": "Python 3",
   "language": "python",
   "name": "python3"
  },
  "language_info": {
   "codemirror_mode": {
    "name": "ipython",
    "version": 3
   },
   "file_extension": ".py",
   "mimetype": "text/x-python",
   "name": "python",
   "nbconvert_exporter": "python",
   "pygments_lexer": "ipython3",
   "version": "3.6.2"
  }
 },
 "nbformat": 4,
 "nbformat_minor": 2
}
