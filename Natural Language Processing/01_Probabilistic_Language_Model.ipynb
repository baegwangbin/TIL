{
 "cells": [
  {
   "cell_type": "markdown",
   "metadata": {},
   "source": [
    "# Table of Contents\n",
    ">## 1. Probabilistic Language Model\n",
    "* 1.1. Unigram Model\n",
    "* 1.2. Bigram Model (a.k.a. Markov Model)\n",
    "* 1.3. N-gram Model\n",
    "\n",
    ">## 2. Bigram Model\n",
    "* 2.1. Probability Estimation\n",
    "* 2.2. Example - `movie_reviews`\n",
    "* 2.3. Most Common Words\n",
    "* 2.4. Probability of Context-Word Pair\n",
    "* 2.5. Probability of a Sentence\n",
    "* 2.6. Generate Sentences"
   ]
  },
  {
   "cell_type": "markdown",
   "metadata": {
    "school_cell_uuid": "bf55b1ccd93d455b96ef4935ae5ce8f7"
   },
   "source": [
    "# 1. Probabilistic Language Model\n",
    "\n",
    ">$$\\text{Word Sequence} \\;\\; w_1, w_2, \\ldots, w_m \\;\\; \\text{is given}$$\n",
    ">\n",
    ">$$\\rightarrow \\text{calculate} \\;\\; P(w_1, w_2, \\ldots, w_m)$$\n",
    ">\n",
    ">$$\\text{(See if the word sequence can be used as a sentence)}$$\n",
    "\n",
    "* **Conditional Probability**\n",
    "\n",
    ">$$\n",
    "\\begin{eqnarray}\n",
    "P(w_1, w_2, \\ldots, w_m) &=& P(w_1, w_2, \\ldots, w_{m-1}) \\cdot P(w_m\\;|\\; w_1, w_2, \\ldots, w_{m-1}) \\\\\n",
    "&=& P(w_1, w_2, \\ldots, w_{m-2}) \\cdot P(w_{m-1}\\;|\\; w_1, w_2, \\ldots, w_{m-2}) \\cdot P(w_m\\;|\\; w_1, w_2, \\ldots, w_{m-1}) \\\\\n",
    "&=& P(w_1) \\cdot P(w_2 \\;|\\; w_1) \\cdot  P(w_3 \\;|\\; w_1, w_2) P(w_4 \\;|\\; w_1, w_2, w_3) \\cdots P(w_m\\;|\\; w_1, w_2, \\ldots, w_{m-1})\n",
    "\\end{eqnarray}\n",
    "$$\n",
    "\n",
    "* **Context**: $w_1, w_2, \\ldots, w_{m-1}$\n",
    "* **Usage**:\n",
    "\n",
    ">* Spell Correction\n",
    ">* Speech Recognition\n",
    ">* Machine Translation\n",
    ">* Summarization\n",
    ">* Question-Answering"
   ]
  },
  {
   "cell_type": "markdown",
   "metadata": {
    "school_cell_uuid": "b2114670ba754f5f98b95b58fa4a02d3"
   },
   "source": [
    "## 1.1. Unigram  Model\n",
    "* Usage of each word is **independent**\n",
    "\n",
    ">$$ P(w_1, w_2, \\ldots, w_m) = \\prod_{i=1}^m P(w_i) $$"
   ]
  },
  {
   "cell_type": "markdown",
   "metadata": {
    "school_cell_uuid": "657f733b6e924e30a8a64575182f480b"
   },
   "source": [
    "## 1.2. Bigram Model (a.k.a. Markov Model)\n",
    "\n",
    "* Usage of each word **depends on the previous $1$ word**\n",
    "\n",
    ">$$ P(w_1, w_2, \\ldots, w_m) = P(w_1) \\prod_{i=2}^{m} P(w_{i}\\;|\\; w_{i-1}) $$"
   ]
  },
  {
   "cell_type": "markdown",
   "metadata": {
    "school_cell_uuid": "5523c981bdf64e78ad2438a51f53bf4d"
   },
   "source": [
    "## 1.3. N-gram Model\n",
    "* Usage of each word **depends on the previous $N$ words**\n",
    "\n",
    ">$$ P(w_1, w_2, \\ldots, w_m) = P(w_1) \\prod_{i=n}^{m} P(w_{i}\\;|\\; w_{i-1}, \\ldots, w_{i-n}) $$"
   ]
  },
  {
   "cell_type": "markdown",
   "metadata": {
    "school_cell_uuid": "2ebfcf9cc8334977a10227880b4fe044"
   },
   "source": [
    "# 2. Bigram Model\n",
    "## 2.1. Probability Estimation\n",
    "* Token $SS$: Sentence Start\n",
    "* Toekn $SE$: Sentence End\n",
    "\n",
    ">$$ P(\\text{SS I am a boy SE}) = P(\\text{I}\\;|\\; \\text{SS}) \\cdot P(\\text{am}\\;|\\; \\text{I}) \\cdot P(\\text{a}\\;|\\; \\text{am}) \\cdot P(\\text{boy}\\;|\\; \\text{a}) \\cdot P(\\text{SE}\\;|\\; \\text{boy}) $$\n",
    "\n",
    "* **Conditional Probability**:\n",
    "\n",
    ">$$ P(w_{i}\\;|\\; w_{i-1}) = \\dfrac{C(w_{i}, w_{i-1})}{C(w_{i-1})} $$\n",
    ">\n",
    ">* $C(w_{i}, w_{i-1})$: $\\text{Count }(w_{i}, w_{i-1})$\n",
    ">* $C(w_{i-1})$: $\\text{Count }(w_{i-1})$"
   ]
  },
  {
   "cell_type": "markdown",
   "metadata": {
    "school_cell_uuid": "e2cedcc1da814a668365dbc71f2723b8"
   },
   "source": [
    "## 2.2. Example - `movie_reviews`"
   ]
  },
  {
   "cell_type": "markdown",
   "metadata": {
    "school_cell_uuid": "cdc1ac402c1347aabb68e02d48863c15"
   },
   "source": [
    "### Step 1. Download Corpus"
   ]
  },
  {
   "cell_type": "code",
   "execution_count": 1,
   "metadata": {
    "school_cell_uuid": "57a444735891416c9bab0a3fd60e1a4b"
   },
   "outputs": [
    {
     "name": "stdout",
     "output_type": "stream",
     "text": [
      "[nltk_data] Downloading package movie_reviews to\n",
      "[nltk_data]     /home/dockeruser/nltk_data...\n",
      "[nltk_data]   Package movie_reviews is already up-to-date!\n",
      "[nltk_data] Downloading package punkt to /home/dockeruser/nltk_data...\n",
      "[nltk_data]   Package punkt is already up-to-date!\n"
     ]
    },
    {
     "data": {
      "text/plain": [
       "True"
      ]
     },
     "execution_count": 1,
     "metadata": {},
     "output_type": "execute_result"
    }
   ],
   "source": [
    "import nltk\n",
    "nltk.download('movie_reviews')\n",
    "nltk.download('punkt')"
   ]
  },
  {
   "cell_type": "markdown",
   "metadata": {},
   "source": [
    "### Step 2. Create List of Sentences"
   ]
  },
  {
   "cell_type": "code",
   "execution_count": 2,
   "metadata": {
    "school_cell_uuid": "6e78bdf4121b4a2eb33abee2f3615cdd",
    "scrolled": false
   },
   "outputs": [],
   "source": [
    "from nltk.corpus import movie_reviews\n",
    "\n",
    "sentences = []\n",
    "for s in movie_reviews.sents():\n",
    "    s.insert(0, \"SS\")\n",
    "    s.append(\"SE\")\n",
    "    if len(s) > 4:\n",
    "        sentences.append(s)"
   ]
  },
  {
   "cell_type": "code",
   "execution_count": 3,
   "metadata": {
    "school_cell_uuid": "ac1e230af8ac4e98b499fe97ac58c74d"
   },
   "outputs": [
    {
     "data": {
      "text/plain": [
       "['SS', 'they', 'get', 'into', 'an', 'accident', '.', 'SE']"
      ]
     },
     "execution_count": 3,
     "metadata": {},
     "output_type": "execute_result"
    }
   ],
   "source": [
    "sentences[1]"
   ]
  },
  {
   "cell_type": "markdown",
   "metadata": {
    "school_cell_uuid": "2c8faad6f13d482ba8c9e3ad21299f42"
   },
   "source": [
    "### Step 3. Probability Estimation"
   ]
  },
  {
   "cell_type": "code",
   "execution_count": 4,
   "metadata": {
    "school_cell_uuid": "aa667739854f437db252c5699e3b70d4"
   },
   "outputs": [],
   "source": [
    "from collections import Counter\n",
    "\n",
    "def calculate_bigram(sentences):\n",
    "    bigram = {}\n",
    "    for s in sentences:\n",
    "        context = \"SS\"\n",
    "        for i, w in enumerate(s[1:]):\n",
    "            if context not in bigram:\n",
    "                bigram[context] = Counter()\n",
    "            if bigram[context][w] == 0:\n",
    "                bigram[context][w] = 1\n",
    "            bigram[context][w] += 1\n",
    "            context = w\n",
    "    for context in bigram.keys():\n",
    "        total = sum(bigram[context].values())\n",
    "        for w in bigram[context]:\n",
    "            bigram[context][w] /= total\n",
    "    return bigram"
   ]
  },
  {
   "cell_type": "markdown",
   "metadata": {},
   "source": [
    "### Step 4. Create Bigram Model"
   ]
  },
  {
   "cell_type": "code",
   "execution_count": 5,
   "metadata": {
    "school_cell_uuid": "e3351047f3e541fca2bbd78bd7447746"
   },
   "outputs": [],
   "source": [
    "bigram = calculate_bigram(sentences)"
   ]
  },
  {
   "cell_type": "markdown",
   "metadata": {},
   "source": [
    "## 2.3. Most Common Words"
   ]
  },
  {
   "cell_type": "markdown",
   "metadata": {
    "school_cell_uuid": "674312eb5fe2447dbf27b16fdaca8ec6"
   },
   "source": [
    "#### Example) First word of the sentence"
   ]
  },
  {
   "cell_type": "code",
   "execution_count": 6,
   "metadata": {
    "school_cell_uuid": "3ceef9e0eb8d4e22adae34cc1cc1c2d9",
    "scrolled": false
   },
   "outputs": [
    {
     "data": {
      "text/plain": [
       "[('the', 0.11231263830320237),\n",
       " ('it', 0.043575076893101194),\n",
       " ('i', 0.03379121261464379),\n",
       " ('but', 0.02523207103391647),\n",
       " ('and', 0.024160438673402642),\n",
       " ('he', 0.023269731256871668),\n",
       " ('in', 0.023102723616272112),\n",
       " ('this', 0.022963550582439148),\n",
       " ('there', 0.0180507424881355),\n",
       " ('as', 0.013249272820898222)]"
      ]
     },
     "execution_count": 6,
     "metadata": {},
     "output_type": "execute_result"
    }
   ],
   "source": [
    "bigram[\"SS\"].most_common(10)"
   ]
  },
  {
   "cell_type": "markdown",
   "metadata": {
    "school_cell_uuid": "166b898dd6024747b2f70e50a6eb8d44"
   },
   "source": [
    "#### Example) What comes after \"we\""
   ]
  },
  {
   "cell_type": "code",
   "execution_count": 7,
   "metadata": {
    "school_cell_uuid": "fb7343130a3c429c8923243273a6b47d",
    "scrolled": false
   },
   "outputs": [
    {
     "data": {
      "text/plain": [
       "[(\"'\", 0.12985751295336787),\n",
       " ('are', 0.07674870466321243),\n",
       " ('see', 0.059261658031088085),\n",
       " ('get', 0.052461139896373056),\n",
       " ('have', 0.05116580310880829),\n",
       " ('can', 0.0391839378238342),\n",
       " ('don', 0.03756476683937824),\n",
       " ('know', 0.03432642487046632),\n",
       " ('never', 0.01878238341968912),\n",
       " ('learn', 0.018458549222797927)]"
      ]
     },
     "execution_count": 7,
     "metadata": {},
     "output_type": "execute_result"
    }
   ],
   "source": [
    "bigram[\"we\"].most_common(10)"
   ]
  },
  {
   "cell_type": "markdown",
   "metadata": {
    "school_cell_uuid": "3bb3ec30ac8a485aa9dbed68db72b460"
   },
   "source": [
    "## 2.4. Probability of Context-Word Pair"
   ]
  },
  {
   "cell_type": "code",
   "execution_count": 8,
   "metadata": {
    "school_cell_uuid": "64d572869495495c9a17e3a0ace12fca"
   },
   "outputs": [
    {
     "data": {
      "text/plain": [
       "0.053622421998942356"
      ]
     },
     "execution_count": 8,
     "metadata": {},
     "output_type": "execute_result"
    }
   ],
   "source": [
    "bigram[\"i\"][\"was\"]"
   ]
  },
  {
   "cell_type": "code",
   "execution_count": 9,
   "metadata": {
    "school_cell_uuid": "390b48ee6f32465b925fb31675399323"
   },
   "outputs": [
    {
     "data": {
      "text/plain": [
       "0.017556848228450557"
      ]
     },
     "execution_count": 9,
     "metadata": {},
     "output_type": "execute_result"
    }
   ],
   "source": [
    "bigram[\"i\"][\"am\"]"
   ]
  },
  {
   "cell_type": "code",
   "execution_count": 10,
   "metadata": {
    "school_cell_uuid": "4acb0e6910d84ee9b4e1f9c01b1a43ab"
   },
   "outputs": [
    {
     "data": {
      "text/plain": [
       "0.00031729243786356425"
      ]
     },
     "execution_count": 10,
     "metadata": {},
     "output_type": "execute_result"
    }
   ],
   "source": [
    "bigram[\"i\"][\"is\"]"
   ]
  },
  {
   "cell_type": "code",
   "execution_count": 11,
   "metadata": {
    "school_cell_uuid": "94a29783e59f47d485b999faa441acc7"
   },
   "outputs": [
    {
     "data": {
      "text/plain": [
       "0.00021152829190904283"
      ]
     },
     "execution_count": 11,
     "metadata": {},
     "output_type": "execute_result"
    }
   ],
   "source": [
    "bigram[\"i\"][\"are\"]"
   ]
  },
  {
   "cell_type": "code",
   "execution_count": 12,
   "metadata": {
    "school_cell_uuid": "da6d24d6bc704472be9137600671c6dc"
   },
   "outputs": [
    {
     "data": {
      "text/plain": [
       "0.9612387969875893"
      ]
     },
     "execution_count": 12,
     "metadata": {},
     "output_type": "execute_result"
    }
   ],
   "source": [
    "bigram[\".\"][\"SE\"]"
   ]
  },
  {
   "cell_type": "code",
   "execution_count": 13,
   "metadata": {
    "school_cell_uuid": "80be41eeb2944c7786fc213e2e59a2d1"
   },
   "outputs": [
    {
     "data": {
      "text/plain": [
       "Counter({'SE': 0.9612387969875893,\n",
       "         \"'\": 0.0010735373054213634,\n",
       "         '\"': 0.02922949299760894,\n",
       "         ')': 0.00821418695814831,\n",
       "         \"''\": 6.506286699523415e-05,\n",
       "         ']': 0.0001789228842368939})"
      ]
     },
     "execution_count": 13,
     "metadata": {},
     "output_type": "execute_result"
    }
   ],
   "source": [
    "bigram[\".\"]"
   ]
  },
  {
   "cell_type": "markdown",
   "metadata": {
    "school_cell_uuid": "e361fed8dd5b400dbe275b70c4183f17"
   },
   "source": [
    "## 2.5. Probability of a Sentence"
   ]
  },
  {
   "cell_type": "code",
   "execution_count": 14,
   "metadata": {
    "school_cell_uuid": "90e10f1655004a15aae5bbba2e20c21f"
   },
   "outputs": [],
   "source": [
    "def sentence_score(s):\n",
    "    p = 0.0\n",
    "    for i in range(len(s) - 1):\n",
    "        c = s[i]\n",
    "        w = s[i + 1]\n",
    "        p += np.log(bigram[c][w] + np.finfo(float).eps)\n",
    "    return np.exp(p)"
   ]
  },
  {
   "cell_type": "code",
   "execution_count": 15,
   "metadata": {
    "school_cell_uuid": "48ba48c46a8d49468846a87a324165d1"
   },
   "outputs": [
    {
     "data": {
      "text/plain": [
       "3.288036438066686e-08"
      ]
     },
     "execution_count": 15,
     "metadata": {},
     "output_type": "execute_result"
    }
   ],
   "source": [
    "test_sentence = [\"i\", \"am\", \"a\", \"boy\", \".\"]\n",
    "sentence_score(test_sentence)"
   ]
  },
  {
   "cell_type": "code",
   "execution_count": 16,
   "metadata": {
    "school_cell_uuid": "eee8a42e80a44e0e86f749766da11561"
   },
   "outputs": [
    {
     "data": {
      "text/plain": [
       "1.9683389110380156e-38"
      ]
     },
     "execution_count": 16,
     "metadata": {},
     "output_type": "execute_result"
    }
   ],
   "source": [
    "test_sentence = [\"i\", \"is\", \"boy\", \"a\", \".\"]\n",
    "sentence_score(test_sentence)"
   ]
  },
  {
   "cell_type": "markdown",
   "metadata": {
    "school_cell_uuid": "94439039596542ccb0dfc71abb35cd99"
   },
   "source": [
    "## 2.6. Generate Sentences"
   ]
  },
  {
   "cell_type": "code",
   "execution_count": 17,
   "metadata": {
    "school_cell_uuid": "060a067a4b5d407785a452fe24ec01a1"
   },
   "outputs": [],
   "source": [
    "def generate_sentence(seed=None):\n",
    "    if seed is not None:\n",
    "        np.random.seed(seed)\n",
    "    c = \"SS\"\n",
    "    sentence = []\n",
    "    while True:\n",
    "        if c not in bigram:\n",
    "            break\n",
    "        words, probs = zip(*[(k, v) for k, v in bigram[c].items()])\n",
    "        idx = np.argmax(np.random.multinomial(1, probs, (1,)))\n",
    "        w = words[idx]\n",
    "        \n",
    "        if w == \"SE\":\n",
    "            break\n",
    "        elif w in [\"i\", \"ii\", \"iii\"]:\n",
    "            w2 = w.upper()\n",
    "        elif w in [\"mr\", \"luc\", \"i\", \"robin\", \"williams\", \"cindy\", \"crawford\"]:\n",
    "            w2 = w.title()\n",
    "        else:\n",
    "            w2 = w\n",
    "        \n",
    "        if c == \"SS\":\n",
    "            sentence.append(w2.title())\n",
    "        elif c in [\"`\", \"\\\"\", \"'\", \"(\"]:\n",
    "            sentence.append(w2)\n",
    "        elif w in [\"'\", \".\", \",\", \")\", \":\", \";\", \"?\"]:\n",
    "            sentence.append(w2)\n",
    "        else:\n",
    "            sentence.append(\" \" + w2)\n",
    "            \n",
    "        c = w\n",
    "    return \"\".join(sentence)"
   ]
  },
  {
   "cell_type": "code",
   "execution_count": 18,
   "metadata": {
    "school_cell_uuid": "2b890a85b23549319b78030d60c6ca43"
   },
   "outputs": [
    {
     "data": {
      "text/plain": [
       "'Alexandre dumas may suspect he at being can be honest here goes awol, but he trusts affleck - see this documentary.'"
      ]
     },
     "execution_count": 18,
     "metadata": {},
     "output_type": "execute_result"
    }
   ],
   "source": [
    "generate_sentence(82)"
   ]
  },
  {
   "cell_type": "code",
   "execution_count": null,
   "metadata": {},
   "outputs": [],
   "source": []
  }
 ],
 "metadata": {
  "kernelspec": {
   "display_name": "Python 3",
   "language": "python",
   "name": "python3"
  },
  "language_info": {
   "codemirror_mode": {
    "name": "ipython",
    "version": 3
   },
   "file_extension": ".py",
   "mimetype": "text/x-python",
   "name": "python",
   "nbconvert_exporter": "python",
   "pygments_lexer": "ipython3",
   "version": "3.6.4"
  }
 },
 "nbformat": 4,
 "nbformat_minor": 2
}
