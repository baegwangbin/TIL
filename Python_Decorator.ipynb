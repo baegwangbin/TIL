{
 "cells": [
  {
   "cell_type": "markdown",
   "metadata": {},
   "source": [
    "# Decorator\n",
    "* $\\rightarrow$ \"Decorate\" function or method with new features"
   ]
  },
  {
   "cell_type": "markdown",
   "metadata": {},
   "source": [
    "### 1) function is *1st citizen object*"
   ]
  },
  {
   "cell_type": "code",
   "execution_count": 4,
   "metadata": {},
   "outputs": [
    {
     "name": "stdout",
     "output_type": "stream",
     "text": [
      "say hello\n"
     ]
    }
   ],
   "source": [
    "def hello():\n",
    "    print('say hello')\n",
    "\n",
    "hi = hello # type(hi): function\n",
    "hi()       # same as hello()"
   ]
  },
  {
   "cell_type": "code",
   "execution_count": 5,
   "metadata": {},
   "outputs": [
    {
     "name": "stdout",
     "output_type": "stream",
     "text": [
      "say hello world\n"
     ]
    }
   ],
   "source": [
    "def hello(word):\n",
    "    print(word)\n",
    "    \n",
    "def call_hello(fn, args):\n",
    "    fn(args)\n",
    "    \n",
    "call_hello(hello, 'say hello world') # same as hello('say hello world')"
   ]
  },
  {
   "cell_type": "markdown",
   "metadata": {},
   "source": [
    "### 2) Nested function\n",
    "* Nested function can be called only inside the function"
   ]
  },
  {
   "cell_type": "code",
   "execution_count": 8,
   "metadata": {},
   "outputs": [
    {
     "name": "stdout",
     "output_type": "stream",
     "text": [
      "<function outer_func.<locals>.inner_func at 0x7f28cbd7b400>\n",
      "inner_func\n"
     ]
    }
   ],
   "source": [
    "def outer_func():\n",
    "    def inner_func():\n",
    "        return 'inner_func'\n",
    "    return inner_func\n",
    "\n",
    "fn = outer_func() # = inner_func\n",
    "print(fn)         # = print(inner_func)\n",
    "print(fn())       # = print(inner_func())"
   ]
  },
  {
   "cell_type": "code",
   "execution_count": 12,
   "metadata": {},
   "outputs": [
    {
     "name": "stdout",
     "output_type": "stream",
     "text": [
      "<function outer_func.<locals>.inner_func at 0x7f28cbd7bbf8>\n",
      "10\n",
      "inner_func\n"
     ]
    }
   ],
   "source": [
    "def outer_func(num):\n",
    "    def inner_func():\n",
    "        print(num)\n",
    "        return 'inner_func'\n",
    "    return inner_func\n",
    "\n",
    "fn = outer_func(10) # = inner_func\n",
    "print(fn)           # = print(inner_func)         \n",
    "print(fn())         # = print(inner_func())"
   ]
  },
  {
   "cell_type": "markdown",
   "metadata": {},
   "source": [
    "### 3) Closure / Closure function\n",
    "* inner function remembers the enclosing scope variable, even after its use is over"
   ]
  },
  {
   "cell_type": "code",
   "execution_count": 13,
   "metadata": {},
   "outputs": [
    {
     "name": "stdout",
     "output_type": "stream",
     "text": [
      "32\n"
     ]
    }
   ],
   "source": [
    "def get_power_of(n):\n",
    "    def power(x):\n",
    "        return x ** n\n",
    "    return power\n",
    "\n",
    "power5 = get_power_of(5) # power(x) remembers n = 5\n",
    "print(power5(2))         # computes 2 ** 5"
   ]
  },
  {
   "cell_type": "markdown",
   "metadata": {},
   "source": [
    "### 4) Decorator\n",
    "* [more about decorator](https://www.python.org/dev/peps/pep-0318/)"
   ]
  },
  {
   "cell_type": "code",
   "execution_count": 22,
   "metadata": {},
   "outputs": [
    {
     "name": "stdout",
     "output_type": "stream",
     "text": [
      "decoration added\n",
      "simple function\n"
     ]
    }
   ],
   "source": [
    "# decorator 함수 정의\n",
    "def decorate_func(fn):\n",
    "    def inner():\n",
    "        print('decoration added')\n",
    "        fn()\n",
    "    return inner\n",
    "\n",
    "def simple():\n",
    "    print('simple function')\n",
    "    \n",
    "decorated = decorate_func(simple) # the function \"simple\" is decorated with \"decorate_func\"\n",
    "decorated()"
   ]
  },
  {
   "cell_type": "code",
   "execution_count": 23,
   "metadata": {},
   "outputs": [
    {
     "name": "stdout",
     "output_type": "stream",
     "text": [
      "decoration added\n",
      "simple function\n"
     ]
    }
   ],
   "source": [
    "simple = decorate_func(simple)\n",
    "simple()"
   ]
  },
  {
   "cell_type": "markdown",
   "metadata": {},
   "source": [
    "### @ notation"
   ]
  },
  {
   "cell_type": "code",
   "execution_count": 24,
   "metadata": {},
   "outputs": [
    {
     "name": "stdout",
     "output_type": "stream",
     "text": [
      "decoration added\n",
      "simple function\n"
     ]
    }
   ],
   "source": [
    "def decorate_func(fn):\n",
    "    def inner():\n",
    "        print('decoration added')\n",
    "        fn()\n",
    "    return inner\n",
    "\n",
    "@decorate_func # same as decorate_func(simple)\n",
    "def simple():\n",
    "    print('simple function')\n",
    "    \n",
    "simple()"
   ]
  },
  {
   "cell_type": "markdown",
   "metadata": {},
   "source": [
    "### Decorator - for functions with parameters\n",
    "* Decorating function can have same parameters"
   ]
  },
  {
   "cell_type": "code",
   "execution_count": 25,
   "metadata": {},
   "outputs": [
    {
     "name": "stdout",
     "output_type": "stream",
     "text": [
      "3.0\n",
      "zero cannot be divided!\n",
      "None\n"
     ]
    }
   ],
   "source": [
    "def check_zero_division(fn):\n",
    "    def zero_division(a, b):\n",
    "        if b == 0:\n",
    "            print('zero cannot be divided!')\n",
    "            return \n",
    "        return fn(a, b)\n",
    "    return zero_division\n",
    "\n",
    "@check_zero_division\n",
    "def divide(a, b):\n",
    "    return a / b\n",
    "\n",
    "print(divide(9, 3))\n",
    "print(divide(9, 0)) #zero_division error is not raised"
   ]
  },
  {
   "cell_type": "markdown",
   "metadata": {},
   "source": [
    "### Decorator - for functions with varying parameters\n",
    "* use `(*args, **kwargs)`"
   ]
  },
  {
   "cell_type": "code",
   "execution_count": 26,
   "metadata": {},
   "outputs": [
    {
     "name": "stdout",
     "output_type": "stream",
     "text": [
      "function is decorated..\n",
      "9\n",
      "function is decorated..\n",
      "hello\n"
     ]
    }
   ],
   "source": [
    "def general_decorator(fn):\n",
    "    def wrapper(*args, **kwargs):\n",
    "        print('function is decorated..')\n",
    "        return fn(*args, **kwargs)\n",
    "    return wrapper\n",
    "\n",
    "@general_decorator\n",
    "def add(a, b):\n",
    "    return a + b\n",
    "\n",
    "@general_decorator\n",
    "def print_hello():\n",
    "    print('hello')\n",
    "    \n",
    "print(add(4, 5))\n",
    "print_hello()"
   ]
  },
  {
   "cell_type": "markdown",
   "metadata": {},
   "source": [
    "### Decorator - Chaining\n",
    "* order matters!"
   ]
  },
  {
   "cell_type": "code",
   "execution_count": 28,
   "metadata": {},
   "outputs": [
    {
     "name": "stdout",
     "output_type": "stream",
     "text": [
      "function is decorated with *****\n",
      "function is decorated with @@@@@\n",
      "hello\n"
     ]
    }
   ],
   "source": [
    "def star(fn):\n",
    "    def wrapper(*args, **kwargs):\n",
    "        print('function is decorated with *****')\n",
    "        return fn(*args, **kwargs)\n",
    "    return wrapper\n",
    "\n",
    "def at(fn):\n",
    "    def wrapper(*args, **kwargs):\n",
    "        print('function is decorated with @@@@@')\n",
    "        return fn(*args, **kwargs)\n",
    "    return wrapper\n",
    "\n",
    "@star\n",
    "@at\n",
    "def print_hello():\n",
    "    print('hello')\n",
    "    \n",
    "print_hello()"
   ]
  },
  {
   "cell_type": "markdown",
   "metadata": {},
   "source": [
    "### Decorator - Method decoration\n",
    "* Method can also be decorated / Decorator must also have \"self\" parameter"
   ]
  },
  {
   "cell_type": "code",
   "execution_count": 31,
   "metadata": {},
   "outputs": [
    {
     "name": "stdout",
     "output_type": "stream",
     "text": [
      "<h1>Gwangbin Bae</h1>\n"
     ]
    }
   ],
   "source": [
    "def h1_tag(func):\n",
    "    def func_wrapper(self, *args, **kwargs):\n",
    "        return \"<h1>{0}</h1>\".format(func(self, *args, **kwargs))\n",
    "    return func_wrapper\n",
    "\n",
    "class Person(object):\n",
    "    def __init__(self):\n",
    "        self.firt_name = 'Gwangbin'\n",
    "        self.last_name = 'Bae'\n",
    "\n",
    "    @h1_tag\n",
    "    def get_name(self):\n",
    "        return self.firt_name + ' ' + self.last_name\n",
    "    \n",
    "Gwangbin = Person()\n",
    "print(Gwangbin.get_name())"
   ]
  },
  {
   "cell_type": "markdown",
   "metadata": {},
   "source": [
    "### Decorator - with parameters\n",
    "* Decorator can have its own parameters"
   ]
  },
  {
   "cell_type": "code",
   "execution_count": 36,
   "metadata": {},
   "outputs": [
    {
     "name": "stdout",
     "output_type": "stream",
     "text": [
      "function is decorated with ****************************************\n",
      "hello\n"
     ]
    }
   ],
   "source": [
    "def star(star_num=20):\n",
    "    def callable(fn):\n",
    "        def wrapper(*args, **kwargs):\n",
    "            print('function is decorated with {}'.format('*' * star_num ))\n",
    "            return fn(*args, **kwargs)\n",
    "        return wrapper\n",
    "    return callable\n",
    "\n",
    "@star(star_num = 40)\n",
    "def print_hello():\n",
    "    print('hello')\n",
    "\n",
    "print_hello()"
   ]
  }
 ],
 "metadata": {
  "kernelspec": {
   "display_name": "Python 3",
   "language": "python",
   "name": "python3"
  },
  "language_info": {
   "codemirror_mode": {
    "name": "ipython",
    "version": 3
   },
   "file_extension": ".py",
   "mimetype": "text/x-python",
   "name": "python",
   "nbconvert_exporter": "python",
   "pygments_lexer": "ipython3",
   "version": "3.6.2"
  }
 },
 "nbformat": 4,
 "nbformat_minor": 2
}
