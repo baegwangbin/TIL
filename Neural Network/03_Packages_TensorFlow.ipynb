{
 "cells": [
  {
   "cell_type": "code",
   "execution_count": 1,
   "metadata": {
    "hidden": "all",
    "school_cell_uuid": "9665569ddbc14d00be0044f44b087a19"
   },
   "outputs": [],
   "source": [
    "import warnings\n",
    "warnings.simplefilter('ignore')"
   ]
  },
  {
   "cell_type": "markdown",
   "metadata": {
    "school_cell_uuid": "c37e6568f63b480886e8e1a550191c70"
   },
   "source": [
    "# Table of Contents\n",
    ">## 1. What is `Tensorflow`?\n",
    "\n",
    ">## 2. Operations - Basic\n",
    "* 2.1. Define Symbols\n",
    "* 2.2. Define Symbolic Relationship\n",
    "* 2.3. Define & Run Sessions\n",
    "\n",
    ">## 3. Operations - Intermediate\n",
    "* 3.1. Optimization\n",
    "* 3.2. Differentiation\n",
    "\n",
    ">## 4. Operations - Advanced\n",
    "\n",
    ">## 5. TensorBoard\n",
    "* 5.1. Generating Log File\n",
    "* 5.2. Deleting Existing Log File\n",
    "* 5.3. TensorBoard\n",
    "\n",
    ">## 6. Examples\n",
    "* 6.1. Perceptron - Iris Dataset"
   ]
  },
  {
   "cell_type": "markdown",
   "metadata": {},
   "source": [
    "# 1. What is `Tensorflow`?\n",
    "* `TensorFlow`: Symbolic Linear Algebra Compiler\n",
    "* Better than `Theano` in distributed processing"
   ]
  },
  {
   "cell_type": "markdown",
   "metadata": {
    "school_cell_uuid": "8078d0c97c1445378b13dd0238e93436"
   },
   "source": [
    "# 2. Operations - Basic\n",
    "* **Steps**:\n",
    "  * Define Symbols\n",
    "  * Define Symbolic Relationship\n",
    "  * Define Session (similar to function in `theano`)\n",
    "  * Run Session"
   ]
  },
  {
   "cell_type": "markdown",
   "metadata": {
    "school_cell_uuid": "9144a00d260148a2811c367364d805ba"
   },
   "source": [
    "## 2.1. Define Symbols\n",
    "* **`Variable` command**\n",
    "* **Datatypes**: selected based on initial value\n",
    "* **Name**: not necessary"
   ]
  },
  {
   "cell_type": "code",
   "execution_count": 2,
   "metadata": {
    "school_cell_uuid": "3804c652ce924a038a0aa77760bbb2a5"
   },
   "outputs": [],
   "source": [
    "import tensorflow as tf"
   ]
  },
  {
   "cell_type": "code",
   "execution_count": 3,
   "metadata": {
    "school_cell_uuid": "558d42536bcf439984045e68cd95feb8"
   },
   "outputs": [],
   "source": [
    "x = tf.Variable(1.0)\n",
    "y = tf.Variable(2.0)"
   ]
  },
  {
   "cell_type": "code",
   "execution_count": 4,
   "metadata": {
    "school_cell_uuid": "ee5681a101594411959c623f30930e37"
   },
   "outputs": [
    {
     "data": {
      "text/plain": [
       "(tensorflow.python.ops.variables.Variable,\n",
       " tensorflow.python.ops.variables.Variable)"
      ]
     },
     "execution_count": 4,
     "metadata": {},
     "output_type": "execute_result"
    }
   ],
   "source": [
    "type(x), type(y)"
   ]
  },
  {
   "cell_type": "markdown",
   "metadata": {
    "school_cell_uuid": "266c842b94764d03b4772371c3f6fb81"
   },
   "source": [
    "## 2.2. Define Symbolic Relationship"
   ]
  },
  {
   "cell_type": "code",
   "execution_count": 5,
   "metadata": {
    "school_cell_uuid": "6bb5438ad7544c928b681de6927d16a3"
   },
   "outputs": [],
   "source": [
    "z = x + y"
   ]
  },
  {
   "cell_type": "code",
   "execution_count": 6,
   "metadata": {
    "school_cell_uuid": "8fa06128553c49a2a63f505826767981"
   },
   "outputs": [
    {
     "data": {
      "text/plain": [
       "tensorflow.python.framework.ops.Tensor"
      ]
     },
     "execution_count": 6,
     "metadata": {},
     "output_type": "execute_result"
    }
   ],
   "source": [
    "type(z)"
   ]
  },
  {
   "cell_type": "code",
   "execution_count": 7,
   "metadata": {
    "school_cell_uuid": "678f70dd4d7748f3a48128226b8ed3d4"
   },
   "outputs": [],
   "source": [
    "u = tf.log(z)"
   ]
  },
  {
   "cell_type": "code",
   "execution_count": 8,
   "metadata": {
    "school_cell_uuid": "2d3875f03104404b9efe7ffc50daaed9"
   },
   "outputs": [
    {
     "data": {
      "text/plain": [
       "tensorflow.python.framework.ops.Tensor"
      ]
     },
     "execution_count": 8,
     "metadata": {},
     "output_type": "execute_result"
    }
   ],
   "source": [
    "type(u)"
   ]
  },
  {
   "cell_type": "markdown",
   "metadata": {
    "school_cell_uuid": "dc2fafc4f9a74b91a8e113123cc7f8f4"
   },
   "source": [
    "## 2.3. Define & Run Sessions\n",
    "* **1. Create Session**: Generate `Session` object\n",
    "* **2. `global_variables_initializer`**\n",
    "* **3. Run Session**: `run` command / calculate & return\n",
    "* **4. Close Session**: `close` command / often replaced with `with`"
   ]
  },
  {
   "cell_type": "code",
   "execution_count": 9,
   "metadata": {
    "school_cell_uuid": "258c4aff475d405581db3dbab08dd78d"
   },
   "outputs": [
    {
     "name": "stdout",
     "output_type": "stream",
     "text": [
      "3.0\n",
      "1.0986123\n"
     ]
    }
   ],
   "source": [
    "sess = tf.Session()\n",
    "init = tf.global_variables_initializer()\n",
    "sess.run(init)\n",
    "print(sess.run(z)) \n",
    "print(sess.run(u)) \n",
    "sess.close()"
   ]
  },
  {
   "cell_type": "markdown",
   "metadata": {},
   "source": [
    "# 3. Operations - Intermediate"
   ]
  },
  {
   "cell_type": "markdown",
   "metadata": {
    "school_cell_uuid": "79f933d639584ac6ae312d040039a4c2"
   },
   "source": [
    "## 3.1. Optimization\n",
    "* Users don't have to optimize the sessions\n",
    "* Classes like `GradientDescentOptimizer` are already implemented"
   ]
  },
  {
   "cell_type": "markdown",
   "metadata": {
    "school_cell_uuid": "c878fc07fcc14b6994e915f2c7fe77f5"
   },
   "source": [
    "## 3.2. Differentiation\n",
    "* `gradients` command"
   ]
  },
  {
   "cell_type": "code",
   "execution_count": 10,
   "metadata": {
    "school_cell_uuid": "73ed72bac16748f79399f90cf7612a60"
   },
   "outputs": [
    {
     "name": "stdout",
     "output_type": "stream",
     "text": [
      "1.0\n",
      "[2.0]\n"
     ]
    }
   ],
   "source": [
    "f = x ** 2\n",
    "fx = tf.gradients(f, [x])\n",
    "\n",
    "with tf.Session() as sess:\n",
    "    init = tf.global_variables_initializer()\n",
    "    sess.run(init)\n",
    "    print(sess.run(f))    \n",
    "    print(sess.run(fx))"
   ]
  },
  {
   "cell_type": "markdown",
   "metadata": {},
   "source": [
    "# 4. Operations - Advanced"
   ]
  },
  {
   "cell_type": "code",
   "execution_count": null,
   "metadata": {},
   "outputs": [],
   "source": []
  },
  {
   "cell_type": "markdown",
   "metadata": {},
   "source": [
    "# 5. TensorBoard"
   ]
  },
  {
   "cell_type": "markdown",
   "metadata": {},
   "source": [
    "## 5.1. Generating Log File\n",
    "* **1. `summary.scalar` 명령이나 `summary.histogram` 명령으로 개별 변수 기록용 summary 생성**\n",
    "* **2. `summary.merge_all` 명령으로 개별 변수 기록용 summary를 하나의 summary로 합침**\n",
    "* **3. 세션 생성후 `tf.summary.FileWriter` 명령으로 기록용 writer 객체 생성(위 예제에서는 `writer`). 이 때 기록할 디렉토리 설정**\n",
    "* **4. `sess.run` 명령으로 summary 객체(위 예제에서는 `merged`)를 보내면 기록 실시**\n",
    "* **5. 기록용 write 객체의 `add_summary` 명령으로 summary를 실제 파일에 쓰기.**"
   ]
  },
  {
   "cell_type": "markdown",
   "metadata": {
    "school_cell_uuid": "60ff836f6b4c43a6aaa7972526468170"
   },
   "source": [
    "## 5.2. Deleting Existing Log\n",
    "* Don't forget to delete the log in the directory before running the code"
   ]
  },
  {
   "cell_type": "code",
   "execution_count": 11,
   "metadata": {
    "school_cell_uuid": "d8800f0a8abb492ca8d3d40a62b89534"
   },
   "outputs": [],
   "source": [
    "!rm -rf /home/dockeruser/logs/*"
   ]
  },
  {
   "cell_type": "markdown",
   "metadata": {
    "collapsed": true,
    "school_cell_uuid": "527432ed8f6d4b3c84600f7f2227f119"
   },
   "source": [
    "## 5.3. TensorBoard\n",
    "* TensorBoard uses port 6006\n",
    "* Step 1. Open port\n",
    "\n",
    "```\n",
    "docker run --name rpython -it -p 8888:8888 -p 6006:6006 datascienceschool/rpython\n",
    "```\n",
    "\n",
    "* Step 2. In terminal,\n",
    "\n",
    "```\n",
    "$ tensorboard --host=0.0.0.0 --logdir=/home/dockeruser/logs\n",
    "```\n",
    "\n",
    "* Step 3. Go to Tensorboard\n",
    "  * http://localhost:6006\n",
    "  * http://192.168.99.100:6006  (If using Docker Toolbox)\n",
    "\n"
   ]
  },
  {
   "cell_type": "markdown",
   "metadata": {
    "school_cell_uuid": "804c09fa564143d89c4db46a43f9c290"
   },
   "source": [
    "<img src=\"https://datascienceschool.net/upfiles/3763526231d843b5a01775a8cae316a4.png\" style=\"width:100%;\">"
   ]
  },
  {
   "cell_type": "markdown",
   "metadata": {},
   "source": [
    "# 6. Examples"
   ]
  },
  {
   "cell_type": "markdown",
   "metadata": {
    "school_cell_uuid": "581b252b81e24b78a8bf161e16479800"
   },
   "source": [
    "## 6.1. Perceptron - Iris Dataset"
   ]
  },
  {
   "cell_type": "code",
   "execution_count": 12,
   "metadata": {
    "school_cell_uuid": "a208a3840ab44bb8a13d5cc7822cf00d"
   },
   "outputs": [],
   "source": [
    "from sklearn.datasets import load_iris\n",
    "iris = load_iris()\n",
    "\n",
    "idx = np.in1d(iris.target, [0, 2])\n",
    "X_data = iris.data[idx, 0:2]\n",
    "y_data = (iris.target[idx] - 1.0)[:, np.newaxis] # y=1 or y=-1"
   ]
  },
  {
   "cell_type": "code",
   "execution_count": 13,
   "metadata": {
    "school_cell_uuid": "dca306ace07f41e78a167281fdfa9772",
    "scrolled": false
   },
   "outputs": [
    {
     "name": "stdout",
     "output_type": "stream",
     "text": [
      "   0:  0.5494091733308988\n",
      "  10:  0.4550718147888182\n",
      "  20:  0.3607278431087564\n",
      "  30:  0.2663786243415365\n",
      "  40:  0.17202552496054824\n",
      "  50:  0.07766991175203047\n",
      "  60:  0.0009515019028440592\n",
      "  70:  0.0003168280919044534\n",
      "  80:  0.0002921058755255818\n",
      "  90:  0.00029228987473695566\n"
     ]
    }
   ],
   "source": [
    "np.random.seed(0)\n",
    "w = tf.Variable(1e-3 * np.random.randn(2, 1))\n",
    "b = tf.Variable(1e-3 * np.random.randn(1)[0])\n",
    "z = tf.tanh(tf.matmul(X_data, w) + b)\n",
    "\n",
    "zero = np.zeros(1, dtype=np.float64)[0] \n",
    "cost = tf.reduce_sum(tf.maximum(zero, tf.multiply(-y_data, z)))\n",
    "optimizer = tf.train.GradientDescentOptimizer(1e-7)\n",
    "train = optimizer.minimize(cost)\n",
    "\n",
    "sess = tf.Session()\n",
    "\n",
    "w_summary = tf.summary.histogram(\"w\", w)\n",
    "b_summary = tf.summary.scalar(\"b\", b)\n",
    "z_summary = tf.summary.histogram(\"z\", z)\n",
    "cost_summary = tf.summary.scalar(\"cost\", cost)\n",
    "merged = tf.summary.merge_all()\n",
    "\n",
    "writer = tf.summary.FileWriter(\"/home/dockeruser/logs\", sess.graph)\n",
    "\n",
    "init = tf.global_variables_initializer()\n",
    "sess.run(init)\n",
    "\n",
    "for i in range(100):\n",
    "    sess.run(train)\n",
    "    summary = sess.run(merged)\n",
    "    writer.add_summary(summary, i)\n",
    "    if i % 10 == 0:\n",
    "        print(\"{:4d}: \".format(i), sess.run(cost))"
   ]
  },
  {
   "cell_type": "code",
   "execution_count": 14,
   "metadata": {
    "school_cell_uuid": "03407d52261a472c9aeca6a32b93c1ac"
   },
   "outputs": [],
   "source": [
    "y_pred = sess.run(tf.sign(z))"
   ]
  },
  {
   "cell_type": "code",
   "execution_count": 15,
   "metadata": {
    "school_cell_uuid": "b33d15dcdd5b43fd8af768b6651b6080"
   },
   "outputs": [],
   "source": [
    "sess.close()"
   ]
  },
  {
   "cell_type": "code",
   "execution_count": 16,
   "metadata": {
    "school_cell_uuid": "fa766ad7bb7d45b69ae70400894f2dcb"
   },
   "outputs": [
    {
     "data": {
      "text/plain": [
       "array([[49,  1],\n",
       "       [ 1, 49]])"
      ]
     },
     "execution_count": 16,
     "metadata": {},
     "output_type": "execute_result"
    }
   ],
   "source": [
    "from sklearn.metrics import confusion_matrix\n",
    "\n",
    "confusion_matrix(y_data, y_pred)"
   ]
  }
 ],
 "metadata": {
  "kernelspec": {
   "display_name": "Python 3",
   "language": "python",
   "name": "python3"
  },
  "language_info": {
   "codemirror_mode": {
    "name": "ipython",
    "version": 3
   },
   "file_extension": ".py",
   "mimetype": "text/x-python",
   "name": "python",
   "nbconvert_exporter": "python",
   "pygments_lexer": "ipython3",
   "version": "3.6.4"
  }
 },
 "nbformat": 4,
 "nbformat_minor": 2
}
