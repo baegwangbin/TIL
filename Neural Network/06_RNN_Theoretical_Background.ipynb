{
 "cells": [
  {
   "cell_type": "markdown",
   "metadata": {},
   "source": [
    "# Table of Contents\n",
    ">## 1. Structure\n",
    "\n",
    ">## 2. Sequence Prediction\n",
    "\n",
    ">## 3. Back-Propagation Through Time (BPTT)"
   ]
  },
  {
   "cell_type": "markdown",
   "metadata": {},
   "source": [
    "# 1. Structure\n",
    "* Used for time-series or sequence\n",
    "\n",
    "#### General feedforward NN with 1 hidden layer\n",
    "\n",
    ">$$ h = \\sigma(U x) $$\n",
    ">$$ o = \\sigma(V h) $$\n",
    "\n",
    "#### RNN - Basic Idea\n",
    "\n",
    ">$$\\text{Current State} \\rightarrow \\text{Future Input}$$\n",
    "\n",
    "#### State vector: depends on $x$ and $s_{t-1}$\n",
    "\n",
    ">$$ s_t = \\sigma(Ux_t + Ws_{t-1}) $$\n",
    ">$$ o_t = \\sigma(Vs_t) $$\n",
    "\n",
    "#### Diagram\n",
    "\n",
    "><img src=\"http://d3kbpzbmcynnmx.cloudfront.net/wp-content/uploads/2015/09/rnn.jpg\" style=\"width: 80%;\">"
   ]
  },
  {
   "cell_type": "markdown",
   "metadata": {
    "school_cell_uuid": "5d3b47b6eaac4f8ab854e62d55c3750a"
   },
   "source": [
    "# 2. Sequence Prediction\n",
    "\n",
    "#### General Structure\n",
    "\n",
    ">$$\\text{Input: } x_1, x_2, \\ldots, x_n$$\n",
    ">\n",
    ">$$\\text{State: } s_1, s_2, \\ldots, s_n$$\n",
    ">\n",
    ">$$\\text{Output: } o_1, o_2, \\ldots, o_n$$\n",
    "\n",
    "#### Types of Problem\n",
    "\n",
    ">* **Many-to-many** (sequence to sequence)\n",
    ">  * $o_1, o_2, \\ldots, o_n$ should match $y_1, y_2, \\ldots, y_n$\n",
    ">\n",
    ">* **Many-to-one** (sequence to value)\n",
    ">  * $o_n$ should match $y_n$\n",
    ">\n",
    "><img src=\"https://deeplearning4j.org/img/rnn_masking_1.png\" style=\"width: 100%;\">"
   ]
  },
  {
   "cell_type": "markdown",
   "metadata": {
    "school_cell_uuid": "3222632258df45c09b999a40163b48d6"
   },
   "source": [
    "# 3. Back-Propagation Through Time (BPTT)\n",
    "> $$ \\text{Back-Propagation} \\rightarrow \\text{through time} $$"
   ]
  }
 ],
 "metadata": {
  "kernelspec": {
   "display_name": "Python 3",
   "language": "python",
   "name": "python3"
  },
  "language_info": {
   "codemirror_mode": {
    "name": "ipython",
    "version": 3
   },
   "file_extension": ".py",
   "mimetype": "text/x-python",
   "name": "python",
   "nbconvert_exporter": "python",
   "pygments_lexer": "ipython3",
   "version": "3.6.4"
  }
 },
 "nbformat": 4,
 "nbformat_minor": 2
}
