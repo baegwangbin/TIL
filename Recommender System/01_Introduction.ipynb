{
 "cells": [
  {
   "cell_type": "code",
   "execution_count": 4,
   "metadata": {
    "collapsed": true
   },
   "outputs": [
    {
     "name": "stderr",
     "output_type": "stream",
     "text": [
      "/anaconda3/lib/python3.6/site-packages/statsmodels/compat/pandas.py:56: FutureWarning: The pandas.core.datetools module is deprecated and will be removed in a future version. Please use the pandas.tseries module instead.\n",
      "  from pandas.core import datetools\n"
     ]
    }
   ],
   "source": [
    "import pandas as pd\n",
    "import numpy as np\n",
    "import scipy as sp\n",
    "\n",
    "import statsmodels.api as sm\n",
    "import statsmodels.formula.api as smf\n",
    "import statsmodels.stats.api as sms\n",
    "\n",
    "import matplotlib as mpl\n",
    "import matplotlib.pylab as plt\n",
    "\n",
    "import seaborn as sns"
   ]
  },
  {
   "cell_type": "markdown",
   "metadata": {},
   "source": [
    "# Table of Contents\n",
    ">## 1. What is Recommender System?\n",
    "\n",
    ">## 2. `Surprise` Package\n",
    "\n",
    ">## 3. Sample Data\n",
    "* 3.1. `MovieLens` - Movie Rating Dataset\n",
    "\n",
    ">## 4. Similarities\n",
    "* 4.1. Similarities in `surprise`\n",
    "* 4.2. Mean Squared Difference Similarity\n",
    "* 4.3. Cosine Similarity\n",
    "* 4.4. Pearson Similarity\n",
    "* 4.5. Pearson-Baseline Similarity\n",
    "\n",
    ">## 5. Algorithms\n",
    "* 5.1. Baseline Model\n",
    "* 5.2. KNN-based Algorithms\n",
    "* 5.3. Latent Factor Models\n",
    "\n",
    ">## 6. Optimization Algorithms\n",
    "\n",
    ">## 7. Performance Evaluation\n",
    "* 7.1. How to Use Models\n",
    "* 7.2. Performance Metric\n",
    "* 7.3. `evaluate` Command"
   ]
  },
  {
   "cell_type": "markdown",
   "metadata": {},
   "source": [
    "# 1. What is Recommender System?\n",
    "> * **Input**: user id, item id \n",
    "> * **Output**: rating"
   ]
  },
  {
   "cell_type": "markdown",
   "metadata": {
    "school_cell_uuid": "635a2c173704477c965b03577b508efd"
   },
   "source": [
    "# 2. `Surprise` Package\n",
    "* Developed by Nicolas Hug [github](https://github.com/NicolasHug/Surprise) [doc](http://surprise.readthedocs.io/en/latest/index.html)\n",
    "* Related Paper:\n",
    "  * `Koren2010`: \"Factor in the Neighbors: Scalable and Accurate Collaborative Filtering\",  YEHUDA KOREN. 2010\n",
    "    * http://courses.ischool.berkeley.edu/i290-dm/s11/SECURE/a1-koren.pdf\n",
    "  * `Koren2011`: \"Collaborative Filtering on Ordinal User Feedback\", Yehuda Koren and Joseph Sill, 2011\n",
    "    * http://www.ijcai.org/Proceedings/13/Papers/449.pdf"
   ]
  },
  {
   "cell_type": "code",
   "execution_count": 5,
   "metadata": {
    "school_cell_uuid": "8604c828df5346cabe12bb55d186cc6f"
   },
   "outputs": [],
   "source": [
    "import surprise"
   ]
  },
  {
   "cell_type": "code",
   "execution_count": 16,
   "metadata": {},
   "outputs": [],
   "source": [
    "from surprise import SVD\n",
    "from surprise import Dataset\n",
    "from surprise.model_selection import cross_validate"
   ]
  },
  {
   "cell_type": "markdown",
   "metadata": {
    "school_cell_uuid": "c625b53a1dbd470d841724d8f3f5fb25"
   },
   "source": [
    "# 3. Sample Data"
   ]
  },
  {
   "cell_type": "markdown",
   "metadata": {
    "school_cell_uuid": "3a5e0bccd2f6429c93b4703672e189e9"
   },
   "source": [
    "## 3.1. `MovieLens` - Movie Rating Dataset"
   ]
  },
  {
   "cell_type": "code",
   "execution_count": 6,
   "metadata": {
    "school_cell_uuid": "e530892466ef4916ab29badb88eda332"
   },
   "outputs": [
    {
     "data": {
      "text/html": [
       "<div>\n",
       "<style scoped>\n",
       "    .dataframe tbody tr th:only-of-type {\n",
       "        vertical-align: middle;\n",
       "    }\n",
       "\n",
       "    .dataframe tbody tr th {\n",
       "        vertical-align: top;\n",
       "    }\n",
       "\n",
       "    .dataframe thead th {\n",
       "        text-align: right;\n",
       "    }\n",
       "</style>\n",
       "<table border=\"1\" class=\"dataframe\">\n",
       "  <thead>\n",
       "    <tr style=\"text-align: right;\">\n",
       "      <th></th>\n",
       "      <th>user</th>\n",
       "      <th>item</th>\n",
       "      <th>rate</th>\n",
       "    </tr>\n",
       "  </thead>\n",
       "  <tbody>\n",
       "    <tr>\n",
       "      <th>0</th>\n",
       "      <td>196</td>\n",
       "      <td>242</td>\n",
       "      <td>3.0</td>\n",
       "    </tr>\n",
       "    <tr>\n",
       "      <th>1</th>\n",
       "      <td>186</td>\n",
       "      <td>302</td>\n",
       "      <td>3.0</td>\n",
       "    </tr>\n",
       "    <tr>\n",
       "      <th>2</th>\n",
       "      <td>22</td>\n",
       "      <td>377</td>\n",
       "      <td>1.0</td>\n",
       "    </tr>\n",
       "    <tr>\n",
       "      <th>3</th>\n",
       "      <td>244</td>\n",
       "      <td>51</td>\n",
       "      <td>2.0</td>\n",
       "    </tr>\n",
       "    <tr>\n",
       "      <th>4</th>\n",
       "      <td>166</td>\n",
       "      <td>346</td>\n",
       "      <td>1.0</td>\n",
       "    </tr>\n",
       "  </tbody>\n",
       "</table>\n",
       "</div>"
      ],
      "text/plain": [
       "  user item  rate\n",
       "0  196  242   3.0\n",
       "1  186  302   3.0\n",
       "2   22  377   1.0\n",
       "3  244   51   2.0\n",
       "4  166  346   1.0"
      ]
     },
     "execution_count": 6,
     "metadata": {},
     "output_type": "execute_result"
    }
   ],
   "source": [
    "data = surprise.Dataset.load_builtin('ml-100k')\n",
    "\n",
    "df = pd.DataFrame(data.raw_ratings, columns=[\"user\", \"item\", \"rate\", \"id\"])\n",
    "del df[\"id\"]\n",
    "df.head(5)"
   ]
  },
  {
   "cell_type": "markdown",
   "metadata": {},
   "source": [
    "### from this, make `rate matrix`, $R$ (pivot table - $x$: item, $y$: user itd)"
   ]
  },
  {
   "cell_type": "code",
   "execution_count": 7,
   "metadata": {
    "school_cell_uuid": "ddcce331685047339e66e67de7951513"
   },
   "outputs": [
    {
     "data": {
      "text/html": [
       "<div>\n",
       "<style scoped>\n",
       "    .dataframe tbody tr th:only-of-type {\n",
       "        vertical-align: middle;\n",
       "    }\n",
       "\n",
       "    .dataframe tbody tr th {\n",
       "        vertical-align: top;\n",
       "    }\n",
       "\n",
       "    .dataframe thead tr th {\n",
       "        text-align: left;\n",
       "    }\n",
       "\n",
       "    .dataframe thead tr:last-of-type th {\n",
       "        text-align: right;\n",
       "    }\n",
       "</style>\n",
       "<table border=\"1\" class=\"dataframe\">\n",
       "  <thead>\n",
       "    <tr>\n",
       "      <th></th>\n",
       "      <th colspan=\"9\" halign=\"left\">rate</th>\n",
       "    </tr>\n",
       "    <tr>\n",
       "      <th>item</th>\n",
       "      <th>211</th>\n",
       "      <th>212</th>\n",
       "      <th>213</th>\n",
       "      <th>214</th>\n",
       "      <th>215</th>\n",
       "      <th>216</th>\n",
       "      <th>217</th>\n",
       "      <th>218</th>\n",
       "      <th>219</th>\n",
       "    </tr>\n",
       "    <tr>\n",
       "      <th>user</th>\n",
       "      <th></th>\n",
       "      <th></th>\n",
       "      <th></th>\n",
       "      <th></th>\n",
       "      <th></th>\n",
       "      <th></th>\n",
       "      <th></th>\n",
       "      <th></th>\n",
       "      <th></th>\n",
       "    </tr>\n",
       "  </thead>\n",
       "  <tbody>\n",
       "    <tr>\n",
       "      <th>290</th>\n",
       "      <td>3</td>\n",
       "      <td></td>\n",
       "      <td></td>\n",
       "      <td></td>\n",
       "      <td></td>\n",
       "      <td>4</td>\n",
       "      <td></td>\n",
       "      <td>2</td>\n",
       "      <td></td>\n",
       "    </tr>\n",
       "    <tr>\n",
       "      <th>291</th>\n",
       "      <td></td>\n",
       "      <td>4</td>\n",
       "      <td></td>\n",
       "      <td>4</td>\n",
       "      <td>4</td>\n",
       "      <td></td>\n",
       "      <td></td>\n",
       "      <td>4</td>\n",
       "      <td>4</td>\n",
       "    </tr>\n",
       "    <tr>\n",
       "      <th>292</th>\n",
       "      <td></td>\n",
       "      <td></td>\n",
       "      <td></td>\n",
       "      <td>3</td>\n",
       "      <td></td>\n",
       "      <td></td>\n",
       "      <td></td>\n",
       "      <td></td>\n",
       "      <td></td>\n",
       "    </tr>\n",
       "    <tr>\n",
       "      <th>293</th>\n",
       "      <td>4</td>\n",
       "      <td></td>\n",
       "      <td>3</td>\n",
       "      <td></td>\n",
       "      <td>4</td>\n",
       "      <td>4</td>\n",
       "      <td>3</td>\n",
       "      <td>2</td>\n",
       "      <td></td>\n",
       "    </tr>\n",
       "    <tr>\n",
       "      <th>294</th>\n",
       "      <td></td>\n",
       "      <td></td>\n",
       "      <td></td>\n",
       "      <td></td>\n",
       "      <td></td>\n",
       "      <td></td>\n",
       "      <td></td>\n",
       "      <td></td>\n",
       "      <td></td>\n",
       "    </tr>\n",
       "    <tr>\n",
       "      <th>295</th>\n",
       "      <td></td>\n",
       "      <td></td>\n",
       "      <td>5</td>\n",
       "      <td></td>\n",
       "      <td>5</td>\n",
       "      <td>5</td>\n",
       "      <td>4</td>\n",
       "      <td>5</td>\n",
       "      <td></td>\n",
       "    </tr>\n",
       "    <tr>\n",
       "      <th>296</th>\n",
       "      <td>4</td>\n",
       "      <td></td>\n",
       "      <td></td>\n",
       "      <td></td>\n",
       "      <td></td>\n",
       "      <td></td>\n",
       "      <td></td>\n",
       "      <td></td>\n",
       "      <td></td>\n",
       "    </tr>\n",
       "    <tr>\n",
       "      <th>297</th>\n",
       "      <td>4</td>\n",
       "      <td></td>\n",
       "      <td>3</td>\n",
       "      <td></td>\n",
       "      <td>2</td>\n",
       "      <td>4</td>\n",
       "      <td></td>\n",
       "      <td>3</td>\n",
       "      <td></td>\n",
       "    </tr>\n",
       "    <tr>\n",
       "      <th>298</th>\n",
       "      <td>5</td>\n",
       "      <td></td>\n",
       "      <td>3</td>\n",
       "      <td></td>\n",
       "      <td>5</td>\n",
       "      <td></td>\n",
       "      <td></td>\n",
       "      <td></td>\n",
       "      <td></td>\n",
       "    </tr>\n",
       "    <tr>\n",
       "      <th>299</th>\n",
       "      <td>4</td>\n",
       "      <td>4</td>\n",
       "      <td>5</td>\n",
       "      <td></td>\n",
       "      <td></td>\n",
       "      <td>5</td>\n",
       "      <td></td>\n",
       "      <td></td>\n",
       "      <td></td>\n",
       "    </tr>\n",
       "  </tbody>\n",
       "</table>\n",
       "</div>"
      ],
      "text/plain": [
       "     rate                                \n",
       "item  211 212 213 214 215 216 217 218 219\n",
       "user                                     \n",
       "290     3                   4       2    \n",
       "291         4       4   4           4   4\n",
       "292                 3                    \n",
       "293     4       3       4   4   3   2    \n",
       "294                                      \n",
       "295             5       5   5   4   5    \n",
       "296     4                                \n",
       "297     4       3       2   4       3    \n",
       "298     5       3       5                \n",
       "299     4   4   5           5            "
      ]
     },
     "execution_count": 7,
     "metadata": {},
     "output_type": "execute_result"
    }
   ],
   "source": [
    "df_table = df.set_index([\"user\", \"item\"]).unstack()\n",
    "\n",
    "df_table.iloc[212:222, 808:817].fillna(\"\")"
   ]
  },
  {
   "cell_type": "markdown",
   "metadata": {
    "school_cell_uuid": "4d634f50b083436b86525103106632de"
   },
   "source": [
    "### we can visualizae this sparse matrix"
   ]
  },
  {
   "cell_type": "code",
   "execution_count": 8,
   "metadata": {
    "school_cell_uuid": "e8f791532c1c4382b0cf0d9ca36ae73e"
   },
   "outputs": [
    {
     "data": {
      "image/png": "[encoded data removed]",
      "text/plain": [
       "<matplotlib.figure.Figure at 0x103ebab00>"
      ]
     },
     "metadata": {},
     "output_type": "display_data"
    }
   ],
   "source": [
    "plt.imshow(df_table)\n",
    "plt.grid(False)\n",
    "plt.xlabel(\"item\")\n",
    "plt.ylabel(\"user\")\n",
    "plt.title(\"Rate Matrix\")\n",
    "plt.show()"
   ]
  },
  {
   "cell_type": "markdown",
   "metadata": {},
   "source": [
    "# 4. Similarities"
   ]
  },
  {
   "cell_type": "markdown",
   "metadata": {
    "school_cell_uuid": "0c4ab46440354127bfa081c84efa1684"
   },
   "source": [
    "## 4.1. Similarities in `surprise`\n",
    "* **Supported Similarities**:\n",
    "  * Mean Squared Difference Similarity\n",
    "  * Cosine Similarity\n",
    "  * Pearson Similarity\n",
    "  * Pearson-Baseline Similarity\n",
    "* **Parameters**:\n",
    "  * `name`: default=`'MSD'`.\n",
    "  * `user_based`: if `False`, `item_based`\n",
    "  * `min_support`: min. no. of shared ratings / if it's lower than this value, that vector is neglected\n",
    "  * `shrinkage`: weight for shrinkage, default=`100`"
   ]
  },
  {
   "cell_type": "markdown",
   "metadata": {
    "collapsed": true,
    "school_cell_uuid": "44e186c59dd444a9b08539e38f08a37c"
   },
   "source": [
    "## 4.2. Mean Squared Difference Similarity"
   ]
  },
  {
   "cell_type": "markdown",
   "metadata": {
    "collapsed": true,
    "school_cell_uuid": "9fbc1475d4154fa08f114e987d715ca4"
   },
   "source": [
    "* **MSD(Mean Squared Difference)**\n",
    "  * **MSD** between user $u$ and $v$ ($|I_{uv}|$: no. of items that were rated both by $u$ and $v$)\n",
    "  \n",
    ">$$ \\text{msd}(u, v) = \\frac{1}{|I_{uv}|} \\cdot \\sum\\limits_{i \\in I_{uv}} (r_{ui} - r_{vi})^2 $$\n",
    "\n",
    "  * **MSD** between items $i$ and $j$ ($|U_{ij}|$: no. of users that rated both $i$ and $j$)\n",
    "  \n",
    ">$$ \\text{msd}(i, j) = \\frac{1}{|U_{ij}|} \\cdot \\sum\\limits_{u \\in U_{ij}} (r_{ui} - r_{uj})^2 $$\n",
    "\n",
    "* **MSD Similarity**\n",
    "  * Inverse of MSD\n",
    "  * add $1$ to prevent form being infinity\n",
    "\n",
    ">$$ \\begin{split}\\text{msd_sim}(u, v) &= \\frac{1}{\\text{msd}(u, v) + 1}\\\\\n",
    "\\text{msd_sim}(i, j) &= \\frac{1}{\\text{msd}(i, j) + 1}\\end{split} $$"
   ]
  },
  {
   "cell_type": "markdown",
   "metadata": {
    "collapsed": true,
    "school_cell_uuid": "1c15dcffba78451e81e9f38463e2aa09"
   },
   "source": [
    "## 4.3. Cosine Similarity"
   ]
  },
  {
   "cell_type": "markdown",
   "metadata": {
    "school_cell_uuid": "b865a97c56f3411aa082c7a088da7ea9"
   },
   "source": [
    "* **Cosine Similarity**\n",
    "\n",
    ">$$ x \\cdot y = |x| |y| \\cos\\theta $$\n",
    "\n",
    ">$$ \\cos\\theta = \\dfrac{x \\cdot y}{|x| |y|}$$\n",
    "\n",
    "* Cosine Similarity **between user $u$ and $v$**\n",
    "\n",
    ">$$ \\text{cosine_sim}(u, v) = \\frac{\n",
    "\\sum\\limits_{i \\in I_{uv}} r_{ui} \\cdot r_{vi}}\n",
    "{\\sqrt{\\sum\\limits_{i \\in I_{uv}} r_{ui}^2} \\cdot\n",
    "\\sqrt{\\sum\\limits_{i \\in I_{uv}} r_{vi}^2}\n",
    "}$$\n",
    "\n",
    "\n",
    "* Cosine Similarity **between item $i$ and $j$**\n",
    "\n",
    ">$$ \\text{cosine_sim}(i, j) = \\frac{\n",
    "\\sum\\limits_{u \\in U_{ij}} r_{ui} \\cdot r_{uj}}\n",
    "{\\sqrt{\\sum\\limits_{u \\in U_{ij}} r_{ui}^2} \\cdot\n",
    "\\sqrt{\\sum\\limits_{u \\in U_{ij}} r_{uj}^2}\n",
    "} $$"
   ]
  },
  {
   "cell_type": "markdown",
   "metadata": {
    "collapsed": true,
    "school_cell_uuid": "14c7bc3420914b7a9e972c8bc94e7c85"
   },
   "source": [
    "## 4.4. Pearson Similarity"
   ]
  },
  {
   "cell_type": "markdown",
   "metadata": {
    "collapsed": true,
    "school_cell_uuid": "007c17a692fd498cac20a8293a9073ac"
   },
   "source": [
    "* **Pearson Similarity**: Pearson correlation coefficient between two vectors / **ranges from 0 to 1**\n",
    "\n",
    "* Pearson Similarity **between user $u$ and $v$**\n",
    "\n",
    "  * $\\mu_u$: average rating from user $u$\n",
    "\n",
    ">$$ \\text{pearson_sim}(u, v) = \\frac{\n",
    "\\sum\\limits_{i \\in I_{uv}} (r_{ui} -  \\mu_u) \\cdot (r_{vi} - \\mu_{v})}\n",
    "{\\sqrt{\\sum\\limits_{i \\in I_{uv}} (r_{ui} -  \\mu_u)^2} \\cdot\n",
    "\\sqrt{\\sum\\limits_{i \\in I_{uv}} (r_{vi} -  \\mu_{v})^2}\n",
    "} $$\n",
    "\n",
    "* Pearson Similarity **between item $i$ and $j$**\n",
    "\n",
    "  * $\\mu_i$L: average rating for item $i$\n",
    "\n",
    ">$$\n",
    "\\text{pearson_sim}(i, j) = \\frac{\n",
    "\\sum\\limits_{u \\in U_{ij}} (r_{ui} -  \\mu_i) \\cdot (r_{uj} - \\mu_{j})}\n",
    "{\\sqrt{\\sum\\limits_{u \\in U_{ij}} (r_{ui} -  \\mu_i)^2} \\cdot\n",
    "\\sqrt{\\sum\\limits_{u \\in U_{ij}} (r_{uj} -  \\mu_{j})^2}\n",
    "}\n",
    "$$"
   ]
  },
  {
   "cell_type": "markdown",
   "metadata": {
    "collapsed": true,
    "school_cell_uuid": "79fd8d5fac3641af957ac923b307726b"
   },
   "source": [
    "## 4.5. Pearson-Baseline Similarity"
   ]
  },
  {
   "cell_type": "markdown",
   "metadata": {
    "collapsed": true,
    "school_cell_uuid": "655c34d1492147c8a202bde609af3cbd"
   },
   "source": [
    "* Similar to Pearson similarity, but instead of average, use the prediction obtained from the baseline model\n",
    "\n",
    "* Pearson-Baseline Similarity **between user $u$ and $v$**\n",
    "\n",
    ">$$ \\text{pearson_baseline_sim}(u, v) = \\hat{\\rho}_{uv} = \\frac{\n",
    "\\sum\\limits_{i \\in I_{uv}} (r_{ui} -  b_{ui}) \\cdot (r_{vi} - b_{vi})}\n",
    "{\\sqrt{\\sum\\limits_{i \\in I_{uv}} (r_{ui} -  b_{ui})^2} \\cdot\n",
    "\\sqrt{\\sum\\limits_{i \\in I_{uv}} (r_{vi} -  b_{vi})^2}} $$\n",
    "\n",
    "* Pearson-Baseline Similarity **between item $i$ and $j$**\n",
    "\n",
    ">$$\\text{pearson_baseline_sim}(i, j) = \\hat{\\rho}_{ij} = \\frac{\n",
    "\\sum\\limits_{u \\in U_{ij}} (r_{ui} -  b_{ui}) \\cdot (r_{uj} - b_{uj})}\n",
    "{\\sqrt{\\sum\\limits_{u \\in U_{ij}} (r_{ui} -  b_{ui})^2} \\cdot\n",
    "\\sqrt{\\sum\\limits_{u \\in U_{ij}} (r_{uj} -  b_{uj})^2}}$$\n",
    "\n",
    "* Pearson-Baseline **Shrunk** Similarity\n",
    "  * Regularize with the no. of shared ratings (shrinkage)\n",
    "\n",
    ">$$ \\begin{split}\\text{pearson_baseline_shrunk_sim}(u, v) &= \\frac{|I_{uv}| - 1}\n",
    "{|I_{uv}| - 1 + \\text{shrinkage}} \\cdot \\hat{\\rho}_{uv}\\end{split} $$\n",
    "\n",
    ">$$ \\begin{split}\\text{pearson_baseline_shrunk_sim}(i, j) &= \\frac{|U_{ij}| - 1}\n",
    "{|U_{ij}| - 1 + \\text{shrinkage}} \\cdot \\hat{\\rho}_{ij}\\end{split} $$"
   ]
  },
  {
   "cell_type": "markdown",
   "metadata": {
    "school_cell_uuid": "2b6cfb27f15a4f8695271a6ef6641b63"
   },
   "source": [
    "# 5. Algorithms\n",
    "\n",
    "* **Frequently Used Algorithms:**\n",
    "  1. Baseline Model\n",
    "  2. Collaborative Filtering\n",
    "    * 2-1. Neighborhood Models\n",
    "      * User-based CF\n",
    "      * Item-based CF\n",
    "    * 2-2. Latent Factor Models \n",
    "      * Matrix Factorization\n",
    "      * SVD \n",
    "  3. Content-Based Recommendation"
   ]
  },
  {
   "cell_type": "markdown",
   "metadata": {
    "school_cell_uuid": "4431446ea9b8430194241ef00d231b09"
   },
   "source": [
    "## 5.1. Baseline Model\n",
    "* Simplest model - uses two categorical variables (user $u$ and item id $i$)\n",
    "\n",
    "$$ \\hat{r}_{ui} = \\mu + b_u + b_i $$\n",
    "\n",
    "* $\\mu$: average rating\n",
    "* $b_u$: bias for user\n",
    "* $b_i$: bias for item\n",
    "\n",
    ">#### Cost function:\n",
    "$$ \\sum_{r_{ui} \\in R_{train}} \\left(r_{ui} - (\\mu + b_u + b_i)\\right)^2 $$\n",
    "\n",
    ">#### Cost function (with regularization)\n",
    "$$ \\sum_{r_{ui} \\in R_{train}} \\left(r_{ui} - (\\mu + b_u + b_i)\\right)^2 + \\lambda \\left(b_u^2 + b_i^2 \\right) $$"
   ]
  },
  {
   "cell_type": "markdown",
   "metadata": {
    "school_cell_uuid": "0e50b1ca145542d89f29e629a5377995"
   },
   "source": [
    "## 5.2. KNN-based Algorithms"
   ]
  },
  {
   "cell_type": "markdown",
   "metadata": {
    "collapsed": true,
    "school_cell_uuid": "a73747217d87427993a437e23c5d0fc8"
   },
   "source": [
    "* Method:\n",
    "  * 1. Selected $k$ users(items) with highest similarities\n",
    "  * 2. Obtain **weighted average**"
   ]
  },
  {
   "cell_type": "markdown",
   "metadata": {
    "collapsed": true,
    "school_cell_uuid": "7790c249c54949f3b7595d56e6266099"
   },
   "source": [
    "### `KNNBasic`\n",
    "* Simple weighted average / $N^k$: set of $k$ vectors with highest similarities\n",
    "* **USERS**\n",
    ">$$  \n",
    "\\hat{r}_{ui} = \\frac{\n",
    "        \\sum\\limits_{v \\in N^k_i(u)} \\text{sim}(u, v) \\cdot r_{vi}}\n",
    "        {\\sum\\limits_{v \\in N^k_i(u)} \\text{sim}(u, v)} $$\n",
    "        \n",
    "* **ITEMS**\n",
    "\n",
    ">$$\n",
    "\\hat{r}_{ui} = \\frac{\n",
    "        \\sum\\limits_{j \\in N^k_u(i)} \\text{sim}(i, j) \\cdot r_{uj}}\n",
    "        {\\sum\\limits_{j \\in N^k_u(j)} \\text{sim}(i, j)}\n",
    "$$"
   ]
  },
  {
   "cell_type": "markdown",
   "metadata": {
    "collapsed": true,
    "school_cell_uuid": "6bec2aa5234b484c8d301f5f4946cf64"
   },
   "source": [
    "### `KNNWithMeans`\n",
    "* Weighted average **around mean values**\n",
    "* **USERS**\n",
    "\n",
    ">$$  \n",
    "\\hat{r}_{ui} = \\mu_u + \\frac{ \\sum\\limits_{v \\in N^k_i(u)}\n",
    "\\text{sim}(u, v) \\cdot (r_{vi} - \\mu_v)} {\\sum\\limits_{v \\in\n",
    "N^k_i(u)} \\text{sim}(u, v)}\n",
    "$$\n",
    "\n",
    "* **ITEMS**\n",
    "\n",
    ">$$\n",
    "\\hat{r}_{ui} = \\mu_i + \\frac{ \\sum\\limits_{j \\in N^k_u(i)}\n",
    "\\text{sim}(i, j) \\cdot (r_{uj} - \\mu_j)} {\\sum\\limits_{j \\in\n",
    "N^k_u(i)} \\text{sim}(i, j)}\n",
    "$$"
   ]
  },
  {
   "cell_type": "markdown",
   "metadata": {
    "collapsed": true,
    "school_cell_uuid": "0743b8102ff0491aae5fd8dd07562e58"
   },
   "source": [
    "### `KNNBaseline`\n",
    "* Weighted average **around baseline values**\n",
    "* **USERS**\n",
    "\n",
    ">$$  \n",
    "\\hat{r}_{ui} = b_{ui} + \\frac{ \\sum\\limits_{v \\in N^k_i(u)}\n",
    "\\text{sim}(u, v) \\cdot (r_{vi} - b_{vi})} {\\sum\\limits_{v \\in\n",
    "N^k_i(u)} \\text{sim}(u, v)}\n",
    "$$\n",
    "\n",
    "* **ITEMS**\n",
    "\n",
    ">$$\n",
    "\\hat{r}_{ui} = b_{ui} + \\frac{ \\sum\\limits_{j \\in N^k_u(i)}\n",
    "\\text{sim}(i, j) \\cdot (r_{uj} - b_{uj})} {\\sum\\limits_{j \\in\n",
    "N^k_u(j)} \\text{sim}(i, j)}\n",
    "$$\n",
    "\n"
   ]
  },
  {
   "cell_type": "markdown",
   "metadata": {
    "collapsed": true,
    "school_cell_uuid": "948d5ca35db348babed98f49ea102e5f"
   },
   "source": [
    "### KNN-based Algorithms in `surprise`"
   ]
  },
  {
   "cell_type": "code",
   "execution_count": 17,
   "metadata": {
    "collapsed": true,
    "school_cell_uuid": "e11637f9a4e248b481a920144da63d24"
   },
   "outputs": [
    {
     "name": "stdout",
     "output_type": "stream",
     "text": [
      "Computing the msd similarity matrix...\n",
      "Done computing similarity matrix.\n",
      "Computing the msd similarity matrix...\n",
      "Done computing similarity matrix.\n",
      "Computing the msd similarity matrix...\n",
      "Done computing similarity matrix.\n",
      "Computing the msd similarity matrix...\n",
      "Done computing similarity matrix.\n",
      "Computing the msd similarity matrix...\n",
      "Done computing similarity matrix.\n"
     ]
    },
    {
     "data": {
      "text/plain": [
       "{'fit_time': (0.323789119720459,\n",
       "  0.28292298316955566,\n",
       "  0.28261590003967285,\n",
       "  0.29704809188842773,\n",
       "  0.33688902854919434),\n",
       " 'test_mae': array([0.77968809, 0.77318302, 0.76914665, 0.77689954, 0.76406517]),\n",
       " 'test_rmse': array([0.98665443, 0.98010143, 0.9776492 , 0.98181878, 0.96428662]),\n",
       " 'test_time': (2.438403844833374,\n",
       "  2.527099132537842,\n",
       "  2.7167551517486572,\n",
       "  2.7209510803222656,\n",
       "  3.068701982498169)}"
      ]
     },
     "execution_count": 17,
     "metadata": {},
     "output_type": "execute_result"
    }
   ],
   "source": [
    "sim_options = {'name': 'msd'}\n",
    "algo = surprise.KNNBasic(sim_options=sim_options)\n",
    "cross_validate(algo, data)"
   ]
  },
  {
   "cell_type": "code",
   "execution_count": 10,
   "metadata": {
    "collapsed": true,
    "school_cell_uuid": "64c0940e9b7f4b3fb93d5298d2dd600f"
   },
   "outputs": [
    {
     "name": "stdout",
     "output_type": "stream",
     "text": [
      "Computing the cosine similarity matrix...\n",
      "Done computing similarity matrix.\n",
      "Computing the cosine similarity matrix...\n",
      "Done computing similarity matrix.\n",
      "Computing the cosine similarity matrix...\n",
      "Done computing similarity matrix.\n",
      "Computing the cosine similarity matrix...\n",
      "Done computing similarity matrix.\n",
      "Computing the cosine similarity matrix...\n",
      "Done computing similarity matrix.\n"
     ]
    },
    {
     "data": {
      "text/plain": [
       "{'test_rmse': array([ 1.02165374,  1.01094947,  1.01980738,  1.01184665,  1.02300541]),\n",
       " 'test_mae': array([ 0.80651253,  0.79884201,  0.80939573,  0.79869422,  0.80983937]),\n",
       " 'fit_time': (1.303879737854004,\n",
       "  1.323483943939209,\n",
       "  1.3509433269500732,\n",
       "  1.3605411052703857,\n",
       "  1.395949125289917),\n",
       " 'test_time': (3.7023730278015137,\n",
       "  3.8315958976745605,\n",
       "  4.047341346740723,\n",
       "  3.92519211769104,\n",
       "  3.9541914463043213)}"
      ]
     },
     "execution_count": 10,
     "metadata": {},
     "output_type": "execute_result"
    }
   ],
   "source": [
    "sim_options = {'name': 'cosine'}\n",
    "algo = surprise.KNNBasic(sim_options=sim_options)\n",
    "cross_validate(algo, data)"
   ]
  },
  {
   "cell_type": "code",
   "execution_count": 11,
   "metadata": {
    "collapsed": true,
    "school_cell_uuid": "fcb316ae97274e6ba24e28237f787104"
   },
   "outputs": [
    {
     "name": "stdout",
     "output_type": "stream",
     "text": [
      "Computing the pearson similarity matrix...\n",
      "Done computing similarity matrix.\n",
      "Computing the pearson similarity matrix...\n",
      "Done computing similarity matrix.\n",
      "Computing the pearson similarity matrix...\n",
      "Done computing similarity matrix.\n",
      "Computing the pearson similarity matrix...\n",
      "Done computing similarity matrix.\n",
      "Computing the pearson similarity matrix...\n",
      "Done computing similarity matrix.\n"
     ]
    },
    {
     "data": {
      "text/plain": [
       "{'test_rmse': array([ 1.01278354,  1.00450375,  1.0174979 ,  1.01443365,  1.01270663]),\n",
       " 'test_mae': array([ 0.80344258,  0.79499421,  0.81000706,  0.80615134,  0.8017943 ]),\n",
       " 'fit_time': (1.8531792163848877,\n",
       "  1.846214771270752,\n",
       "  1.9597270488739014,\n",
       "  1.8481721878051758,\n",
       "  2.1341586112976074),\n",
       " 'test_time': (3.7127163410186768,\n",
       "  3.9470386505126953,\n",
       "  3.9085874557495117,\n",
       "  7.5518574714660645,\n",
       "  3.919593572616577)}"
      ]
     },
     "execution_count": 11,
     "metadata": {},
     "output_type": "execute_result"
    }
   ],
   "source": [
    "sim_options = {'name': 'pearson'}\n",
    "algo = surprise.KNNBasic(sim_options=sim_options)\n",
    "cross_validate(algo, data)"
   ]
  },
  {
   "cell_type": "code",
   "execution_count": 12,
   "metadata": {
    "collapsed": true,
    "school_cell_uuid": "66e5753bf2f24289ac72f34b26200806"
   },
   "outputs": [
    {
     "name": "stdout",
     "output_type": "stream",
     "text": [
      "Estimating biases using als...\n",
      "Computing the pearson_baseline similarity matrix...\n",
      "Done computing similarity matrix.\n",
      "Estimating biases using als...\n",
      "Computing the pearson_baseline similarity matrix...\n",
      "Done computing similarity matrix.\n",
      "Estimating biases using als...\n",
      "Computing the pearson_baseline similarity matrix...\n",
      "Done computing similarity matrix.\n",
      "Estimating biases using als...\n",
      "Computing the pearson_baseline similarity matrix...\n",
      "Done computing similarity matrix.\n",
      "Estimating biases using als...\n",
      "Computing the pearson_baseline similarity matrix...\n",
      "Done computing similarity matrix.\n"
     ]
    },
    {
     "data": {
      "text/plain": [
       "{'test_rmse': array([ 0.99420964,  0.99381429,  1.00551851,  1.00607764,  1.00277361]),\n",
       " 'test_mae': array([ 0.78802934,  0.78557554,  0.79468128,  0.79776647,  0.79233398]),\n",
       " 'fit_time': (1.795619010925293,\n",
       "  2.116408109664917,\n",
       "  2.273113250732422,\n",
       "  2.5860753059387207,\n",
       "  2.083158254623413),\n",
       " 'test_time': (5.638208866119385,\n",
       "  4.88642692565918,\n",
       "  4.985062122344971,\n",
       "  6.019118309020996,\n",
       "  4.04525351524353)}"
      ]
     },
     "execution_count": 12,
     "metadata": {},
     "output_type": "execute_result"
    }
   ],
   "source": [
    "sim_options = {'name': 'pearson_baseline'}\n",
    "algo = surprise.KNNBasic(sim_options=sim_options)\n",
    "cross_validate(algo, data)"
   ]
  },
  {
   "cell_type": "code",
   "execution_count": 13,
   "metadata": {
    "collapsed": true,
    "school_cell_uuid": "30a2708788434a4d9a95c0ea64ee9b52"
   },
   "outputs": [
    {
     "name": "stdout",
     "output_type": "stream",
     "text": [
      "Estimating biases using als...\n",
      "Computing the pearson_baseline similarity matrix...\n",
      "Done computing similarity matrix.\n",
      "Estimating biases using als...\n",
      "Computing the pearson_baseline similarity matrix...\n",
      "Done computing similarity matrix.\n",
      "Estimating biases using als...\n",
      "Computing the pearson_baseline similarity matrix...\n",
      "Done computing similarity matrix.\n",
      "Estimating biases using als...\n",
      "Computing the pearson_baseline similarity matrix...\n",
      "Done computing similarity matrix.\n",
      "Estimating biases using als...\n",
      "Computing the pearson_baseline similarity matrix...\n",
      "Done computing similarity matrix.\n"
     ]
    },
    {
     "data": {
      "text/plain": [
       "{'test_rmse': array([ 0.93804715,  0.9416346 ,  0.93537587,  0.94230831,  0.92905337]),\n",
       " 'test_mae': array([ 0.73170063,  0.73366927,  0.72843607,  0.73115355,  0.7247833 ]),\n",
       " 'fit_time': (1.7749543190002441,\n",
       "  2.5262176990509033,\n",
       "  2.0504660606384277,\n",
       "  2.4988651275634766,\n",
       "  2.088900089263916),\n",
       " 'test_time': (4.666452169418335,\n",
       "  5.268358945846558,\n",
       "  6.318281888961792,\n",
       "  4.022022247314453,\n",
       "  6.14544677734375)}"
      ]
     },
     "execution_count": 13,
     "metadata": {},
     "output_type": "execute_result"
    }
   ],
   "source": [
    "sim_options = {'name': 'pearson_baseline'}\n",
    "algo = surprise.KNNWithMeans(sim_options=sim_options)\n",
    "cross_validate(algo, data)"
   ]
  },
  {
   "cell_type": "code",
   "execution_count": 14,
   "metadata": {
    "collapsed": true,
    "school_cell_uuid": "a65e137ee4eb45f5bfa6779df7c22337"
   },
   "outputs": [
    {
     "name": "stdout",
     "output_type": "stream",
     "text": [
      "Estimating biases using als...\n",
      "Computing the pearson_baseline similarity matrix...\n",
      "Done computing similarity matrix.\n",
      "Estimating biases using als...\n",
      "Computing the pearson_baseline similarity matrix...\n",
      "Done computing similarity matrix.\n",
      "Estimating biases using als...\n",
      "Computing the pearson_baseline similarity matrix...\n",
      "Done computing similarity matrix.\n",
      "Estimating biases using als...\n",
      "Computing the pearson_baseline similarity matrix...\n",
      "Done computing similarity matrix.\n",
      "Estimating biases using als...\n",
      "Computing the pearson_baseline similarity matrix...\n",
      "Done computing similarity matrix.\n"
     ]
    },
    {
     "data": {
      "text/plain": [
       "{'test_rmse': array([ 0.93960922,  0.92989621,  0.94359357,  0.93047967,  0.94191645]),\n",
       " 'test_mae': array([ 0.73101426,  0.72355947,  0.73434632,  0.72678205,  0.73374179]),\n",
       " 'fit_time': (2.359276533126831,\n",
       "  2.7003281116485596,\n",
       "  1.7818269729614258,\n",
       "  1.783245325088501,\n",
       "  1.8559072017669678),\n",
       " 'test_time': (5.666726350784302,\n",
       "  3.786963701248169,\n",
       "  3.863645076751709,\n",
       "  3.725850820541382,\n",
       "  4.133976459503174)}"
      ]
     },
     "execution_count": 14,
     "metadata": {},
     "output_type": "execute_result"
    }
   ],
   "source": [
    "sim_options = {'name': 'pearson_baseline'}\n",
    "algo = surprise.KNNBaseline(sim_options=sim_options)\n",
    "cross_validate(algo, data)"
   ]
  },
  {
   "cell_type": "markdown",
   "metadata": {
    "school_cell_uuid": "7429d42999b64a9380914e5c87f76d4d"
   },
   "source": [
    "## 5.3. Latent Factor Models"
   ]
  },
  {
   "cell_type": "markdown",
   "metadata": {
    "school_cell_uuid": "8f54c8201e0442ef9e0d29b90d21b413"
   },
   "source": [
    "* Dimensionality Reduction\n",
    "* Tries to approximate the user(item) with several latent factors\n",
    "* Example:\n",
    "  * Movies $\\rightarrow$ categorize into genres $\\rightarrow$ create factor vector\n",
    "  * **User A**: hates Action(-1), likes Comedy(+2), likes Drama(3)\n",
    ">$$ p_u^T = (-1, 2, 3) $$  \n",
    "  * **Movie A**: Action(+2), Comedy(+1), Drama(+3)\n",
    ">$$ q_i^T = (2, 1, 1) $$\n",
    "  * **Rating**:  \n",
    ">$$ r_{ui} = q_i^Tp_u = -1 \\cdot 2 + 2 \\cdot 1 + 3 \\cdot 1 = 3$$"
   ]
  },
  {
   "cell_type": "markdown",
   "metadata": {
    "school_cell_uuid": "86af9a2d1ae24fdca5c2a045f0e6c052"
   },
   "source": [
    "### LFM - Matrix Factorization\n",
    "* Tries to find $P$ and $Q$ in the folloing relation\n",
    "\n",
    ">$$ R \\approx PQ^T  $$\n",
    ">* $R \\in \\mathbf{R}^{m \\times n}$ : $m$ Users X $n$ Items\n",
    ">* $P \\in \\mathbf{R}^{m \\times k}$ : $m$ Users X $k$ Factors\n",
    ">* $Q \\in \\mathbf{R}^{n \\times k}$ : $n$ Items X $k$ Factors"
   ]
  },
  {
   "cell_type": "markdown",
   "metadata": {
    "school_cell_uuid": "63128a63be90465984369ba00a1de101"
   },
   "source": [
    "### LFM - SVD (Singular Value Decomposition) \n",
    "* **Singular Value Decomposition**\n",
    "\n",
    ">$$ R =  U \\Sigma V^T $$\n",
    ">* $U$: $m \\times m$ / inverse is symmetric\n",
    ">* $\\Sigma$: $m \\times n$ / non-diagonal components: 0\n",
    ">* $V$: $n \\times n$ / inverse is symmetric\n",
    "\n",
    "* Diagonal of $\\Sigma$: Singular Values\n",
    "* Use the highest $k$ values, make **truncated SVD**\n",
    "\n",
    ">* $\\hat{U}$: $m \\times k$ / $k$ components corresponding to $k$ values \n",
    ">* $\\hat{\\Sigma}$: $k \\times k$ / diagonal \n",
    ">* $\\hat{V}$: $k \\times n$ / $k$ components corresponding to $k$ values\n",
    ">$$ \\hat{U} \\hat{\\Sigma} \\hat{V}^T =  \\hat{R} \\approx R $$\n",
    "\n",
    "* Yet, since the matrix is sparse, $P$ and $Q$ are obtained by minimizing the following error function\n",
    "\n",
    ">$$ \\hat{r}_{ui} = \\mu + b_u + b_i + q_i^Tp_u $$\n",
    "\n",
    ">$$ \\sum_{r_{ui} \\in R_{train}} \\left(r_{ui} - \\hat{r}_{ui} \\right)^2 +\n",
    "\\lambda\\left(b_i^2 + b_u^2 + ||q_i||^2 + ||p_u||^2\\right) $$"
   ]
  },
  {
   "cell_type": "markdown",
   "metadata": {
    "school_cell_uuid": "5d68bf2e64134075beedcc2b5bb34711"
   },
   "source": [
    "### Latent Factor Models in `surprise`\n",
    "* `matrix_factorization` sub-package $\\rightarrow$ `SVD` & `SVDpp`\n",
    "* [for more info](http://surprise.readthedocs.io/en/latest/matrix_factorization.html)"
   ]
  },
  {
   "cell_type": "code",
   "execution_count": 15,
   "metadata": {
    "school_cell_uuid": "c564190ab0fd46feabec3842f9e62cf9"
   },
   "outputs": [
    {
     "data": {
      "text/plain": [
       "{'test_rmse': array([ 0.94552896,  0.94145917,  0.94533964,  0.94551113,  0.94411122]),\n",
       " 'test_mae': array([ 0.74430468,  0.7412709 ,  0.74515731,  0.7434894 ,  0.74311073]),\n",
       " 'fit_time': (12.17385196685791,\n",
       "  12.747670412063599,\n",
       "  12.985615491867065,\n",
       "  13.0994393825531,\n",
       "  13.013211011886597),\n",
       " 'test_time': (0.28101205825805664,\n",
       "  0.1651782989501953,\n",
       "  0.28867030143737793,\n",
       "  0.15938758850097656,\n",
       "  0.28597450256347656)}"
      ]
     },
     "execution_count": 15,
     "metadata": {},
     "output_type": "execute_result"
    }
   ],
   "source": [
    "algo = surprise.SVD(n_factors=200, n_epochs=30)\n",
    "cross_validate(algo, data)"
   ]
  },
  {
   "cell_type": "markdown",
   "metadata": {
    "school_cell_uuid": "bcebd7aea948447a8e18cb96c0e0aa40"
   },
   "source": [
    "## 6. Optimization Algorithms\n",
    "* Two optimization algorithms are available in `surprise`\n",
    "* **SGD** (Stochastic Gradient Descent)\n",
    "  * `reg`: regulation weight / default=0.02\n",
    "  * `learning_rate`: optimization step-size / default=0.005\n",
    "  * `n_epochs`: default=20\n",
    "  \n",
    "* **ALS** (Alternating Least Squares)\n",
    "  * `reg_i`: regulatoin weight for items / default=10\n",
    "  * `reg_u`: regulation weight for users / default=15\n",
    "  * `n_epochs`: default=10"
   ]
  },
  {
   "cell_type": "markdown",
   "metadata": {
    "school_cell_uuid": "7064a49cd11348349704a30a24d8efb5"
   },
   "source": [
    "# 7. Performance Evaluation"
   ]
  },
  {
   "cell_type": "markdown",
   "metadata": {},
   "source": [
    "## 7.1. How to Use Models\n",
    "\n",
    "1. Use `split`, `folds` methods to make K-Fold training/test dataset\n",
    "2. Create model algorithm object\n",
    "3. Use `train` method to estimate the parameters\n",
    "4. Use `test` method to predict test dataset\n",
    "5. Use `accuracy` sub-package to evaluate its performance\n",
    "\n",
    "* **OR** Simply use `evauate`"
   ]
  },
  {
   "cell_type": "markdown",
   "metadata": {
    "school_cell_uuid": "e2e5ca1f5b7c48e69259724b922eaab1"
   },
   "source": [
    "## 7.2. Performance Metrics\n",
    "* `accuracy` sub-package\n",
    "* **RMSE**(Root Mean Squared Error) - $\\hat{R}$: test dataset\n",
    "\n",
    ">$$ \\text{RMSE} = \\sqrt{\\frac{1}{|\\hat{R}|} \\sum_{\\hat{r}_{ui} \\in \\hat{R}}(r_{ui} - \\hat{r}_{ui})^2} $$\n",
    "\n",
    "* **MAE**(Mean Absolute Error)\n",
    "\n",
    ">$$ \\text{MAE} = \\frac{1}{|\\hat{R}|} \\sum_{\\hat{r}_{ui} \\in \\hat{R}}|r_{ui} - \\hat{r}_{ui}| $$\n",
    "\n",
    "* **FCP**(Fraction of Concordant Pairs)\n",
    "\n",
    ">* Introduced in `Karen2011` / Instead of ratings themselves, compare their relative order"
   ]
  },
  {
   "cell_type": "markdown",
   "metadata": {
    "school_cell_uuid": "cf561f1e18254ee8b33a9de8b3391802"
   },
   "source": [
    "## 7.3. `evaluate` Command"
   ]
  },
  {
   "cell_type": "markdown",
   "metadata": {
    "school_cell_uuid": "3a52c1fa1330492796873941298f9ed1"
   },
   "source": [
    "#### Example - `BaselineOnly` Class & MovieLens data"
   ]
  },
  {
   "cell_type": "code",
   "execution_count": 7,
   "metadata": {
    "school_cell_uuid": "814c41512ed843a990cdc4f01e96f71a"
   },
   "outputs": [
    {
     "name": "stdout",
     "output_type": "stream",
     "text": [
      "Estimating biases using als...\n",
      "RMSE: 0.9453\n",
      "Estimating biases using als...\n",
      "RMSE: 0.9377\n",
      "Estimating biases using als...\n",
      "RMSE: 0.9500\n"
     ]
    },
    {
     "data": {
      "text/plain": [
       "0.94433049840139416"
      ]
     },
     "execution_count": 7,
     "metadata": {},
     "output_type": "execute_result"
    }
   ],
   "source": [
    "from surprise.model_selection import KFold\n",
    "\n",
    "bsl_options = {\n",
    "    'method': 'als',\n",
    "    'n_epochs': 5,\n",
    "    'reg_u': 12,\n",
    "    'reg_i': 5\n",
    "}\n",
    "algo = surprise.BaselineOnly(bsl_options=bsl_options)\n",
    "\n",
    "np.random.seed(0)\n",
    "acc = np.zeros(3)\n",
    "cv = KFold(3)\n",
    "for i, (trainset, testset) in enumerate(cv.split(data)):\n",
    "    algo.fit(trainset)\n",
    "    predictions = algo.test(testset)\n",
    "    acc[i] = surprise.accuracy.rmse(predictions, verbose=True)\n",
    "acc.mean()"
   ]
  },
  {
   "cell_type": "code",
   "execution_count": 8,
   "metadata": {
    "school_cell_uuid": "69c2c455cefe4235ae70b40224d043d9"
   },
   "outputs": [
    {
     "name": "stdout",
     "output_type": "stream",
     "text": [
      "Estimating biases using als...\n",
      "Estimating biases using als...\n",
      "Estimating biases using als...\n",
      "Estimating biases using als...\n",
      "Estimating biases using als...\n"
     ]
    },
    {
     "data": {
      "text/plain": [
       "{'test_rmse': array([ 0.9384446 ,  0.94651657,  0.93612815,  0.94221861,  0.94428787]),\n",
       " 'test_mae': array([ 0.74477853,  0.75124267,  0.73975393,  0.745764  ,  0.74659098]),\n",
       " 'fit_time': (0.23836255073547363,\n",
       "  0.2933673858642578,\n",
       "  0.31490063667297363,\n",
       "  0.28768444061279297,\n",
       "  0.2852976322174072),\n",
       " 'test_time': (0.15769290924072266,\n",
       "  0.28904008865356445,\n",
       "  0.1457064151763916,\n",
       "  0.2879183292388916,\n",
       "  0.14188313484191895)}"
      ]
     },
     "execution_count": 8,
     "metadata": {},
     "output_type": "execute_result"
    }
   ],
   "source": [
    "from surprise.model_selection import cross_validate\n",
    "\n",
    "cross_validate(algo, data)"
   ]
  }
 ],
 "metadata": {
  "kernelspec": {
   "display_name": "Python 3",
   "language": "python",
   "name": "python3"
  },
  "language_info": {
   "codemirror_mode": {
    "name": "ipython",
    "version": 3
   },
   "file_extension": ".py",
   "mimetype": "text/x-python",
   "name": "python",
   "nbconvert_exporter": "python",
   "pygments_lexer": "ipython3",
   "version": "3.6.4"
  }
 },
 "nbformat": 4,
 "nbformat_minor": 2
}
