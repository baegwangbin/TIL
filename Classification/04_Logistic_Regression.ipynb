{
 "cells": [
  {
   "cell_type": "code",
   "execution_count": 23,
   "metadata": {},
   "outputs": [],
   "source": [
    "import numpy as np\n",
    "import scipy as sp\n",
    "import pandas as pd\n",
    "import seaborn as sns\n",
    "import matplotlib.pyplot as plt\n",
    "import statsmodels.api as sm\n",
    "import matplotlib as mpl"
   ]
  },
  {
   "cell_type": "markdown",
   "metadata": {},
   "source": [
    "# Table of Contents\n",
    ">## 1. Algorithm\n",
    "## 2. Sigmoid Functions\n",
    "## 3. More about Logistic Function\n",
    "## 4. Linear Decision Function\n",
    "## 5. MLE\n",
    "## 6. Numerical Optimization\n",
    "## 7. Normalization\n",
    "## 8. Performance Metric\n",
    "## 9. Logistic Regression in `Statsmodels`\n",
    "## 10. Logistic Regression in `Scikit-Learn`\n",
    "## 11. Example - Micheling Guide Rating Prediction"
   ]
  },
  {
   "cell_type": "markdown",
   "metadata": {
    "school_cell_uuid": "145a687dcf4e4550945831bf4ac24b92"
   },
   "source": [
    "## 1.  Algorithm\n",
    "* **Regression**\n",
    "  * Use when `0 <= y <= N`\n",
    "  * $ p(y \\mid x) = \\text{Bin} (y \\mid \\theta(x), N) $\n",
    "* **Classification**\n",
    "  * Use when `y = 0 or 1`\n",
    "  * $ p(y \\mid x) = \\text{Bern} (y \\mid  \\theta(x) )$\n",
    "* **Algorithm**\n",
    "  \n",
    "$$ \\hat{y} = \\begin{cases} 1 & \\text{ if } \\theta(x) \\geq 0.5 \\\\ 0 & \\text{ if } \\theta(x) < 0.5 \\end{cases} $$"
   ]
  },
  {
   "cell_type": "markdown",
   "metadata": {
    "school_cell_uuid": "a1b3259248e54702841dadc07737771e"
   },
   "source": [
    "## 2. Sigmoid Functions\n",
    "* Definition\n",
    "  * Bounded, Differentiable, Real function that is\n",
    "  * Defined for all real input values and\n",
    "  * Has a non-negative derivative at each point\n",
    "\n",
    "### Frequently Used Sigmoid Functions\n",
    "* Logistic Function\n",
    "$$ \\text{logitstic}(z) = \\sigma(z) = \\dfrac{1}{1+\\exp{(-z)}} $$\n",
    "* Hyperbolic Tangent\n",
    "$$ \\tanh(z) = \\frac{\\sinh z}{\\cosh z} = \\frac {e^z - e^{-z}} {e^z + e^{-z}} = 2 \\sigma(2x) - 1$$\n",
    "* Error Function\n",
    "$$ \\text{erf}(z) = \\frac{2}{\\sqrt\\pi}\\int_0^z e^{-t^2}\\,dt $$"
   ]
  },
  {
   "cell_type": "code",
   "execution_count": 18,
   "metadata": {
    "school_cell_uuid": "39de5fe7253f4e09b62c88398e1b774d"
   },
   "outputs": [
    {
     "data": {
      "image/png": "[encoded data removed]",
      "text/plain": [
       "<matplotlib.figure.Figure at 0x10dacd470>"
      ]
     },
     "metadata": {},
     "output_type": "display_data"
    }
   ],
   "source": [
    "xx = np.linspace(-5, 5, 1000)\n",
    "plt.plot(xx, 1/(1+np.exp(-xx)), 'r-', label=\"logistic\")\n",
    "plt.plot(xx, sp.special.erf(0.5*np.sqrt(np.pi)*xx), 'g:', label=\"erf\")\n",
    "plt.plot(xx, np.tanh(xx), 'b--', label=\"tanh\")\n",
    "plt.ylim([-1.1, 1.1])\n",
    "plt.legend(loc=2)\n",
    "plt.xlabel(\"x\")\n",
    "plt.ylabel(\"sigmoid\")\n",
    "plt.show()"
   ]
  },
  {
   "cell_type": "markdown",
   "metadata": {
    "school_cell_uuid": "1bb94a8063a448fc890e2007366ccf72"
   },
   "source": [
    "## 3. More about Logistic Function\n",
    "$$ \\theta=p(x=1) $$\n",
    "* Odds ratio\n",
    "$$ \\text{odds ratio} = \\dfrac{\\theta}{1-\\theta} $$\n",
    "* Logit function ($-\\infty < 0 < \\infty$)\n",
    "$$ z = \\text{logit}(\\text{odds ratio}) = \\log \\left(\\dfrac{\\theta}{1-\\theta}\\right) $$ \n",
    "* Logistic function\n",
    "$$ \\text{logitstic}(z) = \\theta(z) = \\dfrac{1}{1+\\exp{(-z)}} $$  "
   ]
  },
  {
   "cell_type": "markdown",
   "metadata": {
    "school_cell_uuid": "73b2d817e1e74ced8a7d39bc617806c5"
   },
   "source": [
    "## 4. Linear Decision Function"
   ]
  },
  {
   "cell_type": "markdown",
   "metadata": {
    "school_cell_uuid": "55f2fabaa9e64a8cb62578879b7d292f"
   },
   "source": [
    "* $z$: decision function\n",
    "  * $z = 0 \\rightarrow \\theta = 0.5$\n",
    "  * $z > 0 \\rightarrow \\theta > 0.5$\n",
    "  * $z < 0 \\rightarrow \\theta < 0.5$\n",
    "\n",
    "\n",
    "* In logistic regresion,  \n",
    "\n",
    "\n",
    "$$ z = w^Tx  $$\n",
    "\n",
    "\n",
    "$$ \\theta(x) = \\dfrac{1}{1+\\exp{(-w^Tx)}} $$  \n",
    "\n"
   ]
  },
  {
   "cell_type": "markdown",
   "metadata": {
    "school_cell_uuid": "cdede7bdb115468d94c4abed657230bb"
   },
   "source": [
    "## 5. MLE"
   ]
  },
  {
   "cell_type": "markdown",
   "metadata": {
    "school_cell_uuid": "476c4322afaf4d0db0fdfaf64dc8908c"
   },
   "source": [
    "* Estimate $w$ using MLE(Maximum Likelihood Estimation)\n",
    "* Assume $y$ is Bernoulli random variable,\n",
    "\n",
    "$$\n",
    "p(y \\mid x) = \\text{Bern} (y \\mid  \\theta(x;w) )\n",
    "$$\n",
    "\n",
    "* And\n",
    "\n",
    "$$\n",
    "\\theta(x;w) = \\dfrac{1}{1 + \\exp{(-w^Tx)}}\n",
    "$$\n",
    "\n",
    "* Log Likelihood (data: $\\{ x_i, y_i \\}_{1:N}$)\n",
    "\n",
    "$$\n",
    "\\begin{eqnarray}\n",
    "\\text{LL} \n",
    "&=& \\log \\prod_{i=1}^N \\theta_i(x_i;w)^{y_i} (1-\\theta_i(x_i;w))^{1-y_i} \\\\\n",
    "&=& \\sum_{i=1}^N \\left( y_i \\log\\theta_i(x_i;w) +  (1-y_i)\\log(1-\\theta_i(x_i;w)) \\right) \\\\\n",
    "&=& \\sum_{i=1}^N \\left( y_i \\log\\left(\\dfrac{1}{1 + \\exp{(-w^Tx_i)}}\\right) + (1-y_i)\\log\\left(\\dfrac{\\exp{(-w^Tx_i)}}{1 + \\exp{(-w^Tx_i)}}\\right) \\right) \\\\\n",
    "\\end{eqnarray}\n",
    "$$\n",
    "\n",
    "* Differentiate\n",
    "\n",
    "$$ \\dfrac{\\partial\\text{LL}}{\\partial w}  = \\sum_{i=1}^N \\dfrac{\\partial\\text{LL}}{\\partial \\theta_i(x_i;w)} \\dfrac{\\partial\\theta_i(x_i;w)}{\\partial w} $$\n",
    "\n",
    "$$ \n",
    "\\dfrac{\\partial \\theta_i(x_i;w)}{\\partial w} \n",
    "= \\dfrac{\\partial}{\\partial w} \\dfrac{1}{1 + \\exp{(-w^Tx_i)}} \\ \n",
    "= \\dfrac{\\exp{(-w^Tx_i)}}{(1 + \\exp{(-w^Tx_i)})^2} x_i \\ \n",
    "= \\theta_i(x_i;w)(1-\\theta_i(x_i;w)) x_i \n",
    "$$\n",
    "\n",
    "$$\n",
    "\\dfrac{\\partial\\text{LL}}{\\partial \\theta_i(x_i;w)} =  \\left( y_i \\dfrac{1}{\\theta_i(x_i;w)} - (1-y_i)\\dfrac{1}{1-\\theta_i(x_i;w)} \\right) \n",
    "$$\n",
    "\n",
    "$$ \n",
    "\\begin{eqnarray}\n",
    "\\dfrac{\\partial \\text{LL}}{\\partial w} \n",
    "&=& \\sum_{i=1}^N \\left( y_i \\dfrac{1}{\\theta_i(x_i;w)} - (1-y_i)\\dfrac{1}{1-\\theta_i(x_i;w)} \\right) \\theta(x_i;w)(1-\\theta(x_i;w)) x_i   \\\\\n",
    "&=& \\sum_{i=1}^N \\big( y_i (1-\\theta_i(x_i;w)) - (1-y_i)\\theta_i(x_i;w)  \\big)  x_i \\\\\n",
    "&=& \\sum_{i=1}^N \\big( y_i  - \\theta_i(x_i;w) \\big) x_i \\\\\n",
    "\\end{eqnarray}\n",
    "$$\n",
    "\n",
    "* **Numerical Optimization** is required\n"
   ]
  },
  {
   "cell_type": "markdown",
   "metadata": {
    "school_cell_uuid": "b1b7f36006c8465eaf455766c10b504a"
   },
   "source": [
    "## 6. Numerical Optimization"
   ]
  },
  {
   "cell_type": "markdown",
   "metadata": {
    "school_cell_uuid": "707c5e4b156041f7afd7c1bba2b74802"
   },
   "source": [
    "* Example) Steepest Gradient (with step size $\\eta_k$)\n",
    "\n",
    "$$\n",
    "g_k = \\dfrac{d}{dw}(-LL)\n",
    "$$\n",
    "\n",
    "$$\n",
    "\\begin{eqnarray}\n",
    "w_{k+1} \n",
    "&=& w_{k} - \\eta_k g_k \\\\\n",
    "&=& w_{k} + \\eta_k \\sum_{i=1}^N \\big( y_i  - \\theta_i(x_i; w_k) \\big) x_i\\\\\n",
    "\\end{eqnarray}\n",
    "$$"
   ]
  },
  {
   "cell_type": "markdown",
   "metadata": {
    "school_cell_uuid": "da15cc7ffdf6435e8d3adb2b3359bd02"
   },
   "source": [
    "## 7. Normalization\n",
    "* Prevents overfitting\n",
    "* Various penalty functions (Ridge, Lasso, Elastic net,...) can be used\n",
    "* Example) Ridge Normalization\n",
    "\n",
    "$$ J = -\\text{LL} + \\lambda w^Tw $$"
   ]
  },
  {
   "cell_type": "markdown",
   "metadata": {
    "school_cell_uuid": "f7637e4637374bb1b6e2e3b76708407e"
   },
   "source": [
    "## 8. Performance Metric\n",
    "* Null Hypothesis : $ H_0: w_k = 0 $\n",
    "* Calculate **Pseudo R Square**\n",
    "\n",
    "$$\n",
    "R^2_{\\text{pseudo}} = 1 - \\dfrac{G^2}{G^2_0} \n",
    "$$\n",
    "\n",
    "* $G^2$: deviance\n",
    "* $G^2_0$: deviance for null model\n",
    "\n",
    "$$\n",
    "G^2 = 2\\sum_{i=1}^N \\left( y_i\\log\\dfrac{y_i}{\\hat{y}_i} + (1-y_i)\\log\\dfrac{1-y_i}{1-\\hat{y}_i} \\right)\n",
    "$$\n",
    "\n",
    "* Where,\n",
    "\n",
    "$$\n",
    "\\hat{y}_i = \\theta(x_i)\n",
    "$$"
   ]
  },
  {
   "cell_type": "markdown",
   "metadata": {
    "school_cell_uuid": "3ed9f0ce8e694ee8b58e27b3988f8c3a"
   },
   "source": [
    "## 9. Logistic Regression in `StatsModels`"
   ]
  },
  {
   "cell_type": "code",
   "execution_count": 19,
   "metadata": {
    "school_cell_uuid": "d3fb1b89f8a84c93bf72295471419884"
   },
   "outputs": [],
   "source": [
    "from sklearn.datasets import make_classification\n",
    "\n",
    "X0, y = make_classification(n_features=1, n_redundant=0, n_informative=1, \n",
    "                            n_clusters_per_class=1, random_state=4)\n",
    "X = sm.add_constant(X0)"
   ]
  },
  {
   "cell_type": "code",
   "execution_count": 21,
   "metadata": {
    "school_cell_uuid": "b18d9a7395784c6f9edde0eb04436df4"
   },
   "outputs": [
    {
     "name": "stdout",
     "output_type": "stream",
     "text": [
      "                           Logit Regression Results                           \n",
      "==============================================================================\n",
      "Dep. Variable:                      y   No. Observations:                  100\n",
      "Model:                          Logit   Df Residuals:                       98\n",
      "Method:                           MLE   Df Model:                            1\n",
      "Date:                Fri, 29 Jun 2018   Pseudo R-squ.:                  0.7679\n",
      "Time:                        01:53:09   Log-Likelihood:                -16.084\n",
      "converged:                       True   LL-Null:                       -69.295\n",
      "                                        LLR p-value:                 5.963e-25\n",
      "==============================================================================\n",
      "                 coef    std err          z      P>|z|      [0.025      0.975]\n",
      "------------------------------------------------------------------------------\n",
      "const          0.2515      0.477      0.527      0.598      -0.683       1.186\n",
      "x1             4.2382      0.902      4.699      0.000       2.470       6.006\n",
      "==============================================================================\n"
     ]
    }
   ],
   "source": [
    "#from scipy import stats\n",
    "#stats.chisqprob = lambda chisq, df: stats.chi2.sf(chisq, df)\n",
    "\n",
    "logit_mod = sm.Logit(y, X)\n",
    "logit_res = logit_mod.fit(disp=0)\n",
    "print(logit_res.summary())"
   ]
  },
  {
   "cell_type": "code",
   "execution_count": 24,
   "metadata": {
    "school_cell_uuid": "f0c7e33f87944f9097e400c1e534b1b9",
    "scrolled": false
   },
   "outputs": [
    {
     "data": {
      "image/png": "[encoded data removed]",
      "text/plain": [
       "<matplotlib.figure.Figure at 0x10daea080>"
      ]
     },
     "metadata": {},
     "output_type": "display_data"
    }
   ],
   "source": [
    "xx = np.linspace(-3, 3, 100)\n",
    "theta = logit_res.predict(sm.add_constant(xx))\n",
    "plt.plot(xx, theta, lw=5, alpha=0.5)\n",
    "plt.scatter(X0, y, marker='o', s=100)\n",
    "plt.scatter(X0, logit_res.predict(X), marker='x', c=y, s=200, lw=2, alpha=0.5, cmap=mpl.cm.jet)\n",
    "plt.xlim(-3, 3)\n",
    "plt.show()"
   ]
  },
  {
   "cell_type": "markdown",
   "metadata": {
    "school_cell_uuid": "3f0d08c5ccb546afa4408e8a4445792a"
   },
   "source": [
    "## 10. Logistic Regression in `Scikit-Learn`"
   ]
  },
  {
   "cell_type": "code",
   "execution_count": 25,
   "metadata": {
    "school_cell_uuid": "646c49615f5f490c952e55dd04509a0d"
   },
   "outputs": [],
   "source": [
    "from sklearn.linear_model import LogisticRegression\n",
    "\n",
    "model = LogisticRegression().fit(X0, y)"
   ]
  },
  {
   "cell_type": "code",
   "execution_count": 26,
   "metadata": {
    "school_cell_uuid": "36b9a13a545d469680699bb01091d7fe"
   },
   "outputs": [
    {
     "data": {
      "image/png": "[encoded data removed]",
      "text/plain": [
       "<matplotlib.figure.Figure at 0x10c9bf8d0>"
      ]
     },
     "metadata": {},
     "output_type": "display_data"
    }
   ],
   "source": [
    "xx = np.linspace(-3, 3, 100)\n",
    "theta = 1.0/(1 + np.exp(-model.coef_[0][0]*xx - model.intercept_[0]))\n",
    "plt.plot(xx, theta)\n",
    "plt.scatter(X0, y, marker='o', s=100)\n",
    "plt.scatter(X0, model.predict(X0), marker='x', c=y, s=200, lw=2, alpha=0.5, cmap=mpl.cm.jet)\n",
    "plt.xlim(-3, 3)\n",
    "plt.show()"
   ]
  },
  {
   "cell_type": "markdown",
   "metadata": {
    "school_cell_uuid": "2de77252a3e444e088d0e8d26d26a369"
   },
   "source": [
    "## 11. Example - Micheling Guide Rating Prediction\n",
    "* **Parameters**\n",
    "  * InMichelin: 0 or 1\n",
    "  * Restaurant Name\n",
    "  * Food: 1 ~ 30\n",
    "  * Decor: 1 ~ 30\n",
    "  * Service: 1 ~ 30\n",
    "  * Price: (USD)\n"
   ]
  },
  {
   "cell_type": "code",
   "execution_count": 28,
   "metadata": {
    "school_cell_uuid": "dc37862f85574bfda03083a5a1a1745d"
   },
   "outputs": [
    {
     "data": {
      "text/html": [
       "<div>\n",
       "<style scoped>\n",
       "    .dataframe tbody tr th:only-of-type {\n",
       "        vertical-align: middle;\n",
       "    }\n",
       "\n",
       "    .dataframe tbody tr th {\n",
       "        vertical-align: top;\n",
       "    }\n",
       "\n",
       "    .dataframe thead th {\n",
       "        text-align: right;\n",
       "    }\n",
       "</style>\n",
       "<table border=\"1\" class=\"dataframe\">\n",
       "  <thead>\n",
       "    <tr style=\"text-align: right;\">\n",
       "      <th></th>\n",
       "      <th>InMichelin</th>\n",
       "      <th>Restaurant Name</th>\n",
       "      <th>Food</th>\n",
       "      <th>Decor</th>\n",
       "      <th>Service</th>\n",
       "      <th>Price</th>\n",
       "    </tr>\n",
       "  </thead>\n",
       "  <tbody>\n",
       "    <tr>\n",
       "      <th>159</th>\n",
       "      <td>0</td>\n",
       "      <td>Terrace in the Sky</td>\n",
       "      <td>23</td>\n",
       "      <td>25</td>\n",
       "      <td>21</td>\n",
       "      <td>62</td>\n",
       "    </tr>\n",
       "    <tr>\n",
       "      <th>160</th>\n",
       "      <td>1</td>\n",
       "      <td>Tocqueville</td>\n",
       "      <td>25</td>\n",
       "      <td>21</td>\n",
       "      <td>24</td>\n",
       "      <td>65</td>\n",
       "    </tr>\n",
       "    <tr>\n",
       "      <th>161</th>\n",
       "      <td>1</td>\n",
       "      <td>Triomphe</td>\n",
       "      <td>25</td>\n",
       "      <td>22</td>\n",
       "      <td>22</td>\n",
       "      <td>65</td>\n",
       "    </tr>\n",
       "    <tr>\n",
       "      <th>162</th>\n",
       "      <td>0</td>\n",
       "      <td>Village</td>\n",
       "      <td>20</td>\n",
       "      <td>20</td>\n",
       "      <td>19</td>\n",
       "      <td>40</td>\n",
       "    </tr>\n",
       "    <tr>\n",
       "      <th>163</th>\n",
       "      <td>1</td>\n",
       "      <td>Vong</td>\n",
       "      <td>23</td>\n",
       "      <td>24</td>\n",
       "      <td>21</td>\n",
       "      <td>60</td>\n",
       "    </tr>\n",
       "  </tbody>\n",
       "</table>\n",
       "</div>"
      ],
      "text/plain": [
       "     InMichelin     Restaurant Name  Food  Decor  Service  Price\n",
       "159           0  Terrace in the Sky    23     25       21     62\n",
       "160           1         Tocqueville    25     21       24     65\n",
       "161           1            Triomphe    25     22       22     65\n",
       "162           0             Village    20     20       19     40\n",
       "163           1                Vong    23     24       21     60"
      ]
     },
     "execution_count": 28,
     "metadata": {},
     "output_type": "execute_result"
    }
   ],
   "source": [
    "df = pd.read_csv(\"http://www.stat.tamu.edu/~sheather/book/docs/datasets/MichelinNY.csv\", \n",
    "                 encoding=\"latin1\")\n",
    "df.tail()"
   ]
  },
  {
   "cell_type": "code",
   "execution_count": 29,
   "metadata": {
    "school_cell_uuid": "ec1f946ed6dc4abca3fd2070256f9abe"
   },
   "outputs": [
    {
     "data": {
      "image/png": "[encoded data removed]",
      "text/plain": [
       "<matplotlib.figure.Figure at 0x10c9b0c18>"
      ]
     },
     "metadata": {},
     "output_type": "display_data"
    }
   ],
   "source": [
    "sns.stripplot(x=\"Food\", y=\"InMichelin\", data=df, jitter=True, orient='h', order=[1, 0])\n",
    "plt.grid(True)\n",
    "plt.show()"
   ]
  },
  {
   "cell_type": "code",
   "execution_count": 30,
   "metadata": {
    "school_cell_uuid": "256a0d172f6f44f3a0f89331b1f13efb"
   },
   "outputs": [
    {
     "name": "stdout",
     "output_type": "stream",
     "text": [
      "                           Logit Regression Results                           \n",
      "==============================================================================\n",
      "Dep. Variable:             InMichelin   No. Observations:                  164\n",
      "Model:                          Logit   Df Residuals:                      159\n",
      "Method:                           MLE   Df Model:                            4\n",
      "Date:                Fri, 29 Jun 2018   Pseudo R-squ.:                  0.3428\n",
      "Time:                        02:06:14   Log-Likelihood:                -74.198\n",
      "converged:                       True   LL-Null:                       -112.89\n",
      "                                        LLR p-value:                 6.213e-16\n",
      "==============================================================================\n",
      "                 coef    std err          z      P>|z|      [0.025      0.975]\n",
      "------------------------------------------------------------------------------\n",
      "Intercept    -11.1975      2.309     -4.850      0.000     -15.723      -6.672\n",
      "Food           0.4048      0.131      3.080      0.002       0.147       0.662\n",
      "Decor          0.1000      0.089      1.121      0.262      -0.075       0.275\n",
      "Service       -0.1924      0.124     -1.557      0.119      -0.435       0.050\n",
      "Price          0.0917      0.032      2.889      0.004       0.029       0.154\n",
      "==============================================================================\n"
     ]
    }
   ],
   "source": [
    "model = sm.Logit.from_formula(\"InMichelin ~ Food + Decor + Service + Price\", df)\n",
    "result = model.fit(disp=0)\n",
    "print(result.summary())"
   ]
  },
  {
   "cell_type": "code",
   "execution_count": 31,
   "metadata": {
    "school_cell_uuid": "8bc1e65f26e44c01ab1e4930c9ccaf6f"
   },
   "outputs": [
    {
     "data": {
      "image/png": "[encoded data removed]",
      "text/plain": [
       "<matplotlib.figure.Figure at 0x1109ed9e8>"
      ]
     },
     "metadata": {},
     "output_type": "display_data"
    }
   ],
   "source": [
    "df[\"Prediction\"] = result.predict(df)\n",
    "sns.boxplot(x=\"InMichelin\", y=\"Prediction\", data=df)\n",
    "plt.show()"
   ]
  },
  {
   "cell_type": "code",
   "execution_count": null,
   "metadata": {},
   "outputs": [],
   "source": []
  },
  {
   "cell_type": "code",
   "execution_count": null,
   "metadata": {},
   "outputs": [],
   "source": []
  }
 ],
 "metadata": {
  "kernelspec": {
   "display_name": "Python 3",
   "language": "python",
   "name": "python3"
  },
  "language_info": {
   "codemirror_mode": {
    "name": "ipython",
    "version": 3
   },
   "file_extension": ".py",
   "mimetype": "text/x-python",
   "name": "python",
   "nbconvert_exporter": "python",
   "pygments_lexer": "ipython3",
   "version": "3.6.4"
  }
 },
 "nbformat": 4,
 "nbformat_minor": 2
}
