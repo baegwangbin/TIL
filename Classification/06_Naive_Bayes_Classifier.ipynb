{
 "cells": [
  {
   "cell_type": "code",
   "execution_count": 2,
   "metadata": {},
   "outputs": [],
   "source": [
    "import numpy as np\n",
    "import scipy as sp\n",
    "import pandas as pd\n",
    "import seaborn as sns\n",
    "import matplotlib.pyplot as plt\n",
    "import statsmodels.api as sm\n",
    "import matplotlib as mpl"
   ]
  },
  {
   "cell_type": "markdown",
   "metadata": {},
   "source": [
    "# Table of Contents\n",
    ">## 1. Strong (Naive) Independence Assumption\n",
    "\n",
    ">## 2. NBC based on\n",
    "* 2.1. Gaussian Normal Likelihood\n",
    "* 2.2. Bernoulli Likelihood\n",
    "* 2.3. Multinomial Likelihood\n",
    "\n",
    ">## 3. NBC in Scikit-Learn\n",
    "* 3.1. `GaussianNB`\n",
    "* 3.2. `BernoulliNB`\n",
    "* 3.3. `Multinomial`\n",
    "\n",
    ">## 4. Example - Newsgroups Data\n",
    "\n",
    ">## 5. Sentimal Analysis with NBC"
   ]
  },
  {
   "cell_type": "markdown",
   "metadata": {
    "school_cell_uuid": "b2c97d48f89f41b6b8f932c2ff703a50"
   },
   "source": [
    "# 1. Strong (Naive) Independence Assumption\n",
    "* Multi-dim $x = (x_1, \\ldots, x_D)$ $\\rightarrow$ **difficult to calculate the joint probability** $P(x_1, \\ldots, x_D \\mid y = C_k)$\n",
    "* Thus, assume that the features are **conditionally independent**\n",
    "* **Naive Assumption + Bayes Classifiers = NBC**\n",
    "\n",
    ">$$ P(x_1, \\ldots, x_D \\mid y = C_k) = \\prod_{d=1}^D P(x_d \\mid y = C_k) $$\n",
    ">\n",
    ">$$ P(y = C_k \\mid x) \\;\\; \\propto \\;\\; \\prod_{d=1}^D P(x_{d} \\mid y = C_k)\\; P(y = C_k) $$"
   ]
  },
  {
   "cell_type": "markdown",
   "metadata": {
    "school_cell_uuid": "4f0e50a2ceb94cc38f184cd3541648af"
   },
   "source": [
    "# 2. NBC based on\n",
    "## 2.1. Gaussian Normal Likelihood\n",
    "* All elements of $x$ are **real** AND **appear around some values for each class** $\\rightarrow$ Use Gaussian Normal\n",
    "\n",
    ">$$ P(x_d \\mid y = C_k) = \\dfrac{1}{\\sqrt{2\\pi\\sigma_{d,k}^2}} \\exp \\left(-\\dfrac{(x_d-\\mu_{d,k})^2}{2\\sigma_{d,k}^2}\\right) $$\n",
    "\n"
   ]
  },
  {
   "cell_type": "markdown",
   "metadata": {
    "school_cell_uuid": "db88a20caddb42f7aa5deda97cbd98d8"
   },
   "source": [
    "## 2.2. Bernoulli Likelihood\n",
    "* Elements of $x = (x_1,\\ldots, x_D)$ can have **0 or 1** $\\rightarrow$ **Set of coins**\n",
    "* $\\theta$ is **feature dependent** $\\rightarrow$ $D$ variety\n",
    "* $\\theta$ is **class dependent** $\\rightarrow$ $K$ variety ($y=C_k(k=1,...,K)$)\n",
    "* There are **$K$ sets of $D$ coins**\n",
    "\n",
    ">$$ P(x_d \\mid y = C_k) = \\theta_{d,k}^{x_d} (1-\\theta_{d,k})^{(1-x_d)} $$\n",
    "\n",
    "* To sum up, \n",
    "* Toss $D$ coins for $N$ times $\\rightarrow$ guess which of $K$ sets it was"
   ]
  },
  {
   "cell_type": "markdown",
   "metadata": {
    "school_cell_uuid": "7931942b725c4df3ae5a6bc845ca8f15"
   },
   "source": [
    "## 2.3. Multinomial Likelihood\n",
    "* $x=(x_1,...,x_D) \\rightarrow$ **D-sided Dice**\n",
    "* There are $K$ dices with $D$ sides\n",
    "\n",
    ">$$ P(x_1, \\ldots, x_D \\mid y = C_k) \\;\\; \\propto \\;\\; \\prod_{d=1}^D \\theta_{d,k}^{x_{d,k}} $$\n",
    ">\n",
    ">$$ N_k = \\sum_{d=1}^{D} x_{d,k} $$\n",
    ">\n",
    ">$$ \\sum_{d=1}^{D} \\theta_{d,k} = 1 $$\n",
    "\n",
    "* To sum up,\n",
    "* Toss a $D$-sided dice for $N$ times $\\rightarrow$ guess which of $K$ dices it was"
   ]
  },
  {
   "cell_type": "markdown",
   "metadata": {
    "school_cell_uuid": "a4b7130ea20444c98c864aaa223fb549"
   },
   "source": [
    "# 3. NBC in `Scikit-Learn`\n",
    "* [`GaussianNB`](http://scikit-learn.org/stable/modules/generated/sklearn.naive_bayes.GaussianNB.html)\n",
    "* [`BernoulliNB`](http://scikit-learn.org/stable/modules/generated/sklearn.naive_bayes.BernoulliNB.html)\n",
    "* [`MultinomialNB`](http://scikit-learn.org/stable/modules/generated/sklearn.naive_bayes.MultinomialNB.html)\n",
    "* **These classes have:**\n",
    "  * **Prior-related**:\n",
    "\n",
    ">* `classes_`: **classes of $y$**\n",
    ">* `class_count_` **no. of samples for each class**\n",
    ">* `class_prior_` **$P(Y)$** (GaussianNB)\n",
    ">* `class_log_prior_` **$\\log P(Y)$** (BernoulliNB & MultinomialNB)\n",
    "\n",
    "  * **Likelihood-related:**\n",
    "\n",
    ">* `theta_ `, `sigma_`: $\\mu$ & $\\sigma^2$ (GaussianNB)\n",
    ">* `feature_count_`: $N_{d,k}$ matrix (BernoulliNB OR MultinomialNB)\n",
    ">* `feature_log_prob_ `: Log Parameter vector (BernoulliNB OR MultinomialNB)\n",
    ">$$ \\log \\theta_k = (\\log \\theta_{1,k}, \\ldots, \\log \\theta_{D, k}) = \\left( \\log \\dfrac{N_{1,k}}{N_k}, \\ldots, \\log \\dfrac{N_{D,k}}{N_k} \\right)$$\n",
    "\n",
    "  * **Smoothing** (**Laplace Smoothing OR Add-One Smoothing)\n",
    "\n",
    ">* `alpha`: decides the strenght of smoothing\n",
    ">* **BernoulliNB**:\n",
    ">$$ \\hat{\\theta}_{d,k} = \\frac{ N_{d,k} + \\alpha}{N_k + 2 \\alpha} $$ \n",
    ">* **MultinomialNB**:\n",
    ">$$ \\hat{\\theta}_{d,k} = \\frac{ N_{d,k} + \\alpha}{N_k + D \\alpha} $$ "
   ]
  },
  {
   "cell_type": "markdown",
   "metadata": {
    "school_cell_uuid": "808bc7b0424841e9bab1de642e78712a"
   },
   "source": [
    "## 3.1. `GaussianNB`"
   ]
  },
  {
   "cell_type": "markdown",
   "metadata": {},
   "source": [
    "### Step 1. Prepare data - two features($x_1, x_2$) & two classes($y = 0, 1$)\n",
    "\n",
    "$$ \n",
    "\\mu_0 = \\begin{bmatrix} -2 \\\\ -2 \\end{bmatrix},\n",
    "\\;\\; \n",
    "\\Sigma_0 = \\begin{bmatrix} 1 & 0.9 \\\\ 0.9 & 2 \\end{bmatrix} \n",
    "$$\n",
    "$$ \n",
    "\\mu_1 = \\begin{bmatrix} 2 \\\\ 2 \\end{bmatrix},\n",
    "\\;\\; \n",
    "\\Sigma_1 = \\begin{bmatrix} 1.2 & -0.8 \\\\ -0.8 & 2 \\end{bmatrix} \n",
    "$$"
   ]
  },
  {
   "cell_type": "code",
   "execution_count": 3,
   "metadata": {
    "school_cell_uuid": "97da9bf6a85847cba4d7f1bd2f8ac7f4"
   },
   "outputs": [],
   "source": [
    "np.random.seed(0)\n",
    "rv0 = sp.stats.multivariate_normal([-2, -2], [[1, 0.9], [0.9, 2]])\n",
    "rv1 = sp.stats.multivariate_normal([2, 2], [[1.2, -0.8], [-0.8, 2]])\n",
    "X0 = rv0.rvs(40)\n",
    "X1 = rv1.rvs(60)\n",
    "X = np.vstack([X0, X1])\n",
    "y = np.hstack([np.zeros(40), np.ones(60)])"
   ]
  },
  {
   "cell_type": "code",
   "execution_count": 4,
   "metadata": {
    "school_cell_uuid": "3d15a2bc8f0245ff89cdf4ecf587ddd7"
   },
   "outputs": [
    {
     "data": {
      "image/png": "[encoded data removed]",
      "text/plain": [
       "<matplotlib.figure.Figure at 0x10aff6b70>"
      ]
     },
     "metadata": {},
     "output_type": "display_data"
    }
   ],
   "source": [
    "xx1 = np.linspace(-5, 5, 100)\n",
    "xx2 = np.linspace(-5, 5, 100)\n",
    "XX1, XX2 = np.meshgrid(xx1, xx2)\n",
    "plt.grid(False)\n",
    "plt.contour(XX1, XX2, rv0.pdf(np.dstack([XX1, XX2])), cmap=mpl.cm.cool)\n",
    "plt.contour(XX1, XX2, rv1.pdf(np.dstack([XX1, XX2])), cmap=mpl.cm.hot)\n",
    "plt.scatter(X0[:, 0], X0[:, 1], c='b')\n",
    "plt.scatter(X1[:, 0], X1[:, 1], c='r')\n",
    "plt.axis(\"equal\")\n",
    "plt.show()"
   ]
  },
  {
   "cell_type": "markdown",
   "metadata": {
    "school_cell_uuid": "2448e59410c04a9f87d48769cede8535"
   },
   "source": [
    "### Step 2. Use `GaussianNB`"
   ]
  },
  {
   "cell_type": "code",
   "execution_count": 5,
   "metadata": {
    "school_cell_uuid": "9864b77938cb40d3835c5f4937748b39"
   },
   "outputs": [],
   "source": [
    "from sklearn.naive_bayes import GaussianNB\n",
    "model_norm = GaussianNB().fit(X, y)"
   ]
  },
  {
   "cell_type": "markdown",
   "metadata": {
    "school_cell_uuid": "97b890e3f3554881a4fa73676d55a452"
   },
   "source": [
    "### Step 3. Prior-related parameters"
   ]
  },
  {
   "cell_type": "code",
   "execution_count": 6,
   "metadata": {
    "school_cell_uuid": "cb9eeb04ad184d57bc9dddfa1e3b877c"
   },
   "outputs": [
    {
     "data": {
      "text/plain": [
       "array([0., 1.])"
      ]
     },
     "execution_count": 6,
     "metadata": {},
     "output_type": "execute_result"
    }
   ],
   "source": [
    "model_norm.classes_"
   ]
  },
  {
   "cell_type": "code",
   "execution_count": 7,
   "metadata": {
    "school_cell_uuid": "b6ad1ddc9e1d40dcb78b998e3eaf68e4"
   },
   "outputs": [
    {
     "data": {
      "text/plain": [
       "array([40., 60.])"
      ]
     },
     "execution_count": 7,
     "metadata": {},
     "output_type": "execute_result"
    }
   ],
   "source": [
    "model_norm.class_count_"
   ]
  },
  {
   "cell_type": "code",
   "execution_count": 8,
   "metadata": {
    "school_cell_uuid": "02fc24bc8b1f4ff68e5c32fb2b744a28"
   },
   "outputs": [
    {
     "data": {
      "text/plain": [
       "array([0.4, 0.6])"
      ]
     },
     "execution_count": 8,
     "metadata": {},
     "output_type": "execute_result"
    }
   ],
   "source": [
    "model_norm.class_prior_"
   ]
  },
  {
   "cell_type": "markdown",
   "metadata": {
    "school_cell_uuid": "06ffcc043ea447ff83dc234a09150fdf"
   },
   "source": [
    "### Step 4. Parameters of the model (for each class)"
   ]
  },
  {
   "cell_type": "code",
   "execution_count": 9,
   "metadata": {
    "school_cell_uuid": "b4e89ebfafd748a0b6000bdc29b59592"
   },
   "outputs": [
    {
     "data": {
      "text/plain": [
       "(array([-1.96197643, -2.00597903]), array([1.02398854, 2.31390497]))"
      ]
     },
     "execution_count": 9,
     "metadata": {},
     "output_type": "execute_result"
    }
   ],
   "source": [
    "model_norm.theta_[0], model_norm.sigma_[0]"
   ]
  },
  {
   "cell_type": "code",
   "execution_count": 10,
   "metadata": {
    "school_cell_uuid": "b4e89ebfafd748a0b6000bdc29b59592"
   },
   "outputs": [
    {
     "data": {
      "text/plain": [
       "(array([2.19130701, 2.12626716]), array([1.25429371, 1.93742544]))"
      ]
     },
     "execution_count": 10,
     "metadata": {},
     "output_type": "execute_result"
    }
   ],
   "source": [
    "model_norm.theta_[1], model_norm.sigma_[1]"
   ]
  },
  {
   "cell_type": "markdown",
   "metadata": {},
   "source": [
    "### Step 5. Compare data & prediction through visualization"
   ]
  },
  {
   "cell_type": "code",
   "execution_count": 9,
   "metadata": {
    "school_cell_uuid": "256c33e9a3f046adbcf4d1440db0ee81"
   },
   "outputs": [
    {
     "data": {
      "image/png": "[encoded data removed]",
      "text/plain": [
       "<Figure size 2400x1500 with 1 Axes>"
      ]
     },
     "metadata": {},
     "output_type": "display_data"
    }
   ],
   "source": [
    "rv0 = sp.stats.multivariate_normal(model_norm.theta_[0], model_norm.sigma_[0])\n",
    "rv1 = sp.stats.multivariate_normal(model_norm.theta_[1], model_norm.sigma_[1])\n",
    "\n",
    "xx1 = np.linspace(-5, 5, 100)\n",
    "xx2 = np.linspace(-5, 5, 100)\n",
    "XX1, XX2 = np.meshgrid(xx1, xx2)\n",
    "plt.grid(False)\n",
    "plt.contour(XX1, XX2, rv0.pdf(np.dstack([XX1, XX2])), cmap=mpl.cm.cool)\n",
    "plt.contour(XX1, XX2, rv1.pdf(np.dstack([XX1, XX2])), cmap=mpl.cm.hot)\n",
    "plt.scatter(X0[:, 0], X0[:, 1], c='b')\n",
    "plt.scatter(X1[:, 0], X1[:, 1], c='r')\n",
    "plt.axis(\"equal\")\n",
    "plt.show()"
   ]
  },
  {
   "cell_type": "markdown",
   "metadata": {
    "school_cell_uuid": "ccb8d6219ec04253a779ecc9e3bac42f"
   },
   "source": [
    "### Step 6. Use `predict_proba` to determine probability for each class"
   ]
  },
  {
   "cell_type": "code",
   "execution_count": 11,
   "metadata": {
    "school_cell_uuid": "04d31d13bfc449179be9f30efeea2a99"
   },
   "outputs": [
    {
     "data": {
      "text/plain": [
       "array([[0.98300323, 0.01699677]])"
      ]
     },
     "execution_count": 11,
     "metadata": {},
     "output_type": "execute_result"
    }
   ],
   "source": [
    "x_new = [-0.7, -0.8]\n",
    "model_norm.predict_proba([x_new])"
   ]
  },
  {
   "cell_type": "markdown",
   "metadata": {
    "school_cell_uuid": "9923fb103a0b448291f9632d47b4a772"
   },
   "source": [
    "### Step 6-1. How they were calculated"
   ]
  },
  {
   "cell_type": "code",
   "execution_count": 12,
   "metadata": {
    "school_cell_uuid": "c75dd6bc72314b7ea7c735e319616c9f"
   },
   "outputs": [
    {
     "data": {
      "text/plain": [
       "[0.0346968402917242, 0.0003999540815189114]"
      ]
     },
     "execution_count": 12,
     "metadata": {},
     "output_type": "execute_result"
    }
   ],
   "source": [
    "likelihood = [\n",
    "    sp.stats.norm(model_norm.theta_[0], np.sqrt(model_norm.sigma_[0])).pdf(x_new).prod(),\n",
    "    sp.stats.norm(model_norm.theta_[1], np.sqrt(model_norm.sigma_[1])).pdf(x_new).prod()]\n",
    "likelihood"
   ]
  },
  {
   "cell_type": "code",
   "execution_count": 13,
   "metadata": {
    "school_cell_uuid": "fe76b76db88749ffb597e83fb53ce034"
   },
   "outputs": [
    {
     "data": {
      "text/plain": [
       "array([0.01387874, 0.00023997])"
      ]
     },
     "execution_count": 13,
     "metadata": {},
     "output_type": "execute_result"
    }
   ],
   "source": [
    "posterior = likelihood * model_norm.class_prior_\n",
    "posterior"
   ]
  },
  {
   "cell_type": "code",
   "execution_count": 14,
   "metadata": {
    "school_cell_uuid": "158f3adf5dd54fcf9ac9a58cd30b9138"
   },
   "outputs": [
    {
     "data": {
      "text/plain": [
       "array([0.98300323, 0.01699677])"
      ]
     },
     "execution_count": 14,
     "metadata": {},
     "output_type": "execute_result"
    }
   ],
   "source": [
    "posterior / posterior.sum()"
   ]
  },
  {
   "cell_type": "markdown",
   "metadata": {
    "school_cell_uuid": "9d769771b57c4db99bc33668b8fb955e"
   },
   "source": [
    "## 3.2. `BernoulliNB`"
   ]
  },
  {
   "cell_type": "markdown",
   "metadata": {
    "school_cell_uuid": "80ccb839cfd649d5b4f6d24323fd3f44"
   },
   "source": [
    "### Step 1. Prepare data - determine spam mail using 4 keywords (BOW encoding - yes or no)"
   ]
  },
  {
   "cell_type": "code",
   "execution_count": 15,
   "metadata": {
    "school_cell_uuid": "d59b398d0a72413f96f1a665b485fbad"
   },
   "outputs": [],
   "source": [
    "X = np.array([\n",
    "    [0, 1, 1, 0],\n",
    "    [1, 1, 1, 1],\n",
    "    [1, 1, 1, 0],\n",
    "    [0, 1, 0, 0],\n",
    "    [0, 0, 0, 1],\n",
    "    [0, 1, 1, 0],\n",
    "    [0, 1, 1, 1],\n",
    "    [1, 0, 1, 0],\n",
    "    [1, 0, 1, 1],\n",
    "    [0, 1, 1, 0]])\n",
    "y = np.array([0, 0, 0, 0, 1, 1, 1, 1, 1, 1])"
   ]
  },
  {
   "cell_type": "markdown",
   "metadata": {
    "school_cell_uuid": "2b7c9608b9d748129747694579f6d42f"
   },
   "source": [
    "### Step 2. Use `BernoulliNB`"
   ]
  },
  {
   "cell_type": "code",
   "execution_count": 16,
   "metadata": {
    "school_cell_uuid": "17debdb4ac894e6c9c7320033b0aafd6"
   },
   "outputs": [],
   "source": [
    "from sklearn.naive_bayes import BernoulliNB\n",
    "model_bern = BernoulliNB().fit(X, y)"
   ]
  },
  {
   "cell_type": "markdown",
   "metadata": {
    "school_cell_uuid": "593d3240e885478bbc62e983a54e2c10"
   },
   "source": [
    "### Step 3. Prior-related parameters"
   ]
  },
  {
   "cell_type": "code",
   "execution_count": 17,
   "metadata": {
    "school_cell_uuid": "b250bc72b41a43388acbecf8e2cf1193"
   },
   "outputs": [
    {
     "data": {
      "text/plain": [
       "array([0, 1])"
      ]
     },
     "execution_count": 17,
     "metadata": {},
     "output_type": "execute_result"
    }
   ],
   "source": [
    "model_bern.classes_"
   ]
  },
  {
   "cell_type": "code",
   "execution_count": 18,
   "metadata": {
    "school_cell_uuid": "2b17bfa4b4064d55a67bb51267c76d87"
   },
   "outputs": [
    {
     "data": {
      "text/plain": [
       "array([4., 6.])"
      ]
     },
     "execution_count": 18,
     "metadata": {},
     "output_type": "execute_result"
    }
   ],
   "source": [
    "model_bern.class_count_"
   ]
  },
  {
   "cell_type": "code",
   "execution_count": 19,
   "metadata": {
    "school_cell_uuid": "f7938005b3944566bbe67ce51cce144f"
   },
   "outputs": [
    {
     "data": {
      "text/plain": [
       "array([0.4, 0.6])"
      ]
     },
     "execution_count": 19,
     "metadata": {},
     "output_type": "execute_result"
    }
   ],
   "source": [
    "np.exp(model_bern.class_log_prior_)"
   ]
  },
  {
   "cell_type": "markdown",
   "metadata": {
    "school_cell_uuid": "8dca6b5149434919858b944697279c98"
   },
   "source": [
    "### Step 4. Parameters of the model (for each $k$ and $d$)"
   ]
  },
  {
   "cell_type": "code",
   "execution_count": 20,
   "metadata": {
    "school_cell_uuid": "7b33caf4498147fba8973eaf55c6a3be"
   },
   "outputs": [
    {
     "data": {
      "text/plain": [
       "array([[2., 4., 3., 1.],\n",
       "       [2., 3., 5., 3.]])"
      ]
     },
     "execution_count": 20,
     "metadata": {},
     "output_type": "execute_result"
    }
   ],
   "source": [
    "fc = model_bern.feature_count_\n",
    "fc"
   ]
  },
  {
   "cell_type": "code",
   "execution_count": 21,
   "metadata": {
    "school_cell_uuid": "47a95af371fc45fc83306f34fd77016e"
   },
   "outputs": [
    {
     "data": {
      "text/plain": [
       "array([[0.5       , 1.        , 0.75      , 0.25      ],\n",
       "       [0.33333333, 0.5       , 0.83333333, 0.5       ]])"
      ]
     },
     "execution_count": 21,
     "metadata": {},
     "output_type": "execute_result"
    }
   ],
   "source": [
    "fc / np.repeat(model_bern.class_count_[:, np.newaxis], 4, axis=1)"
   ]
  },
  {
   "cell_type": "markdown",
   "metadata": {
    "school_cell_uuid": "1b680c6e26db460ba8367ca34f9307be"
   },
   "source": [
    "### Step 4-1. Parameters of the model (with smoothing)"
   ]
  },
  {
   "cell_type": "code",
   "execution_count": 22,
   "metadata": {
    "school_cell_uuid": "cc7a3dcb830140a39ebf244b7c53ef4d"
   },
   "outputs": [
    {
     "data": {
      "text/plain": [
       "1.0"
      ]
     },
     "execution_count": 22,
     "metadata": {},
     "output_type": "execute_result"
    }
   ],
   "source": [
    "model_bern.alpha"
   ]
  },
  {
   "cell_type": "code",
   "execution_count": 23,
   "metadata": {
    "school_cell_uuid": "f49afd97c9774a45be9804af159db458"
   },
   "outputs": [
    {
     "data": {
      "text/plain": [
       "array([[0.5       , 0.83333333, 0.66666667, 0.33333333],\n",
       "       [0.375     , 0.5       , 0.75      , 0.5       ]])"
      ]
     },
     "execution_count": 23,
     "metadata": {},
     "output_type": "execute_result"
    }
   ],
   "source": [
    "theta = np.exp(model_bern.feature_log_prob_)\n",
    "theta"
   ]
  },
  {
   "cell_type": "markdown",
   "metadata": {
    "school_cell_uuid": "49d33ec196ab43a4bc92aad50eb158c1"
   },
   "source": [
    "### Step 5. Use `predict_proba` to determine probability for each class"
   ]
  },
  {
   "cell_type": "code",
   "execution_count": 24,
   "metadata": {
    "school_cell_uuid": "207f35ab3e8148fcbbb04d65ba9d0420"
   },
   "outputs": [],
   "source": [
    "x_new = np.array([1, 1, 0, 0])"
   ]
  },
  {
   "cell_type": "code",
   "execution_count": 25,
   "metadata": {
    "school_cell_uuid": "8f9d6ded36204b71af7119d93808b86a"
   },
   "outputs": [
    {
     "data": {
      "text/plain": [
       "array([[0.72480181, 0.27519819]])"
      ]
     },
     "execution_count": 25,
     "metadata": {},
     "output_type": "execute_result"
    }
   ],
   "source": [
    "model_bern.predict_proba([x_new])"
   ]
  },
  {
   "cell_type": "markdown",
   "metadata": {
    "school_cell_uuid": "137ebdb3445e4fd0ba122ef040d48ab0"
   },
   "source": [
    "### Step 5-1. How they were calculated"
   ]
  },
  {
   "cell_type": "code",
   "execution_count": 26,
   "metadata": {
    "school_cell_uuid": "d5fc364f318c4f91970b7f693a94acfe"
   },
   "outputs": [
    {
     "data": {
      "text/plain": [
       "array([0.72480181, 0.27519819])"
      ]
     },
     "execution_count": 26,
     "metadata": {},
     "output_type": "execute_result"
    }
   ],
   "source": [
    "p = ((theta ** x_new) * (1 - theta) ** (1 - x_new)).prod(axis=1)\\\n",
    "    * np.exp(model_bern.class_log_prior_)\n",
    "p / p.sum()"
   ]
  },
  {
   "cell_type": "markdown",
   "metadata": {
    "school_cell_uuid": "e64973da29eb48dfa2cc8d7e8f1eaccb"
   },
   "source": [
    "## 3.3. `MultinomialNB`"
   ]
  },
  {
   "cell_type": "markdown",
   "metadata": {
    "school_cell_uuid": "878f08f470fe45b5b3159c928634965c"
   },
   "source": [
    "### Step 1. Prepare data - determine spam mail using 4 keywords (BOW encoding - no. of appearance)"
   ]
  },
  {
   "cell_type": "code",
   "execution_count": 28,
   "metadata": {
    "school_cell_uuid": "d59b398d0a72413f96f1a665b485fbad"
   },
   "outputs": [],
   "source": [
    "X = np.array([    \n",
    "    [3, 4, 1, 2],\n",
    "    [3, 5, 1, 1],\n",
    "    [3, 3, 0, 4],\n",
    "    [3, 4, 1, 2],\n",
    "    [1, 2, 1, 4],\n",
    "    [0, 0, 5, 3],\n",
    "    [1, 2, 4, 1],\n",
    "    [1, 1, 4, 2],\n",
    "    [0, 1, 2, 5],\n",
    "    [2, 1, 2, 3]])\n",
    "y = np.array([0, 0, 0, 0, 1, 1, 1, 1, 1, 1])"
   ]
  },
  {
   "cell_type": "markdown",
   "metadata": {},
   "source": [
    "### Step 2. Use `MultinomialNB`"
   ]
  },
  {
   "cell_type": "code",
   "execution_count": 29,
   "metadata": {
    "school_cell_uuid": "1f25b33f28db47c9b657b39046428cea"
   },
   "outputs": [],
   "source": [
    "from sklearn.naive_bayes import MultinomialNB\n",
    "model_mult = MultinomialNB().fit(X, y)"
   ]
  },
  {
   "cell_type": "markdown",
   "metadata": {
    "school_cell_uuid": "ba6a921fc64d4bfbad9294a405fc4807"
   },
   "source": [
    "### Step 3. Prior-related parameters"
   ]
  },
  {
   "cell_type": "code",
   "execution_count": 30,
   "metadata": {
    "school_cell_uuid": "afca993626b446d282891b309ffbc2a1"
   },
   "outputs": [
    {
     "data": {
      "text/plain": [
       "array([0, 1])"
      ]
     },
     "execution_count": 30,
     "metadata": {},
     "output_type": "execute_result"
    }
   ],
   "source": [
    "model_mult.classes_"
   ]
  },
  {
   "cell_type": "code",
   "execution_count": 31,
   "metadata": {
    "school_cell_uuid": "493061cf270f41ee9af14c6312ec0329"
   },
   "outputs": [
    {
     "data": {
      "text/plain": [
       "array([4., 6.])"
      ]
     },
     "execution_count": 31,
     "metadata": {},
     "output_type": "execute_result"
    }
   ],
   "source": [
    "model_mult.class_count_"
   ]
  },
  {
   "cell_type": "code",
   "execution_count": 32,
   "metadata": {
    "school_cell_uuid": "493061cf270f41ee9af14c6312ec0329"
   },
   "outputs": [
    {
     "data": {
      "text/plain": [
       "array([0.4, 0.6])"
      ]
     },
     "execution_count": 32,
     "metadata": {},
     "output_type": "execute_result"
    }
   ],
   "source": [
    "np.exp(model_mult.class_log_prior_)"
   ]
  },
  {
   "cell_type": "markdown",
   "metadata": {
    "school_cell_uuid": "f8be2b2fcbef4d4da691deefd96fab68"
   },
   "source": [
    "### Step 4. Parameters of the model (for each $k$ and $d$)"
   ]
  },
  {
   "cell_type": "code",
   "execution_count": 33,
   "metadata": {
    "school_cell_uuid": "d3f8b803315d4354a843775bcb34785b"
   },
   "outputs": [
    {
     "data": {
      "text/plain": [
       "array([[12., 16.,  3.,  9.],\n",
       "       [ 5.,  7., 18., 18.]])"
      ]
     },
     "execution_count": 33,
     "metadata": {},
     "output_type": "execute_result"
    }
   ],
   "source": [
    "fc = model_mult.feature_count_\n",
    "fc"
   ]
  },
  {
   "cell_type": "code",
   "execution_count": 34,
   "metadata": {
    "school_cell_uuid": "f542e381752d46698433646c8001dae7"
   },
   "outputs": [
    {
     "data": {
      "text/plain": [
       "array([[0.3       , 0.4       , 0.075     , 0.225     ],\n",
       "       [0.10416667, 0.14583333, 0.375     , 0.375     ]])"
      ]
     },
     "execution_count": 34,
     "metadata": {},
     "output_type": "execute_result"
    }
   ],
   "source": [
    "fc / np.repeat(fc.sum(axis=1)[:, np.newaxis], 4, axis=1)"
   ]
  },
  {
   "cell_type": "markdown",
   "metadata": {
    "school_cell_uuid": "ec2193734b6c4861aa8d3e2a525ba99d"
   },
   "source": [
    "### Step 4-1. Parameters of the model (with smoothing)"
   ]
  },
  {
   "cell_type": "code",
   "execution_count": 35,
   "metadata": {
    "school_cell_uuid": "e7d1c6fb3d3340d8ac7a6f58bb29b85c"
   },
   "outputs": [
    {
     "data": {
      "text/plain": [
       "1.0"
      ]
     },
     "execution_count": 35,
     "metadata": {},
     "output_type": "execute_result"
    }
   ],
   "source": [
    "model_mult.alpha"
   ]
  },
  {
   "cell_type": "code",
   "execution_count": 36,
   "metadata": {
    "school_cell_uuid": "6deb103fec814f148de41e180edb5d7e"
   },
   "outputs": [
    {
     "data": {
      "text/plain": [
       "array([[0.29545455, 0.38636364, 0.09090909, 0.22727273],\n",
       "       [0.11538462, 0.15384615, 0.36538462, 0.36538462]])"
      ]
     },
     "execution_count": 36,
     "metadata": {},
     "output_type": "execute_result"
    }
   ],
   "source": [
    "(fc + model_mult.alpha) / \\\n",
    "(np.repeat(fc.sum(axis=1)[:, np.newaxis], 4, axis=1) + model_mult.alpha * X.shape[1])"
   ]
  },
  {
   "cell_type": "code",
   "execution_count": 37,
   "metadata": {
    "school_cell_uuid": "270c34d4368e460abdefee777b1882c9"
   },
   "outputs": [
    {
     "data": {
      "text/plain": [
       "array([[0.29545455, 0.38636364, 0.09090909, 0.22727273],\n",
       "       [0.11538462, 0.15384615, 0.36538462, 0.36538462]])"
      ]
     },
     "execution_count": 37,
     "metadata": {},
     "output_type": "execute_result"
    }
   ],
   "source": [
    "theta = np.exp(model_mult.feature_log_prob_)\n",
    "theta"
   ]
  },
  {
   "cell_type": "markdown",
   "metadata": {
    "school_cell_uuid": "48e0244045224107ab02d6329e4cbb07"
   },
   "source": [
    "### Step 5. Use `predict_proba` to determine probability for each class"
   ]
  },
  {
   "cell_type": "code",
   "execution_count": 38,
   "metadata": {
    "school_cell_uuid": "0ce991747125437d94857adc9a589bc6"
   },
   "outputs": [
    {
     "data": {
      "text/plain": [
       "array([[0.38848858, 0.61151142]])"
      ]
     },
     "execution_count": 38,
     "metadata": {},
     "output_type": "execute_result"
    }
   ],
   "source": [
    "x_new = np.array([10, 10, 10, 10])\n",
    "model_mult.predict_proba([x_new])"
   ]
  },
  {
   "cell_type": "markdown",
   "metadata": {
    "school_cell_uuid": "0225920c3d714eb1b492849f1cc84f84"
   },
   "source": [
    "### Step 5-1. How they were calculated"
   ]
  },
  {
   "cell_type": "code",
   "execution_count": 39,
   "metadata": {
    "school_cell_uuid": "dc410c542a834ee9ad18ecee995fc26c"
   },
   "outputs": [
    {
     "data": {
      "text/plain": [
       "array([0.38848858, 0.61151142])"
      ]
     },
     "execution_count": 39,
     "metadata": {},
     "output_type": "execute_result"
    }
   ],
   "source": [
    "p = (theta ** x_new).prod(axis=1)*np.exp(model_bern.class_log_prior_)\n",
    "p / p.sum()"
   ]
  },
  {
   "cell_type": "markdown",
   "metadata": {
    "school_cell_uuid": "65e8aa79d4e04c8b9bf61f54bb3770d4"
   },
   "source": [
    "# 4. Example - Newsgroups Data"
   ]
  },
  {
   "cell_type": "code",
   "execution_count": 40,
   "metadata": {
    "school_cell_uuid": "a42d82e873f740a7b54a49c91db02b2c"
   },
   "outputs": [],
   "source": [
    "from sklearn.datasets import fetch_20newsgroups\n",
    "\n",
    "news = fetch_20newsgroups(subset=\"all\")\n",
    "X = news.data\n",
    "y = news.target"
   ]
  },
  {
   "cell_type": "code",
   "execution_count": 41,
   "metadata": {
    "school_cell_uuid": "65ae35ff17d949daae55a93d24aabc62"
   },
   "outputs": [],
   "source": [
    "from sklearn.feature_extraction.text import TfidfVectorizer, HashingVectorizer, CountVectorizer\n",
    "from sklearn.naive_bayes import MultinomialNB\n",
    "from sklearn.pipeline import Pipeline\n",
    "\n",
    "model1 = Pipeline([\n",
    "            ('vect', CountVectorizer()), \n",
    "            ('model', MultinomialNB()),\n",
    "         ])\n",
    "model2 = Pipeline([\n",
    "            ('vect', TfidfVectorizer()),\n",
    "            ('model', MultinomialNB()),\n",
    "         ])\n",
    "model3 = Pipeline([\n",
    "            ('vect', TfidfVectorizer(stop_words=\"english\")),\n",
    "            ('model', MultinomialNB()),\n",
    "         ])\n",
    "model4 = Pipeline([\n",
    "            ('vect', TfidfVectorizer(stop_words=\"english\", \n",
    "                                     token_pattern=r\"\\b[a-z0-9_\\-\\.]+[a-z][a-z0-9_\\-\\.]+\\b\")),\n",
    "            ('model', MultinomialNB()),\n",
    "         ])"
   ]
  },
  {
   "cell_type": "code",
   "execution_count": 42,
   "metadata": {
    "school_cell_uuid": "ba99c79cbebf494791e704c7552f69ee",
    "scrolled": false
   },
   "outputs": [
    {
     "name": "stdout",
     "output_type": "stream",
     "text": [
      "Model0: Mean score: 0.855\n",
      "Model1: Mean score: 0.856\n",
      "Model2: Mean score: 0.883\n",
      "Model3: Mean score: 0.888\n",
      "CPU times: user 1min 18s, sys: 3.04 s, total: 1min 21s\n",
      "Wall time: 1min 21s\n"
     ]
    }
   ],
   "source": [
    "%%time\n",
    "from sklearn.model_selection import cross_val_score, KFold\n",
    "\n",
    "for i, model in enumerate([model1, model2, model3, model4]):\n",
    "    scores = cross_val_score(model, X, y, cv=5)\n",
    "    print((\"Model{0:d}: Mean score: {1:.3f}\").format(i, np.mean(scores)))"
   ]
  },
  {
   "cell_type": "markdown",
   "metadata": {
    "school_cell_uuid": "fa35748e638c484ba38104de2edc0265"
   },
   "source": [
    "# 5. Sentimal Analysis with NBC\n",
    "* We will import movie reviews & determine if it is **positive** or **negative**\n",
    "* Data available at https://github.com/e9t/nsmc"
   ]
  },
  {
   "cell_type": "markdown",
   "metadata": {
    "school_cell_uuid": "f0c9428c43d248758d87f47ed7853018"
   },
   "source": [
    "### Step 1. Data Preprocessing"
   ]
  },
  {
   "cell_type": "code",
   "execution_count": 43,
   "metadata": {
    "collapsed": true,
    "school_cell_uuid": "8b5ad8d15bd3414291c18716613ebc8f"
   },
   "outputs": [
    {
     "name": "stdout",
     "output_type": "stream",
     "text": [
      "/bin/sh: wget: command not found\n",
      "/bin/sh: wget: command not found\n",
      "CPU times: user 6.68 ms, sys: 24.1 ms, total: 30.8 ms\n",
      "Wall time: 245 ms\n"
     ]
    }
   ],
   "source": [
    "%%time\n",
    "!wget -nc https://raw.githubusercontent.com/e9t/nsmc/master/ratings_train.txt\n",
    "!wget -nc https://raw.githubusercontent.com/e9t/nsmc/master/ratings_test.txt"
   ]
  },
  {
   "cell_type": "markdown",
   "metadata": {
    "school_cell_uuid": "ceaa2782048c4716a7b8c36e9a463625"
   },
   "source": [
    "### Step 2. Unicode Encoding using `codecs`"
   ]
  },
  {
   "cell_type": "code",
   "execution_count": 44,
   "metadata": {
    "collapsed": true,
    "school_cell_uuid": "d890841d268b4a8cb26dd706300e8572"
   },
   "outputs": [
    {
     "ename": "FileNotFoundError",
     "evalue": "[Errno 2] No such file or directory: 'ratings_train.txt'",
     "output_type": "error",
     "traceback": [
      "\u001b[0;31m---------------------------------------------------------------------------\u001b[0m",
      "\u001b[0;31mFileNotFoundError\u001b[0m                         Traceback (most recent call last)",
      "\u001b[0;32m<ipython-input-44-2222b5bb24fd>\u001b[0m in \u001b[0;36m<module>\u001b[0;34m()\u001b[0m\n\u001b[1;32m      1\u001b[0m \u001b[0;32mimport\u001b[0m \u001b[0mcodecs\u001b[0m\u001b[0;34m\u001b[0m\u001b[0m\n\u001b[0;32m----> 2\u001b[0;31m \u001b[0;32mwith\u001b[0m \u001b[0mcodecs\u001b[0m\u001b[0;34m.\u001b[0m\u001b[0mopen\u001b[0m\u001b[0;34m(\u001b[0m\u001b[0;34m\"ratings_train.txt\"\u001b[0m\u001b[0;34m,\u001b[0m \u001b[0mencoding\u001b[0m\u001b[0;34m=\u001b[0m\u001b[0;34m'utf-8'\u001b[0m\u001b[0;34m)\u001b[0m \u001b[0;32mas\u001b[0m \u001b[0mf\u001b[0m\u001b[0;34m:\u001b[0m\u001b[0;34m\u001b[0m\u001b[0m\n\u001b[0m\u001b[1;32m      3\u001b[0m     \u001b[0mdata\u001b[0m \u001b[0;34m=\u001b[0m \u001b[0;34m[\u001b[0m\u001b[0mline\u001b[0m\u001b[0;34m.\u001b[0m\u001b[0msplit\u001b[0m\u001b[0;34m(\u001b[0m\u001b[0;34m'\\t'\u001b[0m\u001b[0;34m)\u001b[0m \u001b[0;32mfor\u001b[0m \u001b[0mline\u001b[0m \u001b[0;32min\u001b[0m \u001b[0mf\u001b[0m\u001b[0;34m.\u001b[0m\u001b[0mread\u001b[0m\u001b[0;34m(\u001b[0m\u001b[0;34m)\u001b[0m\u001b[0;34m.\u001b[0m\u001b[0msplitlines\u001b[0m\u001b[0;34m(\u001b[0m\u001b[0;34m)\u001b[0m\u001b[0;34m]\u001b[0m\u001b[0;34m\u001b[0m\u001b[0m\n\u001b[1;32m      4\u001b[0m     \u001b[0mdata\u001b[0m \u001b[0;34m=\u001b[0m \u001b[0mdata\u001b[0m\u001b[0;34m[\u001b[0m\u001b[0;36m1\u001b[0m\u001b[0;34m:\u001b[0m\u001b[0;34m]\u001b[0m   \u001b[0;31m# header 제외\u001b[0m\u001b[0;34m\u001b[0m\u001b[0m\n",
      "\u001b[0;32m/anaconda3/lib/python3.6/codecs.py\u001b[0m in \u001b[0;36mopen\u001b[0;34m(filename, mode, encoding, errors, buffering)\u001b[0m\n\u001b[1;32m    895\u001b[0m         \u001b[0;31m# Force opening of the file in binary mode\u001b[0m\u001b[0;34m\u001b[0m\u001b[0;34m\u001b[0m\u001b[0m\n\u001b[1;32m    896\u001b[0m         \u001b[0mmode\u001b[0m \u001b[0;34m=\u001b[0m \u001b[0mmode\u001b[0m \u001b[0;34m+\u001b[0m \u001b[0;34m'b'\u001b[0m\u001b[0;34m\u001b[0m\u001b[0m\n\u001b[0;32m--> 897\u001b[0;31m     \u001b[0mfile\u001b[0m \u001b[0;34m=\u001b[0m \u001b[0mbuiltins\u001b[0m\u001b[0;34m.\u001b[0m\u001b[0mopen\u001b[0m\u001b[0;34m(\u001b[0m\u001b[0mfilename\u001b[0m\u001b[0;34m,\u001b[0m \u001b[0mmode\u001b[0m\u001b[0;34m,\u001b[0m \u001b[0mbuffering\u001b[0m\u001b[0;34m)\u001b[0m\u001b[0;34m\u001b[0m\u001b[0m\n\u001b[0m\u001b[1;32m    898\u001b[0m     \u001b[0;32mif\u001b[0m \u001b[0mencoding\u001b[0m \u001b[0;32mis\u001b[0m \u001b[0;32mNone\u001b[0m\u001b[0;34m:\u001b[0m\u001b[0;34m\u001b[0m\u001b[0m\n\u001b[1;32m    899\u001b[0m         \u001b[0;32mreturn\u001b[0m \u001b[0mfile\u001b[0m\u001b[0;34m\u001b[0m\u001b[0m\n",
      "\u001b[0;31mFileNotFoundError\u001b[0m: [Errno 2] No such file or directory: 'ratings_train.txt'"
     ]
    }
   ],
   "source": [
    "import codecs\n",
    "with codecs.open(\"ratings_train.txt\", encoding='utf-8') as f:\n",
    "    data = [line.split('\\t') for line in f.read().splitlines()]\n",
    "    data = data[1:]   # header 제외"
   ]
  },
  {
   "cell_type": "markdown",
   "metadata": {
    "school_cell_uuid": "2095a3de92c54642abdee4c25a436861"
   },
   "source": [
    "### Step 3. Each data consist of ID, Review, Rating $\\rightarrow$ Save Review as `X`, and rating as `y`"
   ]
  },
  {
   "cell_type": "code",
   "execution_count": 3,
   "metadata": {
    "school_cell_uuid": "6295dfac31a8416dabc3193f00c27af8"
   },
   "outputs": [
    {
     "name": "stdout",
     "output_type": "stream",
     "text": [
      "['9976970', '아 더빙.. 진짜 짜증나네요 목소리', '0']\n"
     ]
    }
   ],
   "source": [
    "from pprint import pprint\n",
    "pprint(data[0])"
   ]
  },
  {
   "cell_type": "code",
   "execution_count": 4,
   "metadata": {
    "school_cell_uuid": "9db8090593cd4efbb4c1bac3b76192b3"
   },
   "outputs": [],
   "source": [
    "X = list(zip(*data))[1]\n",
    "y = np.array(list(zip(*data))[2], dtype=int)"
   ]
  },
  {
   "cell_type": "markdown",
   "metadata": {
    "school_cell_uuid": "24648c96efb7412bbdaceabf2622fc2e"
   },
   "source": [
    "### Step 4. Use `MultinomialNB` to train the model"
   ]
  },
  {
   "cell_type": "code",
   "execution_count": 5,
   "metadata": {
    "school_cell_uuid": "a511416e1e884c82a0c54f7c202a441c"
   },
   "outputs": [],
   "source": [
    "from sklearn.feature_extraction.text import CountVectorizer\n",
    "from sklearn.naive_bayes import MultinomialNB\n",
    "from sklearn.pipeline import Pipeline\n",
    "from sklearn.metrics import classification_report\n",
    "\n",
    "model1 = Pipeline([\n",
    "            ('vect', CountVectorizer()), \n",
    "            ('mb', MultinomialNB()),\n",
    "        ])"
   ]
  },
  {
   "cell_type": "code",
   "execution_count": 6,
   "metadata": {
    "school_cell_uuid": "114010a5f76d43cdaef2382a7f700936"
   },
   "outputs": [
    {
     "name": "stdout",
     "output_type": "stream",
     "text": [
      "CPU times: user 4.67 s, sys: 130 ms, total: 4.8 s\n",
      "Wall time: 4.8 s\n"
     ]
    },
    {
     "data": {
      "text/plain": [
       "Pipeline(memory=None,\n",
       "     steps=[('vect', CountVectorizer(analyzer='word', binary=False, decode_error='strict',\n",
       "        dtype=<class 'numpy.int64'>, encoding='utf-8', input='content',\n",
       "        lowercase=True, max_df=1.0, max_features=None, min_df=1,\n",
       "        ngram_range=(1, 1), preprocessor=None, stop_words=None,\n",
       "        strip_accents=None, token_pattern='(?u)\\\\b\\\\w\\\\w+\\\\b',\n",
       "        tokenizer=None, vocabulary=None)), ('mb', MultinomialNB(alpha=1.0, class_prior=None, fit_prior=True))])"
      ]
     },
     "execution_count": 6,
     "metadata": {},
     "output_type": "execute_result"
    }
   ],
   "source": [
    "%%time \n",
    "model1.fit(X, y)"
   ]
  },
  {
   "cell_type": "markdown",
   "metadata": {
    "school_cell_uuid": "deb7613b90c74366a4ee5a0bc5255ab3"
   },
   "source": [
    "### Step 5. Import test data to test the performance"
   ]
  },
  {
   "cell_type": "code",
   "execution_count": 7,
   "metadata": {
    "school_cell_uuid": "d6378922aa5d437eb99234147c1f86a5"
   },
   "outputs": [],
   "source": [
    "import codecs\n",
    "with codecs.open(\"ratings_test.txt\", encoding='utf-8') as f:\n",
    "    data_test = [line.split('\\t') for line in f.read().splitlines()]\n",
    "    data_test = data_test[1:]   # exclude header"
   ]
  },
  {
   "cell_type": "code",
   "execution_count": 8,
   "metadata": {
    "school_cell_uuid": "2686123aacde45399fb55e7d893a14ec"
   },
   "outputs": [
    {
     "name": "stdout",
     "output_type": "stream",
     "text": [
      "             precision    recall  f1-score   support\n",
      "\n",
      "          0       0.81      0.84      0.83     24827\n",
      "          1       0.84      0.81      0.82     25173\n",
      "\n",
      "avg / total       0.83      0.83      0.83     50000\n",
      "\n"
     ]
    }
   ],
   "source": [
    "X_test = list(zip(*data_test))[1]\n",
    "y_test = np.array(list(zip(*data_test))[2], dtype=int)\n",
    "\n",
    "print(classification_report(y_test, model1.predict(X_test)))"
   ]
  },
  {
   "cell_type": "markdown",
   "metadata": {
    "school_cell_uuid": "c176296c1d58436f861c6204d741ae15"
   },
   "source": [
    "### Step 6. Compare this result with `TfidVectorizer`"
   ]
  },
  {
   "cell_type": "code",
   "execution_count": 9,
   "metadata": {
    "school_cell_uuid": "4e82596bfe7b4b10bbb69b8a456b84a8"
   },
   "outputs": [],
   "source": [
    "from sklearn.feature_extraction.text import TfidfVectorizer\n",
    "\n",
    "model2 = Pipeline([\n",
    "            ('vect', TfidfVectorizer()), \n",
    "            ('mb', MultinomialNB()),\n",
    "        ])"
   ]
  },
  {
   "cell_type": "code",
   "execution_count": 10,
   "metadata": {
    "school_cell_uuid": "ff0c514f834b45ce94f60901f551921e"
   },
   "outputs": [
    {
     "name": "stdout",
     "output_type": "stream",
     "text": [
      "CPU times: user 4.82 s, sys: 40 ms, total: 4.86 s\n",
      "Wall time: 4.86 s\n"
     ]
    },
    {
     "data": {
      "text/plain": [
       "Pipeline(memory=None,\n",
       "     steps=[('vect', TfidfVectorizer(analyzer='word', binary=False, decode_error='strict',\n",
       "        dtype=<class 'numpy.int64'>, encoding='utf-8', input='content',\n",
       "        lowercase=True, max_df=1.0, max_features=None, min_df=1,\n",
       "        ngram_range=(1, 1), norm='l2', preprocessor=None, smooth_idf=True,\n",
       "  ...True,\n",
       "        vocabulary=None)), ('mb', MultinomialNB(alpha=1.0, class_prior=None, fit_prior=True))])"
      ]
     },
     "execution_count": 10,
     "metadata": {},
     "output_type": "execute_result"
    }
   ],
   "source": [
    "%%time \n",
    "model2.fit(X, y)"
   ]
  },
  {
   "cell_type": "code",
   "execution_count": 11,
   "metadata": {
    "school_cell_uuid": "f89cfb3befc64b42be3c2d0db1b9acc6"
   },
   "outputs": [
    {
     "name": "stdout",
     "output_type": "stream",
     "text": [
      "             precision    recall  f1-score   support\n",
      "\n",
      "          0       0.81      0.84      0.83     24827\n",
      "          1       0.84      0.81      0.83     25173\n",
      "\n",
      "avg / total       0.83      0.83      0.83     50000\n",
      "\n"
     ]
    }
   ],
   "source": [
    "print(classification_report(y_test, model2.predict(X_test)))"
   ]
  },
  {
   "cell_type": "markdown",
   "metadata": {
    "school_cell_uuid": "22aab079fa6c4ba2a18971c32a86ad2a"
   },
   "source": [
    "### Step 7. Compare this result with `KoNLPy`"
   ]
  },
  {
   "cell_type": "code",
   "execution_count": 12,
   "metadata": {
    "school_cell_uuid": "56438b6b1a654eabbbe8339381963900"
   },
   "outputs": [],
   "source": [
    "from konlpy.tag import Twitter\n",
    "pos_tagger = Twitter()\n",
    "\n",
    "def tokenize_pos(doc):\n",
    "    return ['/'.join(t) for t in pos_tagger.pos(doc, norm=True, stem=True)]"
   ]
  },
  {
   "cell_type": "code",
   "execution_count": 13,
   "metadata": {
    "school_cell_uuid": "00cc37bcfd804a2fa056aca320084fde"
   },
   "outputs": [],
   "source": [
    "model3 = Pipeline([\n",
    "            ('vect', CountVectorizer(tokenizer=tokenize_pos)), \n",
    "            ('mb', MultinomialNB()),\n",
    "        ])"
   ]
  },
  {
   "cell_type": "code",
   "execution_count": 14,
   "metadata": {
    "school_cell_uuid": "77291e70317b424ca6575bef59e6c402"
   },
   "outputs": [
    {
     "name": "stdout",
     "output_type": "stream",
     "text": [
      "CPU times: user 3min 51s, sys: 1.67 s, total: 3min 52s\n",
      "Wall time: 3min 44s\n"
     ]
    },
    {
     "data": {
      "text/plain": [
       "Pipeline(memory=None,\n",
       "     steps=[('vect', CountVectorizer(analyzer='word', binary=False, decode_error='strict',\n",
       "        dtype=<class 'numpy.int64'>, encoding='utf-8', input='content',\n",
       "        lowercase=True, max_df=1.0, max_features=None, min_df=1,\n",
       "        ngram_range=(1, 1), preprocessor=None, stop_words=None,\n",
       "        strip...f28>,\n",
       "        vocabulary=None)), ('mb', MultinomialNB(alpha=1.0, class_prior=None, fit_prior=True))])"
      ]
     },
     "execution_count": 14,
     "metadata": {},
     "output_type": "execute_result"
    }
   ],
   "source": [
    "%%time \n",
    "model3.fit(X, y)"
   ]
  },
  {
   "cell_type": "code",
   "execution_count": 15,
   "metadata": {
    "school_cell_uuid": "8a8c44576d4a45298951344ea497be92"
   },
   "outputs": [
    {
     "name": "stdout",
     "output_type": "stream",
     "text": [
      "             precision    recall  f1-score   support\n",
      "\n",
      "          0       0.83      0.85      0.84     24827\n",
      "          1       0.85      0.83      0.84     25173\n",
      "\n",
      "avg / total       0.84      0.84      0.84     50000\n",
      "\n"
     ]
    }
   ],
   "source": [
    "print(classification_report(y_test, model3.predict(X_test)))"
   ]
  },
  {
   "cell_type": "markdown",
   "metadata": {
    "school_cell_uuid": "3520a7a3e56741f180b355819fa0a017"
   },
   "source": [
    "### Step 8. Improve performance using `(1,2)-gram`"
   ]
  },
  {
   "cell_type": "code",
   "execution_count": 16,
   "metadata": {
    "school_cell_uuid": "5f79d48916a740cfbfd14ca37fc3824c"
   },
   "outputs": [],
   "source": [
    "model4 = Pipeline([\n",
    "            ('vect', TfidfVectorizer(tokenizer=tokenize_pos, ngram_range=(1,2))), \n",
    "            ('mb', MultinomialNB()),\n",
    "        ])"
   ]
  },
  {
   "cell_type": "code",
   "execution_count": 17,
   "metadata": {
    "school_cell_uuid": "d4a5450147184734aca7a0db5b85f66b"
   },
   "outputs": [
    {
     "name": "stdout",
     "output_type": "stream",
     "text": [
      "CPU times: user 4min 45s, sys: 1.49 s, total: 4min 46s\n",
      "Wall time: 4min 46s\n"
     ]
    },
    {
     "data": {
      "text/plain": [
       "Pipeline(memory=None,\n",
       "     steps=[('vect', TfidfVectorizer(analyzer='word', binary=False, decode_error='strict',\n",
       "        dtype=<class 'numpy.int64'>, encoding='utf-8', input='content',\n",
       "        lowercase=True, max_df=1.0, max_features=None, min_df=1,\n",
       "        ngram_range=(1, 2), norm='l2', preprocessor=None, smooth_idf=True,\n",
       "  ...True,\n",
       "        vocabulary=None)), ('mb', MultinomialNB(alpha=1.0, class_prior=None, fit_prior=True))])"
      ]
     },
     "execution_count": 17,
     "metadata": {},
     "output_type": "execute_result"
    }
   ],
   "source": [
    "%%time \n",
    "model4.fit(X, y)"
   ]
  },
  {
   "cell_type": "code",
   "execution_count": 18,
   "metadata": {
    "school_cell_uuid": "466aa13c945f49f79f19a35de9b6e5ff"
   },
   "outputs": [
    {
     "name": "stdout",
     "output_type": "stream",
     "text": [
      "             precision    recall  f1-score   support\n",
      "\n",
      "          0       0.86      0.87      0.87     24827\n",
      "          1       0.87      0.86      0.87     25173\n",
      "\n",
      "avg / total       0.87      0.87      0.87     50000\n",
      "\n"
     ]
    }
   ],
   "source": [
    "print(classification_report(y_test, model4.predict(X_test)))"
   ]
  }
 ],
 "metadata": {
  "kernelspec": {
   "display_name": "Python 3",
   "language": "python",
   "name": "python3"
  },
  "language_info": {
   "codemirror_mode": {
    "name": "ipython",
    "version": 3
   },
   "file_extension": ".py",
   "mimetype": "text/x-python",
   "name": "python",
   "nbconvert_exporter": "python",
   "pygments_lexer": "ipython3",
   "version": "3.6.4"
  }
 },
 "nbformat": 4,
 "nbformat_minor": 2
}
