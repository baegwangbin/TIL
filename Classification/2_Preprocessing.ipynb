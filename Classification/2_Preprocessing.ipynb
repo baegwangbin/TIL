{
 "cells": [
  {
   "cell_type": "code",
   "execution_count": 39,
   "metadata": {
    "hidden": "all",
    "school_cell_uuid": "3833dfddc6944feb832d1ec2442a77cd"
   },
   "outputs": [],
   "source": [
    "import warnings\n",
    "warnings.simplefilter('ignore')"
   ]
  },
  {
   "cell_type": "code",
   "execution_count": 1,
   "metadata": {},
   "outputs": [],
   "source": [
    "import numpy as np\n",
    "import pandas as pd\n",
    "import seaborn as sns\n",
    "import matplotlib.pyplot as plt"
   ]
  },
  {
   "cell_type": "markdown",
   "metadata": {},
   "source": [
    "# Table of Contents\n",
    ">## 1. Scaling\n",
    "## 2. Normalization\n",
    "## 3. Encoding\n",
    "* 3.1. Encoding\n",
    "* 3.2. One-Hot-Encoder\n",
    "* 3.3. Imputer\n",
    "* 3.4. Binarizer\n",
    "* 3.5. Polynomial Features\n",
    "* 3.6. Function Transformer\n",
    "* 3.7. Label Encoder\n",
    "* 3.8. Label Binarizer"
   ]
  },
  {
   "cell_type": "markdown",
   "metadata": {
    "school_cell_uuid": "ed562603343a45e88c6fdb20ecba0f63"
   },
   "source": [
    "## 1. Scaling\n",
    "* Apply linear transformation $\\rightarrow$ average = `0`, variance=`1`\n",
    "* Goal 1: prevent overflow OR underflow\n",
    "* Gold 2: reduce condition number $\\rightarrow$ faster & more stable optimization\n",
    "\n",
    ">* **Scaling with `Scikit-Learn`**\n",
    "  * `scale(X)`: Standard Scaling\n",
    "  * `robust_scale(X)`: removes the median and scales the data according to the quantile range / robust to outliers\n",
    "  * `minmax_scale(X)`: Max=1 / Min=0\n",
    "  * `maxabs_scale(X)`: Maxabs=1 / Minabs=0"
   ]
  },
  {
   "cell_type": "code",
   "execution_count": 5,
   "metadata": {
    "school_cell_uuid": "ff03a0bc180340609ef2b9571a083bd3"
   },
   "outputs": [
    {
     "data": {
      "text/html": [
       "<div>\n",
       "<style scoped>\n",
       "    .dataframe tbody tr th:only-of-type {\n",
       "        vertical-align: middle;\n",
       "    }\n",
       "\n",
       "    .dataframe tbody tr th {\n",
       "        vertical-align: top;\n",
       "    }\n",
       "\n",
       "    .dataframe thead th {\n",
       "        text-align: right;\n",
       "    }\n",
       "</style>\n",
       "<table border=\"1\" class=\"dataframe\">\n",
       "  <thead>\n",
       "    <tr style=\"text-align: right;\">\n",
       "      <th></th>\n",
       "      <th>x</th>\n",
       "      <th>scale(x)</th>\n",
       "      <th>robust_scale(x)</th>\n",
       "      <th>minmax_scale(x)</th>\n",
       "      <th>maxabs_scale(x)</th>\n",
       "    </tr>\n",
       "  </thead>\n",
       "  <tbody>\n",
       "    <tr>\n",
       "      <th>0</th>\n",
       "      <td>-3.0</td>\n",
       "      <td>-0.950995</td>\n",
       "      <td>-1.000000</td>\n",
       "      <td>0.000000</td>\n",
       "      <td>-0.15</td>\n",
       "    </tr>\n",
       "    <tr>\n",
       "      <th>1</th>\n",
       "      <td>-2.0</td>\n",
       "      <td>-0.789809</td>\n",
       "      <td>-0.777778</td>\n",
       "      <td>0.043478</td>\n",
       "      <td>-0.10</td>\n",
       "    </tr>\n",
       "    <tr>\n",
       "      <th>2</th>\n",
       "      <td>-1.0</td>\n",
       "      <td>-0.628624</td>\n",
       "      <td>-0.555556</td>\n",
       "      <td>0.086957</td>\n",
       "      <td>-0.05</td>\n",
       "    </tr>\n",
       "    <tr>\n",
       "      <th>3</th>\n",
       "      <td>0.0</td>\n",
       "      <td>-0.467438</td>\n",
       "      <td>-0.333333</td>\n",
       "      <td>0.130435</td>\n",
       "      <td>0.00</td>\n",
       "    </tr>\n",
       "    <tr>\n",
       "      <th>4</th>\n",
       "      <td>1.0</td>\n",
       "      <td>-0.306253</td>\n",
       "      <td>-0.111111</td>\n",
       "      <td>0.173913</td>\n",
       "      <td>0.05</td>\n",
       "    </tr>\n",
       "    <tr>\n",
       "      <th>5</th>\n",
       "      <td>2.0</td>\n",
       "      <td>-0.145067</td>\n",
       "      <td>0.111111</td>\n",
       "      <td>0.217391</td>\n",
       "      <td>0.10</td>\n",
       "    </tr>\n",
       "    <tr>\n",
       "      <th>6</th>\n",
       "      <td>3.0</td>\n",
       "      <td>0.016119</td>\n",
       "      <td>0.333333</td>\n",
       "      <td>0.260870</td>\n",
       "      <td>0.15</td>\n",
       "    </tr>\n",
       "    <tr>\n",
       "      <th>7</th>\n",
       "      <td>4.0</td>\n",
       "      <td>0.177304</td>\n",
       "      <td>0.555556</td>\n",
       "      <td>0.304348</td>\n",
       "      <td>0.20</td>\n",
       "    </tr>\n",
       "    <tr>\n",
       "      <th>8</th>\n",
       "      <td>5.0</td>\n",
       "      <td>0.338490</td>\n",
       "      <td>0.777778</td>\n",
       "      <td>0.347826</td>\n",
       "      <td>0.25</td>\n",
       "    </tr>\n",
       "    <tr>\n",
       "      <th>9</th>\n",
       "      <td>20.0</td>\n",
       "      <td>2.756273</td>\n",
       "      <td>4.111111</td>\n",
       "      <td>1.000000</td>\n",
       "      <td>1.00</td>\n",
       "    </tr>\n",
       "  </tbody>\n",
       "</table>\n",
       "</div>"
      ],
      "text/plain": [
       "      x  scale(x)  robust_scale(x)  minmax_scale(x)  maxabs_scale(x)\n",
       "0  -3.0 -0.950995        -1.000000         0.000000            -0.15\n",
       "1  -2.0 -0.789809        -0.777778         0.043478            -0.10\n",
       "2  -1.0 -0.628624        -0.555556         0.086957            -0.05\n",
       "3   0.0 -0.467438        -0.333333         0.130435             0.00\n",
       "4   1.0 -0.306253        -0.111111         0.173913             0.05\n",
       "5   2.0 -0.145067         0.111111         0.217391             0.10\n",
       "6   3.0  0.016119         0.333333         0.260870             0.15\n",
       "7   4.0  0.177304         0.555556         0.304348             0.20\n",
       "8   5.0  0.338490         0.777778         0.347826             0.25\n",
       "9  20.0  2.756273         4.111111         1.000000             1.00"
      ]
     },
     "execution_count": 5,
     "metadata": {},
     "output_type": "execute_result"
    }
   ],
   "source": [
    "from sklearn.preprocessing import scale, robust_scale, minmax_scale, maxabs_scale\n",
    "\n",
    "x = (np.arange(9, dtype=np.float) - 3).reshape(-1, 1)\n",
    "x = np.vstack([x, [20]])  # insert outlier\n",
    "df = pd.DataFrame(np.hstack([x, scale(x), robust_scale(x), minmax_scale(x), maxabs_scale(x)]), \n",
    "                  columns=[\"x\", \"scale(x)\", \"robust_scale(x)\", \"minmax_scale(x)\", \"maxabs_scale(x)\"])\n",
    "df"
   ]
  },
  {
   "cell_type": "code",
   "execution_count": 7,
   "metadata": {
    "school_cell_uuid": "46e7b4ea47bb448689305d71531ba7ef"
   },
   "outputs": [
    {
     "name": "stdout",
     "output_type": "stream",
     "text": [
      "old mean: [5.84333333 3.054      3.75866667 1.19866667]\n",
      "old std:  [0.82530129 0.43214658 1.75852918 0.76061262]\n",
      "new mean: [-1.69031455e-15 -1.63702385e-15 -1.48251781e-15 -1.62314606e-15]\n",
      "new std:  [1. 1. 1. 1.]\n"
     ]
    }
   ],
   "source": [
    "from sklearn.datasets import load_iris\n",
    "iris = load_iris()\n",
    "\n",
    "data1 = iris.data\n",
    "data2 = scale(iris.data)\n",
    "\n",
    "print(\"old mean:\", np.mean(data1, axis=0))\n",
    "print(\"old std: \", np.std(data1, axis=0))\n",
    "print(\"new mean:\", np.mean(data2, axis=0))\n",
    "print(\"new std: \", np.std(data2, axis=0))"
   ]
  },
  {
   "cell_type": "markdown",
   "metadata": {},
   "source": [
    "### Using `StandardScaler` Class for Pipeline\n",
    "* **How to**\n",
    "  1. Generate Class object\n",
    "  2. Use `fit()` method & training data to obtain transformation coefficients\n",
    "  3. Use `transform()` method\n",
    "  4. OR Use `fit_transform()` method"
   ]
  },
  {
   "cell_type": "code",
   "execution_count": 9,
   "metadata": {
    "school_cell_uuid": "936d0deaa59843ea81f48f8fd8127be1"
   },
   "outputs": [
    {
     "data": {
      "text/plain": [
       "(1.974000985027335, 1.0)"
      ]
     },
     "execution_count": 9,
     "metadata": {},
     "output_type": "execute_result"
    }
   ],
   "source": [
    "from sklearn.preprocessing import StandardScaler\n",
    "\n",
    "scaler = StandardScaler()\n",
    "scaler.fit(data1)\n",
    "data2 = scaler.transform(data1)\n",
    "\n",
    "data1.std(), data2.std()"
   ]
  },
  {
   "cell_type": "markdown",
   "metadata": {
    "school_cell_uuid": "69c5820f2dcf4752a049653fa4e31ddd"
   },
   "source": [
    "## 2. Normalization\n",
    "* Scale input vectors individually to unit norm (vector length)"
   ]
  },
  {
   "cell_type": "code",
   "execution_count": 10,
   "metadata": {
    "school_cell_uuid": "121f96363bc64fb5a8a1717c3206d684"
   },
   "outputs": [
    {
     "name": "stdout",
     "output_type": "stream",
     "text": [
      "original x:\n",
      " [[-20.  -2.]\n",
      " [-19.  -1.]\n",
      " [-18.   0.]\n",
      " [-17.   1.]\n",
      " [-16.   2.]]\n",
      "scale:\n",
      " [[-1.41421356 -1.41421356]\n",
      " [-0.70710678 -0.70710678]\n",
      " [ 0.          0.        ]\n",
      " [ 0.70710678  0.70710678]\n",
      " [ 1.41421356  1.41421356]]\n",
      "norms (scale)\n",
      " [2. 1. 0. 1. 2.]\n",
      "normlize:\n",
      " [[-0.99503719 -0.09950372]\n",
      " [-0.99861783 -0.05255883]\n",
      " [-1.          0.        ]\n",
      " [-0.99827437  0.05872202]\n",
      " [-0.99227788  0.12403473]]\n",
      "norms (normalize)\n",
      " [1. 1. 1. 1. 1.]\n"
     ]
    }
   ],
   "source": [
    "from sklearn.preprocessing import normalize\n",
    "\n",
    "x = np.vstack([np.arange(5, dtype=float) - 20, np.arange(5, dtype=float) - 2]).T\n",
    "y1 = scale(x)\n",
    "y2 = normalize(x)\n",
    "\n",
    "print(\"original x:\\n\", x)\n",
    "print(\"scale:\\n\", y1)\n",
    "print(\"norms (scale)\\n\", np.linalg.norm(y1, axis=1))\n",
    "print(\"normlize:\\n\", y2)\n",
    "print(\"norms (normalize)\\n\", np.linalg.norm(y2, axis=1))"
   ]
  },
  {
   "cell_type": "code",
   "execution_count": 11,
   "metadata": {
    "school_cell_uuid": "b64da04d3e2348d699625acf6baf1417"
   },
   "outputs": [],
   "source": [
    "from sklearn.datasets import load_iris\n",
    "iris = load_iris()\n",
    "\n",
    "data1 = iris.data[:,:2]\n",
    "data3 = normalize(data1)"
   ]
  },
  {
   "cell_type": "code",
   "execution_count": 12,
   "metadata": {
    "school_cell_uuid": "916c8f537a764ddd8577cc4faf13af76"
   },
   "outputs": [
    {
     "data": {
      "image/png": "[encoded data removed]",
      "text/plain": [
       "<matplotlib.figure.Figure at 0x1089fa908>"
      ]
     },
     "metadata": {},
     "output_type": "display_data"
    }
   ],
   "source": [
    "sns.jointplot(data1[:,0], data1[:,1])\n",
    "plt.show()"
   ]
  },
  {
   "cell_type": "code",
   "execution_count": 13,
   "metadata": {
    "school_cell_uuid": "98cc8b7470954b1f94c97748a96e41e7"
   },
   "outputs": [
    {
     "data": {
      "image/png": "[encoded data removed]",
      "text/plain": [
       "<matplotlib.figure.Figure at 0x1088284a8>"
      ]
     },
     "metadata": {},
     "output_type": "display_data"
    }
   ],
   "source": [
    "sns.jointplot(data3[:,0], data3[:,1])\n",
    "plt.show()"
   ]
  },
  {
   "cell_type": "markdown",
   "metadata": {
    "school_cell_uuid": "a3408ffb6be2466784babe9b7589cf66"
   },
   "source": [
    "## 3. Encoding\n",
    "* Categorical OR Text data $\\rightarrow$ vectors"
   ]
  },
  {
   "cell_type": "markdown",
   "metadata": {
    "school_cell_uuid": "cddd114a5fdc488893a9c0a57f919b58"
   },
   "source": [
    "### 3.1. One-Hot-Encoder\n",
    "* Encode categorical integer features using a one-hot aka one-of-K scheme\n",
    "* This encoding is needed for feeding categorical data to many scikit-learn estimators, notably linear models and SVMs with the standard kernels\n",
    "* **Attributes of the fit() method**\n",
    "  * `n_values_` : Maximum number of values per feature\n",
    "  * `feature_indices_` : Indices to feature ranges\n",
    "  * `active_features_` : Maximum number of values per feature"
   ]
  },
  {
   "cell_type": "markdown",
   "metadata": {},
   "source": [
    "### OHE for Scalars"
   ]
  },
  {
   "cell_type": "code",
   "execution_count": 14,
   "metadata": {},
   "outputs": [],
   "source": [
    "from sklearn.preprocessing import OneHotEncoder\n",
    "ohe = OneHotEncoder()"
   ]
  },
  {
   "cell_type": "code",
   "execution_count": 17,
   "metadata": {},
   "outputs": [
    {
     "data": {
      "text/plain": [
       "(array([3]), array([0, 3]), array([0, 1, 2]))"
      ]
     },
     "execution_count": 17,
     "metadata": {},
     "output_type": "execute_result"
    }
   ],
   "source": [
    "X = np.array([[0],[1],[2]])\n",
    "ohe.fit(X)\n",
    "ohe.n_values_, ohe.feature_indices_, ohe.active_features_"
   ]
  },
  {
   "cell_type": "code",
   "execution_count": 20,
   "metadata": {},
   "outputs": [
    {
     "data": {
      "text/plain": [
       "array([[1., 0., 0.],\n",
       "       [0., 1., 0.],\n",
       "       [0., 0., 1.]])"
      ]
     },
     "execution_count": 20,
     "metadata": {},
     "output_type": "execute_result"
    }
   ],
   "source": [
    "ohe.transform(X).toarray()"
   ]
  },
  {
   "cell_type": "markdown",
   "metadata": {},
   "source": [
    "### OHE for Vectors"
   ]
  },
  {
   "cell_type": "code",
   "execution_count": 21,
   "metadata": {
    "school_cell_uuid": "4ca743afd1a74574bc2b9bce40f0a3de"
   },
   "outputs": [
    {
     "data": {
      "text/plain": [
       "(array([2, 3, 5]), array([ 0,  2,  5, 10]), array([0, 1, 2, 3, 4, 5, 6, 7, 9]))"
      ]
     },
     "execution_count": 21,
     "metadata": {},
     "output_type": "execute_result"
    }
   ],
   "source": [
    "X = np.array([[0, 0, 4], [1, 1, 0], [0, 2, 1], [1, 0, 2]]) \n",
    "ohe.fit(X)\n",
    "ohe.n_values_, ohe.feature_indices_, ohe.active_features_"
   ]
  },
  {
   "cell_type": "code",
   "execution_count": 22,
   "metadata": {
    "school_cell_uuid": "7c313942758b44cd8c174fe826ee105d"
   },
   "outputs": [
    {
     "data": {
      "text/plain": [
       "array([[1., 0., 1., 0., 0., 0., 0., 0., 1.],\n",
       "       [0., 1., 0., 1., 0., 1., 0., 0., 0.],\n",
       "       [1., 0., 0., 0., 1., 0., 1., 0., 0.],\n",
       "       [0., 1., 1., 0., 0., 0., 0., 1., 0.]])"
      ]
     },
     "execution_count": 22,
     "metadata": {},
     "output_type": "execute_result"
    }
   ],
   "source": [
    "ohe.transform(X).toarray()"
   ]
  },
  {
   "cell_type": "code",
   "execution_count": 16,
   "metadata": {
    "school_cell_uuid": "d903294ac3ef4c878d77bdbc9b72e2c9"
   },
   "outputs": [
    {
     "data": {
      "text/plain": [
       "array([[1., 0., 0., 0., 4.],\n",
       "       [0., 1., 0., 1., 0.],\n",
       "       [0., 0., 1., 0., 1.],\n",
       "       [1., 0., 0., 1., 2.]])"
      ]
     },
     "execution_count": 16,
     "metadata": {},
     "output_type": "execute_result"
    }
   ],
   "source": [
    "ohe = OneHotEncoder(categorical_features=[False, True, False])\n",
    "ohe.fit_transform(X).toarray()"
   ]
  },
  {
   "cell_type": "code",
   "execution_count": 17,
   "metadata": {
    "school_cell_uuid": "0a4fb634394d4ba693392d91f4e17433"
   },
   "outputs": [
    {
     "data": {
      "text/plain": [
       "(array([3]), array([0, 3]), array([0, 1, 2]))"
      ]
     },
     "execution_count": 17,
     "metadata": {},
     "output_type": "execute_result"
    }
   ],
   "source": [
    "ohe.n_values_, ohe.feature_indices_, ohe.active_features_"
   ]
  },
  {
   "cell_type": "markdown",
   "metadata": {
    "school_cell_uuid": "359e1b268b074328aa8cfb3811e7c00e"
   },
   "source": [
    "### 3.2. Imputer\n",
    "* `missing_values`\n",
    "* `strategy` : `mean`(default), `median`, `most_frequent`"
   ]
  },
  {
   "cell_type": "code",
   "execution_count": 23,
   "metadata": {
    "school_cell_uuid": "84f389c4182f4a419e267daeb59c51b9"
   },
   "outputs": [
    {
     "data": {
      "text/plain": [
       "array([[1., 2.],\n",
       "       [4., 3.],\n",
       "       [7., 6.]])"
      ]
     },
     "execution_count": 23,
     "metadata": {},
     "output_type": "execute_result"
    }
   ],
   "source": [
    "from sklearn.preprocessing import Imputer\n",
    "imp = Imputer(missing_values='NaN', strategy='mean', axis=0)\n",
    "imp.fit_transform([[1, 2], [np.nan, 3], [7, 6]])"
   ]
  },
  {
   "cell_type": "markdown",
   "metadata": {
    "school_cell_uuid": "244434f702174b608c9155d69af82e29"
   },
   "source": [
    "### 3.3. Binarizer\n",
    "* Binarize data according to a threshold (default=`0`)"
   ]
  },
  {
   "cell_type": "code",
   "execution_count": 24,
   "metadata": {
    "school_cell_uuid": "77d5d0972917457fa6baccb21382df3f"
   },
   "outputs": [
    {
     "data": {
      "text/plain": [
       "array([[1., 0., 1.],\n",
       "       [1., 0., 0.],\n",
       "       [0., 1., 0.]])"
      ]
     },
     "execution_count": 24,
     "metadata": {},
     "output_type": "execute_result"
    }
   ],
   "source": [
    "from sklearn.preprocessing import Binarizer\n",
    "X = [[ 1., -1.,  2.],\n",
    "     [ 2.,  0.,  0.],\n",
    "     [ 0.,  1., -1.]]\n",
    "binarizer = Binarizer().fit(X) \n",
    "binarizer.transform(X)"
   ]
  },
  {
   "cell_type": "code",
   "execution_count": 25,
   "metadata": {
    "school_cell_uuid": "42511612f3ce494596d9125765e8905b"
   },
   "outputs": [
    {
     "data": {
      "text/plain": [
       "array([[0., 0., 1.],\n",
       "       [1., 0., 0.],\n",
       "       [0., 0., 0.]])"
      ]
     },
     "execution_count": 25,
     "metadata": {},
     "output_type": "execute_result"
    }
   ],
   "source": [
    "binarizer = Binarizer(threshold=1.1)\n",
    "binarizer.transform(X)"
   ]
  },
  {
   "cell_type": "markdown",
   "metadata": {
    "school_cell_uuid": "8187ca5504b840c78fff7a4e4b8bae33"
   },
   "source": [
    "### 3.4. PolynomialFeatures\n",
    "* `PolynomialFeatures(n): ` $ x  \\rightarrow  [1, x, x^2, x^3, \\cdots x^n] $\n",
    "* Input is 2D: $\\;$ $ [x_1, x_2] \\;\\; \\rightarrow \\;\\; [ 1, x_1, x_2, x_1^2, x_1x_2, x_2^2] $\n",
    "* **Parameters:**\n",
    "  * `degree`\n",
    "  * `interaction_only`: if True, $ [x_1, x_2] \\;\\; \\rightarrow \\;\\; [ 1, x_1, x_2, x_1x_2] $\n",
    "  * `include_bias`"
   ]
  },
  {
   "cell_type": "code",
   "execution_count": 26,
   "metadata": {
    "school_cell_uuid": "8fd2107493484eee81282ba952ba11c7"
   },
   "outputs": [
    {
     "data": {
      "text/plain": [
       "array([[0, 1],\n",
       "       [2, 3],\n",
       "       [4, 5]])"
      ]
     },
     "execution_count": 26,
     "metadata": {},
     "output_type": "execute_result"
    }
   ],
   "source": [
    "from sklearn.preprocessing import PolynomialFeatures\n",
    "X = np.arange(6).reshape(3, 2)\n",
    "X"
   ]
  },
  {
   "cell_type": "code",
   "execution_count": 27,
   "metadata": {
    "school_cell_uuid": "647a8c3c1aa248338143d0a6ce56a4cd"
   },
   "outputs": [
    {
     "data": {
      "text/plain": [
       "array([[ 1.,  0.,  1.,  0.,  0.,  1.],\n",
       "       [ 1.,  2.,  3.,  4.,  6.,  9.],\n",
       "       [ 1.,  4.,  5., 16., 20., 25.]])"
      ]
     },
     "execution_count": 27,
     "metadata": {},
     "output_type": "execute_result"
    }
   ],
   "source": [
    "poly = PolynomialFeatures(2)\n",
    "poly.fit_transform(X)"
   ]
  },
  {
   "cell_type": "code",
   "execution_count": 28,
   "metadata": {
    "school_cell_uuid": "652af60d75694e19b0ca181954b1c20a"
   },
   "outputs": [
    {
     "data": {
      "text/plain": [
       "array([[ 1.,  0.,  1.,  0.],\n",
       "       [ 1.,  2.,  3.,  6.],\n",
       "       [ 1.,  4.,  5., 20.]])"
      ]
     },
     "execution_count": 28,
     "metadata": {},
     "output_type": "execute_result"
    }
   ],
   "source": [
    "poly = PolynomialFeatures(interaction_only=True)\n",
    "poly.fit_transform(X)"
   ]
  },
  {
   "cell_type": "markdown",
   "metadata": {
    "school_cell_uuid": "63b9b324b5b343e18a8d25e8ebff9e7b"
   },
   "source": [
    "### 3.5. FunctionTransformer\n",
    "* Transform `x` with an arbitrary function\n",
    "* $ x \\;\\; \\rightarrow \\;\\; [ f_1(x),  f_2(x),  f_3(x),  \\cdots ] $"
   ]
  },
  {
   "cell_type": "code",
   "execution_count": 30,
   "metadata": {
    "school_cell_uuid": "f870d22f390c428098133134944f773c"
   },
   "outputs": [],
   "source": [
    "from sklearn.preprocessing import FunctionTransformer\n",
    "\n",
    "def kernel(X):\n",
    "    x0 = X[:, :1]\n",
    "    x1 = X[:, 1:2]\n",
    "    x2 = X[:, 2:3]\n",
    "    X_new = np.hstack([x0, 2 * x1, x2 ** 2, np.log(x1)])\n",
    "    return X_new"
   ]
  },
  {
   "cell_type": "code",
   "execution_count": 31,
   "metadata": {
    "school_cell_uuid": "7a5dc45676884e139692779af20779b6"
   },
   "outputs": [
    {
     "data": {
      "text/plain": [
       "array([[ 0,  1,  2],\n",
       "       [ 3,  4,  5],\n",
       "       [ 6,  7,  8],\n",
       "       [ 9, 10, 11]])"
      ]
     },
     "execution_count": 31,
     "metadata": {},
     "output_type": "execute_result"
    }
   ],
   "source": [
    "X = np.arange(12).reshape(4, 3)\n",
    "X"
   ]
  },
  {
   "cell_type": "code",
   "execution_count": 32,
   "metadata": {
    "school_cell_uuid": "eb2aad6b95164c4db7d08b3ee7ca0125"
   },
   "outputs": [
    {
     "data": {
      "text/plain": [
       "array([[  0.        ,   2.        ,   4.        ,   0.        ],\n",
       "       [  3.        ,   8.        ,  25.        ,   1.38629436],\n",
       "       [  6.        ,  14.        ,  64.        ,   1.94591015],\n",
       "       [  9.        ,  20.        , 121.        ,   2.30258509]])"
      ]
     },
     "execution_count": 32,
     "metadata": {},
     "output_type": "execute_result"
    }
   ],
   "source": [
    "kernel(X)"
   ]
  },
  {
   "cell_type": "code",
   "execution_count": 34,
   "metadata": {
    "school_cell_uuid": "94eab37e6bb1468a990796fc6c1dafd7"
   },
   "outputs": [
    {
     "data": {
      "text/plain": [
       "array([[  0.        ,   2.        ,   4.        ,   0.        ],\n",
       "       [  3.        ,   8.        ,  25.        ,   1.38629436],\n",
       "       [  6.        ,  14.        ,  64.        ,   1.94591015],\n",
       "       [  9.        ,  20.        , 121.        ,   2.30258509]])"
      ]
     },
     "execution_count": 34,
     "metadata": {},
     "output_type": "execute_result"
    }
   ],
   "source": [
    "FunctionTransformer(kernel).fit_transform(X)"
   ]
  },
  {
   "cell_type": "markdown",
   "metadata": {
    "school_cell_uuid": "b0e000da0eeb4017809d7e8184b0b37b"
   },
   "source": [
    "### 3.6. Label Encoder\n",
    "* Encode labels with value between 0 and n_classes-1\n",
    "* `classes_` attribute: Holds the label for each class\n",
    "* `inverse_transform` method: inverse transformation"
   ]
  },
  {
   "cell_type": "code",
   "execution_count": 35,
   "metadata": {
    "school_cell_uuid": "fdc90f291a184f31b2d44ccb6c453947"
   },
   "outputs": [
    {
     "data": {
      "text/plain": [
       "array(['A', 'B', 'C'], dtype='<U1')"
      ]
     },
     "execution_count": 35,
     "metadata": {},
     "output_type": "execute_result"
    }
   ],
   "source": [
    "from sklearn.preprocessing import LabelEncoder\n",
    "le = LabelEncoder()\n",
    "y = ['A', 'B', 'A', 'A', 'B', 'C', 'C', 'A', 'C', 'B']\n",
    "le.fit(y)\n",
    "le.classes_"
   ]
  },
  {
   "cell_type": "code",
   "execution_count": 36,
   "metadata": {
    "school_cell_uuid": "e55c910b67e143579a52a5646c756727"
   },
   "outputs": [
    {
     "data": {
      "text/plain": [
       "array([0, 1, 0, 0, 1, 2, 2, 0, 2, 1])"
      ]
     },
     "execution_count": 36,
     "metadata": {},
     "output_type": "execute_result"
    }
   ],
   "source": [
    "y2 = le.transform(y) \n",
    "y2"
   ]
  },
  {
   "cell_type": "code",
   "execution_count": 40,
   "metadata": {
    "school_cell_uuid": "6d39e8b74bbd43c7ad869b67db9a7afe"
   },
   "outputs": [
    {
     "data": {
      "text/plain": [
       "array(['A', 'B', 'A', 'A', 'B', 'C', 'C', 'A', 'C', 'B'], dtype='<U1')"
      ]
     },
     "execution_count": 40,
     "metadata": {},
     "output_type": "execute_result"
    }
   ],
   "source": [
    "le.inverse_transform(y2)"
   ]
  },
  {
   "cell_type": "markdown",
   "metadata": {
    "school_cell_uuid": "933c3538c9db42d99cf08dbc3e643b3d"
   },
   "source": [
    "### 3.7. Label Binarizer\n",
    "* Binarize labels in a one-vs-all fashion"
   ]
  },
  {
   "cell_type": "code",
   "execution_count": 41,
   "metadata": {
    "school_cell_uuid": "69967f6d1fc5436f8dc6f6b14b332c0c"
   },
   "outputs": [
    {
     "data": {
      "text/plain": [
       "LabelBinarizer(neg_label=0, pos_label=1, sparse_output=False)"
      ]
     },
     "execution_count": 41,
     "metadata": {},
     "output_type": "execute_result"
    }
   ],
   "source": [
    "from sklearn.preprocessing import LabelBinarizer\n",
    "lb = LabelBinarizer()\n",
    "y = ['A', 'B', 'A', 'A', 'B', 'C', 'C', 'A', 'C', 'B']\n",
    "lb.fit(y)"
   ]
  },
  {
   "cell_type": "code",
   "execution_count": 42,
   "metadata": {
    "school_cell_uuid": "c70814fd2d1a42a59e2231a0a03e17cb"
   },
   "outputs": [
    {
     "data": {
      "text/plain": [
       "array(['A', 'B', 'C'], dtype='<U1')"
      ]
     },
     "execution_count": 42,
     "metadata": {},
     "output_type": "execute_result"
    }
   ],
   "source": [
    "lb.classes_"
   ]
  },
  {
   "cell_type": "code",
   "execution_count": 43,
   "metadata": {
    "school_cell_uuid": "21f7ef6544be47e89e51b95dc07ac81e"
   },
   "outputs": [
    {
     "data": {
      "text/plain": [
       "array([[1, 0, 0],\n",
       "       [0, 1, 0],\n",
       "       [1, 0, 0],\n",
       "       [1, 0, 0],\n",
       "       [0, 1, 0],\n",
       "       [0, 0, 1],\n",
       "       [0, 0, 1],\n",
       "       [1, 0, 0],\n",
       "       [0, 0, 1],\n",
       "       [0, 1, 0]])"
      ]
     },
     "execution_count": 43,
     "metadata": {},
     "output_type": "execute_result"
    }
   ],
   "source": [
    "y2 = lb.transform(y)\n",
    "y2"
   ]
  },
  {
   "cell_type": "code",
   "execution_count": 44,
   "metadata": {
    "school_cell_uuid": "3b36a7c0ca134575baccbbfbcae5df53"
   },
   "outputs": [
    {
     "data": {
      "text/plain": [
       "array(['A', 'B', 'A', 'A', 'B', 'C', 'C', 'A', 'C', 'B'], dtype='<U1')"
      ]
     },
     "execution_count": 44,
     "metadata": {},
     "output_type": "execute_result"
    }
   ],
   "source": [
    "lb.inverse_transform(y2)"
   ]
  }
 ],
 "metadata": {
  "kernelspec": {
   "display_name": "Python 3",
   "language": "python",
   "name": "python3"
  },
  "language_info": {
   "codemirror_mode": {
    "name": "ipython",
    "version": 3
   },
   "file_extension": ".py",
   "mimetype": "text/x-python",
   "name": "python",
   "nbconvert_exporter": "python",
   "pygments_lexer": "ipython3",
   "version": "3.6.4"
  }
 },
 "nbformat": 4,
 "nbformat_minor": 2
}
