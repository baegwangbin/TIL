{
 "cells": [
  {
   "cell_type": "code",
   "execution_count": 1,
   "metadata": {},
   "outputs": [
    {
     "name": "stderr",
     "output_type": "stream",
     "text": [
      "/anaconda3/lib/python3.6/site-packages/statsmodels/compat/pandas.py:56: FutureWarning: The pandas.core.datetools module is deprecated and will be removed in a future version. Please use the pandas.tseries module instead.\n",
      "  from pandas.core import datetools\n"
     ]
    }
   ],
   "source": [
    "import numpy as np\n",
    "import scipy as sp\n",
    "import pandas as pd\n",
    "import seaborn as sns\n",
    "import matplotlib.pyplot as plt\n",
    "import statsmodels.api as sm\n",
    "import matplotlib as mpl"
   ]
  },
  {
   "cell_type": "markdown",
   "metadata": {},
   "source": [
    "# Table of Contents\n",
    ">## 1. Hyperparameter Tuning - `Scikit-Learn`\n",
    "* 1.1. `validation_curve`\n",
    "* 1.2. `GridSearchCV`\n",
    "* 1.3. `ParameterGrid`"
   ]
  },
  {
   "cell_type": "markdown",
   "metadata": {
    "school_cell_uuid": "373f26192e304fe384bd20a41c9f854e"
   },
   "source": [
    "# 1. Hyperparameter Tuning - `Scikit-Learn`"
   ]
  },
  {
   "cell_type": "markdown",
   "metadata": {
    "school_cell_uuid": "d1aaa13a1e5f44bf944456592ee0cf54"
   },
   "source": [
    "## 1.1. `validation_curve` \n",
    "* **Parameters**:\n",
    "  * `param_name`: name of the parameter\n",
    "  * `param_range`: its range\n",
    "  * `scoring`: performance metric"
   ]
  },
  {
   "cell_type": "code",
   "execution_count": 2,
   "metadata": {
    "school_cell_uuid": "00aab77c1b8c4f9db19a3c968c50b05a"
   },
   "outputs": [],
   "source": [
    "from sklearn.datasets import load_digits\n",
    "from sklearn.svm import SVC\n",
    "from sklearn.model_selection import validation_curve\n",
    "\n",
    "digits = load_digits()\n",
    "X, y = digits.data, digits.target\n",
    "\n",
    "param_range = np.logspace(-6, -1, 10)"
   ]
  },
  {
   "cell_type": "code",
   "execution_count": 3,
   "metadata": {
    "school_cell_uuid": "84643397187446979f4c4c810fd4f03f"
   },
   "outputs": [
    {
     "name": "stdout",
     "output_type": "stream",
     "text": [
      "CPU times: user 47.2 s, sys: 270 ms, total: 47.5 s\n",
      "Wall time: 48 s\n"
     ]
    }
   ],
   "source": [
    "%%time\n",
    "train_scores, test_scores = \\\n",
    "    validation_curve(SVC(), X, y, \n",
    "                     param_name=\"gamma\", param_range=param_range,\n",
    "                     cv=10, scoring=\"accuracy\", n_jobs=1)"
   ]
  },
  {
   "cell_type": "code",
   "execution_count": 4,
   "metadata": {
    "school_cell_uuid": "3dd91079782c4125a1d7b92ee5761fb4"
   },
   "outputs": [
    {
     "data": {
      "image/png": "[encoded data removed]",
      "text/plain": [
       "<matplotlib.figure.Figure at 0x10e9ec748>"
      ]
     },
     "metadata": {},
     "output_type": "display_data"
    }
   ],
   "source": [
    "train_scores_mean = np.mean(train_scores, axis=1)\n",
    "train_scores_std = np.std(train_scores, axis=1)\n",
    "test_scores_mean = np.mean(test_scores, axis=1)\n",
    "test_scores_std = np.std(test_scores, axis=1)\n",
    "\n",
    "mpl.rcParams[\"font.family\"] = 'DejaVu Sans'\n",
    "plt.semilogx(param_range, train_scores_mean, label=\"Training score\", color=\"r\")\n",
    "plt.fill_between(param_range, train_scores_mean - train_scores_std,\n",
    "                 train_scores_mean + train_scores_std, alpha=0.2, color=\"r\")\n",
    "plt.semilogx(param_range, test_scores_mean, label=\"Cross-validation score\", color=\"g\")\n",
    "plt.fill_between(param_range, test_scores_mean - test_scores_std,\n",
    "                 test_scores_mean + test_scores_std, alpha=0.2, color=\"g\")\n",
    "plt.legend(loc=\"best\")\n",
    "plt.title(\"Validation Curve with SVM\")\n",
    "plt.xlabel(\"$\\gamma$\")\n",
    "plt.ylabel(\"Score\")\n",
    "plt.ylim(0.0, 1.1)\n",
    "plt.show()"
   ]
  },
  {
   "cell_type": "markdown",
   "metadata": {
    "school_cell_uuid": "700b3f8cb09b4dfd8e8adfcf332baa4e"
   },
   "source": [
    "## 1.2. `GridSearchCV`\n",
    "* **Wrapper** style class\n",
    "* **`fit` method**: generates multiple models & run optimization\n",
    "* **Attributes**:\n",
    "  * `grid_scores_`: performance of every parameter combination, tuple of (parameters, mean_validation_score, cv_validation_scores)\n",
    "  * `best_score_`: best score\n",
    "  * `best_params_`: best parameter\n",
    "  * `best_estimator_`: best model"
   ]
  },
  {
   "cell_type": "code",
   "execution_count": 5,
   "metadata": {
    "school_cell_uuid": "2b2dde7edf34472c816d7e463aaec718"
   },
   "outputs": [
    {
     "name": "stdout",
     "output_type": "stream",
     "text": [
      "CPU times: user 5min 50s, sys: 1.05 s, total: 5min 51s\n",
      "Wall time: 5min 54s\n"
     ]
    }
   ],
   "source": [
    "from sklearn.model_selection import GridSearchCV\n",
    "from sklearn.pipeline import Pipeline\n",
    "from sklearn.preprocessing import StandardScaler\n",
    "from sklearn.svm import SVC\n",
    "\n",
    "pipe_svc = Pipeline([('scl', StandardScaler()), ('clf', SVC(random_state=1))])\n",
    "\n",
    "param_range = [0.0001, 0.001, 0.01, 0.1, 1.0, 10.0, 100.0, 1000.0]\n",
    "param_grid = [\n",
    "    {'clf__C': param_range, 'clf__kernel': ['linear']},\n",
    "    {'clf__C': param_range, 'clf__gamma': param_range, 'clf__kernel': ['rbf']}]\n",
    "\n",
    "gs = GridSearchCV(estimator=pipe_svc, param_grid=param_grid, scoring='accuracy', cv=10, n_jobs=1)\n",
    "%time gs = gs.fit(X, y)"
   ]
  },
  {
   "cell_type": "code",
   "execution_count": 6,
   "metadata": {
    "school_cell_uuid": "6402c33eb53444ea896fac8b44127511"
   },
   "outputs": [
    {
     "data": {
      "text/plain": [
       "[{'clf__C': 0.0001, 'clf__kernel': 'linear'},\n",
       " {'clf__C': 0.001, 'clf__kernel': 'linear'},\n",
       " {'clf__C': 0.01, 'clf__kernel': 'linear'},\n",
       " {'clf__C': 0.1, 'clf__kernel': 'linear'},\n",
       " {'clf__C': 1.0, 'clf__kernel': 'linear'},\n",
       " {'clf__C': 10.0, 'clf__kernel': 'linear'},\n",
       " {'clf__C': 100.0, 'clf__kernel': 'linear'},\n",
       " {'clf__C': 1000.0, 'clf__kernel': 'linear'},\n",
       " {'clf__C': 0.0001, 'clf__gamma': 0.0001, 'clf__kernel': 'rbf'},\n",
       " {'clf__C': 0.0001, 'clf__gamma': 0.001, 'clf__kernel': 'rbf'},\n",
       " {'clf__C': 0.0001, 'clf__gamma': 0.01, 'clf__kernel': 'rbf'},\n",
       " {'clf__C': 0.0001, 'clf__gamma': 0.1, 'clf__kernel': 'rbf'},\n",
       " {'clf__C': 0.0001, 'clf__gamma': 1.0, 'clf__kernel': 'rbf'},\n",
       " {'clf__C': 0.0001, 'clf__gamma': 10.0, 'clf__kernel': 'rbf'},\n",
       " {'clf__C': 0.0001, 'clf__gamma': 100.0, 'clf__kernel': 'rbf'},\n",
       " {'clf__C': 0.0001, 'clf__gamma': 1000.0, 'clf__kernel': 'rbf'},\n",
       " {'clf__C': 0.001, 'clf__gamma': 0.0001, 'clf__kernel': 'rbf'},\n",
       " {'clf__C': 0.001, 'clf__gamma': 0.001, 'clf__kernel': 'rbf'},\n",
       " {'clf__C': 0.001, 'clf__gamma': 0.01, 'clf__kernel': 'rbf'},\n",
       " {'clf__C': 0.001, 'clf__gamma': 0.1, 'clf__kernel': 'rbf'},\n",
       " {'clf__C': 0.001, 'clf__gamma': 1.0, 'clf__kernel': 'rbf'},\n",
       " {'clf__C': 0.001, 'clf__gamma': 10.0, 'clf__kernel': 'rbf'},\n",
       " {'clf__C': 0.001, 'clf__gamma': 100.0, 'clf__kernel': 'rbf'},\n",
       " {'clf__C': 0.001, 'clf__gamma': 1000.0, 'clf__kernel': 'rbf'},\n",
       " {'clf__C': 0.01, 'clf__gamma': 0.0001, 'clf__kernel': 'rbf'},\n",
       " {'clf__C': 0.01, 'clf__gamma': 0.001, 'clf__kernel': 'rbf'},\n",
       " {'clf__C': 0.01, 'clf__gamma': 0.01, 'clf__kernel': 'rbf'},\n",
       " {'clf__C': 0.01, 'clf__gamma': 0.1, 'clf__kernel': 'rbf'},\n",
       " {'clf__C': 0.01, 'clf__gamma': 1.0, 'clf__kernel': 'rbf'},\n",
       " {'clf__C': 0.01, 'clf__gamma': 10.0, 'clf__kernel': 'rbf'},\n",
       " {'clf__C': 0.01, 'clf__gamma': 100.0, 'clf__kernel': 'rbf'},\n",
       " {'clf__C': 0.01, 'clf__gamma': 1000.0, 'clf__kernel': 'rbf'},\n",
       " {'clf__C': 0.1, 'clf__gamma': 0.0001, 'clf__kernel': 'rbf'},\n",
       " {'clf__C': 0.1, 'clf__gamma': 0.001, 'clf__kernel': 'rbf'},\n",
       " {'clf__C': 0.1, 'clf__gamma': 0.01, 'clf__kernel': 'rbf'},\n",
       " {'clf__C': 0.1, 'clf__gamma': 0.1, 'clf__kernel': 'rbf'},\n",
       " {'clf__C': 0.1, 'clf__gamma': 1.0, 'clf__kernel': 'rbf'},\n",
       " {'clf__C': 0.1, 'clf__gamma': 10.0, 'clf__kernel': 'rbf'},\n",
       " {'clf__C': 0.1, 'clf__gamma': 100.0, 'clf__kernel': 'rbf'},\n",
       " {'clf__C': 0.1, 'clf__gamma': 1000.0, 'clf__kernel': 'rbf'},\n",
       " {'clf__C': 1.0, 'clf__gamma': 0.0001, 'clf__kernel': 'rbf'},\n",
       " {'clf__C': 1.0, 'clf__gamma': 0.001, 'clf__kernel': 'rbf'},\n",
       " {'clf__C': 1.0, 'clf__gamma': 0.01, 'clf__kernel': 'rbf'},\n",
       " {'clf__C': 1.0, 'clf__gamma': 0.1, 'clf__kernel': 'rbf'},\n",
       " {'clf__C': 1.0, 'clf__gamma': 1.0, 'clf__kernel': 'rbf'},\n",
       " {'clf__C': 1.0, 'clf__gamma': 10.0, 'clf__kernel': 'rbf'},\n",
       " {'clf__C': 1.0, 'clf__gamma': 100.0, 'clf__kernel': 'rbf'},\n",
       " {'clf__C': 1.0, 'clf__gamma': 1000.0, 'clf__kernel': 'rbf'},\n",
       " {'clf__C': 10.0, 'clf__gamma': 0.0001, 'clf__kernel': 'rbf'},\n",
       " {'clf__C': 10.0, 'clf__gamma': 0.001, 'clf__kernel': 'rbf'},\n",
       " {'clf__C': 10.0, 'clf__gamma': 0.01, 'clf__kernel': 'rbf'},\n",
       " {'clf__C': 10.0, 'clf__gamma': 0.1, 'clf__kernel': 'rbf'},\n",
       " {'clf__C': 10.0, 'clf__gamma': 1.0, 'clf__kernel': 'rbf'},\n",
       " {'clf__C': 10.0, 'clf__gamma': 10.0, 'clf__kernel': 'rbf'},\n",
       " {'clf__C': 10.0, 'clf__gamma': 100.0, 'clf__kernel': 'rbf'},\n",
       " {'clf__C': 10.0, 'clf__gamma': 1000.0, 'clf__kernel': 'rbf'},\n",
       " {'clf__C': 100.0, 'clf__gamma': 0.0001, 'clf__kernel': 'rbf'},\n",
       " {'clf__C': 100.0, 'clf__gamma': 0.001, 'clf__kernel': 'rbf'},\n",
       " {'clf__C': 100.0, 'clf__gamma': 0.01, 'clf__kernel': 'rbf'},\n",
       " {'clf__C': 100.0, 'clf__gamma': 0.1, 'clf__kernel': 'rbf'},\n",
       " {'clf__C': 100.0, 'clf__gamma': 1.0, 'clf__kernel': 'rbf'},\n",
       " {'clf__C': 100.0, 'clf__gamma': 10.0, 'clf__kernel': 'rbf'},\n",
       " {'clf__C': 100.0, 'clf__gamma': 100.0, 'clf__kernel': 'rbf'},\n",
       " {'clf__C': 100.0, 'clf__gamma': 1000.0, 'clf__kernel': 'rbf'},\n",
       " {'clf__C': 1000.0, 'clf__gamma': 0.0001, 'clf__kernel': 'rbf'},\n",
       " {'clf__C': 1000.0, 'clf__gamma': 0.001, 'clf__kernel': 'rbf'},\n",
       " {'clf__C': 1000.0, 'clf__gamma': 0.01, 'clf__kernel': 'rbf'},\n",
       " {'clf__C': 1000.0, 'clf__gamma': 0.1, 'clf__kernel': 'rbf'},\n",
       " {'clf__C': 1000.0, 'clf__gamma': 1.0, 'clf__kernel': 'rbf'},\n",
       " {'clf__C': 1000.0, 'clf__gamma': 10.0, 'clf__kernel': 'rbf'},\n",
       " {'clf__C': 1000.0, 'clf__gamma': 100.0, 'clf__kernel': 'rbf'},\n",
       " {'clf__C': 1000.0, 'clf__gamma': 1000.0, 'clf__kernel': 'rbf'}]"
      ]
     },
     "execution_count": 6,
     "metadata": {},
     "output_type": "execute_result"
    }
   ],
   "source": [
    "gs.cv_results_[\"params\"]"
   ]
  },
  {
   "cell_type": "code",
   "execution_count": 7,
   "metadata": {
    "school_cell_uuid": "84216f9849b54a63a35abecf7090a493"
   },
   "outputs": [
    {
     "data": {
      "text/plain": [
       "array([0.20868114, 0.91819699, 0.95269894, 0.95826377, 0.95826377,\n",
       "       0.95826377, 0.95826377, 0.95826377, 0.11908737, 0.12020033,\n",
       "       0.1213133 , 0.10350584, 0.10127991, 0.11185309, 0.10183639,\n",
       "       0.10127991, 0.11908737, 0.12020033, 0.1213133 , 0.10350584,\n",
       "       0.10127991, 0.11185309, 0.10183639, 0.10127991, 0.11908737,\n",
       "       0.12020033, 0.13967724, 0.10350584, 0.10127991, 0.11185309,\n",
       "       0.10183639, 0.10127991, 0.11908737, 0.68614357, 0.91207568,\n",
       "       0.40567613, 0.10127991, 0.11185309, 0.10183639, 0.10127991,\n",
       "       0.70339455, 0.93266555, 0.9638286 , 0.90984975, 0.11908737,\n",
       "       0.10127991, 0.10127991, 0.10127991, 0.934335  , 0.95659432,\n",
       "       0.97161937, 0.9115192 , 0.12966055, 0.10127991, 0.10127991,\n",
       "       0.10127991, 0.95548136, 0.96160267, 0.97161937, 0.9115192 ,\n",
       "       0.12966055, 0.10127991, 0.10127991, 0.10127991, 0.95993322,\n",
       "       0.96215915, 0.97161937, 0.9115192 , 0.12966055, 0.10127991,\n",
       "       0.10127991, 0.10127991])"
      ]
     },
     "execution_count": 7,
     "metadata": {},
     "output_type": "execute_result"
    }
   ],
   "source": [
    "gs.cv_results_[\"mean_test_score\"]"
   ]
  },
  {
   "cell_type": "code",
   "execution_count": 8,
   "metadata": {
    "school_cell_uuid": "a962063a593d436aa4f662b0844100ef"
   },
   "outputs": [
    {
     "name": "stdout",
     "output_type": "stream",
     "text": [
      "0.9716193656093489\n",
      "{'clf__C': 10.0, 'clf__gamma': 0.01, 'clf__kernel': 'rbf'}\n"
     ]
    }
   ],
   "source": [
    "print(gs.best_score_)\n",
    "print(gs.best_params_)"
   ]
  },
  {
   "cell_type": "markdown",
   "metadata": {
    "school_cell_uuid": "d279553f4b4b473bac40e1b1ce0bb528"
   },
   "source": [
    "### Parallel Processing\n",
    "* In `GridSearchCV`, set `n_jobs` parameter to use parallel processing"
   ]
  },
  {
   "cell_type": "code",
   "execution_count": 12,
   "metadata": {
    "school_cell_uuid": "ae206bf4356b40208f712bea425eac11"
   },
   "outputs": [],
   "source": [
    "param_grid = {\"gamma\": np.logspace(-6, -1, 10)}\n",
    "gs1 = GridSearchCV(estimator=SVC(), param_grid=param_grid, scoring='accuracy', cv=5, n_jobs=1)\n",
    "gs2 = GridSearchCV(estimator=SVC(), param_grid=param_grid, scoring='accuracy', cv=5, n_jobs=2)"
   ]
  },
  {
   "cell_type": "code",
   "execution_count": 13,
   "metadata": {
    "school_cell_uuid": "aae29beadc59428791efef7ab4e18e0c"
   },
   "outputs": [
    {
     "name": "stdout",
     "output_type": "stream",
     "text": [
      "CPU times: user 19.1 s, sys: 25.8 ms, total: 19.2 s\n",
      "Wall time: 19.2 s\n"
     ]
    },
    {
     "data": {
      "text/plain": [
       "GridSearchCV(cv=5, error_score='raise',\n",
       "       estimator=SVC(C=1.0, cache_size=200, class_weight=None, coef0=0.0,\n",
       "  decision_function_shape='ovr', degree=3, gamma='auto', kernel='rbf',\n",
       "  max_iter=-1, probability=False, random_state=None, shrinking=True,\n",
       "  tol=0.001, verbose=False),\n",
       "       fit_params=None, iid=True, n_jobs=1,\n",
       "       param_grid={'gamma': array([1.00000e-06, 3.59381e-06, 1.29155e-05, 4.64159e-05, 1.66810e-04,\n",
       "       5.99484e-04, 2.15443e-03, 7.74264e-03, 2.78256e-02, 1.00000e-01])},\n",
       "       pre_dispatch='2*n_jobs', refit=True, return_train_score='warn',\n",
       "       scoring='accuracy', verbose=0)"
      ]
     },
     "execution_count": 13,
     "metadata": {},
     "output_type": "execute_result"
    }
   ],
   "source": [
    "%%time\n",
    "gs1.fit(X, y)"
   ]
  },
  {
   "cell_type": "code",
   "execution_count": 14,
   "metadata": {
    "school_cell_uuid": "f7a1ec6798d743f1a8c394e1ad330101"
   },
   "outputs": [
    {
     "name": "stdout",
     "output_type": "stream",
     "text": [
      "CPU times: user 261 ms, sys: 63.1 ms, total: 324 ms\n",
      "Wall time: 10.2 s\n"
     ]
    },
    {
     "data": {
      "text/plain": [
       "GridSearchCV(cv=5, error_score='raise',\n",
       "       estimator=SVC(C=1.0, cache_size=200, class_weight=None, coef0=0.0,\n",
       "  decision_function_shape='ovr', degree=3, gamma='auto', kernel='rbf',\n",
       "  max_iter=-1, probability=False, random_state=None, shrinking=True,\n",
       "  tol=0.001, verbose=False),\n",
       "       fit_params=None, iid=True, n_jobs=2,\n",
       "       param_grid={'gamma': array([1.00000e-06, 3.59381e-06, 1.29155e-05, 4.64159e-05, 1.66810e-04,\n",
       "       5.99484e-04, 2.15443e-03, 7.74264e-03, 2.78256e-02, 1.00000e-01])},\n",
       "       pre_dispatch='2*n_jobs', refit=True, return_train_score='warn',\n",
       "       scoring='accuracy', verbose=0)"
      ]
     },
     "execution_count": 14,
     "metadata": {},
     "output_type": "execute_result"
    }
   ],
   "source": [
    "%%time\n",
    "gs2.fit(X, y)"
   ]
  },
  {
   "cell_type": "markdown",
   "metadata": {
    "school_cell_uuid": "b2d7c60bbb2640d2950667c5aa7652d0"
   },
   "source": [
    "## 1.3. `ParameterGrid` \n",
    "* Works as **iterator** for grid search"
   ]
  },
  {
   "cell_type": "code",
   "execution_count": 9,
   "metadata": {
    "school_cell_uuid": "e19d25d2ec2c4cfba41b54c417278d58"
   },
   "outputs": [],
   "source": [
    "from sklearn.model_selection import ParameterGrid"
   ]
  },
  {
   "cell_type": "code",
   "execution_count": 10,
   "metadata": {
    "school_cell_uuid": "a0cbec4b337f488bb1aa7c572fe70d43"
   },
   "outputs": [
    {
     "data": {
      "text/plain": [
       "[{'a': 1, 'b': True},\n",
       " {'a': 1, 'b': False},\n",
       " {'a': 2, 'b': True},\n",
       " {'a': 2, 'b': False}]"
      ]
     },
     "execution_count": 10,
     "metadata": {},
     "output_type": "execute_result"
    }
   ],
   "source": [
    "param_grid = {'a': [1, 2], 'b': [True, False]}\n",
    "list(ParameterGrid(param_grid))"
   ]
  },
  {
   "cell_type": "code",
   "execution_count": 11,
   "metadata": {
    "school_cell_uuid": "29c941318d43480dab325091261398fe"
   },
   "outputs": [
    {
     "data": {
      "text/plain": [
       "[{'kernel': 'linear'},\n",
       " {'gamma': 1, 'kernel': 'rbf'},\n",
       " {'gamma': 10, 'kernel': 'rbf'}]"
      ]
     },
     "execution_count": 11,
     "metadata": {},
     "output_type": "execute_result"
    }
   ],
   "source": [
    "param_grid = [{'kernel': ['linear']}, {'kernel': ['rbf'], 'gamma': [1, 10]}]\n",
    "list(ParameterGrid(param_grid))"
   ]
  }
 ],
 "metadata": {
  "kernelspec": {
   "display_name": "Python 3",
   "language": "python",
   "name": "python3"
  },
  "language_info": {
   "codemirror_mode": {
    "name": "ipython",
    "version": 3
   },
   "file_extension": ".py",
   "mimetype": "text/x-python",
   "name": "python",
   "nbconvert_exporter": "python",
   "pygments_lexer": "ipython3",
   "version": "3.6.4"
  }
 },
 "nbformat": 4,
 "nbformat_minor": 2
}
