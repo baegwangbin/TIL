{
 "cells": [
  {
   "cell_type": "markdown",
   "metadata": {},
   "source": [
    "# Numpy"
   ]
  },
  {
   "cell_type": "code",
   "execution_count": null,
   "metadata": {
    "collapsed": true
   },
   "outputs": [],
   "source": [
    "import numpy as np"
   ]
  },
  {
   "cell_type": "markdown",
   "metadata": {},
   "source": [
    "># 1. ndarray - generating ndarray object\n",
    "* Similar to `list` in python - slicing & indexing available"
   ]
  },
  {
   "cell_type": "markdown",
   "metadata": {},
   "source": [
    "### np.array()\n",
    "* creates `ndarray` object\n",
    "* used to represent vectors & matrices"
   ]
  },
  {
   "cell_type": "code",
   "execution_count": 18,
   "metadata": {
    "collapsed": true
   },
   "outputs": [],
   "source": [
    "arr1 = np.array([1, 3, 4, 6]) # 1d vector\n",
    "arr2 = np.array([[0, 1, 2], [2, 4, 6]]) # 2d matrix"
   ]
  },
  {
   "cell_type": "markdown",
   "metadata": {},
   "source": [
    "### np.arange(start, end, step)\n",
    "* similar to `range(start, end, step)` in python / returns ndarray"
   ]
  },
  {
   "cell_type": "code",
   "execution_count": 1,
   "metadata": {},
   "outputs": [
    {
     "name": "stdout",
     "output_type": "stream",
     "text": [
      "[ 1  2  3  4  5  6  7  8  9 10] <class 'numpy.ndarray'>\n"
     ]
    }
   ],
   "source": [
    "arr3 = np.arange(1, 11)\n",
    "print(arr3, type(arr3))"
   ]
  },
  {
   "cell_type": "markdown",
   "metadata": {},
   "source": [
    "### np.linspace(start, end, n)\n",
    "* (n-1) slicing from start ~ end"
   ]
  },
  {
   "cell_type": "code",
   "execution_count": 3,
   "metadata": {},
   "outputs": [
    {
     "name": "stdout",
     "output_type": "stream",
     "text": [
      "[   0.   10.   20.   30.   40.   50.   60.   70.   80.   90.  100.]\n"
     ]
    }
   ],
   "source": [
    "arr4 = np.linspace(0, 100, 11)\n",
    "print(arr4)"
   ]
  },
  {
   "cell_type": "markdown",
   "metadata": {},
   "source": [
    "### np.zeros((shape)) & np.ones((shape))\n",
    "* returns ndarray of zeros/ones"
   ]
  },
  {
   "cell_type": "code",
   "execution_count": 14,
   "metadata": {},
   "outputs": [
    {
     "name": "stdout",
     "output_type": "stream",
     "text": [
      "[[ 0.  0.  0.  0.]\n",
      " [ 0.  0.  0.  0.]]\n",
      "[[ 1.  1.  1.  1.]\n",
      " [ 1.  1.  1.  1.]]\n"
     ]
    }
   ],
   "source": [
    "print(np.zeros((2,4)),np.ones((2,4)),sep='\\n')"
   ]
  },
  {
   "cell_type": "markdown",
   "metadata": {},
   "source": [
    "># 2. ndarray - operations on ndarray"
   ]
  },
  {
   "cell_type": "markdown",
   "metadata": {},
   "source": [
    "### basic operations"
   ]
  },
  {
   "cell_type": "code",
   "execution_count": 78,
   "metadata": {},
   "outputs": [
    {
     "name": "stdout",
     "output_type": "stream",
     "text": [
      "[1 2 3 4 5]\n",
      "1\n",
      "5\n",
      "3.0\n",
      "3.0\n",
      "1.41421356237\n",
      "[2 3 4 5 6]\n",
      "0\n",
      "4\n",
      "15\n",
      "[ 1.          1.41421356  1.73205081  2.          2.23606798]\n"
     ]
    }
   ],
   "source": [
    "arr = np.array([1,2,3,4,5])\n",
    "print(arr)\n",
    "\n",
    "print(np.min(arr)) #minimum element\n",
    "print(np.max(arr)) #maximum element\n",
    "\n",
    "print(np.mean(arr)) #average\n",
    "print(np.median(arr)) #median\n",
    "print(np.std(arr)) #standard deviation\n",
    "\n",
    "print(np.maximum(arr, np.array([2,3,4,5,6]))) #comparison between ndarrays\n",
    "\n",
    "print(np.argmin(arr)) #index of minimum element\n",
    "print(np.argmax(arr)) #index of maximum element\n",
    "\n",
    "print(np.sum(arr)) #sum of elements\n",
    "print(np.sqrt(arr)) #**0.5 on elements\n",
    "\n",
    "# np.exp(a)\n",
    "# np.log(a)\n",
    "# np.sin(a) / np.cos(a) / np.tan(a)"
   ]
  },
  {
   "cell_type": "markdown",
   "metadata": {},
   "source": [
    "### ndarray operations\n",
    "* operations with scalar $\\rightarrow$ applied to every element\n",
    "* operations with ndarray $\\rightarrow$ element-wise"
   ]
  },
  {
   "cell_type": "code",
   "execution_count": 56,
   "metadata": {},
   "outputs": [
    {
     "name": "stdout",
     "output_type": "stream",
     "text": [
      "[0 1 2 3 4 5 6]\n",
      "[1 2 3 4 5 6 7]\n",
      "[ 0  1  4  9 16 25 36]\n",
      "[ 0  1  4  9 16 25 36]\n",
      "91\n"
     ]
    }
   ],
   "source": [
    "arr = np.arange(0, 7)\n",
    "print(arr)\n",
    "print(arr+1)\n",
    "print(arr**2)\n",
    "print(arr * arr) # element-wise\n",
    "print(arr.dot(arr)) # dot-product"
   ]
  },
  {
   "cell_type": "markdown",
   "metadata": {},
   "source": [
    "### ndim & shape\n",
    "* returns no. of dim. & shape"
   ]
  },
  {
   "cell_type": "code",
   "execution_count": 88,
   "metadata": {
    "scrolled": true
   },
   "outputs": [
    {
     "name": "stdout",
     "output_type": "stream",
     "text": [
      "3\n",
      "(3, 3, 3)\n"
     ]
    }
   ],
   "source": [
    "arr3 = np.ones((3,3,3))\n",
    "print(arr3.ndim)\n",
    "print(arr3.shape)"
   ]
  },
  {
   "cell_type": "markdown",
   "metadata": {},
   "source": [
    "### slicing & indexing\n",
    "* similar to list slicing & indexing in python\n",
    "* **indexing reduces dimension**"
   ]
  },
  {
   "cell_type": "code",
   "execution_count": 35,
   "metadata": {},
   "outputs": [
    {
     "name": "stdout",
     "output_type": "stream",
     "text": [
      "0 ()\n",
      "[[0]] (1, 1)\n"
     ]
    }
   ],
   "source": [
    "arr2_1 = arr2[0,0]\n",
    "arr2_2 = arr2[:1,:1]\n",
    "print(arr2_1, arr2_1.shape)\n",
    "print(arr2_2, arr2_2.shape)"
   ]
  },
  {
   "cell_type": "markdown",
   "metadata": {},
   "source": [
    "### Boolean selection"
   ]
  },
  {
   "cell_type": "code",
   "execution_count": 38,
   "metadata": {
    "scrolled": true
   },
   "outputs": [
    {
     "name": "stdout",
     "output_type": "stream",
     "text": [
      "[False  True  True  True False  True  True False]\n",
      "[ 2  4  8  6 12]\n",
      "[ 2  4  8  9  6 12]\n",
      "[ 6 12]\n"
     ]
    }
   ],
   "source": [
    "arr = np.array([1, 2, 4, 8, 9, 6, 12, 13])\n",
    "print(arr % 2 == 0)\n",
    "print(arr[arr % 2 == 0])\n",
    "print(arr[(arr % 2 == 0) | (arr % 3 == 0)]) # or\n",
    "print(arr[(arr % 2 == 0) & (arr % 3 == 0)]) # and"
   ]
  },
  {
   "cell_type": "code",
   "execution_count": 89,
   "metadata": {},
   "outputs": [
    {
     "data": {
      "text/plain": [
       "array([0, 2, 4, 6, 8])"
      ]
     },
     "execution_count": 89,
     "metadata": {},
     "output_type": "execute_result"
    }
   ],
   "source": [
    "a = np.array([0, 1, 2, 3, 4, 5, 6, 7, 8, 9])\n",
    "idx = np.array([True, False, True, False, True, False, True, False, True, False])\n",
    "a[idx]"
   ]
  },
  {
   "cell_type": "markdown",
   "metadata": {},
   "source": [
    "### logical operator\n",
    "* np.all() - 모든 원소가 조건을 만족 시키면 True, 아니면 False\n",
    "* np.any() - 원소 하나라도 조건을 만족 시키면 True, 아니면 False"
   ]
  },
  {
   "cell_type": "code",
   "execution_count": 61,
   "metadata": {},
   "outputs": [
    {
     "name": "stdout",
     "output_type": "stream",
     "text": [
      "[[6 6 6 3]\n",
      " [8 7 7 4]\n",
      " [1 6 8 3]\n",
      " [5 2 5 7]]\n",
      "False\n",
      "True\n"
     ]
    }
   ],
   "source": [
    "arr = np.random.randint(1, 10, size = (4,4))\n",
    "print(arr)\n",
    "print(np.all(arr < 7))\n",
    "print(np.any(arr < 7))"
   ]
  },
  {
   "cell_type": "markdown",
   "metadata": {},
   "source": [
    "### ravel & flatten\n",
    "* ndarray $\\rightarrow$ 1-dim array\n",
    "* ravel: shallow copy\n",
    "* flatten: deep copy (order=\"C\": row flatten, order=\"F\": column flatten)"
   ]
  },
  {
   "cell_type": "code",
   "execution_count": 79,
   "metadata": {},
   "outputs": [
    {
     "name": "stdout",
     "output_type": "stream",
     "text": [
      "[1 2 3 4 5]\n",
      "[[ 0.  1.  1.]\n",
      " [ 1.  1.  1.]\n",
      " [ 1.  1.  1.]]\n",
      "[ 0.  1.  1.  1.  1.  1.  1.  1.  1.]\n",
      "[ 1.  1.  1.  1.  1.  1.  1.  1.  1.]\n"
     ]
    }
   ],
   "source": [
    "arr1 = np.ones((3,3))\n",
    "arr2 = arr1.ravel()\n",
    "arr3 = arr1.flatten()\n",
    "arr1[0,0] = 0.0\n",
    "\n",
    "print(arr1, arr2, arr3, sep=\"\\n\")"
   ]
  },
  {
   "cell_type": "markdown",
   "metadata": {},
   "source": [
    "### reshape()\n",
    "* used in image preprocessing (2-dim array $\\rightarrow$ 1-dim array)\n",
    "* available only when no. of elements match"
   ]
  },
  {
   "cell_type": "code",
   "execution_count": 72,
   "metadata": {},
   "outputs": [
    {
     "name": "stdout",
     "output_type": "stream",
     "text": [
      "[ 1  2  3  4  5  6  7  8  9 10 11 12 13 14 15 16]\n",
      "[[ 1  2  3  4]\n",
      " [ 5  6  7  8]\n",
      " [ 9 10 11 12]\n",
      " [13 14 15 16]]\n"
     ]
    }
   ],
   "source": [
    "arr1 = np.arange(1, 17)\n",
    "arr2 = arr1.reshape(4, 4)\n",
    "print(arr1, arr2, sep=\"\\n\")"
   ]
  },
  {
   "cell_type": "markdown",
   "metadata": {},
   "source": [
    "### axis parameter\n",
    "* set axis for operation"
   ]
  },
  {
   "cell_type": "code",
   "execution_count": 82,
   "metadata": {},
   "outputs": [
    {
     "name": "stdout",
     "output_type": "stream",
     "text": [
      "[[1 2 3]\n",
      " [4 5 6]\n",
      " [7 8 9]]\n",
      "[12 15 18]\n",
      "[ 6 15 24]\n",
      "[ 4.  5.  6.]\n",
      "[ 2.  5.  8.]\n"
     ]
    }
   ],
   "source": [
    "arr3 = np.array([[1,2,3],[4,5,6],[7,8,9]])\n",
    "\n",
    "print(arr3)\n",
    "print(np.sum(arr3, axis = 0))\n",
    "print(np.sum(arr3, axis = 1))\n",
    "print(np.mean(arr3, axis = 0))\n",
    "print(np.mean(arr3, axis = 1))"
   ]
  },
  {
   "cell_type": "markdown",
   "metadata": {},
   "source": [
    "># 3. random"
   ]
  },
  {
   "cell_type": "markdown",
   "metadata": {},
   "source": [
    "### np.random.rand(shape)\n",
    "* returns ndarray of random numbers in [0, 1)"
   ]
  },
  {
   "cell_type": "markdown",
   "metadata": {},
   "source": [
    "### np.random.randn(shape)\n",
    "* returns ndarray of normally distributed numbers"
   ]
  },
  {
   "cell_type": "markdown",
   "metadata": {},
   "source": [
    "### np.random.randint(start, end, size = (shape))\n",
    "* returns ndarray of random integers in [start, end)\n",
    "* default size is 1 (scalar)"
   ]
  },
  {
   "cell_type": "markdown",
   "metadata": {},
   "source": [
    "### np.random.binomial(n, p, size=(size))\n",
    "* draw samples from a binomial distribution"
   ]
  },
  {
   "cell_type": "markdown",
   "metadata": {},
   "source": [
    "### np.random.uniform(low=start, high=end, size=(size))\n",
    "* Draw samples from a uniform distribution"
   ]
  },
  {
   "cell_type": "markdown",
   "metadata": {},
   "source": [
    "### np.random.choice(list, size=n, replace=True)\n",
    "* choose **n** elements from **list**\n",
    "* replace = True $\\rightarrow$ 중복 선택 가능\n",
    "* replace = False $\\rightarrow$ 중복 선택 불가능"
   ]
  },
  {
   "cell_type": "markdown",
   "metadata": {
    "collapsed": true
   },
   "source": [
    "># 4. vector operations"
   ]
  },
  {
   "cell_type": "markdown",
   "metadata": {},
   "source": [
    "### innerproduct (used in weighted summation)"
   ]
  },
  {
   "cell_type": "code",
   "execution_count": 98,
   "metadata": {},
   "outputs": [
    {
     "name": "stdout",
     "output_type": "stream",
     "text": [
      "32\n"
     ]
    }
   ],
   "source": [
    "# hard way\n",
    "x = np.array([[1],[2],[3]])\n",
    "y = np.array([[4],[5],[6]])\n",
    "innerproduct = np.dot(x.T, y)\n",
    "result = innerproduct[0,0]\n",
    "\n",
    "# easy.way\n",
    "x = np.array([1, 2, 3])\n",
    "y = np.array([4, 5, 6])\n",
    "result = np.dot(x,y)"
   ]
  },
  {
   "cell_type": "markdown",
   "metadata": {},
   "source": [
    "### average"
   ]
  },
  {
   "cell_type": "code",
   "execution_count": 90,
   "metadata": {},
   "outputs": [
    {
     "data": {
      "text/plain": [
       "4.5"
      ]
     },
     "execution_count": 90,
     "metadata": {},
     "output_type": "execute_result"
    }
   ],
   "source": [
    "#simple average\n",
    "x = np.arange(10)\n",
    "x.mean()\n",
    "\n",
    "#weighted average (weighted with ones)\n",
    "N = len(x)\n",
    "np.dot(np.ones(N), x) / N"
   ]
  },
  {
   "cell_type": "markdown",
   "metadata": {},
   "source": [
    "> # 5. matrix operations"
   ]
  },
  {
   "cell_type": "markdown",
   "metadata": {},
   "source": [
    "### transpose\n",
    "* only changes the way a matrix is read w/o using additional data space"
   ]
  },
  {
   "cell_type": "code",
   "execution_count": 72,
   "metadata": {},
   "outputs": [
    {
     "data": {
      "text/plain": [
       "array([[0, 3],\n",
       "       [1, 4],\n",
       "       [2, 5]])"
      ]
     },
     "execution_count": 72,
     "metadata": {},
     "output_type": "execute_result"
    }
   ],
   "source": [
    "A = np.array([[0, 1, 2], [3, 4, 5]])\n",
    "A.T"
   ]
  },
  {
   "cell_type": "markdown",
   "metadata": {},
   "source": [
    "### special matrices"
   ]
  },
  {
   "cell_type": "code",
   "execution_count": 94,
   "metadata": {
    "collapsed": true
   },
   "outputs": [],
   "source": [
    "#Diagonal\n",
    "matrix1 = np.diag([1,5,9])\n",
    "\n",
    "#Identity\n",
    "matrix2 = np.identity(3)\n",
    "matrix3 = np.eye(3)\n",
    "\n",
    "#Symmetric\n",
    "matrix4 = matrix3 + matrix3.T"
   ]
  },
  {
   "cell_type": "markdown",
   "metadata": {},
   "source": [
    "### inner product"
   ]
  },
  {
   "cell_type": "code",
   "execution_count": 102,
   "metadata": {},
   "outputs": [
    {
     "data": {
      "text/plain": [
       "array([[22, 28],\n",
       "       [49, 64]])"
      ]
     },
     "execution_count": 102,
     "metadata": {},
     "output_type": "execute_result"
    }
   ],
   "source": [
    "A = np.array([[1, 2, 3], [4, 5, 6]])\n",
    "B = np.array([[1, 2], [3, 4], [5, 6]])\n",
    "C = np.dot(A, B)\n",
    "C"
   ]
  }
 ],
 "metadata": {
  "kernelspec": {
   "display_name": "Python 3",
   "language": "python",
   "name": "python3"
  },
  "language_info": {
   "codemirror_mode": {
    "name": "ipython",
    "version": 3
   },
   "file_extension": ".py",
   "mimetype": "text/x-python",
   "name": "python",
   "nbconvert_exporter": "python",
   "pygments_lexer": "ipython3",
   "version": "3.6.2"
  }
 },
 "nbformat": 4,
 "nbformat_minor": 2
}
