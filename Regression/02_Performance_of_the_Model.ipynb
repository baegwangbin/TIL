{
 "cells": [
  {
   "cell_type": "code",
   "execution_count": 1,
   "metadata": {
    "hidden": "all",
    "school_cell_uuid": "9031b337540b419db4e8f8b79683dc8a"
   },
   "outputs": [],
   "source": [
    "import warnings\n",
    "warnings.filterwarnings(\"ignore\")"
   ]
  },
  {
   "cell_type": "code",
   "execution_count": 68,
   "metadata": {},
   "outputs": [],
   "source": [
    "import pandas as pd\n",
    "import numpy as np\n",
    "import scipy as sp\n",
    "\n",
    "import statsmodels.api as sm\n",
    "import statsmodels.formula.api as smf\n",
    "import statsmodels.stats.api as sms\n",
    "\n",
    "import matplotlib as mpl\n",
    "import matplotlib.pylab as plt\n",
    "\n",
    "import seaborn as sns"
   ]
  },
  {
   "cell_type": "markdown",
   "metadata": {
    "school_cell_uuid": "2577e475d74c49d39d526854fc8e611e"
   },
   "source": [
    "# Table of Contents\n",
    ">## 1. ANOVA\n",
    "* 1.1. Definitions\n",
    "* 1.2. TSS = ESS + RSS\n",
    "* 1.3. ANOVA - `RegressionResult`\n",
    "* 1.4. ANOVA Table\n",
    "* 1.5. ANOVA - Models without Bias ($\\bar{y}=0$\n",
    "* 1.6. ANOVA - Models with Categorical Variable\n",
    "\n",
    ">## 2. Model Selection\n",
    "* 2.1. Coefficient of Determination, $R^2$\n",
    "* 2.2. Adjusted Coefficient of Determination\n",
    "* 2.3. F-test\n",
    "* 2.4. Information Criterion\n",
    "\n",
    ">## 3. Model Diagnosis\n",
    "* 3.1. Normality Test\n",
    "* 3.2. Heteroskedasticity\n",
    "* 3.3. Autocorrelation Coefficient\n",
    "\n",
    ">## 4. Model Improvements\n",
    "* 4.1. Conditional Number\n",
    "* 4.2. Scaling\n",
    "* 4.3. Variable Transformation\n",
    "* 4.4. Remove Outliers\n",
    "* 4.5. Multicolinearity\n",
    "* 4.6. Remove Dependent Variables - VIF"
   ]
  },
  {
   "cell_type": "markdown",
   "metadata": {
    "school_cell_uuid": "86b6d989ce9e4fccaa25a8ab5e68666e"
   },
   "source": [
    "# 1. ANOVA\n",
    "* RSS: Residual Sum of Squares $\\rightarrow$ cannot work as a performance metric since it is scale-dependent\n",
    "* **ANOVA**: Analysis of Variance"
   ]
  },
  {
   "cell_type": "markdown",
   "metadata": {},
   "source": [
    "## 1.1. Definitions"
   ]
  },
  {
   "cell_type": "markdown",
   "metadata": {},
   "source": [
    "#### Sample Mean\n",
    "$$\\bar{y}=\\frac{1}{N}\\sum_{i=1}^N y_i $$\n",
    "\n",
    "#### TSS (Total Sum of Squares)\n",
    "* Fluctuation of $y$\n",
    "$$\\text{TSS} = \\sum_{i=1}^N (y_i-\\bar{y})^2 = (y - \\bar{y})^T(y - \\bar{y} )$$\n",
    "\n",
    "#### ESS (Explained Sum of Squares)\n",
    "* Fluctuation of $\\hat{y}$\n",
    "$$\\text{ESS}=\\sum_{i=1}^N (\\hat{y}_i -\\bar{\\hat{y}})^2 = (\\hat{y} - \\bar{\\hat{y}})^T(\\hat{y} - \\bar{\\hat{y}})$$\n",
    "\n",
    "#### RSS (Residual Sum of Squares)\n",
    "$$\\text{RSS}=\\sum_{i=1}^N (y_i - \\hat{y}_i)^2\\ = e^Te$$"
   ]
  },
  {
   "cell_type": "markdown",
   "metadata": {},
   "source": [
    "## 1.2. TSS = ESS + RSS\n",
    "* If the model is correctly defined,\n",
    "\n",
    "$$ \\bar{e} = \\bar{y} - \\bar{\\hat{y}} = 0$$\n",
    "\n",
    "$$ \\bar{y} = \\bar{\\hat{y}} $$\n",
    "\n",
    "* And the following relationship is satisfied\n",
    "\n",
    "$$\\text{TSS} = \\text{ESS} + \\text{RSS}$$"
   ]
  },
  {
   "cell_type": "markdown",
   "metadata": {
    "school_cell_uuid": "0c0a3c34f958480583b9e2b5a0151708"
   },
   "source": [
    "#### Proof)\n",
    "\n",
    "$$ y = X\\hat{w} + e = \\hat{y} + e $$\n",
    "\n",
    "$$ y - \\bar{y} = \\hat{y} - \\bar{y} + e = (X- \\bar{X})\\hat{w} + e $$\n",
    "\n",
    "* $X,\\bar{X}$ and $e$ are normal\n",
    "\n",
    "$$ X^Te = \\bar{X}^Te = 0 $$\n",
    "\n",
    "* Then, we can derive the following:\n",
    "\n",
    "$$\n",
    "\\begin{eqnarray}\n",
    "\\text{TSS} \n",
    "&=& (y - \\bar{y})^T(y - \\bar{y} ) \\\\\n",
    "&=& (\\hat{y} - \\bar{y} + e)^T(\\hat{y} - \\bar{y} + e) \\\\\n",
    "&=& (\\hat{y} - \\bar{y})^T(\\hat{y} - \\bar{y}) + e^Te + 2(\\hat{y} - \\bar{y})^Te \\\\\n",
    "&=& (\\hat{y} - \\bar{y})^T(\\hat{y} - \\bar{y}) + e^Te + 2\\hat{w}^T(X - \\bar{X})^Te \\\\\n",
    "&=& (\\hat{y} - \\bar{y})^T(\\hat{y} - \\bar{y}) + e^Te \\\\\n",
    "&=& \\text{ESS} + \\text{RSS}\n",
    "\\end{eqnarray}\n",
    "$$"
   ]
  },
  {
   "cell_type": "markdown",
   "metadata": {
    "school_cell_uuid": "c796514570984fcf8a8115d59940a2a6"
   },
   "source": [
    "## 1.3. ANOVA - `RegressionResult`"
   ]
  },
  {
   "cell_type": "code",
   "execution_count": 56,
   "metadata": {
    "school_cell_uuid": "df98514025004af1bf2e4357b9167234"
   },
   "outputs": [],
   "source": [
    "from sklearn.datasets import make_regression\n",
    "\n",
    "X0, y, coef = make_regression(n_samples=100, n_features=1, noise=30, coef=True, random_state=0)\n",
    "dfX0 = pd.DataFrame(X0, columns=[\"X\"])\n",
    "dfX = sm.add_constant(dfX0)\n",
    "dfy = pd.DataFrame(y, columns=[\"Y\"])\n",
    "df = pd.concat([dfX, dfy], axis=1)\n",
    "\n",
    "model = sm.OLS.from_formula(\"Y ~ X\", data=df)\n",
    "result = model.fit()"
   ]
  },
  {
   "cell_type": "code",
   "execution_count": 57,
   "metadata": {
    "school_cell_uuid": "9d8f4a19e9a8432990e5c3bd819c85c5"
   },
   "outputs": [
    {
     "name": "stdout",
     "output_type": "stream",
     "text": [
      "TSS =  291345.75789830607\n",
      "ESS =  188589.61349210917\n",
      "RSS =  102754.33755137534\n",
      "ESS + RSS =  291343.9510434845\n",
      "R squared =  0.6473091780922585\n"
     ]
    }
   ],
   "source": [
    "print(\"TSS = \", result.uncentered_tss)\n",
    "print(\"ESS = \", result.mse_model)\n",
    "print(\"RSS = \", result.ssr)\n",
    "print(\"ESS + RSS = \", result.mse_model + result.ssr)\n",
    "print(\"R squared = \", result.rsquared)"
   ]
  },
  {
   "cell_type": "code",
   "execution_count": 58,
   "metadata": {
    "school_cell_uuid": "1b549417d5de4d95a9adfd41769d72f9"
   },
   "outputs": [
    {
     "data": {
      "image/png": "[encoded data removed]",
      "text/plain": [
       "<matplotlib.figure.Figure at 0x112013438>"
      ]
     },
     "metadata": {},
     "output_type": "display_data"
    }
   ],
   "source": [
    "sns.distplot(y, \n",
    "             kde=False, fit=sp.stats.norm, hist_kws={\"color\": \"r\", \"alpha\": 0.2}, fit_kws={\"color\": \"r\"}, \n",
    "             label=\"TSS\")\n",
    "sns.distplot(result.fittedvalues, \n",
    "             kde=False, hist_kws={\"color\": \"g\", \"alpha\": 0.2}, fit=sp.stats.norm, fit_kws={\"color\": \"g\"}, \n",
    "             label=\"ESS\")\n",
    "sns.distplot(result.resid, \n",
    "             kde=False, hist_kws={\"color\": \"b\", \"alpha\": 0.2}, fit=sp.stats.norm, fit_kws={\"color\": \"b\"}, \n",
    "             label=\"RSS\")\n",
    "plt.legend()\n",
    "plt.show()"
   ]
  },
  {
   "cell_type": "markdown",
   "metadata": {
    "school_cell_uuid": "8743771052744a988f129b007031ddd1"
   },
   "source": [
    "## 1.4. ANOVA Table\n",
    "* $N$: no. of samples\n",
    "* $K$: no. of parameters\n",
    "\n",
    "\n",
    "| source | degree of freedom | sum of square | mean square  | F test-statstics | p-value |\n",
    "|-|-|-|-|-|-|\n",
    "| Regression| $$K-1$$ | $$\\text{ESS}$$ | $$s_{\\hat{y}}^2 = \\dfrac{\\text{ESS}}{K-1}$$   | $$F=\\dfrac{s_{\\hat{y}}^2}{s_e^2} $$ | p-value |\n",
    "| Residual | $$N-K$$  | $$\\text{RSS}$$  | $$s_e^2= \\dfrac{\\text{RSS}}{N-K}$$ | |\n",
    "| Total     | $$N-1$$  | $$\\text{TSS}$$ | $$s_y^2= \\dfrac{\\text{TSS}}{N-1}$$ | |\n",
    "| $R^2$   |    |  $$\\text{ESS} / \\text{TSS}$$ |  | |"
   ]
  },
  {
   "cell_type": "markdown",
   "metadata": {},
   "source": [
    "#### ANOVA Table & F-test - `statsmodels`\n",
    "* Use `anova_lm` command (in order to do this, the model should be made using `from_formula` method"
   ]
  },
  {
   "cell_type": "code",
   "execution_count": 59,
   "metadata": {
    "school_cell_uuid": "5b73fce8a26742658e991fddcdce6943"
   },
   "outputs": [
    {
     "data": {
      "text/html": [
       "<div>\n",
       "<style scoped>\n",
       "    .dataframe tbody tr th:only-of-type {\n",
       "        vertical-align: middle;\n",
       "    }\n",
       "\n",
       "    .dataframe tbody tr th {\n",
       "        vertical-align: top;\n",
       "    }\n",
       "\n",
       "    .dataframe thead th {\n",
       "        text-align: right;\n",
       "    }\n",
       "</style>\n",
       "<table border=\"1\" class=\"dataframe\">\n",
       "  <thead>\n",
       "    <tr style=\"text-align: right;\">\n",
       "      <th></th>\n",
       "      <th>df</th>\n",
       "      <th>sum_sq</th>\n",
       "      <th>mean_sq</th>\n",
       "      <th>F</th>\n",
       "      <th>PR(&gt;F)</th>\n",
       "    </tr>\n",
       "  </thead>\n",
       "  <tbody>\n",
       "    <tr>\n",
       "      <th>X</th>\n",
       "      <td>1.0</td>\n",
       "      <td>188589.613492</td>\n",
       "      <td>188589.613492</td>\n",
       "      <td>179.863766</td>\n",
       "      <td>6.601482e-24</td>\n",
       "    </tr>\n",
       "    <tr>\n",
       "      <th>Residual</th>\n",
       "      <td>98.0</td>\n",
       "      <td>102754.337551</td>\n",
       "      <td>1048.513648</td>\n",
       "      <td>NaN</td>\n",
       "      <td>NaN</td>\n",
       "    </tr>\n",
       "  </tbody>\n",
       "</table>\n",
       "</div>"
      ],
      "text/plain": [
       "            df         sum_sq        mean_sq           F        PR(>F)\n",
       "X          1.0  188589.613492  188589.613492  179.863766  6.601482e-24\n",
       "Residual  98.0  102754.337551    1048.513648         NaN           NaN"
      ]
     },
     "execution_count": 59,
     "metadata": {},
     "output_type": "execute_result"
    }
   ],
   "source": [
    "sm.stats.anova_lm(result)"
   ]
  },
  {
   "cell_type": "code",
   "execution_count": 60,
   "metadata": {
    "school_cell_uuid": "57d165140a2e444494ce221000fee0d8"
   },
   "outputs": [
    {
     "name": "stdout",
     "output_type": "stream",
     "text": [
      "                            OLS Regression Results                            \n",
      "==============================================================================\n",
      "Dep. Variable:                      Y   R-squared:                       0.647\n",
      "Model:                            OLS   Adj. R-squared:                  0.644\n",
      "Method:                 Least Squares   F-statistic:                     179.9\n",
      "Date:                Wed, 25 Jul 2018   Prob (F-statistic):           6.60e-24\n",
      "Time:                        15:58:52   Log-Likelihood:                -488.64\n",
      "No. Observations:                 100   AIC:                             981.3\n",
      "Df Residuals:                      98   BIC:                             986.5\n",
      "Df Model:                           1                                         \n",
      "Covariance Type:            nonrobust                                         \n",
      "==============================================================================\n",
      "                 coef    std err          t      P>|t|      [0.025      0.975]\n",
      "------------------------------------------------------------------------------\n",
      "Intercept     -2.4425      3.244     -0.753      0.453      -8.880       3.995\n",
      "X             43.0873      3.213     13.411      0.000      36.712      49.463\n",
      "==============================================================================\n",
      "Omnibus:                        3.523   Durbin-Watson:                   1.984\n",
      "Prob(Omnibus):                  0.172   Jarque-Bera (JB):                2.059\n",
      "Skew:                          -0.073   Prob(JB):                        0.357\n",
      "Kurtosis:                       2.312   Cond. No.                         1.06\n",
      "==============================================================================\n",
      "\n",
      "Warnings:\n",
      "[1] Standard Errors assume that the covariance matrix of the errors is correctly specified.\n"
     ]
    }
   ],
   "source": [
    "print(result.summary())"
   ]
  },
  {
   "cell_type": "markdown",
   "metadata": {
    "school_cell_uuid": "51172ce40b3d4d7f99c791d57b33d740"
   },
   "source": [
    "## 1.5. ANOVA - Models without Bias ($\\bar{y}=0$)\n",
    "* Definition of TSS:\n",
    "  * By assuming $\\bar{y}=0$, even if it is not (else, $TSS = RSS + ESS$ would not hold true)\n",
    "\n",
    "$$\\text{TSS} = \\sum_i y_i^2 = y^Ty $$\n",
    "\n",
    "* Hence, the model with bias & the model w/o bias should not be directly compared"
   ]
  },
  {
   "cell_type": "code",
   "execution_count": 62,
   "metadata": {
    "school_cell_uuid": "d73b2084863143d99cd61a25abf7d6ec"
   },
   "outputs": [],
   "source": [
    "X0, y, coef = make_regression(n_samples=100, n_features=1, noise=30, bias=100, coef=True, random_state=0)\n",
    "dfX = pd.DataFrame(X0, columns=[\"X\"])\n",
    "dfy = pd.DataFrame(y, columns=[\"Y\"])\n",
    "df = pd.concat([dfX, dfy], axis=1)\n",
    "\n",
    "model2 = sm.OLS.from_formula(\"Y ~ X + 0\", data=df)\n",
    "result2 = model2.fit()"
   ]
  },
  {
   "cell_type": "code",
   "execution_count": 63,
   "metadata": {
    "school_cell_uuid": "4c7a4312f1f2409ca00e23ff319e2067"
   },
   "outputs": [
    {
     "data": {
      "text/plain": [
       "0.18768724705943896"
      ]
     },
     "execution_count": 63,
     "metadata": {},
     "output_type": "execute_result"
    }
   ],
   "source": [
    "result2.rsquared"
   ]
  },
  {
   "cell_type": "markdown",
   "metadata": {},
   "source": [
    "## 1.6. ANOVA - Models with Categorical Variable"
   ]
  },
  {
   "cell_type": "markdown",
   "metadata": {
    "school_cell_uuid": "dfb92e8bc944407e9e9283464c627c6e"
   },
   "source": [
    "* **One-Way ANOVA**: calculates the influence of each category\n",
    "\n",
    "* **BSS**(alternative for ESS): Between-Group Variance\n",
    "  $$ BSS = \\sum_{k=1}^K N_k (\\bar{y}_k - \\bar{y})^2 $$\n",
    "\n",
    "* **WSS**(alternative for RSS): Within-Group Variance\n",
    "  $$ WSS = \\sum_{i}^N (\\bar{y}_k - y_{i})^2 $$\n",
    "\n",
    "* **TSS**\n",
    "  $$ TSS = \\sum_{i}^N (y_{i} - \\bar{y})^2 $$\n",
    "\n",
    "* **ANOVA Table**\n",
    "\n",
    "| source | degree of freedom | sum of square | mean square  | F test-statstics | p-value |\n",
    "|-|-|-|-|-|-|\n",
    "| Between  | $$K-1$$ | $$\\text{BSS}$$ | $$s_{\\hat{y}}^2 = \\dfrac{\\text{ESS}}{K-1}$$   | $$F=\\dfrac{s_{\\hat{y}}^2}{s_e^2} $$ | p-value |\n",
    "| Within   | $$N-K$$  | $$\\text{WSS}$$  | $$s_e^2= \\dfrac{\\text{RSS}}{N-K}$$ | |\n",
    "| Total     | $$N-1$$  | $$\\text{TSS}$$ | $$s_y^2= \\dfrac{\\text{TSS}}{N-1}$$ | |\n",
    "| $R^2$   |    |  $$\\text{BSS} / \\text{TSS}$$ |  | |\n",
    "\n",
    "* F-test\n",
    "  * Null Hypothesis: coefficient for every dummy variable is 0 (the variable is irrelevant)\n",
    "  * i.e. $\\text{BSS}=0$ and $\\text{WSS}=\\text{TSS}$"
   ]
  },
  {
   "cell_type": "markdown",
   "metadata": {
    "school_cell_uuid": "d6ca5a61a0b1427cbd77e41a0f8db569"
   },
   "source": [
    "### Example - `CHAS` variable in Boston House Prices dataset"
   ]
  },
  {
   "cell_type": "code",
   "execution_count": 15,
   "metadata": {
    "school_cell_uuid": "27f93ad0e7d446c2b5dcc304ceb7afc4"
   },
   "outputs": [
    {
     "data": {
      "image/png": "[encoded data removed]",
      "text/plain": [
       "<matplotlib.figure.Figure at 0x10a700ef0>"
      ]
     },
     "metadata": {},
     "output_type": "display_data"
    }
   ],
   "source": [
    "sns.stripplot(x=\"CHAS\", y=\"MEDV\", data=df_boston, jitter=True, alpha=.3)\n",
    "sns.pointplot(x=\"CHAS\", y=\"MEDV\", data=df_boston, dodge=True, color='r')\n",
    "plt.show()"
   ]
  },
  {
   "cell_type": "code",
   "execution_count": 67,
   "metadata": {
    "school_cell_uuid": "b1caceac88ab451eb844d05482aac62a"
   },
   "outputs": [
    {
     "data": {
      "text/html": [
       "<div>\n",
       "<style scoped>\n",
       "    .dataframe tbody tr th:only-of-type {\n",
       "        vertical-align: middle;\n",
       "    }\n",
       "\n",
       "    .dataframe tbody tr th {\n",
       "        vertical-align: top;\n",
       "    }\n",
       "\n",
       "    .dataframe thead th {\n",
       "        text-align: right;\n",
       "    }\n",
       "</style>\n",
       "<table border=\"1\" class=\"dataframe\">\n",
       "  <thead>\n",
       "    <tr style=\"text-align: right;\">\n",
       "      <th></th>\n",
       "      <th>df</th>\n",
       "      <th>sum_sq</th>\n",
       "      <th>mean_sq</th>\n",
       "      <th>F</th>\n",
       "      <th>PR(&gt;F)</th>\n",
       "    </tr>\n",
       "  </thead>\n",
       "  <tbody>\n",
       "    <tr>\n",
       "      <th>C(CHAS)</th>\n",
       "      <td>2.0</td>\n",
       "      <td>258222.123856</td>\n",
       "      <td>129111.061928</td>\n",
       "      <td>1571.626788</td>\n",
       "      <td>2.495018e-217</td>\n",
       "    </tr>\n",
       "    <tr>\n",
       "      <th>Residual</th>\n",
       "      <td>504.0</td>\n",
       "      <td>41404.216144</td>\n",
       "      <td>82.151223</td>\n",
       "      <td>NaN</td>\n",
       "      <td>NaN</td>\n",
       "    </tr>\n",
       "  </tbody>\n",
       "</table>\n",
       "</div>"
      ],
      "text/plain": [
       "             df         sum_sq        mean_sq            F         PR(>F)\n",
       "C(CHAS)     2.0  258222.123856  129111.061928  1571.626788  2.495018e-217\n",
       "Residual  504.0   41404.216144      82.151223          NaN            NaN"
      ]
     },
     "execution_count": 67,
     "metadata": {},
     "output_type": "execute_result"
    }
   ],
   "source": [
    "model_chas = sm.OLS.from_formula(\"MEDV ~ C(CHAS) + 0\", data=df_boston)\n",
    "sm.stats.anova_lm(model_chas.fit())"
   ]
  },
  {
   "cell_type": "markdown",
   "metadata": {},
   "source": [
    "# 2. Model Selection"
   ]
  },
  {
   "cell_type": "markdown",
   "metadata": {
    "school_cell_uuid": "fd4d5737a0844dd2873fbf3c05717db7"
   },
   "source": [
    "## 2.1. Coefficient of Determination, $R^2$\n",
    "\n",
    "$$R^2 \\equiv 1 - \\dfrac{\\text{RSS}}{\\text{TSS}}\\ = \\dfrac{\\text{ESS}}{\\text{TSS}}\\ $$\n",
    "\n",
    "$$0 \\leq R^2  \\leq 1$$\n",
    "\n",
    "* $R^2 = 0$: the result is meaningless\n",
    "* $R^2 = 1$: the result is perfect"
   ]
  },
  {
   "cell_type": "markdown",
   "metadata": {
    "school_cell_uuid": "ade6b33ddfb846be8f1c5614d1fdbfd6"
   },
   "source": [
    "### $R^2$ and $r^2$\n",
    "* The correlation coefficient between $y$ and $\\hat{y}$: $r$ $\\rightarrow$ $r^2 = R^2$"
   ]
  },
  {
   "cell_type": "code",
   "execution_count": 61,
   "metadata": {
    "school_cell_uuid": "726fbaaae2b84492bd696682d3d399f6"
   },
   "outputs": [
    {
     "data": {
      "image/png": "[encoded data removed]",
      "text/plain": [
       "<matplotlib.figure.Figure at 0x1122bb8d0>"
      ]
     },
     "metadata": {},
     "output_type": "display_data"
    }
   ],
   "source": [
    "sns.jointplot(result.fittedvalues, y)\n",
    "plt.show()"
   ]
  },
  {
   "cell_type": "markdown",
   "metadata": {
    "school_cell_uuid": "809b1a9ac79a4bcda839f82fad339810"
   },
   "source": [
    "## 2.2. Adjusted Coefficient of Determination"
   ]
  },
  {
   "cell_type": "markdown",
   "metadata": {
    "school_cell_uuid": "bb2a470d0c9748db962a4294f2b6a8f3"
   },
   "source": [
    "* As more variables are taken into account, $R^2$ increases\n",
    "\n",
    ">**proof**\n",
    ">\n",
    "> Let's say that we are adding a new variable $z$, then\n",
    ">\n",
    ">  $$ R^2_{Xz} = R^2_{X} + (1-R^2_{X})r^{\\ast 2}_{yz} $$\n",
    ">\n",
    "> Where,\n",
    ">\n",
    "> $r^{\\ast 2}_{yz}$: correlation coefficient of $z$ and $y$\n",
    ">\n",
    "> Since all three terms are $ \\geq 0$\n",
    ">\n",
    "> $$R^2_{Xz} \\geq R^2_{X} $$"
   ]
  },
  {
   "cell_type": "markdown",
   "metadata": {
    "school_cell_uuid": "cc57abcae2cf4f189da669e0de3b77c9"
   },
   "source": [
    "* Thus, $R_{adj}^2$ has been introduced (give penalty for large $K$)\n",
    "\n",
    "$$ R_{adj}^2 = 1 - \\frac{n-1}{n-K}(1-R^2) = \\dfrac{(n-1)R^2 +1-K}{n-K} $$"
   ]
  },
  {
   "cell_type": "markdown",
   "metadata": {
    "school_cell_uuid": "76d670b1d1a0467d85018b7ed321d920"
   },
   "source": [
    "## 2.3. F-test\n",
    "* Null Hypothesis: $w_i=0$ $\\rightarrow$ $H_0:R^2=0$\n",
    "* $\\hat{w}$: follows normal distribution\n",
    "* $\\hat{y} = \\hat{w}^T x$: linear combination of normal distribution $\\rightarrow$ normal distribution\n",
    "* Residual: linear transformation of disturbance $\\rightarrow$ normal distribution\n",
    "\n",
    "  * $\\rightarrow$ the following ratio follows **F-distribution**\n",
    "  \n",
    "$$ \\dfrac{\\text{ESS}}{K-1} \\div  \\dfrac{\\text{RSS}}{N-K} \\sim F(K-1, N-K) $$\n",
    "* Use this value as test statistic for F-test"
   ]
  },
  {
   "cell_type": "markdown",
   "metadata": {
    "school_cell_uuid": "f326cad592944c0baa3089b501594182"
   },
   "source": [
    "### Comparison between Models"
   ]
  },
  {
   "cell_type": "markdown",
   "metadata": {
    "school_cell_uuid": "938ee04cbe19439c817970e3fef05c19"
   },
   "source": [
    "* **Full Model**: $ y = w_0 + w_1 x_1 + w_2 x_2 + w_3 x_3 $\n",
    "* **Reduced Model**: $ y = w_0 + w_1 x_1 $\n",
    "\n",
    ">* Null Hypothesis: the two models are essentially the same\n",
    "$$ H_0: w_2 = w_3 = 0 $$"
   ]
  },
  {
   "cell_type": "markdown",
   "metadata": {},
   "source": [
    "* **`anova_lm` command - insert reduced model & full model as parameters**"
   ]
  },
  {
   "cell_type": "code",
   "execution_count": 64,
   "metadata": {
    "school_cell_uuid": "9258203f96ea4b9f8008d8f2904e4536"
   },
   "outputs": [],
   "source": [
    "from sklearn.datasets import load_boston\n",
    "\n",
    "boston = load_boston()\n",
    "dfX0_boston = pd.DataFrame(boston.data, columns=boston.feature_names)\n",
    "dfy_boston = pd.DataFrame(boston.target, columns=[\"MEDV\"])\n",
    "dfX_boston = sm.add_constant(dfX0_boston)\n",
    "df_boston = pd.concat([dfX_boston, dfy_boston], axis=1)"
   ]
  },
  {
   "cell_type": "code",
   "execution_count": 65,
   "metadata": {
    "school_cell_uuid": "641024d48127480fb198fc591b957ed6"
   },
   "outputs": [
    {
     "data": {
      "text/html": [
       "<div>\n",
       "<style scoped>\n",
       "    .dataframe tbody tr th:only-of-type {\n",
       "        vertical-align: middle;\n",
       "    }\n",
       "\n",
       "    .dataframe tbody tr th {\n",
       "        vertical-align: top;\n",
       "    }\n",
       "\n",
       "    .dataframe thead th {\n",
       "        text-align: right;\n",
       "    }\n",
       "</style>\n",
       "<table border=\"1\" class=\"dataframe\">\n",
       "  <thead>\n",
       "    <tr style=\"text-align: right;\">\n",
       "      <th></th>\n",
       "      <th>df_resid</th>\n",
       "      <th>ssr</th>\n",
       "      <th>df_diff</th>\n",
       "      <th>ss_diff</th>\n",
       "      <th>F</th>\n",
       "      <th>Pr(&gt;F)</th>\n",
       "    </tr>\n",
       "  </thead>\n",
       "  <tbody>\n",
       "    <tr>\n",
       "      <th>0</th>\n",
       "      <td>494.0</td>\n",
       "      <td>11082.941389</td>\n",
       "      <td>0.0</td>\n",
       "      <td>NaN</td>\n",
       "      <td>NaN</td>\n",
       "      <td>NaN</td>\n",
       "    </tr>\n",
       "    <tr>\n",
       "      <th>1</th>\n",
       "      <td>492.0</td>\n",
       "      <td>11080.276284</td>\n",
       "      <td>2.0</td>\n",
       "      <td>2.665105</td>\n",
       "      <td>0.05917</td>\n",
       "      <td>0.942554</td>\n",
       "    </tr>\n",
       "  </tbody>\n",
       "</table>\n",
       "</div>"
      ],
      "text/plain": [
       "   df_resid           ssr  df_diff   ss_diff        F    Pr(>F)\n",
       "0     494.0  11082.941389      0.0       NaN      NaN       NaN\n",
       "1     492.0  11080.276284      2.0  2.665105  0.05917  0.942554"
      ]
     },
     "execution_count": 65,
     "metadata": {},
     "output_type": "execute_result"
    }
   ],
   "source": [
    "model_full = sm.OLS.from_formula(\"MEDV ~ CRIM + ZN + INDUS + NOX + RM + AGE + DIS + RAD + TAX + PTRATIO + B + LSTAT + CHAS\", data=df_boston)\n",
    "model_reduced = sm.OLS.from_formula(\"MEDV ~ CRIM + ZN + NOX + RM + DIS + RAD + TAX + PTRATIO + B + LSTAT + CHAS\", data=df_boston)\n",
    "\n",
    "sm.stats.anova_lm(model_reduced.fit(), model_full.fit())"
   ]
  },
  {
   "cell_type": "markdown",
   "metadata": {
    "school_cell_uuid": "13b6c0d451f04f33826c399b3c21e9a2"
   },
   "source": [
    "### Comparison between Variables"
   ]
  },
  {
   "cell_type": "markdown",
   "metadata": {
    "school_cell_uuid": "e998b873aa7e4bb3bf16a1fdc2a1dcd8"
   },
   "source": [
    "* **Full Model** vs. **Full Model w/o a Variable**"
   ]
  },
  {
   "cell_type": "code",
   "execution_count": 66,
   "metadata": {
    "school_cell_uuid": "5459c1b3e56345bfa911724a59a33a6b"
   },
   "outputs": [
    {
     "data": {
      "text/html": [
       "<div>\n",
       "<style scoped>\n",
       "    .dataframe tbody tr th:only-of-type {\n",
       "        vertical-align: middle;\n",
       "    }\n",
       "\n",
       "    .dataframe tbody tr th {\n",
       "        vertical-align: top;\n",
       "    }\n",
       "\n",
       "    .dataframe thead th {\n",
       "        text-align: right;\n",
       "    }\n",
       "</style>\n",
       "<table border=\"1\" class=\"dataframe\">\n",
       "  <thead>\n",
       "    <tr style=\"text-align: right;\">\n",
       "      <th></th>\n",
       "      <th>df_resid</th>\n",
       "      <th>ssr</th>\n",
       "      <th>df_diff</th>\n",
       "      <th>ss_diff</th>\n",
       "      <th>F</th>\n",
       "      <th>Pr(&gt;F)</th>\n",
       "    </tr>\n",
       "  </thead>\n",
       "  <tbody>\n",
       "    <tr>\n",
       "      <th>0</th>\n",
       "      <td>493.0</td>\n",
       "      <td>11322.004277</td>\n",
       "      <td>0.0</td>\n",
       "      <td>NaN</td>\n",
       "      <td>NaN</td>\n",
       "      <td>NaN</td>\n",
       "    </tr>\n",
       "    <tr>\n",
       "      <th>1</th>\n",
       "      <td>492.0</td>\n",
       "      <td>11080.276284</td>\n",
       "      <td>1.0</td>\n",
       "      <td>241.727993</td>\n",
       "      <td>10.733502</td>\n",
       "      <td>0.001126</td>\n",
       "    </tr>\n",
       "  </tbody>\n",
       "</table>\n",
       "</div>"
      ],
      "text/plain": [
       "   df_resid           ssr  df_diff     ss_diff          F    Pr(>F)\n",
       "0     493.0  11322.004277      0.0         NaN        NaN       NaN\n",
       "1     492.0  11080.276284      1.0  241.727993  10.733502  0.001126"
      ]
     },
     "execution_count": 66,
     "metadata": {},
     "output_type": "execute_result"
    }
   ],
   "source": [
    "model_full = sm.OLS.from_formula(\"MEDV ~ CRIM + ZN + INDUS + NOX + RM + AGE + DIS + RAD + TAX + PTRATIO + B + LSTAT + CHAS\", data=df_boston)\n",
    "model_reduced = sm.OLS.from_formula(\"MEDV ~ ZN + INDUS + NOX + RM + AGE + DIS + RAD + TAX + PTRATIO + B + LSTAT + CHAS\", data=df_boston)\n",
    "\n",
    "sm.stats.anova_lm(model_reduced.fit(), model_full.fit())"
   ]
  },
  {
   "cell_type": "markdown",
   "metadata": {
    "school_cell_uuid": "aabf0a30d0bd4c8786c43a88b6404278"
   },
   "source": [
    "* **`anova_lm` - Set `typ=2` to repeat this process for every variable**"
   ]
  },
  {
   "cell_type": "code",
   "execution_count": 14,
   "metadata": {
    "school_cell_uuid": "a46ba7c34ffd4cd790eaeed2033ac6eb"
   },
   "outputs": [
    {
     "data": {
      "text/html": [
       "<div>\n",
       "<style scoped>\n",
       "    .dataframe tbody tr th:only-of-type {\n",
       "        vertical-align: middle;\n",
       "    }\n",
       "\n",
       "    .dataframe tbody tr th {\n",
       "        vertical-align: top;\n",
       "    }\n",
       "\n",
       "    .dataframe thead th {\n",
       "        text-align: right;\n",
       "    }\n",
       "</style>\n",
       "<table border=\"1\" class=\"dataframe\">\n",
       "  <thead>\n",
       "    <tr style=\"text-align: right;\">\n",
       "      <th></th>\n",
       "      <th>sum_sq</th>\n",
       "      <th>df</th>\n",
       "      <th>F</th>\n",
       "      <th>PR(&gt;F)</th>\n",
       "    </tr>\n",
       "  </thead>\n",
       "  <tbody>\n",
       "    <tr>\n",
       "      <th>CRIM</th>\n",
       "      <td>241.727993</td>\n",
       "      <td>1.0</td>\n",
       "      <td>10.733502</td>\n",
       "      <td>1.126402e-03</td>\n",
       "    </tr>\n",
       "    <tr>\n",
       "      <th>ZN</th>\n",
       "      <td>257.226157</td>\n",
       "      <td>1.0</td>\n",
       "      <td>11.421671</td>\n",
       "      <td>7.836070e-04</td>\n",
       "    </tr>\n",
       "    <tr>\n",
       "      <th>INDUS</th>\n",
       "      <td>2.591314</td>\n",
       "      <td>1.0</td>\n",
       "      <td>0.115063</td>\n",
       "      <td>7.345971e-01</td>\n",
       "    </tr>\n",
       "    <tr>\n",
       "      <th>NOX</th>\n",
       "      <td>488.605951</td>\n",
       "      <td>1.0</td>\n",
       "      <td>21.695680</td>\n",
       "      <td>4.117296e-06</td>\n",
       "    </tr>\n",
       "    <tr>\n",
       "      <th>RM</th>\n",
       "      <td>1865.902935</td>\n",
       "      <td>1.0</td>\n",
       "      <td>82.852108</td>\n",
       "      <td>2.207486e-18</td>\n",
       "    </tr>\n",
       "    <tr>\n",
       "      <th>AGE</th>\n",
       "      <td>0.072792</td>\n",
       "      <td>1.0</td>\n",
       "      <td>0.003232</td>\n",
       "      <td>9.546859e-01</td>\n",
       "    </tr>\n",
       "    <tr>\n",
       "      <th>DIS</th>\n",
       "      <td>1232.544417</td>\n",
       "      <td>1.0</td>\n",
       "      <td>54.728947</td>\n",
       "      <td>6.017651e-13</td>\n",
       "    </tr>\n",
       "    <tr>\n",
       "      <th>RAD</th>\n",
       "      <td>478.172457</td>\n",
       "      <td>1.0</td>\n",
       "      <td>21.232399</td>\n",
       "      <td>5.189664e-06</td>\n",
       "    </tr>\n",
       "    <tr>\n",
       "      <th>TAX</th>\n",
       "      <td>242.053549</td>\n",
       "      <td>1.0</td>\n",
       "      <td>10.747958</td>\n",
       "      <td>1.117826e-03</td>\n",
       "    </tr>\n",
       "    <tr>\n",
       "      <th>PTRATIO</th>\n",
       "      <td>1195.939414</td>\n",
       "      <td>1.0</td>\n",
       "      <td>53.103567</td>\n",
       "      <td>1.268218e-12</td>\n",
       "    </tr>\n",
       "    <tr>\n",
       "      <th>B</th>\n",
       "      <td>275.903216</td>\n",
       "      <td>1.0</td>\n",
       "      <td>12.250993</td>\n",
       "      <td>5.072875e-04</td>\n",
       "    </tr>\n",
       "    <tr>\n",
       "      <th>LSTAT</th>\n",
       "      <td>2420.118669</td>\n",
       "      <td>1.0</td>\n",
       "      <td>107.461074</td>\n",
       "      <td>6.595808e-23</td>\n",
       "    </tr>\n",
       "    <tr>\n",
       "      <th>CHAS</th>\n",
       "      <td>219.279126</td>\n",
       "      <td>1.0</td>\n",
       "      <td>9.736700</td>\n",
       "      <td>1.912339e-03</td>\n",
       "    </tr>\n",
       "    <tr>\n",
       "      <th>Residual</th>\n",
       "      <td>11080.276284</td>\n",
       "      <td>492.0</td>\n",
       "      <td>NaN</td>\n",
       "      <td>NaN</td>\n",
       "    </tr>\n",
       "  </tbody>\n",
       "</table>\n",
       "</div>"
      ],
      "text/plain": [
       "                sum_sq     df           F        PR(>F)\n",
       "CRIM        241.727993    1.0   10.733502  1.126402e-03\n",
       "ZN          257.226157    1.0   11.421671  7.836070e-04\n",
       "INDUS         2.591314    1.0    0.115063  7.345971e-01\n",
       "NOX         488.605951    1.0   21.695680  4.117296e-06\n",
       "RM         1865.902935    1.0   82.852108  2.207486e-18\n",
       "AGE           0.072792    1.0    0.003232  9.546859e-01\n",
       "DIS        1232.544417    1.0   54.728947  6.017651e-13\n",
       "RAD         478.172457    1.0   21.232399  5.189664e-06\n",
       "TAX         242.053549    1.0   10.747958  1.117826e-03\n",
       "PTRATIO    1195.939414    1.0   53.103567  1.268218e-12\n",
       "B           275.903216    1.0   12.250993  5.072875e-04\n",
       "LSTAT      2420.118669    1.0  107.461074  6.595808e-23\n",
       "CHAS        219.279126    1.0    9.736700  1.912339e-03\n",
       "Residual  11080.276284  492.0         NaN           NaN"
      ]
     },
     "execution_count": 14,
     "metadata": {},
     "output_type": "execute_result"
    }
   ],
   "source": [
    "model_boston = sm.OLS.from_formula(\"MEDV ~ CRIM + ZN + INDUS + NOX + RM + AGE + DIS + RAD + TAX + PTRATIO + B + LSTAT + CHAS\", data=df_boston)\n",
    "result_boston = model_boston.fit()\n",
    "sm.stats.anova_lm(result_boston, typ=2)"
   ]
  },
  {
   "cell_type": "markdown",
   "metadata": {
    "school_cell_uuid": "134479c7de0a49bb939495605dfbbc1e"
   },
   "source": [
    "* NOTE: the result is same as the p-value for t-test\n",
    "$$ t_n^2 = F_{(1, n)} $$"
   ]
  },
  {
   "cell_type": "markdown",
   "metadata": {
    "school_cell_uuid": "1804a76e91bc471cbdaf4988ba437d50"
   },
   "source": [
    "## 2.4. Information Criterion\n",
    "* Estimators of the **relative quality** of models (the smaller the better)\n",
    "* **AIC**(Akaike Information Criterion)\n",
    " \n",
    "$$ \\text{AIC} = -2\\log L + 2K $$\n",
    "\n",
    "* **BIC**(Bayesian Information Criterion\n",
    "\n",
    "$$ \\text{BIC} = -2\\log L + K\\log n $$"
   ]
  },
  {
   "cell_type": "markdown",
   "metadata": {
    "school_cell_uuid": "d160bcdcd9d344059129cab4340f47fc"
   },
   "source": [
    "# 3. Model Diagnosis"
   ]
  },
  {
   "cell_type": "markdown",
   "metadata": {
    "school_cell_uuid": "34040ca73cf24995bcb9fed6132023bb"
   },
   "source": [
    "## 3.1. Normality Test"
   ]
  },
  {
   "cell_type": "markdown",
   "metadata": {
    "school_cell_uuid": "607f30574a8942bb9a0ff7e0b48caafd"
   },
   "source": [
    "* Residuals should follow **normal distribution** $\\rightarrow$ else, there is a problem"
   ]
  },
  {
   "cell_type": "markdown",
   "metadata": {},
   "source": [
    "### Case 1. Normality Test: Fail"
   ]
  },
  {
   "cell_type": "code",
   "execution_count": 108,
   "metadata": {
    "school_cell_uuid": "8f7cb08ac6b64167b2e51960140e4986"
   },
   "outputs": [
    {
     "data": {
      "image/png": "[encoded data removed]",
      "text/plain": [
       "<matplotlib.figure.Figure at 0x111f63710>"
      ]
     },
     "metadata": {},
     "output_type": "display_data"
    }
   ],
   "source": [
    "def make_regression2(n_sample = 100, bias=0, noise=0.3, random_state=0):\n",
    "    np.random.seed(random_state)\n",
    "    x = np.random.rand(n_sample) * 4\n",
    "    epsilon = noise * np.random.randn(n_sample)\n",
    "    y = x ** 2 + bias + epsilon\n",
    "    return x, y\n",
    "\n",
    "x2, y2 = make_regression2()\n",
    "plt.scatter(x2, y2)\n",
    "plt.show()"
   ]
  },
  {
   "cell_type": "code",
   "execution_count": 109,
   "metadata": {
    "school_cell_uuid": "fc6095d630d84b77818ae857b46bea4c"
   },
   "outputs": [],
   "source": [
    "dfX20 = pd.DataFrame(x2, columns=[\"X1\"])\n",
    "dfX2 = sm.add_constant(dfX20)\n",
    "dfy2 = pd.DataFrame(y2, columns=[\"y\"])\n",
    "\n",
    "model2 = sm.OLS(dfy2, dfX2)\n",
    "result2 = model2.fit()"
   ]
  },
  {
   "cell_type": "markdown",
   "metadata": {},
   "source": [
    "#### This model fails the normality test"
   ]
  },
  {
   "cell_type": "code",
   "execution_count": 110,
   "metadata": {
    "school_cell_uuid": "670d0df4bee6499c93da147059ddb6f1"
   },
   "outputs": [
    {
     "data": {
      "image/png": "[encoded data removed]",
      "text/plain": [
       "<matplotlib.figure.Figure at 0x1091507b8>"
      ]
     },
     "metadata": {},
     "output_type": "display_data"
    }
   ],
   "source": [
    "# make a QQ plot\n",
    "sp.stats.probplot(result2.resid, plot=plt)\n",
    "plt.show()"
   ]
  },
  {
   "cell_type": "code",
   "execution_count": 111,
   "metadata": {
    "school_cell_uuid": "2c790cf10ac045b18234e1a0e6424d33"
   },
   "outputs": [
    {
     "name": "stdout",
     "output_type": "stream",
     "text": [
      "Chi^2       :  9.520\n",
      "P-value     :  0.009\n"
     ]
    }
   ],
   "source": [
    "test = sms.omni_normtest(result2.resid)\n",
    "for xi in zip(['Chi^2', 'P-value'], test):\n",
    "    print(\"%-12s: %6.3f\" % xi)"
   ]
  },
  {
   "cell_type": "markdown",
   "metadata": {
    "school_cell_uuid": "7566e1f71cf040c5912278556712006f"
   },
   "source": [
    "### Case 2. Normality Test: Pass $\\rightarrow$ Plot Residual vs. Variables"
   ]
  },
  {
   "cell_type": "code",
   "execution_count": 112,
   "metadata": {
    "school_cell_uuid": "8f7cb08ac6b64167b2e51960140e4986"
   },
   "outputs": [
    {
     "data": {
      "image/png": "[encoded data removed]",
      "text/plain": [
       "<matplotlib.figure.Figure at 0x10afa4518>"
      ]
     },
     "metadata": {},
     "output_type": "display_data"
    }
   ],
   "source": [
    "def make_regression3(n_sample = 100, bias=0, noise=0.5, random_state=0):\n",
    "    np.random.seed(random_state)\n",
    "    x = np.random.rand(n_sample) * 3 - 1\n",
    "    epsilon = noise * np.random.randn(n_sample)\n",
    "    y = x ** 2 + bias + epsilon\n",
    "    return x, y\n",
    "\n",
    "x3, y3 = make_regression3()\n",
    "plt.scatter(x3, y3)\n",
    "plt.show()"
   ]
  },
  {
   "cell_type": "code",
   "execution_count": 113,
   "metadata": {
    "school_cell_uuid": "fc6095d630d84b77818ae857b46bea4c"
   },
   "outputs": [],
   "source": [
    "dfX30 = pd.DataFrame(x3, columns=[\"X1\"])\n",
    "dfX3 = sm.add_constant(dfX30)\n",
    "dfy3 = pd.DataFrame(y3, columns=[\"y\"])\n",
    "\n",
    "model3 = sm.OLS(dfy3, dfX3)\n",
    "result3 = model3.fit()"
   ]
  },
  {
   "cell_type": "markdown",
   "metadata": {},
   "source": [
    "#### This model passes the normality test"
   ]
  },
  {
   "cell_type": "code",
   "execution_count": 114,
   "metadata": {
    "school_cell_uuid": "670d0df4bee6499c93da147059ddb6f1"
   },
   "outputs": [
    {
     "data": {
      "image/png": "[encoded data removed]",
      "text/plain": [
       "<matplotlib.figure.Figure at 0x109150898>"
      ]
     },
     "metadata": {},
     "output_type": "display_data"
    }
   ],
   "source": [
    "sp.stats.probplot(result3.resid, plot=plt)\n",
    "plt.show()"
   ]
  },
  {
   "cell_type": "code",
   "execution_count": 115,
   "metadata": {
    "school_cell_uuid": "2c790cf10ac045b18234e1a0e6424d33"
   },
   "outputs": [
    {
     "name": "stdout",
     "output_type": "stream",
     "text": [
      "Chi^2       :  1.202\n",
      "P-value     :  0.548\n"
     ]
    }
   ],
   "source": [
    "test = sms.omni_normtest(result3.resid)\n",
    "for xi in zip(['Chi^2', 'P-value'], test):\n",
    "    print(\"%-12s: %6.3f\" % xi)"
   ]
  },
  {
   "cell_type": "markdown",
   "metadata": {
    "school_cell_uuid": "0a3159ce7fe44dca96fcba5a5790eca4"
   },
   "source": [
    "#### Yet, it can be seen that the residuals have a non-linear relationship with the variable, `X1`"
   ]
  },
  {
   "cell_type": "code",
   "execution_count": 77,
   "metadata": {
    "school_cell_uuid": "c04ca504096c48cebe1e89d3ca9f8ab2"
   },
   "outputs": [
    {
     "data": {
      "image/png": "[encoded data removed]",
      "text/plain": [
       "<matplotlib.figure.Figure at 0x112804c88>"
      ]
     },
     "metadata": {},
     "output_type": "display_data"
    }
   ],
   "source": [
    "plt.plot(x3, result3.resid, 'o')\n",
    "plt.axhline(y=0, c='k')\n",
    "plt.xlabel(\"X1\")\n",
    "plt.ylabel(\"Residual\")\n",
    "plt.show()"
   ]
  },
  {
   "cell_type": "markdown",
   "metadata": {
    "school_cell_uuid": "65d6c2ab22e545c0920349ba60936c98"
   },
   "source": [
    "## 3.2. Heteroskedasticity\n",
    "* $VAR[y]$ increases as $X$ increases $\\rightarrow$ heteroskedasticity occurs\n",
    "* Such problem is often solved by using **translog model**"
   ]
  },
  {
   "cell_type": "code",
   "execution_count": 116,
   "metadata": {
    "school_cell_uuid": "afb289e5ca60438cb6fd3dfd781e8222"
   },
   "outputs": [
    {
     "data": {
      "image/png": "[encoded data removed]",
      "text/plain": [
       "<matplotlib.figure.Figure at 0x11174b828>"
      ]
     },
     "metadata": {},
     "output_type": "display_data"
    }
   ],
   "source": [
    "from sklearn.datasets import load_diabetes\n",
    "diabetes = load_diabetes()\n",
    "df = pd.concat([pd.DataFrame(diabetes.data, columns=[\"x%d\" % (i + 1) for i in range(diabetes.data.shape[1])]),\n",
    "                pd.DataFrame(diabetes.target, columns=[\"target\"])],\n",
    "               axis=1)\n",
    "model = sm.OLS.from_formula(\"target ~ x9\", data=df)\n",
    "result = model.fit()\n",
    "plt.scatter(df[\"x9\"], result.resid)\n",
    "plt.show()"
   ]
  },
  {
   "cell_type": "markdown",
   "metadata": {
    "school_cell_uuid": "6e32a09f14bc4c4d807f5969a57686a8"
   },
   "source": [
    "## 3.3. Autocorrelation Coefficient\n",
    "* Treat residual as **time-series** $\\rightarrow$ if the residuals are mutually independent, autocorrelation coefficient, $\\rho_l=0$\n",
    "* Following tests can be used\n",
    "  * **Box-Pierce test**\n",
    "  * **Ljung-Box test**\n",
    "  * **Durbin-Watson test**\n",
    "* Null Hypothesis: \n",
    "$$ H_0: \\rho_l = 0 \\;\\;\\;\\text{ for } i = 1, 2, \\cdots, l $$"
   ]
  },
  {
   "cell_type": "markdown",
   "metadata": {},
   "source": [
    "# 4. Model Improvements"
   ]
  },
  {
   "cell_type": "markdown",
   "metadata": {},
   "source": [
    "## 4.1. Conditional Number\n",
    "* The ratio between max & min eigenvalues of the covariance matrix, $X^TX$\n",
    "\n",
    "$$ \\text{condition number} = \\dfrac{\\lambda_{\\text{max}}}{\\lambda_{\\text{min}}} $$\n",
    "\n",
    "* If this value is large $\\rightarrow$ the model is sensitive to errors in data\n",
    "* **Reasons for large Conditional Number**\n",
    "  * 1) Huge difference in the size of the variables $\\rightarrow$ solve with **scaling**\n",
    "  * 2) Multi-colinearity (there are correlated variables) $\\rightarrow$ solve with dimension reduction techniques like **PCA**"
   ]
  },
  {
   "cell_type": "markdown",
   "metadata": {},
   "source": [
    "#### Example - Matrix with Small Conditional Number"
   ]
  },
  {
   "cell_type": "markdown",
   "metadata": {
    "school_cell_uuid": "88802cbcdae545c8937020563c92e852"
   },
   "source": [
    "* Consider the following equality,\n",
    "\n",
    "$$ Ax = b $$"
   ]
  },
  {
   "cell_type": "code",
   "execution_count": 117,
   "metadata": {
    "school_cell_uuid": "86463891e277485f992954b4052ddf0c"
   },
   "outputs": [],
   "source": [
    "A = np.eye(4)"
   ]
  },
  {
   "cell_type": "code",
   "execution_count": 118,
   "metadata": {
    "school_cell_uuid": "c22b1361e7ba4b698cddf390ae7628c6"
   },
   "outputs": [
    {
     "data": {
      "text/plain": [
       "array([1., 1., 1., 1.])"
      ]
     },
     "execution_count": 118,
     "metadata": {},
     "output_type": "execute_result"
    }
   ],
   "source": [
    "b = np.ones(4)\n",
    "sp.linalg.solve(A, b)"
   ]
  },
  {
   "cell_type": "code",
   "execution_count": 119,
   "metadata": {
    "school_cell_uuid": "c785fd15b6a04333bf2806175fc8cfe2"
   },
   "outputs": [
    {
     "data": {
      "text/plain": [
       "array([0.99990001, 0.99990001, 0.99990001, 0.99990001])"
      ]
     },
     "execution_count": 119,
     "metadata": {},
     "output_type": "execute_result"
    }
   ],
   "source": [
    "sp.linalg.solve(A + 0.0001 * np.eye(4), b)"
   ]
  },
  {
   "cell_type": "markdown",
   "metadata": {
    "school_cell_uuid": "39b08779a63f4234b88a9b3b6a1b40e4"
   },
   "source": [
    "#### Example - Matrix with High Conditional Number"
   ]
  },
  {
   "cell_type": "code",
   "execution_count": 120,
   "metadata": {
    "school_cell_uuid": "4c841728b1ee4fabbc3f827808002b4d"
   },
   "outputs": [
    {
     "data": {
      "text/plain": [
       "array([[1.        , 0.5       , 0.33333333, 0.25      ],\n",
       "       [0.5       , 0.33333333, 0.25      , 0.2       ],\n",
       "       [0.33333333, 0.25      , 0.2       , 0.16666667],\n",
       "       [0.25      , 0.2       , 0.16666667, 0.14285714]])"
      ]
     },
     "execution_count": 120,
     "metadata": {},
     "output_type": "execute_result"
    }
   ],
   "source": [
    "A = sp.linalg.hilbert(4)\n",
    "A"
   ]
  },
  {
   "cell_type": "code",
   "execution_count": 121,
   "metadata": {
    "school_cell_uuid": "273ba4dd8c234779b25f4597241693a4"
   },
   "outputs": [
    {
     "data": {
      "text/plain": [
       "15513.738738929662"
      ]
     },
     "execution_count": 121,
     "metadata": {},
     "output_type": "execute_result"
    }
   ],
   "source": [
    "np.linalg.cond(A)"
   ]
  },
  {
   "cell_type": "code",
   "execution_count": 84,
   "metadata": {
    "school_cell_uuid": "57ae305ccc414f62ac247c10936789d7"
   },
   "outputs": [
    {
     "data": {
      "text/plain": [
       "array([  -4.,   60., -180.,  140.])"
      ]
     },
     "execution_count": 84,
     "metadata": {},
     "output_type": "execute_result"
    }
   ],
   "source": [
    "sp.linalg.solve(A, b)"
   ]
  },
  {
   "cell_type": "code",
   "execution_count": 85,
   "metadata": {
    "school_cell_uuid": "962d447d01c2419db2a06372d9a0f7f3"
   },
   "outputs": [
    {
     "data": {
      "text/plain": [
       "array([ -0.58897672,  21.1225671 , -85.75912499,  78.45650825])"
      ]
     },
     "execution_count": 85,
     "metadata": {},
     "output_type": "execute_result"
    }
   ],
   "source": [
    "sp.linalg.solve(A + 0.0001 * np.eye(4), b)"
   ]
  },
  {
   "cell_type": "markdown",
   "metadata": {
    "school_cell_uuid": "a591a94f242c499abf01e8423e81b39a"
   },
   "source": [
    "## 4.2. Scaling\n",
    "* Simply use `scale` command in `StatsModels`\n",
    "* Same scaling is applied when using `predict` command\n",
    "* Example:\n",
    "\n",
    "```python\n",
    "from sklearn.datasets import load_boston\n",
    "boston = load_boston()\n",
    "dfX = pd.DataFrame(boston.data, columns=boston.feature_names)\n",
    "dfy = pd.DataFrame(boston.target, columns=[\"MEDV\"])\n",
    "df = pd.concat([dfX, dfy], axis=1)\n",
    "\n",
    "model = sm.OLS.from_formula(\"MEDV ~ scale(CRIM) + scale(ZN) + scale(INDUS) + scale(LSTAT) + CHAS\", data=df)\n",
    "result = model.fit()\n",
    "print(result.summary())\n",
    "```"
   ]
  },
  {
   "cell_type": "markdown",
   "metadata": {
    "school_cell_uuid": "fb78b14845714c7f979aa0a39bdf1554"
   },
   "source": [
    "## 4.3. Variable Transformation\n",
    "* Apply transformations such as `np.log()`, `I(x**2)`, `np.sqrt()`, ...\n",
    "* Example:\n",
    "\n",
    "```python\n",
    "model3 = sm.OLS.from_formula(\"np.log(MEDV) ~ scale(I(CRIM ** 2)) + scale(np.log(DIS)) + CHAS\", data=df)\n",
    "result3 = model3.fit()\n",
    "print(result3.summary())\n",
    "```"
   ]
  },
  {
   "cell_type": "markdown",
   "metadata": {},
   "source": [
    "## 4.4. Remove Outliers\n",
    "* Remove outliers based on **fox recommendation for cook's distance**\n",
    "* Example\n",
    "\n",
    "```python\n",
    "influence = result.get_influence()\n",
    "cooks_d2, pvals = influence.cooks_distance\n",
    "fox_cr = 4 / (len(df) - 2)\n",
    "idx_outlier = np.where(cooks_d2 > fox_cr)[0]\n",
    "\n",
    "idx = list(set(range(len(df))).difference(idx_outlier))\n",
    "df_new = df.iloc[idx, :].reset_index(drop=True)\n",
    "\n",
    "model_new = sm.OLS.from_formula(\"np.log(MEDV) ~ scale(CRIM) + ... + CHAS\", data=df_new)\n",
    "result_new = model_new.fit()\n",
    "print(result_new.summary())\n",
    "\n",
    "```"
   ]
  },
  {
   "cell_type": "markdown",
   "metadata": {
    "school_cell_uuid": "465a5396795d40bc97d3380d5351c0fc"
   },
   "source": [
    "## 4.5. Multicolinearity\n",
    "* Some variables can be represented as a combination of other variables\n",
    "* Disobeys the condition that the covariance matrix has to be full rank\n",
    "\n",
    "#### Example of High Multicolinearity\n",
    "* List of Variables:\n",
    "  * TOTEMP - Total Employment\n",
    "  * GNPDEFL - GNP deflator\n",
    "  * GNP - GNP\n",
    "  * UNEMP - Number of unemployed\n",
    "  * ARMED - Size of armed forces\n",
    "  * POP - Population\n",
    "  * YEAR - Year (1947 - 1962)\n",
    "  \n",
    "#### The pairplot shows that the variables are highly correlated "
   ]
  },
  {
   "cell_type": "code",
   "execution_count": 127,
   "metadata": {
    "school_cell_uuid": "aadd2e574b93481084586fb03d77c10d"
   },
   "outputs": [
    {
     "data": {
      "image/png": "[encoded data removed]",
      "text/plain": [
       "<matplotlib.figure.Figure at 0x1122bb358>"
      ]
     },
     "metadata": {},
     "output_type": "display_data"
    }
   ],
   "source": [
    "from statsmodels.datasets.longley import load_pandas\n",
    "dfy = load_pandas().endog\n",
    "dfX = load_pandas().exog\n",
    "df = pd.concat([dfy, dfX], axis=1)\n",
    "sns.pairplot(dfX)\n",
    "plt.show()"
   ]
  },
  {
   "cell_type": "markdown",
   "metadata": {
    "school_cell_uuid": "c841c501e568441cb4c52f83b5a9781a"
   },
   "source": [
    "#### Correlation coefficients are also very high"
   ]
  },
  {
   "cell_type": "code",
   "execution_count": 97,
   "metadata": {
    "school_cell_uuid": "9924b7eb04564c048ee6a3415d7dffbc"
   },
   "outputs": [
    {
     "data": {
      "image/png": "[encoded data removed]",
      "text/plain": [
       "<matplotlib.figure.Figure at 0x10ae2fa90>"
      ]
     },
     "metadata": {},
     "output_type": "display_data"
    }
   ],
   "source": [
    "cmap = sns.light_palette(\"darkgray\", as_cmap=True)\n",
    "sns.heatmap(dfX.corr(), annot=True, cmap=cmap)\n",
    "plt.show()"
   ]
  },
  {
   "cell_type": "markdown",
   "metadata": {
    "school_cell_uuid": "f90f706b6ffa45138190a9ba182d1642"
   },
   "source": [
    "#### First, reduce conditional number by scaling the variables"
   ]
  },
  {
   "cell_type": "code",
   "execution_count": 128,
   "metadata": {
    "school_cell_uuid": "a4bfb709415740efbb05407f7b8df243",
    "scrolled": false
   },
   "outputs": [
    {
     "name": "stdout",
     "output_type": "stream",
     "text": [
      "                            OLS Regression Results                            \n",
      "==============================================================================\n",
      "Dep. Variable:                 TOTEMP   R-squared:                       0.995\n",
      "Model:                            OLS   Adj. R-squared:                  0.992\n",
      "Method:                 Least Squares   F-statistic:                     330.3\n",
      "Date:                Thu, 26 Jul 2018   Prob (F-statistic):           4.98e-10\n",
      "Time:                        01:13:34   Log-Likelihood:                -109.62\n",
      "No. Observations:                  16   AIC:                             233.2\n",
      "Df Residuals:                       9   BIC:                             238.6\n",
      "Df Model:                           6                                         \n",
      "Covariance Type:            nonrobust                                         \n",
      "==================================================================================\n",
      "                     coef    std err          t      P>|t|      [0.025      0.975]\n",
      "----------------------------------------------------------------------------------\n",
      "Intercept       6.532e+04     76.214    857.026      0.000    6.51e+04    6.55e+04\n",
      "scale(GNPDEFL)   157.3796    887.266      0.177      0.863   -1849.755    2164.514\n",
      "scale(POP)      -344.1972   1522.652     -0.226      0.826   -3788.675    3100.281\n",
      "scale(GNP)     -3447.1925   3223.132     -1.070      0.313   -1.07e+04    3844.039\n",
      "scale(YEAR)     8431.9716   2099.652      4.016      0.003    3682.229    1.32e+04\n",
      "scale(ARMED)    -696.2102    144.382     -4.822      0.001   -1022.826    -369.594\n",
      "scale(UNEMP)   -1827.8860    441.900     -4.136      0.003   -2827.533    -828.239\n",
      "==============================================================================\n",
      "Omnibus:                        0.749   Durbin-Watson:                   2.559\n",
      "Prob(Omnibus):                  0.688   Jarque-Bera (JB):                0.684\n",
      "Skew:                           0.420   Prob(JB):                        0.710\n",
      "Kurtosis:                       2.434   Cond. No.                         111.\n",
      "==============================================================================\n",
      "\n",
      "Warnings:\n",
      "[1] Standard Errors assume that the covariance matrix of the errors is correctly specified.\n"
     ]
    }
   ],
   "source": [
    "model = sm.OLS.from_formula(\"TOTEMP ~ \"\n",
    "                            \"scale(GNPDEFL) + scale(POP) + scale(GNP) + \"\n",
    "                            \"scale(YEAR) + scale(ARMED) + scale(UNEMP)\", data=df)\n",
    "result = model.fit()\n",
    "print(result.summary())"
   ]
  },
  {
   "cell_type": "markdown",
   "metadata": {
    "school_cell_uuid": "7955f03cfd8349baae3f1a2b0f20e680"
   },
   "source": [
    "#### Possible Solutions include:\n",
    "* Delete some variables\n",
    "* PCA\n",
    "* Regularization"
   ]
  },
  {
   "cell_type": "markdown",
   "metadata": {
    "collapsed": true,
    "school_cell_uuid": "cbd44b9f96144badb2574c2d88d0a78e"
   },
   "source": [
    "## 4.6. Remove Dependent Variables - VIF\n",
    "* VIF(Variance Inflation Factor) - Compare the performance of `\"x_i ~ other variables\"` for different $i$\n",
    "* Smaller the better\n",
    "\n",
    "$$ \\text{VIF}_i = \\frac{\\sigma^2}{(n-1)\\text{Var}[X_i]}\\cdot \\frac{1}{1-R_i^2} $$"
   ]
  },
  {
   "cell_type": "markdown",
   "metadata": {
    "school_cell_uuid": "f0a8e450d7864ea99e96c66500c80bd6"
   },
   "source": [
    "#### Use `variance_inflation_factor` command in `StatsModels`\n",
    "* Based on VIF, choose GNP, ARMED, UNEMP $\\rightarrow$ achieve similar performance"
   ]
  },
  {
   "cell_type": "code",
   "execution_count": 134,
   "metadata": {
    "school_cell_uuid": "7983ab2e6a554e068976b306c374ade2"
   },
   "outputs": [
    {
     "data": {
      "text/html": [
       "<div>\n",
       "<style scoped>\n",
       "    .dataframe tbody tr th:only-of-type {\n",
       "        vertical-align: middle;\n",
       "    }\n",
       "\n",
       "    .dataframe tbody tr th {\n",
       "        vertical-align: top;\n",
       "    }\n",
       "\n",
       "    .dataframe thead th {\n",
       "        text-align: right;\n",
       "    }\n",
       "</style>\n",
       "<table border=\"1\" class=\"dataframe\">\n",
       "  <thead>\n",
       "    <tr style=\"text-align: right;\">\n",
       "      <th></th>\n",
       "      <th>VIF Factor</th>\n",
       "      <th>features</th>\n",
       "    </tr>\n",
       "  </thead>\n",
       "  <tbody>\n",
       "    <tr>\n",
       "      <th>0</th>\n",
       "      <td>12425.514335</td>\n",
       "      <td>GNPDEFL</td>\n",
       "    </tr>\n",
       "    <tr>\n",
       "      <th>1</th>\n",
       "      <td>10290.435437</td>\n",
       "      <td>GNP</td>\n",
       "    </tr>\n",
       "    <tr>\n",
       "      <th>2</th>\n",
       "      <td>136.224354</td>\n",
       "      <td>UNEMP</td>\n",
       "    </tr>\n",
       "    <tr>\n",
       "      <th>3</th>\n",
       "      <td>39.983386</td>\n",
       "      <td>ARMED</td>\n",
       "    </tr>\n",
       "    <tr>\n",
       "      <th>4</th>\n",
       "      <td>101193.161993</td>\n",
       "      <td>POP</td>\n",
       "    </tr>\n",
       "    <tr>\n",
       "      <th>5</th>\n",
       "      <td>84709.950443</td>\n",
       "      <td>YEAR</td>\n",
       "    </tr>\n",
       "  </tbody>\n",
       "</table>\n",
       "</div>"
      ],
      "text/plain": [
       "      VIF Factor features\n",
       "0   12425.514335  GNPDEFL\n",
       "1   10290.435437      GNP\n",
       "2     136.224354    UNEMP\n",
       "3      39.983386    ARMED\n",
       "4  101193.161993      POP\n",
       "5   84709.950443     YEAR"
      ]
     },
     "execution_count": 134,
     "metadata": {},
     "output_type": "execute_result"
    }
   ],
   "source": [
    "from statsmodels.stats.outliers_influence import variance_inflation_factor\n",
    "\n",
    "vif = pd.DataFrame()\n",
    "vif[\"VIF Factor\"] = [variance_inflation_factor(dfX.values, i) for i in range(dfX.shape[1])]\n",
    "vif[\"features\"] = dfX.columns\n",
    "vif"
   ]
  }
 ],
 "metadata": {
  "kernelspec": {
   "display_name": "Python 3",
   "language": "python",
   "name": "python3"
  },
  "language_info": {
   "codemirror_mode": {
    "name": "ipython",
    "version": 3
   },
   "file_extension": ".py",
   "mimetype": "text/x-python",
   "name": "python",
   "nbconvert_exporter": "python",
   "pygments_lexer": "ipython3",
   "version": "3.6.4"
  }
 },
 "nbformat": 4,
 "nbformat_minor": 2
}
