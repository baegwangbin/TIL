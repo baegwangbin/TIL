{
 "cells": [
  {
   "cell_type": "markdown",
   "metadata": {},
   "source": [
    "# Tensor Flow 01"
   ]
  },
  {
   "cell_type": "markdown",
   "metadata": {},
   "source": [
    "># 0. Introduction"
   ]
  },
  {
   "cell_type": "code",
   "execution_count": 1,
   "metadata": {
    "collapsed": true
   },
   "outputs": [],
   "source": [
    "import tensorflow as tf"
   ]
  },
  {
   "cell_type": "markdown",
   "metadata": {},
   "source": [
    "### 1. What is TF?\n",
    "* Framework designed to run Deep Learning models **efficiently**\n",
    "* Similar to Caffe, Torch, PyTorch, MXNet, CNTK, ...\n",
    "* Can be applied in Mobile, Backend, Cloud, RaspberryPi, Google Cloud Platform, ..."
   ]
  },
  {
   "cell_type": "markdown",
   "metadata": {},
   "source": [
    "### 2. Define and Run"
   ]
  },
  {
   "cell_type": "code",
   "execution_count": 2,
   "metadata": {
    "slideshow": {
     "slide_type": "fragment"
    }
   },
   "outputs": [
    {
     "name": "stdout",
     "output_type": "stream",
     "text": [
      "b'hello tensorflow!!'\n"
     ]
    }
   ],
   "source": [
    "# Define\n",
    "const = tf.constant('hello tensorflow!!')\n",
    "\n",
    "# Run\n",
    "with tf.Session() as sess:\n",
    "    _const = sess.run(const)\n",
    "    print(_const)"
   ]
  },
  {
   "cell_type": "markdown",
   "metadata": {
    "slideshow": {
     "slide_type": "slide"
    }
   },
   "source": [
    "### 3. Graph\n",
    "* 1) Define Tensor & Operator\n",
    "* 2) Define Graph (having tensor & operator as nodes)\n",
    "* 3) Run Graph as Session"
   ]
  },
  {
   "cell_type": "markdown",
   "metadata": {
    "slideshow": {
     "slide_type": "slide"
    }
   },
   "source": [
    "#### 3.1. Tensor"
   ]
  },
  {
   "cell_type": "code",
   "execution_count": 3,
   "metadata": {
    "slideshow": {
     "slide_type": "fragment"
    }
   },
   "outputs": [
    {
     "name": "stdout",
     "output_type": "stream",
     "text": [
      "Tensor(\"Const_1:0\", shape=(), dtype=string)\n",
      "Tensor(\"Const_2:0\", shape=(), dtype=int32)\n",
      "Tensor(\"Const_3:0\", shape=(), dtype=float32)\n"
     ]
    }
   ],
   "source": [
    "tf_string = tf.constant('hello tensorflow')\n",
    "tf_int = tf.constant(10)\n",
    "tf_float = tf.constant(3.14)\n",
    "\n",
    "print(tf_string)\n",
    "print(tf_int)\n",
    "print(tf_float)"
   ]
  },
  {
   "cell_type": "code",
   "execution_count": 4,
   "metadata": {},
   "outputs": [
    {
     "name": "stdout",
     "output_type": "stream",
     "text": [
      "Const_1:0\n",
      "()\n",
      "<dtype: 'string'>\n"
     ]
    }
   ],
   "source": [
    "print(tf_string.name)\n",
    "print(tf_string.shape)\n",
    "print(tf_string.dtype)"
   ]
  },
  {
   "cell_type": "markdown",
   "metadata": {
    "slideshow": {
     "slide_type": "slide"
    }
   },
   "source": [
    "#### 3.2. Operator"
   ]
  },
  {
   "cell_type": "code",
   "execution_count": 14,
   "metadata": {
    "slideshow": {
     "slide_type": "fragment"
    }
   },
   "outputs": [
    {
     "name": "stdout",
     "output_type": "stream",
     "text": [
      "Tensor(\"MatMul_2:0\", shape=(1, 1), dtype=int32)\n"
     ]
    }
   ],
   "source": [
    "one = tf.constant([[1, 1, 1]])\n",
    "two = tf.constant([[2], [2], [2]])\n",
    "\n",
    "matmul = tf.matmul(one, two)\n",
    "print(matmul)"
   ]
  },
  {
   "cell_type": "markdown",
   "metadata": {},
   "source": [
    "#### 3.3. Session"
   ]
  },
  {
   "cell_type": "code",
   "execution_count": 6,
   "metadata": {
    "scrolled": true
   },
   "outputs": [
    {
     "name": "stdout",
     "output_type": "stream",
     "text": [
      "b'hello tensorflow'\n",
      "10\n",
      "3.14\n"
     ]
    }
   ],
   "source": [
    "with tf.Session() as sess:\n",
    "    _tf_string = sess.run(tf_string)\n",
    "    _tf_int = sess.run(tf_int)\n",
    "    _tf_float = sess.run(tf_float)\n",
    "    \n",
    "    print(_tf_string)\n",
    "    print(_tf_int)\n",
    "    print(_tf_float)"
   ]
  },
  {
   "cell_type": "code",
   "execution_count": 9,
   "metadata": {
    "slideshow": {
     "slide_type": "subslide"
    }
   },
   "outputs": [
    {
     "name": "stdout",
     "output_type": "stream",
     "text": [
      "[[6]]\n"
     ]
    }
   ],
   "source": [
    "with tf.Session() as sess:\n",
    "    _matmul = sess.run(matmul)\n",
    "    print(_matmul)"
   ]
  },
  {
   "cell_type": "code",
   "execution_count": 15,
   "metadata": {
    "slideshow": {
     "slide_type": "subslide"
    }
   },
   "outputs": [
    {
     "name": "stdout",
     "output_type": "stream",
     "text": [
      "[[1 1 1]]\n",
      "[[2]\n",
      " [2]\n",
      " [2]]\n",
      "[[6]]\n"
     ]
    }
   ],
   "source": [
    "with tf.Session() as sess:\n",
    "    _one, _two, _matmul = sess.run([one, two, matmul])\n",
    "    print(_one)\n",
    "    print(_two)\n",
    "    print(_matmul)"
   ]
  },
  {
   "cell_type": "markdown",
   "metadata": {
    "slideshow": {
     "slide_type": "slide"
    }
   },
   "source": [
    "### 4. constant\n",
    "* Unchangeable Data"
   ]
  },
  {
   "cell_type": "code",
   "execution_count": 17,
   "metadata": {
    "slideshow": {
     "slide_type": "fragment"
    }
   },
   "outputs": [
    {
     "name": "stdout",
     "output_type": "stream",
     "text": [
      "10\n"
     ]
    }
   ],
   "source": [
    "const = tf.constant(10)\n",
    "\n",
    "with tf.Session() as sess:\n",
    "    print(sess.run(const))"
   ]
  },
  {
   "cell_type": "markdown",
   "metadata": {
    "slideshow": {
     "slide_type": "slide"
    }
   },
   "source": [
    "### 5. placeholder\n",
    "* Used to treat large dataset"
   ]
  },
  {
   "cell_type": "code",
   "execution_count": 16,
   "metadata": {
    "slideshow": {
     "slide_type": "fragment"
    }
   },
   "outputs": [
    {
     "name": "stdout",
     "output_type": "stream",
     "text": [
      "[ 1.  2.  3.  4.  5.]\n"
     ]
    }
   ],
   "source": [
    "data = [1, 2, 3, 4, 5]\n",
    "pl_data = tf.placeholder(tf.float32)\n",
    "\n",
    "with tf.Session() as sess:\n",
    "    print(sess.run(pl_data, {pl_data: data}))\n",
    "    # fetch & feeding"
   ]
  },
  {
   "cell_type": "markdown",
   "metadata": {
    "slideshow": {
     "slide_type": "slide"
    }
   },
   "source": [
    "### 6. Variable\n",
    "* Weight"
   ]
  },
  {
   "cell_type": "code",
   "execution_count": 18,
   "metadata": {
    "slideshow": {
     "slide_type": "fragment"
    }
   },
   "outputs": [
    {
     "name": "stdout",
     "output_type": "stream",
     "text": [
      "10\n"
     ]
    }
   ],
   "source": [
    "var = tf.Variable(10)\n",
    "\n",
    "with tf.Session() as sess:\n",
    "    sess.run(tf.global_variables_initializer())\n",
    "    print(sess.run(var))"
   ]
  },
  {
   "cell_type": "code",
   "execution_count": 24,
   "metadata": {},
   "outputs": [
    {
     "name": "stdout",
     "output_type": "stream",
     "text": [
      "10\n"
     ]
    }
   ],
   "source": [
    "var = tf.Variable(10)\n",
    "\n",
    "with tf.Session() as sess:\n",
    "    sess.run(tf.global_variables_initializer())\n",
    "    print(sess.run(var))"
   ]
  },
  {
   "cell_type": "markdown",
   "metadata": {
    "slideshow": {
     "slide_type": "slide"
    }
   },
   "source": [
    "># 1. Tutorials"
   ]
  },
  {
   "cell_type": "markdown",
   "metadata": {
    "slideshow": {
     "slide_type": "slide"
    }
   },
   "source": [
    "### 1. Linear Regression\n",
    "#### 1.1. Scenarios\n",
    "* 1) Generate Data\n",
    "* 2) Build Model\n",
    "* 3) Train Model\n",
    "  * Calculate Loss Function\n",
    "  * Gradient Descent Optimizer\n",
    "  * Tune Learning Rate"
   ]
  },
  {
   "cell_type": "markdown",
   "metadata": {
    "slideshow": {
     "slide_type": "slide"
    }
   },
   "source": [
    "#### 1.2. Implemetation"
   ]
  },
  {
   "cell_type": "code",
   "execution_count": 26,
   "metadata": {
    "collapsed": true
   },
   "outputs": [],
   "source": [
    "import tensorflow as tf\n",
    "import numpy as np\n",
    "import matplotlib.pyplot as plt\n",
    "%matplotlib inline"
   ]
  },
  {
   "cell_type": "code",
   "execution_count": 28,
   "metadata": {
    "collapsed": true
   },
   "outputs": [],
   "source": [
    "# Generate Data\n",
    "samples = 1000\n",
    "data = np.array([1e-3*float(i) for i in range(samples)])"
   ]
  },
  {
   "cell_type": "code",
   "execution_count": 68,
   "metadata": {
    "collapsed": true
   },
   "outputs": [],
   "source": [
    "label = 10. * data + 2. + np.random.randn(samples)\n",
    "target = 10. * data + 2."
   ]
  },
  {
   "cell_type": "code",
   "execution_count": 72,
   "metadata": {},
   "outputs": [
    {
     "data": {
      "text/plain": [
       "<matplotlib.collections.PathCollection at 0x7ff7a49b4da0>"
      ]
     },
     "execution_count": 72,
     "metadata": {},
     "output_type": "execute_result"
    },
    {
     "data": {
      "image/png": "[encoded data removed]",
      "text/plain": [
       "<matplotlib.figure.Figure at 0x7ff7a4903860>"
      ]
     },
     "metadata": {},
     "output_type": "display_data"
    },
    {
     "data": {
      "image/png": "[encoded data removed]",
      "text/plain": [
       "<matplotlib.figure.Figure at 0x7ff7a4a28a58>"
      ]
     },
     "metadata": {},
     "output_type": "display_data"
    }
   ],
   "source": [
    "plt.figure(11)\n",
    "plt.ylim(-2, 16)\n",
    "plt.title('label')\n",
    "plt.scatter(data, label, 1, 'r')\n",
    "\n",
    "plt.figure(21)\n",
    "plt.ylim(-2, 16)\n",
    "plt.title('target')\n",
    "plt.scatter(data, target, 1, 'g')"
   ]
  },
  {
   "cell_type": "code",
   "execution_count": 73,
   "metadata": {
    "collapsed": true,
    "slideshow": {
     "slide_type": "subslide"
    }
   },
   "outputs": [],
   "source": [
    "# Define Placeholders\n",
    "x = tf.placeholder(tf.float32)\n",
    "y_ = tf.placeholder(tf.float32)"
   ]
  },
  {
   "cell_type": "code",
   "execution_count": 85,
   "metadata": {
    "collapsed": true
   },
   "outputs": [],
   "source": [
    "# Define Parameters\n",
    "w = tf.Variable(0.0, dtype=tf.float32)\n",
    "b = tf.Variable(0.0, dtype=tf.float32)"
   ]
  },
  {
   "cell_type": "code",
   "execution_count": 86,
   "metadata": {
    "collapsed": true
   },
   "outputs": [],
   "source": [
    "# Define Model\n",
    "y = w * x + b"
   ]
  },
  {
   "cell_type": "code",
   "execution_count": 87,
   "metadata": {
    "collapsed": true
   },
   "outputs": [],
   "source": [
    "# Define Loss\n",
    "loss = tf.losses.mean_squared_error(y_,y)\n",
    "train_op = tf.train.GradientDescentOptimizer(1e-2).minimize(loss)"
   ]
  },
  {
   "cell_type": "code",
   "execution_count": 90,
   "metadata": {},
   "outputs": [
    {
     "name": "stdout",
     "output_type": "stream",
     "text": [
      "step:0, loss:58.61532211303711, weight:0.08679179847240448, bias:0.1403215527534485\n",
      "step:100, loss:4.483210563659668, weight:3.7005393505096436, bias:4.838479042053223\n",
      "step:200, loss:3.441591739654541, weight:4.6634039878845215, bias:4.832753658294678\n",
      "step:300, loss:2.880180835723877, weight:5.338200092315674, bias:4.511054039001465\n",
      "step:400, loss:2.450118064880371, weight:5.916772365570068, bias:4.204711437225342\n",
      "step:500, loss:2.1196024417877197, weight:6.4229912757873535, bias:3.9342846870422363\n",
      "step:600, loss:1.8655823469161987, weight:6.866703510284424, bias:3.697066068649292\n",
      "step:700, loss:1.6703537702560425, weight:7.25568962097168, bias:3.48909068107605\n",
      "step:800, loss:1.5203133821487427, weight:7.596696376800537, bias:3.3067657947540283\n",
      "step:900, loss:1.4049988985061646, weight:7.89564847946167, bias:3.1469271183013916\n",
      "step:1000, loss:1.3163728713989258, weight:8.157733917236328, bias:3.006800651550293\n"
     ]
    },
    {
     "data": {
      "image/png": "[encoded data removed]",
      "text/plain": [
       "<matplotlib.figure.Figure at 0x7ff7a47d37f0>"
      ]
     },
     "metadata": {},
     "output_type": "display_data"
    }
   ],
   "source": [
    "# Run\n",
    "with tf.Session() as sess:\n",
    "    sess.run(tf.global_variables_initializer())\n",
    "    _loss_ = []\n",
    "    plt.scatter(data, label, 1, 'g')\n",
    "    plt.scatter(data, target, 1, 'b')\n",
    "    for i in range(1001):\n",
    "        _, _loss, _w, _b = sess.run([train_op, loss, w, b], feed_dict={x: data, y_: label})\n",
    "        _loss_.append(_loss)\n",
    "        if i%100 == 0:\n",
    "            print('step:{}, loss:{}, weight:{}, bias:{}'.format(i, _loss, _w, _b))\n",
    "            _pred = sess.run(y, {x: data})\n",
    "            plt.scatter(data, _pred, 1, 'r')"
   ]
  },
  {
   "cell_type": "code",
   "execution_count": 83,
   "metadata": {},
   "outputs": [
    {
     "data": {
      "text/plain": [
       "[<matplotlib.lines.Line2D at 0x7ff7a4722438>]"
      ]
     },
     "execution_count": 83,
     "metadata": {},
     "output_type": "execute_result"
    },
    {
     "data": {
      "image/png": "[encoded data removed]",
      "text/plain": [
       "<matplotlib.figure.Figure at 0x7ff7a4f7bf98>"
      ]
     },
     "metadata": {},
     "output_type": "display_data"
    }
   ],
   "source": [
    "plt.plot(_loss_)"
   ]
  },
  {
   "cell_type": "markdown",
   "metadata": {
    "slideshow": {
     "slide_type": "slide"
    }
   },
   "source": [
    "### 2. Logistic Regression\n",
    "#### 2.1. Scenarios\n",
    "* 1) Generate Data\n",
    "* 2) Build Model\n",
    "  * Label: 0 or 1\n",
    "  * Use Sigmoid Function\n",
    "* 3) Train Model\n",
    "  * Calculate Loss Function - cross entropy"
   ]
  },
  {
   "cell_type": "markdown",
   "metadata": {},
   "source": [
    "#### 2.2. Implementation"
   ]
  },
  {
   "cell_type": "code",
   "execution_count": 101,
   "metadata": {
    "collapsed": true
   },
   "outputs": [],
   "source": [
    "import tensorflow as tf\n",
    "import numpy as np\n",
    "import matplotlib.pyplot as plt\n",
    "%matplotlib inline"
   ]
  },
  {
   "cell_type": "code",
   "execution_count": 102,
   "metadata": {},
   "outputs": [
    {
     "data": {
      "text/plain": [
       "<matplotlib.collections.PathCollection at 0x7ff79ff2ccc0>"
      ]
     },
     "execution_count": 102,
     "metadata": {},
     "output_type": "execute_result"
    },
    {
     "data": {
      "image/png": "[encoded data removed]",
      "text/plain": [
       "<matplotlib.figure.Figure at 0x7ff79ffa8fd0>"
      ]
     },
     "metadata": {},
     "output_type": "display_data"
    }
   ],
   "source": [
    "# Generate Data\n",
    "samples = 1000\n",
    "data = [1e-2*float(i) for i in range(-samples, samples)]\n",
    "label = [1 if i > 3.14 else 0 for i in range(-samples, samples)]\n",
    "plt.grid(False)\n",
    "plt.scatter(data, label, 1, 'r')"
   ]
  },
  {
   "cell_type": "code",
   "execution_count": 103,
   "metadata": {
    "collapsed": true
   },
   "outputs": [],
   "source": [
    "# Build Model\n",
    "\n",
    "x = tf.placeholder(tf.float32)\n",
    "y_ = tf.placeholder(tf.float32)\n",
    "\n",
    "w = tf.Variable(0.0, dtype=tf.float32)\n",
    "b = tf.Variable(0.0, dtype=tf.float32)\n",
    "\n",
    "y = w * x + b"
   ]
  },
  {
   "cell_type": "code",
   "execution_count": 104,
   "metadata": {},
   "outputs": [
    {
     "name": "stdout",
     "output_type": "stream",
     "text": [
      "INFO:tensorflow:logits.dtype=<dtype: 'float32'>.\n"
     ]
    },
    {
     "name": "stderr",
     "output_type": "stream",
     "text": [
      "INFO:tensorflow:logits.dtype=<dtype: 'float32'>.\n"
     ]
    },
    {
     "name": "stdout",
     "output_type": "stream",
     "text": [
      "INFO:tensorflow:multi_class_labels.dtype=<dtype: 'float32'>.\n"
     ]
    },
    {
     "name": "stderr",
     "output_type": "stream",
     "text": [
      "INFO:tensorflow:multi_class_labels.dtype=<dtype: 'float32'>.\n"
     ]
    },
    {
     "name": "stdout",
     "output_type": "stream",
     "text": [
      "INFO:tensorflow:losses.dtype=<dtype: 'float32'>.\n"
     ]
    },
    {
     "name": "stderr",
     "output_type": "stream",
     "text": [
      "INFO:tensorflow:losses.dtype=<dtype: 'float32'>.\n"
     ]
    }
   ],
   "source": [
    "# Train Model\n",
    "\n",
    "loss = tf.losses.sigmoid_cross_entropy(y_, y)\n",
    "train_op = tf.train.GradientDescentOptimizer(1e-2).minimize(loss)"
   ]
  },
  {
   "cell_type": "code",
   "execution_count": 125,
   "metadata": {},
   "outputs": [
    {
     "name": "stdout",
     "output_type": "stream",
     "text": [
      "step: 0, loss: 0.6931459307670593\n",
      "step: 100, loss: 0.13942132890224457\n",
      "step: 200, loss: 0.10745800286531448\n",
      "step: 300, loss: 0.09289433062076569\n",
      "step: 400, loss: 0.0839526578783989\n",
      "step: 500, loss: 0.07768645137548447\n",
      "step: 600, loss: 0.07295096665620804\n",
      "step: 700, loss: 0.06919293105602264\n",
      "step: 800, loss: 0.06610629707574844\n",
      "step: 900, loss: 0.06350595504045486\n"
     ]
    },
    {
     "data": {
      "image/png": "[encoded data removed]",
      "text/plain": [
       "<matplotlib.figure.Figure at 0x7ff7a4a93cf8>"
      ]
     },
     "metadata": {},
     "output_type": "display_data"
    }
   ],
   "source": [
    "# Run\n",
    "\n",
    "with tf.Session() as sess:\n",
    "    sess.run(tf.global_variables_initializer())\n",
    "    _loss_ = []\n",
    "    for i in range(1000):\n",
    "        _, _loss = sess.run([train_op, loss], feed_dict={x: data, y_:label})\n",
    "        _loss_.append(_loss)\n",
    "        if i%100 == 0:\n",
    "            _pred = sess.run(tf.nn.sigmoid(y), {x: data})\n",
    "            plt.scatter(data, label, 1, 'b')\n",
    "            plt.scatter(data, _pred, 1, 'r')\n",
    "            print(\"step: {}, loss: {}\".format(i, _loss))"
   ]
  },
  {
   "cell_type": "code",
   "execution_count": 124,
   "metadata": {},
   "outputs": [
    {
     "data": {
      "text/plain": [
       "[<matplotlib.lines.Line2D at 0x7ff79f62dc88>]"
      ]
     },
     "execution_count": 124,
     "metadata": {},
     "output_type": "execute_result"
    },
    {
     "data": {
      "image/png": "[encoded data removed]",
      "text/plain": [
       "<matplotlib.figure.Figure at 0x7ff79f6be588>"
      ]
     },
     "metadata": {},
     "output_type": "display_data"
    }
   ],
   "source": [
    "plt.plot(_loss_)"
   ]
  }
 ],
 "metadata": {
  "kernelspec": {
   "display_name": "Python 3",
   "language": "python",
   "name": "python3"
  },
  "language_info": {
   "codemirror_mode": {
    "name": "ipython",
    "version": 3
   },
   "file_extension": ".py",
   "mimetype": "text/x-python",
   "name": "python",
   "nbconvert_exporter": "python",
   "pygments_lexer": "ipython3",
   "version": "3.6.2"
  }
 },
 "nbformat": 4,
 "nbformat_minor": 2
}
