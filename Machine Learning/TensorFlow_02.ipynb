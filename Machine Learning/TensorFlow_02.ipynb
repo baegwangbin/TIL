{
 "cells": [
  {
   "cell_type": "markdown",
   "metadata": {},
   "source": [
    "># 2. FFNN - Fast Forward Neural Networks\n",
    "* Simplest NN model\n",
    "* Input - (hidden) - Output"
   ]
  },
  {
   "cell_type": "markdown",
   "metadata": {},
   "source": [
    "### Scenario\n",
    "1. Read Data\n",
    "1. Build Model\n",
    "1. Model Save & Restore\n",
    "1. Tensorboard"
   ]
  },
  {
   "cell_type": "markdown",
   "metadata": {},
   "source": [
    "### Theory"
   ]
  },
  {
   "cell_type": "markdown",
   "metadata": {},
   "source": [
    "* Input $\\rightarrow$ Output\n",
    "$$ y_0 = w_{00}x_0 + w_{01}x_1 + w_{02}x_2 + w_{03}x_3 ... w_{0n}x_n $$\n",
    "$$ y_1 = w_{10}x_0 + w_{11}x_1 + w_{12}x_2 + w_{13}x_3 ... w_{1n}x_n $$\n",
    "$$ y_2 = w_{20}w_0 + w_{21}x_1 + w_{22}x_2 + w_{23}x_3 ... w_{2n}x_n $$\n",
    "$$ y_3 = w_{30}w_0 + w_{31}x_1 + w_{32}x_2 + w_{33}x_3 ... w_{3n}x_n $$\n",
    "$$...$$\n",
    "$$ y_m = w_{m0}x_0 + w_{m1}x_1 + w_{m2}x_2 + w_{m3}x_3 ... w_{mn}x_n $$"
   ]
  },
  {
   "cell_type": "markdown",
   "metadata": {},
   "source": [
    "$$ \\begin{bmatrix} y_0\\\\y_1\\\\y_2\\\\y_3\\\\...\\\\y_m \\end{bmatrix} = \\begin{bmatrix} w_{00}&w_{01}&w_{02}&w_{03}&...&w_{0n} \\\\ w_{10}&w_{11}&w_{12}&w_{13}&...&w_{1n} \\\\ w_{20}&w_{21}&w_{22}&w_{23}&...&w_{2n} \\\\ w_{30}&w_{31}&w_{32}&w_{33}&...&w_{3n} \\\\ ...&...&...&...&...&... \\\\ w_{m0}&w_{m1}&w_{m2}&w_{m3}&...&w_{mn} \\end{bmatrix} \\begin{bmatrix} x_0\\\\x_1\\\\x_2\\\\x_3\\\\...\\\\x_n \\end{bmatrix} $$\n",
    "$$$$\n",
    "$$ Y = W^TX $$"
   ]
  },
  {
   "cell_type": "markdown",
   "metadata": {},
   "source": [
    "* Output $\\rightarrow$ Input\n",
    "\n",
    "$$ h = \\sigma(W^TX) $$\n",
    "$$$$\n",
    "$$ \\sigma(x) = \\frac{1}{1 + e^{-(wx + b)}} $$"
   ]
  },
  {
   "cell_type": "markdown",
   "metadata": {},
   "source": [
    "># 2.1. Implementation - Binary Classification"
   ]
  },
  {
   "cell_type": "markdown",
   "metadata": {},
   "source": [
    "### Import"
   ]
  },
  {
   "cell_type": "code",
   "execution_count": 1,
   "metadata": {
    "collapsed": true
   },
   "outputs": [],
   "source": [
    "import tensorflow as tf\n",
    "import numpy as np\n",
    "import matplotlib.pyplot as plt\n",
    "%matplotlib inline\n",
    "\n",
    "import csv"
   ]
  },
  {
   "cell_type": "markdown",
   "metadata": {},
   "source": [
    "### Generate Data"
   ]
  },
  {
   "cell_type": "code",
   "execution_count": 2,
   "metadata": {},
   "outputs": [
    {
     "name": "stdout",
     "output_type": "stream",
     "text": [
      "train data is written\n",
      "test data is written\n"
     ]
    }
   ],
   "source": [
    "samples = 1000\n",
    "test_samples = 100\n",
    "train_dataset = './dataset/train_dataset.csv'\n",
    "test_dataset = './dataset/test_dataset.csv'\n",
    "\n",
    "def write_dataset(samples, test_samples, train_dir, test_dir):\n",
    "    up = [i for i in range(10)]\n",
    "    down = [9-i for i in range(10)]\n",
    "\n",
    "    data = []\n",
    "    label = []\n",
    "    for i in range(samples):\n",
    "        data.append(up)\n",
    "        data.append(down)\n",
    "        label.append([1])\n",
    "        label.append([0])\n",
    "\n",
    "    with open(train_dataset, 'w') as csvfile:\n",
    "        writer = csv.writer(csvfile)\n",
    "        for i in range(samples-test_samples):\n",
    "            writer.writerow(label[i] + data[i])\n",
    "        print('train data is written')\n",
    "\n",
    "    with open(test_dataset, 'w') as csvfile:\n",
    "        writer = csv.writer(csvfile)\n",
    "        for i in range(test_samples):\n",
    "            writer.writerow(label[i] + data[i])\n",
    "        print('test data is written')\n",
    "        \n",
    "write_dataset(1000, 100, train_dataset, test_dataset)"
   ]
  },
  {
   "cell_type": "markdown",
   "metadata": {},
   "source": [
    "### Create Dataset\n",
    "* Put filepath / Set batch size / Shuffle with random seed"
   ]
  },
  {
   "cell_type": "code",
   "execution_count": 3,
   "metadata": {
    "collapsed": true
   },
   "outputs": [],
   "source": [
    "dataset = tf.contrib.data.TextLineDataset(train_dataset)\n",
    "dataset = dataset.batch(32)\n",
    "dataset = dataset.shuffle(77)\n",
    "dataset = dataset.repeat(100)"
   ]
  },
  {
   "cell_type": "markdown",
   "metadata": {},
   "source": [
    "### Create Session"
   ]
  },
  {
   "cell_type": "code",
   "execution_count": 4,
   "metadata": {
    "collapsed": true
   },
   "outputs": [],
   "source": [
    "itr = dataset.make_one_shot_iterator()\n",
    "\n",
    "batch = itr.get_next()\n",
    "\n",
    "# record_defaults: in case of empty data, fill with record_defaults\n",
    "decoded_batch = tf.decode_csv(batch, record_defaults=[[0]]*11)"
   ]
  },
  {
   "cell_type": "markdown",
   "metadata": {},
   "source": [
    "### Reshape & Cast"
   ]
  },
  {
   "cell_type": "code",
   "execution_count": 5,
   "metadata": {
    "collapsed": true
   },
   "outputs": [],
   "source": [
    "# Reshape\n",
    "label = tf.reshape(decoded_batch[0], [-1, 1])\n",
    "label = tf.expand_dims(decoded_batch[0], axis=-1)\n",
    "feature = tf.stack(decoded_batch[1:], axis=1)\n",
    "\n",
    "# Cast\n",
    "label = tf.cast(label, tf.float32)\n",
    "feature = tf.cast(feature, tf.float32)"
   ]
  },
  {
   "cell_type": "markdown",
   "metadata": {},
   "source": [
    "### Create Layers\n",
    "* units: no. of nodes"
   ]
  },
  {
   "cell_type": "code",
   "execution_count": 6,
   "metadata": {
    "collapsed": true
   },
   "outputs": [],
   "source": [
    "def bin_model(x, activation=None, reuse=False):\n",
    "    layer1 = tf.layers.dense(x, units=9, activation=activation, reuse=reuse, name='layer1')\n",
    "    layer2 = tf.layers.dense(layer1, units=7, activation=activation, reuse=reuse, name='layer2')\n",
    "    layer3 = tf.layers.dense(layer2, units=5, activation=activation, reuse=reuse, name='layer3')\n",
    "    layer4 = tf.layers.dense(layer3, units=3, activation=activation, reuse=reuse, name='layer4')\n",
    "    out = tf.layers.dense(layer4, units=1, reuse=reuse, name='out')\n",
    "    return out\n",
    "        \n",
    "out = bin_model(feature, activation=tf.nn.relu)"
   ]
  },
  {
   "cell_type": "markdown",
   "metadata": {},
   "source": [
    "### Define loss & train_op"
   ]
  },
  {
   "cell_type": "code",
   "execution_count": 7,
   "metadata": {},
   "outputs": [
    {
     "name": "stdout",
     "output_type": "stream",
     "text": [
      "INFO:tensorflow:logits.dtype=<dtype: 'float32'>.\n",
      "INFO:tensorflow:multi_class_labels.dtype=<dtype: 'float32'>.\n",
      "INFO:tensorflow:losses.dtype=<dtype: 'float32'>.\n"
     ]
    }
   ],
   "source": [
    "loss = tf.losses.sigmoid_cross_entropy(label, out)\n",
    "train_op = tf.train.GradientDescentOptimizer(1e-2).minimize(loss)"
   ]
  },
  {
   "cell_type": "markdown",
   "metadata": {},
   "source": [
    "### Run Session"
   ]
  },
  {
   "cell_type": "code",
   "execution_count": 8,
   "metadata": {},
   "outputs": [
    {
     "name": "stdout",
     "output_type": "stream",
     "text": [
      "step: 0, loss: 0.9482421278953552\n",
      "step: 10, loss: 0.7128403186798096\n",
      "step: 20, loss: 0.6632524132728577\n",
      "step: 30, loss: 0.6068441867828369\n",
      "step: 40, loss: 0.5468055009841919\n",
      "step: 50, loss: 0.4955664277076721\n",
      "step: 60, loss: 0.44572773575782776\n",
      "step: 70, loss: 0.35237836837768555\n",
      "step: 80, loss: 0.3364059031009674\n",
      "step: 90, loss: 0.33025437593460083\n",
      "step: 100, loss: 0.32187265157699585\n"
     ]
    },
    {
     "data": {
      "image/png": "[encoded data removed]",
      "text/plain": [
       "<matplotlib.figure.Figure at 0x7fac05b2a630>"
      ]
     },
     "metadata": {},
     "output_type": "display_data"
    }
   ],
   "source": [
    "with tf.Session() as sess:\n",
    "    sess.run(tf.global_variables_initializer())\n",
    "    _loss_ = []\n",
    "    for i in range(101):\n",
    "        _, _loss = sess.run([train_op, loss])\n",
    "        _loss_.append(_loss)\n",
    "        if i%10 == 0:\n",
    "            print('step: {}, loss: {}'.format(i, _loss))\n",
    "        \n",
    "    plt.plot(_loss_)"
   ]
  },
  {
   "cell_type": "markdown",
   "metadata": {},
   "source": [
    "### Test Data"
   ]
  },
  {
   "cell_type": "code",
   "execution_count": 9,
   "metadata": {
    "collapsed": true
   },
   "outputs": [],
   "source": [
    "t_dataset = tf.contrib.data.TextLineDataset(test_dataset).batch(32).shuffle(77).repeat(100)\n",
    "\n",
    "t_itr = t_dataset.make_one_shot_iterator()\n",
    "\n",
    "t_batch = t_itr.get_next()\n",
    "\n",
    "t_decoded_batch = tf.decode_csv(t_batch, record_defaults=[[0]]*11)"
   ]
  },
  {
   "cell_type": "code",
   "execution_count": 10,
   "metadata": {
    "collapsed": true
   },
   "outputs": [],
   "source": [
    "t_label = tf.reshape(t_decoded_batch[0], [-1, 1])\n",
    "t_feature = tf.stack(t_decoded_batch[1:], axis=1)\n",
    "\n",
    "t_label = tf.cast(t_label, tf.float32)\n",
    "t_feature = tf.cast(t_feature, tf.float32)"
   ]
  },
  {
   "cell_type": "code",
   "execution_count": 11,
   "metadata": {},
   "outputs": [
    {
     "name": "stdout",
     "output_type": "stream",
     "text": [
      "Tensor(\"Cast_2:0\", shape=(?, 1), dtype=float32)\n",
      "Tensor(\"Cast_3:0\", shape=(?, 10), dtype=float32)\n"
     ]
    }
   ],
   "source": [
    "print(t_label)\n",
    "print(t_feature)"
   ]
  },
  {
   "cell_type": "code",
   "execution_count": 12,
   "metadata": {
    "collapsed": true
   },
   "outputs": [],
   "source": [
    "t_out = bin_model(t_feature, activation=tf.nn.relu, reuse=True)\n",
    "\n",
    "pred = tf.nn.sigmoid(t_out)\n",
    "\n",
    "accuracy = tf.metrics.accuracy(t_label, tf.round(pred))"
   ]
  },
  {
   "cell_type": "markdown",
   "metadata": {},
   "source": [
    "### Save Model"
   ]
  },
  {
   "cell_type": "code",
   "execution_count": 13,
   "metadata": {
    "collapsed": true
   },
   "outputs": [],
   "source": [
    "saver = tf.train.Saver()"
   ]
  },
  {
   "cell_type": "markdown",
   "metadata": {},
   "source": [
    "### Visualize Log"
   ]
  },
  {
   "cell_type": "code",
   "execution_count": 18,
   "metadata": {
    "collapsed": true
   },
   "outputs": [],
   "source": [
    "tf.summary.scalar('loss', loss)\n",
    "\n",
    "merged = tf.summary.merge_all()"
   ]
  },
  {
   "cell_type": "markdown",
   "metadata": {},
   "source": [
    "### Check Accuracy"
   ]
  },
  {
   "cell_type": "code",
   "execution_count": 19,
   "metadata": {},
   "outputs": [
    {
     "name": "stdout",
     "output_type": "stream",
     "text": [
      "step: 0, loss: 0.95085209608078, accuracy: (0.0, 0.5)\n",
      "step: 10, loss: 0.39361414313316345, accuracy: (0.5, 0.5)\n",
      "step: 20, loss: 0.31506291031837463, accuracy: (0.69999999, 0.71804512)\n",
      "step: 30, loss: 0.2891136407852173, accuracy: (0.79619563, 0.8046875)\n",
      "step: 40, loss: 0.26506102085113525, accuracy: (0.85000002, 0.85465115)\n",
      "step: 50, loss: 0.24175995588302612, accuracy: (0.87864077, 0.8817035)\n",
      "step: 60, loss: 0.21771368384361267, accuracy: (0.89999998, 0.90208876)\n",
      "step: 70, loss: 0.1916748434305191, accuracy: (0.91496599, 0.91648108)\n",
      "step: 80, loss: 0.16408930718898773, accuracy: (0.92500001, 0.92618108)\n",
      "step: 90, loss: 0.1362316608428955, accuracy: (0.93374556, 0.93386245)\n",
      "step: 100, loss: 0.10992591083049774, accuracy: (0.94, 0.94075829)\n"
     ]
    }
   ],
   "source": [
    "with tf.Session() as sess:\n",
    "    sess.run(tf.global_variables_initializer())\n",
    "    sess.run(tf.local_variables_initializer()) # because of the accuracy\n",
    "    writer = tf.summary.FileWriter('./logs/', sess.graph)\n",
    "    for i in range(101):\n",
    "        _, _loss, _acc, _summary = sess.run([train_op, loss, accuracy, merged])\n",
    "        writer.add_summary(_summary, i)\n",
    "        if i%10 == 0:\n",
    "            print('step: {}, loss: {}, accuracy: {}'.format(i, _loss, _acc))\n",
    "            \n",
    "    saver.save(sess, './logs/ffnn')"
   ]
  },
  {
   "cell_type": "markdown",
   "metadata": {},
   "source": [
    "### See in Tensorboard\n",
    "```\n",
    "$ tensorboard -logdir=./logs\n",
    "```\n",
    "Go to Chrome / 6006"
   ]
  },
  {
   "cell_type": "markdown",
   "metadata": {},
   "source": [
    "### Restore"
   ]
  },
  {
   "cell_type": "code",
   "execution_count": 15,
   "metadata": {},
   "outputs": [
    {
     "name": "stdout",
     "output_type": "stream",
     "text": [
      "INFO:tensorflow:Restoring parameters from ./logs/ffnn\n",
      "[[  7.09242880e-01]\n",
      " [  8.00312864e-06]\n",
      " [  7.09242880e-01]\n",
      " [  8.00312864e-06]\n",
      " [  7.09242880e-01]\n",
      " [  8.00312864e-06]\n",
      " [  7.09242880e-01]\n",
      " [  8.00312864e-06]\n",
      " [  7.09242880e-01]\n",
      " [  8.00312864e-06]\n",
      " [  7.09242880e-01]\n",
      " [  8.00312864e-06]\n",
      " [  7.09242880e-01]\n",
      " [  8.00312864e-06]\n",
      " [  7.09242880e-01]\n",
      " [  8.00312864e-06]\n",
      " [  7.09242880e-01]\n",
      " [  8.00312864e-06]\n",
      " [  7.09242880e-01]\n",
      " [  8.00312864e-06]\n",
      " [  7.09242880e-01]\n",
      " [  8.00312864e-06]\n",
      " [  7.09242880e-01]\n",
      " [  8.00312864e-06]\n",
      " [  7.09242880e-01]\n",
      " [  8.00312864e-06]\n",
      " [  7.09242880e-01]\n",
      " [  8.00312864e-06]\n",
      " [  7.09242880e-01]\n",
      " [  8.00312864e-06]\n",
      " [  7.09242880e-01]\n",
      " [  8.00312864e-06]]\n"
     ]
    }
   ],
   "source": [
    "with tf.Session() as sess:\n",
    "    saver.restore(sess, './logs/ffnn')\n",
    "    _pred = sess.run(pred)\n",
    "    print(_pred)"
   ]
  },
  {
   "cell_type": "markdown",
   "metadata": {},
   "source": [
    "### Vanishing Gradient\n",
    "* When using sigmoid function, the gradient of the sigmoid is multiplied during the learning process\n",
    "* Since the gradient of the sigmoid function vanishes for large/small values, the learning becomes painfully slow\n",
    "* Solved by trying different activation functions (e.g. ReLU)"
   ]
  },
  {
   "cell_type": "markdown",
   "metadata": {},
   "source": [
    "># 2.2. Multiple Classification"
   ]
  },
  {
   "cell_type": "code",
   "execution_count": 1,
   "metadata": {
    "collapsed": true
   },
   "outputs": [],
   "source": [
    "import tensorflow as tf\n",
    "import numpy as np\n",
    "import matplotlib.pyplot as plt\n",
    "%matplotlib inline\n",
    "\n",
    "import csv"
   ]
  },
  {
   "cell_type": "code",
   "execution_count": 3,
   "metadata": {},
   "outputs": [
    {
     "name": "stdout",
     "output_type": "stream",
     "text": [
      "data: [0, 1, 2, 3, 4, 5, 6, 7, 8, 9], label [0]\n",
      "data: [5, 5, 5, 5, 5, 5, 5, 5, 5, 5], label [1]\n",
      "data: [9, 8, 7, 6, 5, 4, 3, 2, 1, 0], label [2]\n",
      "data: [0, 1, 2, 3, 4, 5, 6, 7, 8, 9], label [0]\n",
      "data: [5, 5, 5, 5, 5, 5, 5, 5, 5, 5], label [1]\n",
      "data: [9, 8, 7, 6, 5, 4, 3, 2, 1, 0], label [2]\n",
      "data: [0, 1, 2, 3, 4, 5, 6, 7, 8, 9], label [0]\n",
      "data: [5, 5, 5, 5, 5, 5, 5, 5, 5, 5], label [1]\n",
      "data: [9, 8, 7, 6, 5, 4, 3, 2, 1, 0], label [2]\n",
      "data: [0, 1, 2, 3, 4, 5, 6, 7, 8, 9], label [0]\n",
      "train data is written\n",
      "test data is written\n"
     ]
    }
   ],
   "source": [
    "samples = 1000\n",
    "test_samples = 100\n",
    "train_dataset = './dataset/train_dataset.csv'\n",
    "test_dataset = './dataset/test_dataset.csv'\n",
    "\n",
    "up = [i for i in range(10)]\n",
    "down = [9-i for i in range(10)]\n",
    "flat = [5 for i in range(10)]\n",
    "\n",
    "data = []\n",
    "label = []\n",
    "for i in range(samples):\n",
    "    data.append(up)\n",
    "    data.append(flat)\n",
    "    data.append(down)\n",
    "    label.append([0])\n",
    "    label.append([1])\n",
    "    label.append([2])\n",
    "    \n",
    "for i in range(10):\n",
    "    print('data: {}, label {}'.format(data[i], label[i]))\n",
    "\n",
    "    \n",
    "    \n",
    "with open(train_dataset, 'w') as csvfile:\n",
    "    writer = csv.writer(csvfile)\n",
    "    for i in range(samples-test_samples):\n",
    "        writer.writerow(label[i] + data[i])\n",
    "    print('train data is written')\n",
    "        \n",
    "with open(test_dataset, 'w') as csvfile:\n",
    "    writer = csv.writer(csvfile)\n",
    "    for i in range(test_samples):\n",
    "        writer.writerow(label[i] + data[i])\n",
    "    print('test data is written')"
   ]
  },
  {
   "cell_type": "code",
   "execution_count": 4,
   "metadata": {},
   "outputs": [
    {
     "name": "stdout",
     "output_type": "stream",
     "text": [
      "Tensor(\"Cast_1:0\", shape=(?, 10), dtype=float32)\n",
      "Tensor(\"Cast:0\", shape=(?, 10), dtype=float32)\n",
      "Tensor(\"one_hot:0\", shape=(?, 3), dtype=float32)\n",
      "Tensor(\"Reshape:0\", shape=(?, 1), dtype=int32)\n"
     ]
    }
   ],
   "source": [
    "tf.reset_default_graph()\n",
    "trainset = tf.contrib.data.TextLineDataset(train_dataset).batch(10)\n",
    "testset = tf.contrib.data.TextLineDataset(test_dataset).batch(10)\n",
    "\n",
    "train_itr = trainset.make_one_shot_iterator()\n",
    "test_itr = testset.make_one_shot_iterator()\n",
    "\n",
    "train_batch = train_itr.get_next()\n",
    "test_batch = test_itr.get_next()\n",
    "\n",
    "decoded_train = tf.decode_csv(train_batch, [[0]]*11)\n",
    "decoded_test = tf.decode_csv(test_batch, [[0]]*11)\n",
    "\n",
    "train_label = tf.one_hot(decoded_train[0], depth=3, axis=-1, dtype=tf.float32)\n",
    "test_label = tf.reshape(decoded_test[0], [-1, 1])\n",
    "\n",
    "train_data = tf.stack(decoded_train[1:], axis=1)\n",
    "test_data = tf.stack(decoded_test[1:], axis=1)\n",
    "\n",
    "test_data = tf.cast(test_data, tf.float32)\n",
    "train_data = tf.cast(train_data, tf.float32)\n",
    "\n",
    "print(train_data)\n",
    "print(test_data)\n",
    "print(train_label)\n",
    "print(test_label)"
   ]
  },
  {
   "cell_type": "code",
   "execution_count": 5,
   "metadata": {},
   "outputs": [
    {
     "name": "stdout",
     "output_type": "stream",
     "text": [
      "<tf.Variable 'layer1/kernel:0' shape=(10, 10) dtype=float32_ref>\n",
      "<tf.Variable 'layer1/bias:0' shape=(10,) dtype=float32_ref>\n",
      "<tf.Variable 'layer2/kernel:0' shape=(10, 10) dtype=float32_ref>\n",
      "<tf.Variable 'layer2/bias:0' shape=(10,) dtype=float32_ref>\n",
      "<tf.Variable 'layer3/kernel:0' shape=(10, 10) dtype=float32_ref>\n",
      "<tf.Variable 'layer3/bias:0' shape=(10,) dtype=float32_ref>\n",
      "<tf.Variable 'layer4/kernel:0' shape=(10, 10) dtype=float32_ref>\n",
      "<tf.Variable 'layer4/bias:0' shape=(10,) dtype=float32_ref>\n",
      "<tf.Variable 'layer_out/kernel:0' shape=(10, 3) dtype=float32_ref>\n",
      "<tf.Variable 'layer_out/bias:0' shape=(3,) dtype=float32_ref>\n"
     ]
    }
   ],
   "source": [
    "def multi_class_model(x, activation, reuse=False):\n",
    "    layer1 = tf.layers.dense(x, 10, activation=activation, reuse=reuse, name='layer1')\n",
    "    layer2 = tf.layers.dense(layer1, 10, activation=activation, reuse=reuse, name='layer2')\n",
    "    layer3 = tf.layers.dense(layer2, 10, activation=activation, reuse=reuse, name='layer3')\n",
    "    layer4 = tf.layers.dense(layer3, 10, activation=activation, reuse=reuse, name='layer4')\n",
    "    return tf.layers.dense(layer4, 3, activation=activation, reuse=reuse, name='layer_out')\n",
    "\n",
    "train_out = multi_class_model(train_data, tf.nn.sigmoid)\n",
    "test_out = multi_class_model(test_data, tf.nn.sigmoid, True)\n",
    "\n",
    "for var in tf.trainable_variables():\n",
    "    print(var)"
   ]
  },
  {
   "cell_type": "code",
   "execution_count": 6,
   "metadata": {
    "collapsed": true
   },
   "outputs": [],
   "source": [
    "loss = tf.losses.softmax_cross_entropy(train_label, train_out)\n",
    "train_op = tf.train.GradientDescentOptimizer(1e-6).minimize(loss)"
   ]
  },
  {
   "cell_type": "code",
   "execution_count": 7,
   "metadata": {
    "collapsed": true
   },
   "outputs": [],
   "source": [
    "pred = tf.nn.softmax(test_out)\n",
    "accuracy = tf.metrics.accuracy(test_label, tf.argmax(pred, axis=1))"
   ]
  },
  {
   "cell_type": "code",
   "execution_count": 8,
   "metadata": {
    "collapsed": true
   },
   "outputs": [],
   "source": [
    "saver = tf.train.Saver()"
   ]
  },
  {
   "cell_type": "code",
   "execution_count": 9,
   "metadata": {},
   "outputs": [
    {
     "name": "stdout",
     "output_type": "stream",
     "text": [
      "epoch: 0, loss: 1.1065032482147217, acc: 0.3333333432674408\n",
      "epoch: 1, loss: 1.0911767482757568, acc: 0.3333333432674408\n",
      "epoch: 2, loss: 1.1273247003555298, acc: 0.3333333432674408\n",
      "epoch: 3, loss: 1.1065032482147217, acc: 0.3333333432674408\n",
      "epoch: 4, loss: 1.0911767482757568, acc: 0.3333333432674408\n",
      "epoch: 5, loss: 1.1273247003555298, acc: 0.3333333432674408\n",
      "epoch: 6, loss: 1.1065032482147217, acc: 0.3333333432674408\n",
      "epoch: 7, loss: 1.0911767482757568, acc: 0.3333333432674408\n",
      "epoch: 8, loss: 1.1273247003555298, acc: 0.3333333432674408\n",
      "epoch: 9, loss: 1.1065032482147217, acc: 0.3333333432674408\n"
     ]
    }
   ],
   "source": [
    "with tf.Session() as sess:\n",
    "    sess.run(tf.global_variables_initializer())\n",
    "    sess.run(tf.local_variables_initializer())\n",
    "    for i in range(10):\n",
    "        while True:\n",
    "            try:\n",
    "                _, _loss = sess.run([train_op, loss])\n",
    "                _acc = sess.run(accuracy)\n",
    "            except tf.errors.OutOfRangeError:\n",
    "                break\n",
    "                \n",
    "        print('epoch: {}, loss: {}, acc: {}'.format(i, _loss, _acc[0]))\n",
    "        saver.save(sess, './logs/model')"
   ]
  }
 ],
 "metadata": {
  "kernelspec": {
   "display_name": "Python 3",
   "language": "python",
   "name": "python3"
  },
  "language_info": {
   "codemirror_mode": {
    "name": "ipython",
    "version": 3
   },
   "file_extension": ".py",
   "mimetype": "text/x-python",
   "name": "python",
   "nbconvert_exporter": "python",
   "pygments_lexer": "ipython3",
   "version": "3.6.2"
  }
 },
 "nbformat": 4,
 "nbformat_minor": 2
}
