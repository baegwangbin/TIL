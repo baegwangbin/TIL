{
 "cells": [
  {
   "cell_type": "markdown",
   "metadata": {},
   "source": [
    "# String "
   ]
  },
  {
   "cell_type": "markdown",
   "metadata": {},
   "source": [
    "### 1. Unicode\n",
    "* standard for consistent encoding, representation, and handling of text\n",
    "* can be implemented by different character encoding\n",
    "* **encoding**: code points $\\rightarrow$ bytes\n",
    "* **decoding**: bytes $\\rightarrow$ code points\n",
    "* **UTF-8**: most widely used encoding"
   ]
  },
  {
   "cell_type": "markdown",
   "metadata": {},
   "source": [
    "### 2. UTF-8 encoding\n",
    "| Number of bytes | Bits for code point | First code point | Last code point | Byte1 | Byte2 | Byte3 | Byte4 |\n",
    "|---|---|---|---|---|---|---|---|\n",
    "|1|7 |U+0000 |U+007F  |0xxxxxxx||||\t\t\t\n",
    "|2|11|U+0080 |U+07FF  |110xxxxx|10xxxxxx|||\t\t\n",
    "|3|16|U+0800 |U+FFFF  |1110xxxx|10xxxxxx|10xxxxxx||\t\n",
    "|4|21|U+10000|U+10FFFF|11110xxx|10xxxxxx|10xxxxxx|10xxxxxx|"
   ]
  },
  {
   "cell_type": "code",
   "execution_count": 7,
   "metadata": {},
   "outputs": [
    {
     "data": {
      "text/plain": [
       "('A', str, '0x41', 1)"
      ]
     },
     "execution_count": 7,
     "metadata": {},
     "output_type": "execute_result"
    }
   ],
   "source": [
    "a = 'A'\n",
    "a, type(a), hex(ord(a)), len(a)"
   ]
  },
  {
   "cell_type": "code",
   "execution_count": 6,
   "metadata": {},
   "outputs": [
    {
     "data": {
      "text/plain": [
       "('가', str, '0xac00', 1)"
      ]
     },
     "execution_count": 6,
     "metadata": {},
     "output_type": "execute_result"
    }
   ],
   "source": [
    "a = '가'\n",
    "a, type(a), hex(ord(a)), len(a)"
   ]
  },
  {
   "cell_type": "markdown",
   "metadata": {},
   "source": [
    "### 3. bytes\n",
    "* byte container / immutable"
   ]
  },
  {
   "cell_type": "code",
   "execution_count": 18,
   "metadata": {},
   "outputs": [
    {
     "name": "stdout",
     "output_type": "stream",
     "text": [
      "b'A\\xff\\xc8\\x00' <class 'bytes'>\n",
      "65 255\n"
     ]
    }
   ],
   "source": [
    "b1 = bytes([65, 255, 200, 0])\n",
    "print(b1, type(b1))\n",
    "print(b1[0], b1[1])"
   ]
  },
  {
   "cell_type": "code",
   "execution_count": 14,
   "metadata": {},
   "outputs": [
    {
     "data": {
      "text/plain": [
       "b'hello'"
      ]
     },
     "execution_count": 14,
     "metadata": {},
     "output_type": "execute_result"
    }
   ],
   "source": [
    "b1 = bytes(b'hello')\n",
    "b1"
   ]
  },
  {
   "cell_type": "markdown",
   "metadata": {},
   "source": [
    "### 4) bytearray\n",
    "* byte container / mutable"
   ]
  },
  {
   "cell_type": "code",
   "execution_count": 20,
   "metadata": {},
   "outputs": [
    {
     "name": "stdout",
     "output_type": "stream",
     "text": [
      "bytearray(b'A\\xff\\xc8\\x00') <class 'bytearray'>\n",
      "65 255\n"
     ]
    }
   ],
   "source": [
    "b2 = bytearray([65, 255, 200, 0])\n",
    "print(b2, type(b2))\n",
    "print(b2[0], b2[1])"
   ]
  },
  {
   "cell_type": "code",
   "execution_count": 24,
   "metadata": {},
   "outputs": [
    {
     "data": {
      "text/plain": [
       "67"
      ]
     },
     "execution_count": 24,
     "metadata": {},
     "output_type": "execute_result"
    }
   ],
   "source": [
    "b2[0] = 67\n",
    "b2[0]"
   ]
  },
  {
   "cell_type": "markdown",
   "metadata": {},
   "source": [
    "### 5) str $\\leftrightarrow$ bytes"
   ]
  },
  {
   "cell_type": "code",
   "execution_count": 29,
   "metadata": {},
   "outputs": [
    {
     "data": {
      "text/plain": [
       "(b'hello world', bytes)"
      ]
     },
     "execution_count": 29,
     "metadata": {},
     "output_type": "execute_result"
    }
   ],
   "source": [
    "a = 'hello world'\n",
    "b = a.encode('utf-8')\n",
    "b, type(b)"
   ]
  },
  {
   "cell_type": "code",
   "execution_count": 30,
   "metadata": {},
   "outputs": [
    {
     "data": {
      "text/plain": [
       "('hello world', str)"
      ]
     },
     "execution_count": 30,
     "metadata": {},
     "output_type": "execute_result"
    }
   ],
   "source": [
    "c = b.decode('utf-8')\n",
    "c, type(c)"
   ]
  },
  {
   "cell_type": "code",
   "execution_count": 34,
   "metadata": {},
   "outputs": [
    {
     "data": {
      "text/plain": [
       "(b'\\xed\\x95\\x9c\\xea\\xb8\\x80', bytes)"
      ]
     },
     "execution_count": 34,
     "metadata": {},
     "output_type": "execute_result"
    }
   ],
   "source": [
    "a = '한글'\n",
    "b = a.encode('utf-8')\n",
    "b, type(b)"
   ]
  },
  {
   "cell_type": "code",
   "execution_count": 32,
   "metadata": {},
   "outputs": [
    {
     "data": {
      "text/plain": [
       "(b'\\xc7\\xd1\\xb1\\xdb', bytes)"
      ]
     },
     "execution_count": 32,
     "metadata": {},
     "output_type": "execute_result"
    }
   ],
   "source": [
    "b = a.encode('euc-kr')\n",
    "b, type(b)"
   ]
  },
  {
   "cell_type": "code",
   "execution_count": 38,
   "metadata": {},
   "outputs": [
    {
     "name": "stdout",
     "output_type": "stream",
     "text": [
      "웹에서 크롤링한 데이터\n"
     ]
    }
   ],
   "source": [
    "data = b'\\xc0\\xa5\\xbf\\xa1\\xbc\\xad \\xc5\\xa9\\xb7\\xd1\\xb8\\xb5\\xc7\\xd1 \\xb5\\xa5\\xc0\\xcc\\xc5\\xcd'\n",
    "# print(data.decode('utf-8')) -> raise error\n",
    "print(data.decode('euc-kr'))"
   ]
  },
  {
   "cell_type": "markdown",
   "metadata": {
    "collapsed": true
   },
   "source": [
    "### 6) use Unicode in RE"
   ]
  },
  {
   "cell_type": "code",
   "execution_count": 41,
   "metadata": {},
   "outputs": [
    {
     "data": {
      "text/plain": [
       "['한글이', '숨어있다', '여기도', '있다']"
      ]
     },
     "execution_count": 41,
     "metadata": {},
     "output_type": "execute_result"
    }
   ],
   "source": [
    "import re\n",
    "pattern = r'[가-힣]+'\n",
    "re.findall(pattern, 'this is a english string 한글이 숨어있다. haha python good 여기도 있다 gogo')"
   ]
  },
  {
   "cell_type": "code",
   "execution_count": 42,
   "metadata": {},
   "outputs": [
    {
     "data": {
      "text/plain": [
       "['한글이', '숨어있다', '한글만', '추출됩니다']"
      ]
     },
     "execution_count": 42,
     "metadata": {},
     "output_type": "execute_result"
    }
   ],
   "source": [
    "pattern = '[\\uac00-\\ud7a3]+'\n",
    "re.findall(pattern, 'this is a english string 한글이 숨어있다. haha python good 한글만 추출됩니다 gogo')"
   ]
  },
  {
   "cell_type": "markdown",
   "metadata": {},
   "source": [
    "### 7) Pickle\n",
    "* object $\\rightarrow$ string $\\rightarrow$ store in file\n",
    "* [more about Pickle](https://docs.python.org/3/library/pickle.html)"
   ]
  },
  {
   "cell_type": "code",
   "execution_count": 53,
   "metadata": {
    "collapsed": true
   },
   "outputs": [],
   "source": [
    "import pickle\n",
    "persons = {'abc' : 1, 'def' : 2, 'ghi' : 3}"
   ]
  },
  {
   "cell_type": "markdown",
   "metadata": {},
   "source": [
    "### object $\\rightarrow$ string"
   ]
  },
  {
   "cell_type": "code",
   "execution_count": 54,
   "metadata": {
    "scrolled": true
   },
   "outputs": [
    {
     "name": "stdout",
     "output_type": "stream",
     "text": [
      "b'\\x80\\x03}q\\x00(X\\x03\\x00\\x00\\x00abcq\\x01K\\x01X\\x03\\x00\\x00\\x00defq\\x02K\\x02X\\x03\\x00\\x00\\x00ghiq\\x03K\\x03u.'\n"
     ]
    }
   ],
   "source": [
    "string = pickle.dumps(persons)\n",
    "print (string)"
   ]
  },
  {
   "cell_type": "markdown",
   "metadata": {},
   "source": [
    "### string $\\rightarrow$ object"
   ]
  },
  {
   "cell_type": "code",
   "execution_count": 55,
   "metadata": {},
   "outputs": [
    {
     "name": "stdout",
     "output_type": "stream",
     "text": [
      "{'abc': 1, 'def': 2, 'ghi': 3}\n"
     ]
    }
   ],
   "source": [
    "print (pickle.loads(string))"
   ]
  },
  {
   "cell_type": "markdown",
   "metadata": {},
   "source": [
    "### write in file"
   ]
  },
  {
   "cell_type": "code",
   "execution_count": 56,
   "metadata": {
    "collapsed": true
   },
   "outputs": [],
   "source": [
    "pickle.dump(df0, open('obj', 'wb'))"
   ]
  },
  {
   "cell_type": "markdown",
   "metadata": {},
   "source": [
    "### read from file"
   ]
  },
  {
   "cell_type": "code",
   "execution_count": 57,
   "metadata": {},
   "outputs": [
    {
     "name": "stdout",
     "output_type": "stream",
     "text": [
      "{'abc': 1, 'def': 2, 'ghi': 3}\n"
     ]
    }
   ],
   "source": [
    "p2 = pickle.load(open('obj', 'rb'))\n",
    "print (p2)"
   ]
  }
 ],
 "metadata": {
  "kernelspec": {
   "display_name": "Python 3",
   "language": "python",
   "name": "python3"
  },
  "language_info": {
   "codemirror_mode": {
    "name": "ipython",
    "version": 3
   },
   "file_extension": ".py",
   "mimetype": "text/x-python",
   "name": "python",
   "nbconvert_exporter": "python",
   "pygments_lexer": "ipython3",
   "version": "3.6.2"
  }
 },
 "nbformat": 4,
 "nbformat_minor": 2
}
