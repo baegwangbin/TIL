{
 "cells": [
  {
   "cell_type": "markdown",
   "metadata": {},
   "source": [
    "# Basic_Python"
   ]
  },
  {
   "cell_type": "markdown",
   "metadata": {},
   "source": [
    "> # 0. MARKDOWN\n",
    "* [more about markdown](https://github.com/adam-p/markdown-here/wiki/Markdown-Cheatsheet)"
   ]
  },
  {
   "cell_type": "markdown",
   "metadata": {},
   "source": [
    "# Title 1\n",
    "## Title 2\n",
    "### Title 3\n",
    "#### Title 4\n",
    "##### Title 5\n",
    "\n",
    "---\n",
    "\n",
    "* bulletpoint1\n",
    "  * bulletpoint2\n",
    "    * bulletpoint 3\n",
    "    \n",
    "---\n",
    "    \n",
    "```python\n",
    "s = \"this is how you write python code in markdown\"\n",
    "print s\n",
    "def add(a, b):\n",
    "    return a + b\n",
    "```\n",
    "\n",
    "---\n",
    "\n",
    "> Blockquotes starts\n",
    "> Blockquotes continue\n",
    "\n",
    "> Blockquotes newline\n",
    "\n",
    "---\n",
    "\n",
    "This is *italic*\n",
    "\n",
    "This is **bold**\n",
    "\n",
    "---\n",
    "\n",
    "[python webpage link](https://www.python.org)\n",
    "\n",
    "--- \n",
    "* Local Image\n",
    "![python image](python.png)\n",
    "\n",
    "---\n",
    "* Web Image\n",
    "![python image2](https://www.raspberrypi.org/documentation/usage/python/images/python-logo.png)"
   ]
  },
  {
   "cell_type": "markdown",
   "metadata": {},
   "source": [
    "> # 1. print('hello world')"
   ]
  },
  {
   "cell_type": "code",
   "execution_count": 15,
   "metadata": {},
   "outputs": [
    {
     "name": "stdout",
     "output_type": "stream",
     "text": [
      "Hello\n",
      "Python\n",
      "Hello , Python\n",
      "Hello | Python?\n",
      "<class 'str'>\n"
     ]
    }
   ],
   "source": [
    "a = 'Hello'\n",
    "b = 'Python'\n",
    "\n",
    "print(a)\n",
    "print(b)\n",
    "print(a, ',', b)\n",
    "print(a, b, sep=' | ', end='?')\n",
    "print()\n",
    "print(type(a))"
   ]
  },
  {
   "cell_type": "markdown",
   "metadata": {},
   "source": [
    "> # 2. Datatype\n",
    "* int(정수), float(실수), string(문자열), boolean(참/거짓), nonetype(None), 등\n",
    "* assignment operator (=) & comparison operator (==, !=, <, >, <=, >=)\n",
    "\n",
    "> ### variable naming\n",
    "* use **abc, ABC, 123, _**\n",
    "* do not start with 123\n",
    "* avoid using reserved keywords"
   ]
  },
  {
   "cell_type": "code",
   "execution_count": 23,
   "metadata": {},
   "outputs": [
    {
     "name": "stdout",
     "output_type": "stream",
     "text": [
      "<class 'int'> / <class 'float'> / <class 'float'> / <class 'str'> / <class 'bool'> / <class 'NoneType'>\n"
     ]
    }
   ],
   "source": [
    "a = 10   # int\n",
    "b = 12.677 # float\n",
    "c = 1.633e8 # float\n",
    "\n",
    "d = 'this is python' # string\n",
    "e = True # boolean\n",
    "f = None # nonetype\n",
    "\n",
    "print(type(a), type(b), type(c), type(d), type(e), type(f), sep=' / ')"
   ]
  },
  {
   "cell_type": "markdown",
   "metadata": {
    "collapsed": true
   },
   "source": [
    "> # 3. Type Conversion\n",
    "* **bool $\\leftrightarrow$ int**\n",
    "* **int $\\leftrightarrow$ float**\n",
    "* **int $\\leftrightarrow$ string** (not always)"
   ]
  },
  {
   "cell_type": "code",
   "execution_count": 6,
   "metadata": {},
   "outputs": [
    {
     "name": "stdout",
     "output_type": "stream",
     "text": [
      "type conversion complete\n"
     ]
    }
   ],
   "source": [
    "int('2014') #2014\n",
    "int(3.14) #3\n",
    "\n",
    "float(5) #5.0\n",
    "\n",
    "str(3.14) #'3.14'\n",
    "str([1,2,3]) #'[1,2,3]'\n",
    "\n",
    "list('Mary') #['M','a','r','y']\n",
    "list((1,2,3)) #[1,2,3]\n",
    "\n",
    "tuple('Mary') #('M','a','r','y')\n",
    "tuple([1,2,3]) #(1,2,3)\n",
    "\n",
    "print('type conversion complete')"
   ]
  },
  {
   "cell_type": "markdown",
   "metadata": {},
   "source": [
    "> # 4. Operators\n",
    "* number operators: ** +, -, *, /, //, %, ** **\n",
    "* bit shift operator: **>>, <<**\n",
    "* bit logical operator: ** and(&), or(|), xor(^), not(~) ** "
   ]
  },
  {
   "cell_type": "code",
   "execution_count": 45,
   "metadata": {},
   "outputs": [
    {
     "name": "stdout",
     "output_type": "stream",
     "text": [
      "23\n",
      "32\n"
     ]
    }
   ],
   "source": [
    "print (3 + 5 * 4)\n",
    "print ((3 + 5) * 4)"
   ]
  },
  {
   "cell_type": "code",
   "execution_count": 2,
   "metadata": {},
   "outputs": [
    {
     "name": "stdout",
     "output_type": "stream",
     "text": [
      "0\n",
      "3\n",
      "3\n",
      "-2\n"
     ]
    }
   ],
   "source": [
    "print(1&2)\n",
    "print(1|2)\n",
    "print(1^2)\n",
    "print(~1)"
   ]
  },
  {
   "cell_type": "markdown",
   "metadata": {},
   "source": [
    "### Practice: swap a & b"
   ]
  },
  {
   "cell_type": "code",
   "execution_count": 2,
   "metadata": {},
   "outputs": [
    {
     "name": "stdout",
     "output_type": "stream",
     "text": [
      "a = 30 , b = 20\n"
     ]
    }
   ],
   "source": [
    "#solution 1\n",
    "a = 20\n",
    "b = 30\n",
    "\n",
    "temp = a\n",
    "a = b\n",
    "b = temp\n",
    "\n",
    "del temp # 사용이 끝난 변수 삭제\n",
    "\n",
    "print('a =',a, ', b =',b)"
   ]
  },
  {
   "cell_type": "code",
   "execution_count": 3,
   "metadata": {},
   "outputs": [
    {
     "name": "stdout",
     "output_type": "stream",
     "text": [
      "a = 20 , b = 30\n"
     ]
    }
   ],
   "source": [
    "#solution 2\n",
    "a = a+b #a = a0 + b0\n",
    "b = a-b #b = a0 + b0 - b0 = a0\n",
    "a = a-b #a = a0 + b0 - a0 = b0\n",
    "\n",
    "print('a =',a, ', b =',b)"
   ]
  },
  {
   "cell_type": "code",
   "execution_count": 62,
   "metadata": {},
   "outputs": [
    {
     "name": "stdout",
     "output_type": "stream",
     "text": [
      "a = 30 , b = 20\n"
     ]
    }
   ],
   "source": [
    "#solution 3\n",
    "a, b = b, a\n",
    "\n",
    "print('a =',a, ', b =',b)"
   ]
  },
  {
   "cell_type": "markdown",
   "metadata": {},
   "source": [
    "> # 5. String\n",
    "* **'abc'** or **\"abc\"**\n",
    "* **'a\"b\"c'** or **\"a'b'c\"**\n",
    "* **'''abc'''** or **\"\"\"abc\"\"\"** - for multiple lines"
   ]
  },
  {
   "cell_type": "markdown",
   "metadata": {},
   "source": [
    "### multiple print"
   ]
  },
  {
   "cell_type": "code",
   "execution_count": 4,
   "metadata": {},
   "outputs": [
    {
     "name": "stdout",
     "output_type": "stream",
     "text": [
      "HaHaHo\n",
      "----------------------------------------------------------------------------------------------------\n"
     ]
    }
   ],
   "source": [
    "print('Ha'*2+'Ho')\n",
    "print('-'*100)"
   ]
  },
  {
   "cell_type": "markdown",
   "metadata": {},
   "source": [
    "### index & negative index"
   ]
  },
  {
   "cell_type": "code",
   "execution_count": 16,
   "metadata": {
    "scrolled": true
   },
   "outputs": [
    {
     "name": "stdout",
     "output_type": "stream",
     "text": [
      "1\n",
      "9\n",
      "9\n"
     ]
    }
   ],
   "source": [
    "a = '123456789'\n",
    "print(a[0])\n",
    "print(a[8])\n",
    "print(a[-1]) # -1 index"
   ]
  },
  {
   "cell_type": "markdown",
   "metadata": {},
   "source": [
    "### slicing"
   ]
  },
  {
   "cell_type": "code",
   "execution_count": 21,
   "metadata": {},
   "outputs": [
    {
     "name": "stdout",
     "output_type": "stream",
     "text": [
      "123456\n",
      "3456789\n",
      "12345678\n",
      "123456789\n",
      "\n"
     ]
    }
   ],
   "source": [
    "a = '123456789'\n",
    "print(a[0:6])\n",
    "print(a[2:])\n",
    "print(a[:8])\n",
    "print(a[:])\n",
    "print(a[1:1])"
   ]
  },
  {
   "cell_type": "markdown",
   "metadata": {},
   "source": [
    "### escape string\n",
    "* 문자열에 특수한 효과 주기 위해 사용\n",
    "* **`\\n` : new line**, **`\\t` : tab**, 등등\n",
    "* ```r'string'``` $\\rightarrow$ escape string 무시"
   ]
  },
  {
   "cell_type": "code",
   "execution_count": 11,
   "metadata": {
    "scrolled": true
   },
   "outputs": [
    {
     "name": "stdout",
     "output_type": "stream",
     "text": [
      "new line\n",
      "and\ttab\n"
     ]
    }
   ],
   "source": [
    "print('new line\\nand\\ttab')"
   ]
  },
  {
   "cell_type": "code",
   "execution_count": 1,
   "metadata": {},
   "outputs": [
    {
     "name": "stdout",
     "output_type": "stream",
     "text": [
      "ign\\tore\n"
     ]
    }
   ],
   "source": [
    "ignore=r'ign\\tore'\n",
    "print(ignore)"
   ]
  },
  {
   "cell_type": "markdown",
   "metadata": {},
   "source": [
    "### string function"
   ]
  },
  {
   "cell_type": "code",
   "execution_count": 2,
   "metadata": {
    "scrolled": false
   },
   "outputs": [
    {
     "name": "stdout",
     "output_type": "stream",
     "text": [
      "5\n",
      "heppo\n",
      "HELLO\n",
      "hello\n",
      "hello\n"
     ]
    }
   ],
   "source": [
    "a = \"hello\"\n",
    "print (len(a)) # returns length\n",
    "print (a.replace('l', 'p')) # original unchanged\n",
    "print (a.upper()) # original unchanged\n",
    "print (a.lower()) # original unchanged\n",
    "print (a)"
   ]
  },
  {
   "cell_type": "markdown",
   "metadata": {},
   "source": [
    "> # 6. List, Tuple, Dictionary, Set\n",
    "* list - index / muttable\n",
    "* tuple - index / immutable\n",
    "* dic - (key:value) / no order / key 중복 불가능 / 색인 속도 빠름 (key 순서를 만들어놓고 jump over해서 찾아냄)\n",
    "* set - no order / value\n",
    "\n",
    "* list & dic - memory jump를 하기 때문에 색인 속도 빠르다, O(1)\n",
    "* hash함수를 통해 list의 value나 dic의 key를 정수 형태로 변환해서 순서를 미리 만들어두기 때문"
   ]
  },
  {
   "cell_type": "markdown",
   "metadata": {},
   "source": [
    "> # 6.1. List"
   ]
  },
  {
   "cell_type": "markdown",
   "metadata": {},
   "source": [
    "### list 생성\n",
    "* [] 안에 값을 담아서 생성\n",
    "``` python\n",
    "list0 = []\n",
    "llst1 = [1,2,3]\n",
    "``` \n",
    "* list() 함수로 생성\n",
    "``` python\n",
    "list2 = list()\n",
    "cat='cat'\n",
    "list3 = list(cat) #['c','a','t']\n",
    "test_tuple=('d','o','g') #list() 적용시 tuple에서 list로 바뀜\n",
    "llst4 = list(test_tuple) #['d','o','g']\n",
    "``` \n",
    "* str.split()함수로 생성\n",
    "```python\n",
    "a = 'a/b/'\n",
    "list6 = a.split('/') #['a','b','']\n",
    "#a.split() 함수는 공백을 기준으로 분리함\n",
    "```\n",
    "\n",
    "----------------------------------------------------------------------------------------------------\n",
    "### list 기능\n",
    "* indexing 사용 가능\n",
    "* indexing 이용해서 값 update 가능\n",
    "* multiple indexing 가능\n",
    "* list slicing 가능\n",
    "* slicing 이용해서 reversing 가능\n",
    "  * list[::-1] \n",
    "----------------------------------------------------------------------------------------------------\n",
    "### list 함수\n",
    "* a.append(value) \n",
    "  * 리스트 끝에 항목 추가 (리스트도 추가 가능)\n",
    "* a.extend(list)\n",
    "  * 리스트에 리스트를 연장 (a += b 로도 가능)\n",
    "* a.insert(index, value)\n",
    "  * 리스트 특정 위치에 항목 추가\n",
    "----------------------------------------------------------------------------------------------------\n",
    "* del a[0]\n",
    "  * 특정 항목 삭제\n",
    "* a.remove(value) \n",
    "  * 매칭되는 첫 번째 항목 삭제 (없으면 에러)\n",
    "* a.pop(index)\n",
    "  * 지우고자 하는 값을 반환 후 삭제\n",
    "----------------------------------------------------------------------------------------------------\n",
    "* a.index(value,start,end)\n",
    "  * start 인덱스부터 end 인덱스 전까지 있는 해당 아이템의 첫 번째 인덱스 반환\n",
    "* value in [list]\n",
    "  * 해당 값이 있는지 True or False 반환\n",
    "* a.count(value)\n",
    "  \n",
    "----------------------------------------------------------------------------------------------------\n",
    "* '/'.join(list)\n",
    "  * 구분자를 이용해 문자열로 병합\n",
    "----------------------------------------------------------------------------------------------------\n",
    "* 정렬하기(모든 값이 숫자인 경우만 가능)\n",
    "  * a.sort()                #오름차순 정렬\n",
    "  * a.sort(reverse=True)    #내림차순 정렬\n",
    "  * sorted(a)               #오름차순 정렬된 복사본 반환\n",
    "  * sorted(a, reverse=True) #내림차순 정렬된 복사본 반환\n",
    "----------------------------------------------------------------------------------------------------\n",
    "* 리스트 대입 및 복사\n",
    "  * a = b                   #주소만 복사, a에 변형 가하면 b도 변형됨\n",
    "  * b = a[:]                #완전하게 복사"
   ]
  },
  {
   "cell_type": "markdown",
   "metadata": {},
   "source": [
    "> # 6.2 Tuple\n",
    "* 더 적은 메모리 사용\n",
    "* immutable(불변)이기 때문에, 실수로 값이 바뀌지 않음"
   ]
  },
  {
   "cell_type": "markdown",
   "metadata": {},
   "source": [
    "### tuple 생성\n",
    "* () 안에 값을 담아서 생성\n",
    "* 원소가 하나인 경우 ','가 필요하다\n",
    "``` python\n",
    "empty_tuple = ()\n",
    "not_tuple = ('abc')\n",
    "abc_tuple = ('abc',)\n",
    "``` \n",
    "\n",
    "### tuple()\n",
    "``` python\n",
    "    tuple([1, 2, 3]) #(1, 2, 3)\n",
    "    tuple('1234') #('1', '2', '3', '4')\n",
    "``` \n",
    "\n",
    "### tuple packing & unpacking\n",
    "* 여러 값을 한 번에 배정\n",
    "``` python\n",
    "a, b, c = 1, 2, 3\n",
    "a, b = b, a\n",
    "print(a, b, c)\n",
    "``` \n"
   ]
  },
  {
   "cell_type": "code",
   "execution_count": 5,
   "metadata": {
    "scrolled": true
   },
   "outputs": [
    {
     "name": "stdout",
     "output_type": "stream",
     "text": [
      "yourID@yourDomain.com\n"
     ]
    }
   ],
   "source": [
    "email = 'yourID@yourDomain.com'\n",
    "userID, domain = tuple(email.split('@'))\n",
    "print(userID, domain, sep='@')"
   ]
  },
  {
   "cell_type": "markdown",
   "metadata": {},
   "source": [
    "> # 6.3 Dictionary\n",
    "* 키와 값을 갖는 data structure\n",
    "* 키는 해쉬값으로 저장됨 \n",
    "* 해당 키에 따른 값에 접근 시, O(1) 시간으로 접근\n",
    "* 순서를 따지지 않음. 즉, 인덱스가 없음"
   ]
  },
  {
   "cell_type": "markdown",
   "metadata": {},
   "source": [
    "### dict 생성\n",
    "``` python\n",
    "empty_dict = {}\n",
    "dict1 = {'python' : 'best', 'java' : 'good', 'c++' : 'better'}\n",
    "``` \n",
    "\n",
    "### key-value 추가 및 변경\n",
    "* 기존에 키가 존재 하면, 새로운 값으로 업데이트\n",
    "* 존재하지 않으면, 새로운 키, 값 생성\n",
    "\n",
    "``` python\n",
    "dict2 = {}\n",
    "dict2['python'] = 'best'\n",
    "dict2['java'] = 'good'\n",
    "dict2['python'] = 'best222' #'python'키의 값을 변환\n",
    "``` \n",
    "\n",
    "### dict()\n",
    "* dictionary로 변환.\n",
    "* 두 값으로 이루어진 시퀀스를 변환 가능. 첫번째 항목이 key, 두번째 항목이 value로 사용됨\n",
    "```\n",
    "a = [[1, 2], [2, 3], [3, 6]]\n",
    "print(dict(a))\n",
    "a = [(1, 2), (2, 3), (3, 6)]\n",
    "print(dict(a))\n",
    "a = ((1, 2), (2, 3), (3, 6))\n",
    "print(dict(a))\n",
    "```\n",
    "\n",
    "### 접근\n",
    "* 값에 접근\n",
    "  * dict1[key1] #값이 없는 경우 error 발생\n",
    "  * dict1.get('1') #값이 없는 경우 None 반환\n",
    "  * dict1.get('1','default') #값이 없는 경우 'default'반환\n",
    "----\n",
    "* 특정 key가 있는지 확인 (없는 경우 false / O(1)연산)\n",
    "  * key1 in dict1\n",
    "----\n",
    "* 모든 keys, values 접근\n",
    "  * dict1.keys()\n",
    "  * dict1.values()\n",
    "----\n",
    "* (key, value) 튜플 리스트로 변환 (순회할 때 사용)\n",
    "  * dict1.items()\n",
    "  * for key, value in signals.items():\n",
    "    print(key, value)\n",
    "\n",
    "### 추가기능\n",
    "\n",
    "* dict 병합\n",
    "  * dict1.update(dict2)\n",
    "  * 두 딕셔너리를 병합함\n",
    "  * 겹치는 키가 있다면 parameter로 전달되는 키 값이 overwrite된다.\n",
    "------------\n",
    "* key 삭제\n",
    "  * del dict1['java']\n",
    "-----------\n",
    "* 모든 값 초기화\n",
    "  * dict1.clear()"
   ]
  },
  {
   "cell_type": "code",
   "execution_count": 5,
   "metadata": {
    "scrolled": false
   },
   "outputs": [
    {
     "name": "stdout",
     "output_type": "stream",
     "text": [
      "Este es piton\n"
     ]
    }
   ],
   "source": [
    "#주어진 dictionary를 가지고, 다음 문장을 번역 하시오. \n",
    "# translator = {'This' : 'Este', 'is' : 'es', 'python' : 'piton'}\n",
    "#\"This is python\"\n",
    "translator = {'This' : 'Este', 'is' : 'es', 'python' : 'piton'}\n",
    "\n",
    "english = \"This is python\"\n",
    "english_list = english.split(' ')\n",
    "spanish_list = []\n",
    "\n",
    "for key in english_list:\n",
    "    spanish_list.append(translator[key])\n",
    "    spanish = ' '.join(spanish_list)\n",
    "\n",
    "print(spanish)"
   ]
  },
  {
   "cell_type": "markdown",
   "metadata": {},
   "source": [
    "> # 6.4. Set\n",
    "* 수학에서의 집합과 동일"
   ]
  },
  {
   "cell_type": "markdown",
   "metadata": {},
   "source": [
    "### set 생성\n",
    "``` python\n",
    "empty_set = set()\n",
    "even_nums = {2,4,6,6,8} #중복되는 값은 한 번만 받음\n",
    "``` \n",
    "\n",
    "### set()\n",
    "* 중복되는 값을 제외하고 set으로 만듬\n",
    "\n",
    "### set operation\n",
    "``` python\n",
    "a = {1, 2}\n",
    "b = {2, 3, 4}\n",
    "\n",
    "print(a.intersection(b))\n",
    "print(a & b)\n",
    "\n",
    "print(a.union(b))\n",
    "print(a | b)\n",
    "\n",
    "print(a.difference(b))\n",
    "print(a - b)\n",
    "\n",
    "print(a.symmetric_difference(b)) # 양쪽 모두에 들어있지 않은 멤버\n",
    "print(a ^ b)\n",
    "\n",
    "print(a.issubset(b))\n",
    "print(a <= b) #부분 집합\n",
    "```"
   ]
  },
  {
   "cell_type": "markdown",
   "metadata": {},
   "source": [
    "> # 7. Condition & Loop \n",
    "## 7.1. Condition\n",
    "* 특정 조건을 만족하는 경우에만 수행할 작업이 있는 경우 사용\n",
    "* if, elif, else 키워드 사용 / 모든 조건은 boolean으로 표현 / 중첩 가능\n",
    "* 콜론 \\n 들여쓰기(코드블록)\n",
    "* 논리표\n",
    ">> * A and B , A or B , not A\n",
    ">> * 중첩 가능\n",
    ">> * 우선순위: NOT > AND > OR\n",
    "* if의 조건문이 bool이 아닌 경우\n",
    ">> * 일반적으로는 조건문에는 bool이 주로 위치 함\n",
    ">> * 하지만, 정수, 실수, 문자열 리스트 등 기본 타입도 조건에 사용 가능\n",
    ">> * False로 간주되는 값 (각 타입의 기본값)\n",
    "     * None\n",
    "     * 0\n",
    "     * 0.0\n",
    "     * ''\n",
    "     * [] -> 빈 리스트\n",
    "     * () -> 빈 튜플\n",
    "     * {} -> 빈 딕셔너리\n",
    "     * set() -> 빈 집합\n",
    ">> * 그밖에는 모두 True로 간주\n",
    "* if, else, elif\n",
    ">> ``` python\n",
    "if 조건1:\n",
    "    코드블록1\n",
    "elif 조건2:\n",
    "    코드블록2 #True가 되는 조건에 도달하면 해당 코드블록만 실행하고 전체 구문 종료\n",
    "else:\n",
    "    코드블록3\n",
    "```\n",
    "\n",
    "> ## 7.2. Loop - while, for\n",
    ">> ### 7.2.1. while \n",
    ">> * 특정 조건을 만족하는 경우 수행\n",
    ">> * 무한루프 방지를 위해 반복 멈추는 장치 필요\n",
    ">> * **break**\n",
    ">>   * loop를 중단할 때 사용\n",
    ">>   * 가장 가까운 while을 벗어남\n",
    ">> * **continue**\n",
    ">>   * loop를 다시 반복할 때 사용\n",
    ">>   * continue 아래의 코드블록은 실행되지 않음\n",
    ">> * **else**\n",
    ">>   * while과 같은 레벨\n",
    ">>   * break문에 걸리면 실행되는 코드블록\n",
    ">> * **even number check**\n",
    ">>   * if number % 2 == 0\n",
    ">>   * if not number & 1\n",
    "\n",
    ">> ### 7.2.2. for\n",
    ">> * 리스트, 문자열 등등 순회 가능한 객체를 순회하면서 값을 처리할 때 사용\n",
    ">> * i는 매번 수행 될 때마다, a의 아이템으로 순차적으로 변경 됨\n",
    ">> * 모든 아이템이 순회되면 for 블록 종료\n",
    ">> * while과 마찬가지로 break 사용 가능\n",
    ">> * **range 순회**\n",
    ">> ``` python\n",
    "for i in range(1,10,1)\n",
    "#range는 하나의 class\n",
    "#list로 변환하려면 list()함수 사용\n",
    "#for문에서 사용할 경우 1부터 10전까지, 1씩 커지는 수의 리스트를 순회\n",
    "```\n",
    "\n",
    ">> * **문자열 순회**\n",
    ">> ``` python\n",
    "str = 'hello world'\n",
    "for char in str:\n",
    "    print(char, end='')\n",
    "```\n",
    "\n",
    ">> * **dict 순회**\n",
    ">> ``` python\n",
    "for value in capitals: #기본적으로 key값을 순회\n",
    "    print(value, capitals[value]) \n",
    "for key in list(capitals.keys()): #key 값만 순회\n",
    "    print(key)\n",
    "for val in list(capitals.values()): #value 값만 순회\n",
    "    print(val)\n",
    "for k, v in list(capitals.items()): #key와 items를 함께 순회\n",
    "    print(k, v)\n",
    "```\n",
    "\n",
    ">> * **index와 value를 함께 순회(enumerate())**\n",
    ">> ``` python\n",
    "nums = [1, 3, 2, 5, 4, 6, 7, 9, 8]\n",
    "for i, val in enumerate(nums): \n",
    "    print('index:', i, 'value:', val)\n",
    "for i, _ in enumerate(nums): #사용하지 않을 변수에 _를 관례적으로 사용한다\n",
    "    print(i)\n",
    "```\n"
   ]
  },
  {
   "cell_type": "markdown",
   "metadata": {
    "collapsed": true
   },
   "source": [
    "### zip\n",
    "* 주어진 2개 이상의 컬렉션을 튜플 형태로 생성"
   ]
  },
  {
   "cell_type": "code",
   "execution_count": 10,
   "metadata": {},
   "outputs": [
    {
     "name": "stdout",
     "output_type": "stream",
     "text": [
      "1 a ㄱ\n",
      "2 b ㄴ\n",
      "3 c ㄷ\n",
      "4 d ㄹ\n"
     ]
    }
   ],
   "source": [
    "a = [1, 2, 3, 4]\n",
    "b = ['a', 'b', 'c', 'd']\n",
    "c = ['ㄱ','ㄴ','ㄷ','ㄹ']\n",
    "\n",
    "for i, j, k in zip(a,b,c):\n",
    "    print(i, j, k)"
   ]
  },
  {
   "cell_type": "markdown",
   "metadata": {},
   "source": [
    "### comprehension\n",
    "* python만의 간결한 문법을 이용하여 컬렉션을 생성하는 방법\n",
    "* 간결하게 생성 가능하기 때문에, 실무에서 많이 사용\n",
    "* 나중에 배울 generator를 이해하기 위해 **반드시** 숙지 필요"
   ]
  },
  {
   "cell_type": "code",
   "execution_count": 29,
   "metadata": {
    "scrolled": false
   },
   "outputs": [
    {
     "name": "stdout",
     "output_type": "stream",
     "text": [
      "[2, 4, 6, 8, 10, 12, 14, 16, 18, 20, 22, 24, 26, 28, 30, 32, 34, 36, 38, 40, 42, 44, 46, 48, 50, 52, 54, 56, 58, 60, 62, 64, 66, 68, 70, 72, 74, 76, 78, 80, 82, 84, 86, 88, 90, 92, 94, 96, 98, 100]\n",
      "[2, 2, 6, 4, 10, 6, 14, 8, 18, 10, 22, 12, 26, 14, 30, 16, 34, 18, 38, 20, 42, 22, 46, 24, 50, 26, 54, 28, 58, 30, 62, 32, 66, 34, 70, 36, 74, 38, 78, 40, 82, 42, 86, 44, 90, 46, 94, 48, 98, 50, 102, 52, 106, 54, 110, 56, 114, 58, 118, 60, 122, 62, 126, 64, 130, 66, 134, 68, 138, 70, 142, 72, 146, 74, 150, 76, 154, 78, 158, 80, 162, 82, 166, 84, 170, 86, 174, 88, 178, 90, 182, 92, 186, 94, 190, 96, 194, 98, 198, 100]\n"
     ]
    }
   ],
   "source": [
    "#if만 있을 때는 뒤에 쓴다\n",
    "print([i for i in range(1,101) if i % 2 == 0])\n",
    "#if와 else가 있을 때는 앞에 쓴다 \n",
    "print([i if i % 2 == 0 else i * 2 for i in range(1,101)])"
   ]
  },
  {
   "cell_type": "markdown",
   "metadata": {},
   "source": [
    "### comprehension 중첩"
   ]
  },
  {
   "cell_type": "code",
   "execution_count": 33,
   "metadata": {},
   "outputs": [
    {
     "name": "stdout",
     "output_type": "stream",
     "text": [
      "1 1\n",
      "1 2\n",
      "2 1\n",
      "2 2\n",
      "3 1\n",
      "3 2\n",
      "--------------------\n",
      "[(1, 1), (1, 2), (2, 1), (2, 2), (3, 1), (3, 2)]\n",
      "[(1, 1), (1, 2), (2, 1), (2, 2), (3, 1), (3, 2)]\n",
      "[(1, 1), (1, 2), (2, 1), (2, 2), (3, 1), (3, 2)]\n",
      "[(1, 1), (1, 2), (2, 1), (2, 2), (3, 1), (3, 2)]\n",
      "[(1, 1), (1, 2), (2, 1), (2, 2), (3, 1), (3, 2)]\n",
      "[(1, 1), (1, 2), (2, 1), (2, 2), (3, 1), (3, 2)]\n"
     ]
    }
   ],
   "source": [
    "rows = list(range(1, 4))\n",
    "cols = list(range(1, 3))\n",
    "\n",
    "for row in rows:\n",
    "    for col in cols:\n",
    "        print(row, col)\n",
    "        \n",
    "print('-' * 20)\n",
    "        \n",
    "cells = [(row, col) for row in rows for col in cols]\n",
    "for row, col in cells:\n",
    "    print(cells)"
   ]
  },
  {
   "cell_type": "markdown",
   "metadata": {},
   "source": [
    "### dictionary comprehension\n",
    "* list comprehension과 거의 동일하게 생성\n",
    "* {}를 이용하여 생성하며, key, value를 k:v 형식으로 작성\n",
    " "
   ]
  },
  {
   "cell_type": "code",
   "execution_count": 31,
   "metadata": {
    "scrolled": false
   },
   "outputs": [
    {
     "name": "stdout",
     "output_type": "stream",
     "text": [
      "{'apple': 5, 'banana': 6, 'chicago': 7, 'do': 2, 'elephant': 8}\n",
      "<generator object <genexpr> at 0x018C4570>\n",
      "{'apple': 5, 'banana': 6, 'chicago': 7, 'do': 2, 'elephant': 8}\n"
     ]
    }
   ],
   "source": [
    "words = ['apple', 'banana', 'chicago', 'do', 'elephant']\n",
    "\n",
    "# dict comprehension을 사용하지 않는 경우\n",
    "dict1 = {}\n",
    "for w in words:\n",
    "    dict1[w] = len(w)\n",
    "    \n",
    "print(dict1)\n",
    "\n",
    "# dict comprehension을 사용하는 경우\n",
    "words = ['apple', 'banana', 'chicago', 'do', 'elephant']\n",
    "words_dict = {w : len(w) for w in words}\n",
    "\n",
    "# generator\n",
    "a = (i for i in range(1,100))\n",
    "print(a)\n",
    "\n",
    "print(words_dict)"
   ]
  },
  {
   "cell_type": "markdown",
   "metadata": {},
   "source": [
    "### comprehension 연습문제\n",
    "1. Celsius = [39.2, 36.5, 37.3, 37.8] F = (9/5) * C + 32 일 때, 리스트의 각 값을 화씨로 바꾼 리스트를 만드시오.\n",
    "2. 주어진 문자열에서 띄어쓰기의 개수는? 'Today is very nice and I want to go out for dinner'\n",
    "3. 주어진 문자열에서 모음을 모두 제거하시오. 'Today is very nice and I want to go out for dinner'"
   ]
  },
  {
   "cell_type": "code",
   "execution_count": 34,
   "metadata": {
    "scrolled": false
   },
   "outputs": [
    {
     "name": "stdout",
     "output_type": "stream",
     "text": [
      "[102.56, 97.7, 99.14, 100.03999999999999]\n",
      "11\n",
      "Tdy s vry nc nd I wnt t g t fr dnnr\n"
     ]
    }
   ],
   "source": [
    "Celsius = [39.2, 36.5, 37.3, 37.8]\n",
    "\n",
    "Farenheit = [(9/5)*i+32 for i in Celsius]\n",
    "print (Farenheit)\n",
    "\n",
    "str = 'Today is very nice and I want to go out for dinner'\n",
    "print(len([1 for i in str if i == ' ']))\n",
    "\n",
    "print(''.join([i for i in str if i not in 'aeiou']))"
   ]
  },
  {
   "cell_type": "markdown",
   "metadata": {},
   "source": [
    "> # 8. Function"
   ]
  },
  {
   "cell_type": "markdown",
   "metadata": {},
   "source": [
    "### Define"
   ]
  },
  {
   "cell_type": "code",
   "execution_count": null,
   "metadata": {
    "collapsed": true
   },
   "outputs": [],
   "source": [
    "def function_name(argument_name):\n",
    "    body\n",
    "    return output"
   ]
  },
  {
   "cell_type": "markdown",
   "metadata": {},
   "source": [
    "### docstring"
   ]
  },
  {
   "cell_type": "code",
   "execution_count": 1,
   "metadata": {
    "collapsed": true
   },
   "outputs": [],
   "source": [
    "def add(a, b):\n",
    "    '''\n",
    "    calculate sum of two numeric values\n",
    "    \n",
    "    parameters:\n",
    "     a , b : real number\n",
    "    \n",
    "    returns:\n",
    "     a + b\n",
    "     \n",
    "    exceptions:\n",
    "     if non-numeric value is given, exception would be raised\n",
    "    '''\n",
    "    if str(a).isnumeric() and str(b).isnumeric(): \n",
    "        return a + b\n",
    "    raise Exception('invalid')"
   ]
  },
  {
   "cell_type": "markdown",
   "metadata": {},
   "source": [
    "### Function Examples"
   ]
  },
  {
   "cell_type": "code",
   "execution_count": 36,
   "metadata": {
    "collapsed": true
   },
   "outputs": [],
   "source": [
    "def test_func(s1,s2):\n",
    "    return s1 in s2"
   ]
  },
  {
   "cell_type": "code",
   "execution_count": 35,
   "metadata": {
    "collapsed": true
   },
   "outputs": [],
   "source": [
    "import math\n",
    "def test_func(num):\n",
    "    for i in range(2,int(math.sqrt(num))):\n",
    "        if num % i == 0:\n",
    "            return False\n",
    "    return True"
   ]
  },
  {
   "cell_type": "markdown",
   "metadata": {},
   "source": [
    "### Local Variable vs. Global Variable (variable scope)\n",
    "* **전역 변수**: 가장 상단에서 정의되어 프로그램 종료 전까지 유지되는 변수\n",
    "* **지역 변수**: 특정 코드 블록에서 선언된 변수 / 코드 블록이 종료되면 소멸\n",
    "* 같은 이름의 지역 변수와 전역 변수가 존재할 경우 지역 변수가 우선순위 높음\n",
    "* 코드 블록 내에서 전역 변수를 명시하고 싶다면 **global** 키워드 사용"
   ]
  },
  {
   "cell_type": "markdown",
   "metadata": {},
   "source": [
    "### Return\n",
    "* 기본적으로 함수의 종료를 명시\n",
    "* return 옆에 값이나 수식이 있다면 해당 값을 호출자(caller)에게 반환(전달)\n",
    "* return 만 존재하면 None 반환\n",
    "* return이 없는 경우, 기본적으로 함수 코드 블록이 종료되면 종료로 간주. 이때도 None 반환\n",
    "\n",
    "\n",
    "* **multiple return**\n",
    "  * return a, b\n",
    "  * tuple 형태로 반환\n",
    "  * unboxing을 통해 변수에 대입 가능"
   ]
  },
  {
   "cell_type": "markdown",
   "metadata": {},
   "source": [
    "> # 8.1. Parameter"
   ]
  },
  {
   "cell_type": "markdown",
   "metadata": {},
   "source": [
    "### Parameter (argument, 인자)\n",
    "  * 함수에 전달되는 입력(input), 0 ~ n개 혹은 가변길이일수도 있다 (e.g. print())\n",
    "  * int, string, float, bool, list, dict, function 등 어떤 파이썬 객체 가능\n",
    "  * python의 경우, 타입 명시가 없기 때문에, 함수 생성 시, 의도된 파라미터의 타입에 맞게 입력을 전달하는 것이 중요\n",
    "  * 또한 파라미터를 전달 할 때, 정의된 순서에 따라 값을 전달하는 것이 중요"
   ]
  },
  {
   "cell_type": "markdown",
   "metadata": {},
   "source": [
    "### default parameter (기본 인자)\n",
    "  * 함수의 파라미터에 기본값 지정 가능\n",
    "  * 파라미터를 명시하지 않을 경우, 지정된 기본값으로 대체\n",
    "  ``` python\n",
    "def print_hello(nums='hello world'):\n",
    "        print(nums)\n",
    "print_hello('hi world')\n",
    "print_hello() #기본값으로 대체\n",
    "```\n",
    "  * ** default parameter 사용 시 주의 점**\n",
    "    * 디폴트 파라미터 뒤에 일반 파라미터가 위치할 수 없음\n",
    "    * correct) def test(a, b, c = 1)\n",
    "    * wrong) def test(a, b = 1, c)"
   ]
  },
  {
   "cell_type": "markdown",
   "metadata": {},
   "source": [
    "### keyword parameter\n",
    "  * Parameter의 이름을 명시하여 전달 가능\n",
    "  * 이름을 사용하지 않을 경우, 기본적으로 순서에 맞게 전달"
   ]
  },
  {
   "cell_type": "code",
   "execution_count": null,
   "metadata": {
    "collapsed": true
   },
   "outputs": [],
   "source": [
    "def func_test(a, b, c = 1, d = 2):\n",
    "    print(a, b, c, d)\n",
    "\n",
    "# 일반적인 호출\n",
    "func_test(1, 1)\n",
    "# 키워드 파라미터를 사용하는 호출\n",
    "func_test(b = 2, a = 4)\n",
    "func_test(1, 7, c = 10, d = 20)"
   ]
  },
  {
   "cell_type": "markdown",
   "metadata": {},
   "source": [
    "### **variable length argument (가변길이 인자)**\n",
    "* 전달되는 parameter의 개수가 고정적이지 않은 경우 사용\n",
    "* 일반 parameter와 혼용시 가변 parameter를 뒤쪽에 사용\n",
    "* e.g)\n",
    "  - print 함수\n",
    "  - format 함수\n",
    "  \n",
    "> ***args**,  ****kwargs**\n",
    "\n",
    "> ***args**    : 파라미터를 튜플의 형태로 전달\n",
    "\n",
    "> ****kwargs** : 파리미터를 딕셔너리 형태로 전달(네임드 파라미터)"
   ]
  },
  {
   "cell_type": "code",
   "execution_count": null,
   "metadata": {
    "collapsed": true
   },
   "outputs": [],
   "source": [
    "def test_var_kwargs(**kwargs):\n",
    "    print(type(kwargs))\n",
    "    for key in kwargs:\n",
    "        print(\"another keyword arg: %s: %s\" \\\n",
    "        % (key, kwargs[key]))\n",
    "\n",
    "test_var_kwargs(two = \"two\", three = 'three')"
   ]
  },
  {
   "cell_type": "code",
   "execution_count": 2,
   "metadata": {
    "collapsed": true
   },
   "outputs": [
    {
     "name": "stdout",
     "output_type": "stream",
     "text": [
      "formal arg: (1, 'two', 'three')\n",
      "<class 'tuple'>\n",
      "\n",
      "another arg: 1\n",
      "another arg: two\n",
      "another arg: three\n",
      "a aa\n",
      "b bb\n"
     ]
    }
   ],
   "source": [
    "def test_var_args(*args, **kwargs):\n",
    "    print(\"formal arg:\", args)\n",
    "    print(type(args))\n",
    "    print() \n",
    "    \n",
    "    for arg in args:\n",
    "        print(\"another arg:\", arg)\n",
    "        \n",
    "    for kw in kwargs:\n",
    "        print(kw, kwargs[kw])\n",
    "\n",
    "test_var_args(1, \"two\", 'three', a = 'aa', b = 'bb')"
   ]
  },
  {
   "cell_type": "markdown",
   "metadata": {},
   "source": [
    "* 고정길이 함수에 \\*, \\** 사용 \n",
    "  - 튜플 혹은 딕셔너리를 가변길이 인자로 변경하여 전달"
   ]
  },
  {
   "cell_type": "code",
   "execution_count": null,
   "metadata": {
    "collapsed": true
   },
   "outputs": [],
   "source": [
    "def test_var_args_call(arg1, arg2, arg3):\n",
    "    print(\"arg1:\", arg1)\n",
    "    print(\"arg2:\", arg2)\n",
    "    print(\"arg3:\", arg3)\n",
    "\n",
    "args = (\"two\", 3, 1)\n",
    "test_var_args_call(*args)"
   ]
  },
  {
   "cell_type": "code",
   "execution_count": null,
   "metadata": {
    "collapsed": true
   },
   "outputs": [],
   "source": [
    "def test_var_args_call(arg1, arg2, arg3):\n",
    "    print(\"arg1:\", arg1)\n",
    "    print(\"arg2:\", arg2)\n",
    "    print(\"arg3:\", arg3)\n",
    "\n",
    "kwargs = {\"arg3\": 3, \"arg2\": \"two\"}\n",
    "test_var_args_call(1, **kwargs)"
   ]
  },
  {
   "cell_type": "markdown",
   "metadata": {},
   "source": [
    "### format() 함수"
   ]
  },
  {
   "cell_type": "code",
   "execution_count": null,
   "metadata": {
    "collapsed": true
   },
   "outputs": [],
   "source": [
    "'hello {} world {}'.format('mike', 'pop')\n",
    "\n",
    "# 순서 명시 & 중복 가능\n",
    "'Hello {1}! {1}, my name is {0}'.format('Brian', 'Aaron')\n",
    "\n",
    "# keyword\n",
    "'Hello {aa}! my name is {bb}'.format(aa = 'Tom', bb = 'Boby')\n",
    "print(c)\n",
    "\n",
    "# 정수 콤마로 표시\n",
    "'Wow it is a big number! {:,}'.format(2 ** 30)\n",
    "\n",
    "# 숫자 precision 5자리로 제한\n",
    "'Wow it is a big number! {:.5}'.format(3.14159262840725)\n",
    "\n",
    "# 소수점 이후의 precision 5자리로 제한\n",
    "'Wow it is a big number! {:.5f}'.format(3.14159262840725)\n",
    "\n",
    "# 최소 7자리는 필요 .이후 precision 5자리로 제한 (빈자리는 비워둠)\n",
    "'Wow it is a big number! {:7.5f}'.format(1213.14159262840725)\n",
    "\n",
    "# 최소 7자리는 필요 .이후 precision 1자리로 제한\n",
    "# 숫자의 경우 오른쪽 부터 채워짐. (패딩이 왼쪽에 위치)\n",
    "'Wow it is a big number! {:7.1f}'.format(1213.14159262840725)\n",
    "\n",
    "# 패딩을 넣은 경우\n",
    "'Wow it is a big number! {:07.1f}'.format(1213.14159262840725)"
   ]
  },
  {
   "cell_type": "markdown",
   "metadata": {
    "collapsed": true
   },
   "source": [
    "> # 8.2. Recursion\n",
    "* 점화식으로 표현되는 모든 수식을 간결히 표현할 수 있음\n",
    "* 종료조건 필요 (명시하지 않으면 무한 호출반복)\n",
    "* 코드는 간결하나, 호출에 따른 오버헤드가 큼\n",
    "* 따라서 성능과 코드의 간결함에 대한 trade-off를 고려하여 구현이 필요"
   ]
  },
  {
   "cell_type": "markdown",
   "metadata": {},
   "source": [
    "### recursion tree - time inefficient"
   ]
  },
  {
   "cell_type": "code",
   "execution_count": null,
   "metadata": {
    "collapsed": true
   },
   "outputs": [],
   "source": [
    "# 재귀가 분기하면 메모리가 급격히 많이 소모됨\n",
    "def recursive_fibonacci(n):\n",
    "    if n == 1 or n == 2:\n",
    "        return 1\n",
    "    \n",
    "    return recursive_fibonacci(n-1) + recursive_fibonacci(n-2)\n",
    "\n",
    "print(recursive_fibonacci(15))\n",
    "%timeit recursive_fibonacci(20)"
   ]
  },
  {
   "cell_type": "code",
   "execution_count": 5,
   "metadata": {
    "collapsed": true
   },
   "outputs": [],
   "source": [
    "# 계단 오르기 문제\n",
    "def starecount(n):\n",
    "    if n == 1:\n",
    "        return 1 \n",
    "    if n == 2:\n",
    "        return 2\n",
    "    if n == 3:\n",
    "        return 4\n",
    "    return starecount(n-1)+starecount(n-2)+starecount(n-3)"
   ]
  },
  {
   "cell_type": "markdown",
   "metadata": {},
   "source": [
    "### memozation"
   ]
  },
  {
   "cell_type": "code",
   "execution_count": 7,
   "metadata": {
    "collapsed": true
   },
   "outputs": [],
   "source": [
    "# 계단 오르기 문제\n",
    "memo = {}\n",
    "def starecount(n):\n",
    "    if n == 1 or n == 2:\n",
    "        return n \n",
    "    if n == 3:\n",
    "        return 4\n",
    "    if n in memo:\n",
    "        return memo[n]\n",
    "    \n",
    "    memo[n] = starecount(n-1)+starecount(n-2)+starecount(n-3)\n",
    "    return memo[n]"
   ]
  },
  {
   "cell_type": "markdown",
   "metadata": {},
   "source": [
    "> # 8.3. Lambda Function\n",
    "* 한 번만 사용되는 기능을 1회성으로 만들어서 쓰는 것"
   ]
  },
  {
   "cell_type": "code",
   "execution_count": 3,
   "metadata": {},
   "outputs": [
    {
     "data": {
      "text/plain": [
       "<function __main__.<lambda>>"
      ]
     },
     "execution_count": 3,
     "metadata": {},
     "output_type": "execute_result"
    }
   ],
   "source": [
    "def square(x):\n",
    "    return x ** 2\n",
    "\n",
    "lambda x : x ** 2"
   ]
  },
  {
   "cell_type": "markdown",
   "metadata": {},
   "source": [
    "### List Sort"
   ]
  },
  {
   "cell_type": "code",
   "execution_count": 4,
   "metadata": {},
   "outputs": [
    {
     "name": "stdout",
     "output_type": "stream",
     "text": [
      "[91, 71, 83, 14, 45, 29]\n",
      "[91, 71, 83, 14, 45, 29]\n"
     ]
    }
   ],
   "source": [
    "nums = [91, 29, 14, 71, 83, 45]\n",
    "\n",
    "def digit(n):\n",
    "    return n % 10\n",
    "\n",
    "print(sorted(nums, key = digit))\n",
    "print(sorted(nums, key = lambda x : x%10))"
   ]
  },
  {
   "cell_type": "markdown",
   "metadata": {
    "collapsed": true
   },
   "source": [
    "### Tuple Sort"
   ]
  },
  {
   "cell_type": "code",
   "execution_count": 1,
   "metadata": {},
   "outputs": [
    {
     "name": "stdout",
     "output_type": "stream",
     "text": [
      "[(1, 2), (10, 2), (8, 4), (9, 5), (4, 5), (7, 6)]\n",
      "[(10, 2), (9, 5), (8, 4), (7, 6), (4, 5), (1, 2)]\n"
     ]
    }
   ],
   "source": [
    "nums = [(1, 2), (9, 5), (8, 4), (7, 6), (10, 2), (4, 5)]\n",
    "\n",
    "def get_key(item):\n",
    "    return item[1]\n",
    "\n",
    "print(sorted(nums, key = get_key))\n",
    "print(sorted(nums, key = lambda item : item[0], reverse = True))"
   ]
  },
  {
   "cell_type": "markdown",
   "metadata": {},
   "source": [
    "> # 8.4. filter, map, reduce\n",
    "* lambda가 유용하게 사용되는 3가지 대표적 함수\n",
    "* 함수형 프로그래밍의 기본 요소이기도 함"
   ]
  },
  {
   "cell_type": "markdown",
   "metadata": {},
   "source": [
    "### filter - 특정 조건을 만족하는 요소만 남기고 필터링"
   ]
  },
  {
   "cell_type": "code",
   "execution_count": 1,
   "metadata": {},
   "outputs": [
    {
     "name": "stdout",
     "output_type": "stream",
     "text": [
      "['apple', 'cat']\n",
      "['banana', 'apple', 'cat', 'hahahahahah', 'hahahahah']\n"
     ]
    }
   ],
   "source": [
    "str1 = ['banana', 'apple', 'cat', 'hahahahahah', 'hahahahah']\n",
    "\n",
    "print([x for x in str1 if len(x) <= 5])\n",
    "list(filter(lambda x: len(x) <= 5, str1))\n",
    "print(str1)"
   ]
  },
  {
   "cell_type": "markdown",
   "metadata": {},
   "source": [
    "### map - 각 원소를 주어진 수식에 따라 변형하여 새로운 리스트를 반환"
   ]
  },
  {
   "cell_type": "code",
   "execution_count": 2,
   "metadata": {},
   "outputs": [
    {
     "name": "stdout",
     "output_type": "stream",
     "text": [
      "[4, 8, 16, 32, 64, 128, 256, 512]\n",
      "[17, 10, 19, 23]\n"
     ]
    }
   ],
   "source": [
    "nums = list(range(2, 10))\n",
    "print(list(map(lambda x: 2**x, nums)))\n",
    "\n",
    "a = [1,2,3,4]\n",
    "b = [17,12,11,10]\n",
    "c = [-1,-4,5,9]\n",
    "print(list(map(lambda x, y, z : x + y + z, a, b, c)))"
   ]
  },
  {
   "cell_type": "markdown",
   "metadata": {},
   "source": [
    "### reduce - 차례대로 앞 2개의 원소를 가지고 연산, 연산의 결과가 또 다음 연산의 입력, 최종 출력은 한 개의 값"
   ]
  },
  {
   "cell_type": "code",
   "execution_count": null,
   "metadata": {
    "collapsed": true
   },
   "outputs": [],
   "source": [
    "from functools import reduce\n",
    "nums = [1, 2, 9, 8, 5, 4, 7, 10, 3]\n",
    "print(reduce(lambda x, y: x + y, nums))\n",
    "\n",
    "from functools import reduce\n",
    "print(reduce(lambda x, y : x if x > y else y, nums))"
   ]
  },
  {
   "cell_type": "markdown",
   "metadata": {},
   "source": [
    "> # 8.5. 예외 처리\n",
    "* try, except, finally 키워드 사용\n",
    "* try : 예외가 발생할 수 도 있는 코드 작성\n",
    "* except: 해당 코드 블록에서 예외 발생 시, 프로그램이 종료되지 않고, except 블록 실행\n",
    "* finally: 예외 발생 여부와 상관없이 항상 실행\n",
    "* 예외 처리 세분화"
   ]
  },
  {
   "cell_type": "code",
   "execution_count": 10,
   "metadata": {},
   "outputs": [
    {
     "name": "stdout",
     "output_type": "stream",
     "text": [
      "need a index between 0 and len(nums)-1 but got 5\n",
      "list index out of range\n",
      "task done\n",
      "0\n"
     ]
    }
   ],
   "source": [
    "nums = [0, 1, 2, 3]\n",
    "pos1 = 5\n",
    "pos2 = 0\n",
    "\n",
    "try:\n",
    "    print(nums[pos1] / nums[pos2])\n",
    "except IndexError as err:\n",
    "    print('need a index between 0 and len(nums)-1', 'but got', pos1)\n",
    "    print(str(err))\n",
    "except ZeroDivisionError as other: \n",
    "    print('something else broke', other)\n",
    "except Exception as e:\n",
    "    print(e)\n",
    "finally:\n",
    "    print('task done')\n",
    "    \n",
    "print(nums[0])"
   ]
  },
  {
   "cell_type": "markdown",
   "metadata": {},
   "source": [
    "> # 9. Module \n",
    "* numpy - pip install numpy\n",
    "* scipy - pip install scipy\n",
    "* pandas - pip install pandas\n",
    "* sklearn - pip install scikit-learn\n",
    "* matplotlib - pip install matplotlib\n",
    "* statsmodels - pip install statsmodels\n",
    "* seaborn - pip install seaborn"
   ]
  },
  {
   "cell_type": "markdown",
   "metadata": {},
   "source": [
    "### import module"
   ]
  },
  {
   "cell_type": "code",
   "execution_count": null,
   "metadata": {
    "collapsed": true
   },
   "outputs": [],
   "source": [
    "import numpy # 모듈 임포트\n",
    "import numpy as np # 모듈 임포트 후 alias(별명) 붙임\n",
    "from numpy import random as rd # numpy 모듈에서 하위 모듈인 random만을 import\n",
    "import numpy.random as random # numpy의 하위모듈인 random만을 import 후, alias 붙임\n",
    "from numpy.random import randint as np_randint"
   ]
  },
  {
   "cell_type": "markdown",
   "metadata": {},
   "source": [
    "### matplotlib"
   ]
  },
  {
   "cell_type": "code",
   "execution_count": null,
   "metadata": {
    "collapsed": true
   },
   "outputs": [],
   "source": [
    "import matplotlib.pyplot as plt\n",
    "\n",
    "x = [1, 2, 3, 4]\n",
    "y = [2, 4, 6, 8]\n",
    "\n",
    "plt.plot(x, y)\n",
    "plt.show()"
   ]
  },
  {
   "cell_type": "markdown",
   "metadata": {},
   "source": [
    "### request module"
   ]
  },
  {
   "cell_type": "code",
   "execution_count": null,
   "metadata": {
    "collapsed": true
   },
   "outputs": [],
   "source": [
    "import requests\n",
    "response = requests.get('http://www.naver.com')\n",
    "print(response.text)\n",
    "\n",
    "f = open('naver.html', 'w')\n",
    "\n",
    "f.write(response.text)\n",
    "\n",
    "f.close()"
   ]
  },
  {
   "cell_type": "markdown",
   "metadata": {},
   "source": [
    "### collection module\n",
    "* 리스트, 튜플, 딕셔너리, 셋을 제외한 다른 유용한 data structure를 제공하는 모듈\n",
    "* 아래의 링크에서 문서 확인 https://docs.python.org/2/library/collections.html#module-collections\n",
    "* Counter\n",
    "* counting을 목적으로 하는 객체\n",
    "* defaultdict\n",
    "* 기본값을 갖는 dictionary\n",
    "* OrderedDict\n",
    "* 순서를 갖는 dictionary (key가 삽입된 순서)"
   ]
  },
  {
   "cell_type": "code",
   "execution_count": null,
   "metadata": {
    "collapsed": true
   },
   "outputs": [],
   "source": [
    "from collections import Counter\n",
    "\n",
    "a = [1, 1, 2, 1, 2, 3, 3, 2, 4, 5, 5, 1]\n",
    "b = Counter(a)\n",
    "print(b)\n",
    "print(b.most_common())\n",
    "print(b[1])\n",
    "print(b[5])"
   ]
  },
  {
   "cell_type": "code",
   "execution_count": null,
   "metadata": {
    "collapsed": true
   },
   "outputs": [],
   "source": [
    "from collections import defaultdict\n",
    "\n",
    "a = [1, 1, 2, 1, 2, 3, 3, 2, 4, 5, 5, 1]\n",
    "\n",
    "temp = {}\n",
    "for i in a:\n",
    "    if i in temp:\n",
    "        temp[i] += 1\n",
    "    else:\n",
    "        temp[i] = 1\n",
    "\n",
    "\n",
    "num_dict = defaultdict(int)\n",
    "for i in a:\n",
    "    num_dict[i] += 1\n",
    "        \n",
    "print(num_dict)"
   ]
  },
  {
   "cell_type": "code",
   "execution_count": null,
   "metadata": {
    "collapsed": true
   },
   "outputs": [],
   "source": [
    "from collections import OrderedDict\n",
    "\n",
    "dict1 = OrderedDict()\n",
    "dict1['aaa'] = 1\n",
    "dict1['aac'] = 2\n",
    "dict1['ab'] = 100\n",
    "dict1['dd'] = 100\n",
    "\n",
    "dict2 = {}\n",
    "dict2['aaa'] = 1\n",
    "dict2['aac'] = 2\n",
    "dict2['ab'] = 100\n",
    "dict2['dd'] = 100\n",
    "\n",
    "print(dict1)\n",
    "print(list(dict1.keys()))\n",
    "\n",
    "print() \n",
    "\n",
    "print(dict2)\n",
    "print(list(dict2.keys()))"
   ]
  },
  {
   "cell_type": "markdown",
   "metadata": {},
   "source": [
    "> # 10. Class\n",
    "* class\n",
    "  * 실세계의 것을 모델링하여 **속성(attribute)**과 **동작(method)**을 갖는 데이터 타입\n",
    "  * **데이터(변수)**와 데이터를 다루는 **연산(함수)**을 하나로 **캡슐화(encapsulation)**\n",
    "* object\n",
    "  * 클래스로 생성되어 구체화된 **객체**(인스턴스)\n",
    "  * 실제로 class가 인스턴스화 되어 메모리에 상주하는 상태를 의미"
   ]
  },
  {
   "cell_type": "code",
   "execution_count": 6,
   "metadata": {
    "collapsed": true
   },
   "outputs": [],
   "source": [
    "def test_simulation_method():\n",
    "    pass\n",
    "class MyFirstClass(object):\n",
    "    pass"
   ]
  },
  {
   "cell_type": "markdown",
   "metadata": {},
   "source": [
    "### init & self\n",
    "* `__init__`\n",
    "  * 생성자, 클래스 인스턴스가 생성될 때 호출됨\n",
    "  * 해당 클래스가 다루는 데이터를 정의\n",
    "  * 이 데이터를 **멤버 변수(member variable)** 또는 **속성(attribute)**라고 함\n",
    "* self\n",
    "  * 파이썬의 method는 항상 첫번째 인자로 self를 전달\n",
    "  * self는 현재 해당 메쏘드가 호출되는 객체 자신을 가리킴\n",
    "  * 이름이 self일 필요는 없으나, 관례적으로 self로 사용\n",
    "  * C++/C#, Java의 this에 해당"
   ]
  },
  {
   "cell_type": "markdown",
   "metadata": {},
   "source": [
    "### 속성(attribute)\n",
    ">### public\n",
    "* 파이썬에서의 모든 속성, 메쏘드는 기본적으로 public\n",
    "* 즉, 클래스의 외부에서 속성, 메쏘드에 접근이 가능 (사용 가능)\n",
    "\n",
    ">### protected\n",
    "* 해당 클래스와 그것의 하위 클래스에서만 접근 가능\n",
    "* 파이썬에서는 해당 속성의 앞에 `_`(single underscore) 를 붙여서 설정\n",
    "* 다만, 실제 runtime에서의 제약 사항은 아니고, 실제 클래스를 사용하는 사용자에게 경고 형태로만 제공\n",
    "\n",
    ">### private\n",
    "* 해당 클래스의 외부에서는 접근 불가능 (접근 시 에러)\n",
    "* 파이썬의 경우 속성이름 앞에 `__`(double underscore)를 붙여서 설정\n",
    "* name mangling을 통해 속성의 이름을 변경하는 기법으로 private으로 설정"
   ]
  },
  {
   "cell_type": "code",
   "execution_count": 24,
   "metadata": {},
   "outputs": [
    {
     "name": "stdout",
     "output_type": "stream",
     "text": [
      "quantity1: 100 / quantity2: 100 / quantity3: 100\n"
     ]
    },
    {
     "ename": "AttributeError",
     "evalue": "'Fill' object has no attribute '__quantity3'",
     "output_type": "error",
     "traceback": [
      "\u001b[1;31m---------------------------------------------------------------------------\u001b[0m",
      "\u001b[1;31mAttributeError\u001b[0m                            Traceback (most recent call last)",
      "\u001b[1;32m<ipython-input-24-baa2faabebde>\u001b[0m in \u001b[0;36m<module>\u001b[1;34m()\u001b[0m\n\u001b[0;32m     10\u001b[0m \u001b[0mfill\u001b[0m \u001b[1;33m=\u001b[0m \u001b[0mFill\u001b[0m\u001b[1;33m(\u001b[0m\u001b[1;36m100\u001b[0m\u001b[1;33m)\u001b[0m\u001b[1;33m\u001b[0m\u001b[0m\n\u001b[0;32m     11\u001b[0m \u001b[0mfill\u001b[0m\u001b[1;33m.\u001b[0m\u001b[0mshow\u001b[0m\u001b[1;33m(\u001b[0m\u001b[1;33m)\u001b[0m\u001b[1;33m\u001b[0m\u001b[0m\n\u001b[1;32m---> 12\u001b[1;33m \u001b[0mprint\u001b[0m\u001b[1;33m(\u001b[0m\u001b[0mfill\u001b[0m\u001b[1;33m.\u001b[0m\u001b[0mquantity1\u001b[0m\u001b[1;33m,\u001b[0m \u001b[0mfill\u001b[0m\u001b[1;33m.\u001b[0m\u001b[0m_quantity2\u001b[0m\u001b[1;33m,\u001b[0m \u001b[0mfill\u001b[0m\u001b[1;33m.\u001b[0m\u001b[0m__quantity3\u001b[0m\u001b[1;33m)\u001b[0m\u001b[1;33m\u001b[0m\u001b[0m\n\u001b[0m",
      "\u001b[1;31mAttributeError\u001b[0m: 'Fill' object has no attribute '__quantity3'"
     ]
    }
   ],
   "source": [
    "class Fill:\n",
    "    def __init__(self, quantity):\n",
    "        self.quantity1 = quantity\n",
    "        self._quantity2 = quantity\n",
    "        self.__quantity3 = quantity\n",
    "        \n",
    "    def show(self):\n",
    "        print('quantity1: {} / quantity2: {} / quantity3: {}'.format(self.quantity1, self._quantity2, self.__quantity3))\n",
    "\n",
    "fill = Fill(100)\n",
    "fill.show()\n",
    "print(fill.quantity1, fill._quantity2, fill.__quantity3)"
   ]
  },
  {
   "cell_type": "markdown",
   "metadata": {},
   "source": [
    "### 함수(method)\n",
    "* 멤버함수라고도 하며, 해당 클래스의 object에서만 호출가능\n",
    "* 메쏘드는 객체 레벨에서 호출되며, 해당 객체의 속성에 대한 연산을 행함\n",
    "* `object.method()` 형태로 호출됨"
   ]
  },
  {
   "cell_type": "markdown",
   "metadata": {},
   "source": [
    "### example1"
   ]
  },
  {
   "cell_type": "code",
   "execution_count": 32,
   "metadata": {
    "collapsed": true
   },
   "outputs": [],
   "source": [
    "class VideoManager:\n",
    "    def __init__(self):\n",
    "        self.videos = {}\n",
    "    def add_video(self, title, release_date, genre):\n",
    "        self.videos[title] = {'genre' : genre, 'date' : release_date}\n",
    "    def find_video(self, title):\n",
    "        return title in self.videos\n",
    "    def is_new_release(self, title):\n",
    "        release_date = self.videos[title]['date']\n",
    "        return (datetime.datetime.now() - release_date).days < 7"
   ]
  },
  {
   "cell_type": "markdown",
   "metadata": {},
   "source": [
    "### example2"
   ]
  },
  {
   "cell_type": "code",
   "execution_count": 10,
   "metadata": {},
   "outputs": [
    {
     "name": "stdout",
     "output_type": "stream",
     "text": [
      "__init__ called...\n",
      "studying for 10\n",
      "studying english for 10\n",
      "studying science for 10\n"
     ]
    }
   ],
   "source": [
    "class Person:\n",
    "    def __init__(self, name):\n",
    "        self.name = name\n",
    "        print('__init__ called...')\n",
    "        \n",
    "    def study(self, hour):\n",
    "        print('studying for {}'.format(hour))\n",
    "        self.study_english(hour)\n",
    "        self.study_science(hour)\n",
    "    \n",
    "    def study_english(self, hour):\n",
    "        print('studying english for {}'.format(hour))\n",
    "    \n",
    "    def study_science(self, hour):\n",
    "        print('studying science for {}'.format(hour))\n",
    "        \n",
    "p1 = Person('bob')\n",
    "p1.study(10)"
   ]
  },
  {
   "cell_type": "markdown",
   "metadata": {},
   "source": [
    "### 상속(Class Inheritance)\n",
    "* 기존에 정의해둔 클래스의 기능을 그대로 물려받을 수 있다.\n",
    "* 기존 클래스에 기능 일부를 추가하거나, 변경하여 새로운 클래스를 정의한다.\n",
    "* 상속 받고자 하는 대상인 기존 클래스는 (Parent, Super, Base class 라고 부른다.)\n",
    "* 상속 받는 새로운 클래스는(Child, Sub, Derived class 라고 부른다.)"
   ]
  },
  {
   "cell_type": "markdown",
   "metadata": {},
   "source": [
    "### example"
   ]
  },
  {
   "cell_type": "code",
   "execution_count": null,
   "metadata": {
    "collapsed": true
   },
   "outputs": [],
   "source": [
    "class Person:\n",
    "    def work(self):\n",
    "        print('work hard')\n",
    "\n",
    "class Student(Person):\n",
    "    pass\n",
    "\n",
    "p1 = Person()\n",
    "s1 = Student()\n",
    "\n",
    "p1.work()\n",
    "s1.work()"
   ]
  },
  {
   "cell_type": "markdown",
   "metadata": {},
   "source": [
    "### method override\n",
    "* 부모 클래스의 method를 재정의(override)\n",
    "* 하위 클래스(자식 클래스) 의 인스턴스로 호출시, 재정의된 메소드가 호출됨"
   ]
  },
  {
   "cell_type": "code",
   "execution_count": 28,
   "metadata": {},
   "outputs": [
    {
     "name": "stdout",
     "output_type": "stream",
     "text": [
      "Study hard\n",
      "Play hard\n"
     ]
    }
   ],
   "source": [
    "class Parent:\n",
    "    def work(self):\n",
    "        print('Study hard')\n",
    "\n",
    "class Child(Parent):\n",
    "    def work(self):\n",
    "        print('Play hard')\n",
    "        \n",
    "p1 = Parent()\n",
    "s1 = Child()\n",
    "\n",
    "p1.work()\n",
    "s1.work()"
   ]
  },
  {
   "cell_type": "markdown",
   "metadata": {},
   "source": [
    "### super - 자식클래스에서 부모클래스의 method 호출 & 새로운 기능 추가"
   ]
  },
  {
   "cell_type": "code",
   "execution_count": 36,
   "metadata": {},
   "outputs": [
    {
     "name": "stdout",
     "output_type": "stream",
     "text": [
      "Bob\n",
      "Jason\n",
      "Jason@jason.com\n",
      "True True\n",
      "True False\n"
     ]
    }
   ],
   "source": [
    "class Person:\n",
    "    def __init__(self, name):\n",
    "        self.name = name\n",
    "        print(self.name)\n",
    "\n",
    "class Student(Person):\n",
    "    def __init__(self, name, email):\n",
    "        super().__init__(name)\n",
    "        self.email = email\n",
    "        print(self.email)\n",
    "        \n",
    "p1 = Person('Bob')\n",
    "s1 = Student('Jason', 'Jason@jason.com')\n",
    "\n",
    "print(isinstance(s1, Person),isinstance(s1, Student)) # s1은 Person객체이면서 Student객체이다\n",
    "print(isinstance(p1, Person),isinstance(p1, Student)) # p1은 Person객체이지만 Student객체는 아니다"
   ]
  },
  {
   "cell_type": "markdown",
   "metadata": {},
   "source": [
    "### method type\n",
    "* **instance method** - 객체로 호출\n",
    "  * 메쏘드는 객체 레벨로 호출 되기 때문에, 해당 메쏘드를 호출한 객체에만 영향을 미침\n",
    "* **class method** - class로 호출\n",
    "  * 클래스 메쏘드의 경우, 클래스 레벨로 호출되기 때문에, 클래스 멤버 변수만 변경 가능"
   ]
  },
  {
   "cell_type": "code",
   "execution_count": null,
   "metadata": {
    "collapsed": true
   },
   "outputs": [],
   "source": [
    "class A(object):\n",
    "    count = 0 # static member (class variable)\n",
    "    \n",
    "    def __init__(self, cnt):\n",
    "        A.count += 1\n",
    "        self.cnt = cnt # member variable, attribute\n",
    "        \n",
    "    def print_cnt(self): # memeber function, method\n",
    "        print(self.cnt)\n",
    "        \n",
    "    @classmethod # class method, static function\n",
    "    def print_count(cls):\n",
    "        print(cls.count)\n",
    "        \n",
    "a1 = A(10)\n",
    "a2 = A(20)\n",
    "\n",
    "a1.print_cnt()\n",
    "a2.print_cnt()\n",
    "A.print_count()"
   ]
  },
  {
   "cell_type": "markdown",
   "metadata": {},
   "source": [
    "### duck typing\n",
    "* 클래스에 관계없이 같은 동작을 다른객체에 적용 / 다형성에 활용"
   ]
  },
  {
   "cell_type": "code",
   "execution_count": 37,
   "metadata": {},
   "outputs": [
    {
     "name": "stdout",
     "output_type": "stream",
     "text": [
      "Person1 plays baseball\n",
      "Person2 plays baseball\n",
      "Person3 plays basketball\n",
      "Person4 plays basketball\n"
     ]
    }
   ],
   "source": [
    "class BaseballPlayer:\n",
    "    def __init__(self, name):\n",
    "        self.name = name\n",
    "        \n",
    "    def play(self):\n",
    "        print(self.name, 'plays baseball')\n",
    "        \n",
    "class BasketballPlayer:\n",
    "    def __init__(self, name):\n",
    "        self.name = name\n",
    "        \n",
    "    def play(self):\n",
    "        print(self.name, 'plays basketball')\n",
    "        \n",
    "b1 = BaseballPlayer('Person1')\n",
    "b2 = BaseballPlayer('Person2')\n",
    "b3 = BasketballPlayer('Person3')\n",
    "b4 = BasketballPlayer('Person4')\n",
    "\n",
    "players = [b1, b2, b3, b4]\n",
    "\n",
    "for player in players:\n",
    "    player.play()        "
   ]
  },
  {
   "cell_type": "markdown",
   "metadata": {},
   "source": [
    "### special method\n",
    "* ```__```로 시작 ```__```로 끝나는 특수 함수\n",
    "* 해당 메쏘드들을 구현하면, 커스텀 객체에 여러가지 파이썬 내장 함수나 연산자를 적용 가능\n",
    "* [more about special method](https://docs.python.org/2/reference/datamodel.html)"
   ]
  },
  {
   "cell_type": "code",
   "execution_count": 40,
   "metadata": {
    "collapsed": true
   },
   "outputs": [],
   "source": [
    "class Word(object):\n",
    "    def __init__(self, text, email):\n",
    "        self.text = text\n",
    "        self.email = email\n",
    "    \n",
    "    def __eq__(self, word2): # w1 == w2\n",
    "        return self.text.lower() == word2.text.lower() and self.email == word2.email\n",
    "    \n",
    "    def __len__(self): # len(w1)\n",
    "        return len(self.text)\n",
    "    \n",
    "    def __add__(self, word2): # w1 + w2\n",
    "        return Word(self.text + ' ' + word2.text, self.email + ' ' + word2.email)\n",
    "    \n",
    "    def __str__(self): # print(w1)\n",
    "        return self.text\n",
    "    \n",
    "    def __repr__(self): # w1\n",
    "        return self.text\n",
    "    \n",
    "    def __getitem__(self, index) # w1[index]\n",
    "        if index == 0:\n",
    "            return self.text\n",
    "        elif index == 1:\n",
    "            return self.email\n",
    "        else:\n",
    "            return None"
   ]
  },
  {
   "cell_type": "markdown",
   "metadata": {
    "collapsed": true
   },
   "source": [
    "### is vs ==\n",
    "* is: reference가 가리키는 **객체**가 같은 경우 True\n",
    "* ==: reference가 가리키는 **값**이 같은 경우 True"
   ]
  },
  {
   "cell_type": "code",
   "execution_count": 41,
   "metadata": {
    "collapsed": true
   },
   "outputs": [],
   "source": [
    "a = [1,2,3]\n",
    "b = a # 동일한 reference에 있는 객체를 참조하기 때문에 a is b = True\n",
    "c = a[:] # 값을 복사해서 만든 새로운 객체이기 때문에 a is b = False"
   ]
  },
  {
   "cell_type": "code",
   "execution_count": 42,
   "metadata": {
    "collapsed": true
   },
   "outputs": [],
   "source": [
    "import copy\n",
    "\n",
    "a = [[1, 2], [3, 4]]\n",
    "b = copy.copy(a) # shallow copy / a is b = True\n",
    "c = copy.deepcopy(a) # deep copy / a is b = False"
   ]
  },
  {
   "cell_type": "markdown",
   "metadata": {},
   "source": [
    "### composition\n",
    "* 다른 클래스의 기능을 그대로 이용하고 싶으나, 상속을 피하고 싶을 때 사용\n",
    "* 어그리게이션(aggregation)이라고도 한다"
   ]
  },
  {
   "cell_type": "code",
   "execution_count": 44,
   "metadata": {},
   "outputs": [
    {
     "name": "stdout",
     "output_type": "stream",
     "text": [
      "Jason eats pizza\n",
      "David eats rice\n"
     ]
    }
   ],
   "source": [
    "class Jason:\n",
    "    def __init__(self):\n",
    "        pass\n",
    "        \n",
    "    def eat(self):\n",
    "        print('Jason eats pizza')\n",
    "        \n",
    "class David:\n",
    "    def __init__(self):\n",
    "        pass\n",
    "        \n",
    "    def eat(self):\n",
    "        print('David eats rice')\n",
    "        \n",
    "class Person:\n",
    "    def __init__(self, person1, person2):\n",
    "        self.person1 = person1\n",
    "        self.person2 = person2\n",
    "        \n",
    "    def eat(self):\n",
    "        self.person1.eat()\n",
    "        self.person2.eat()\n",
    "                \n",
    "jason = Jason()\n",
    "david = David()\n",
    "person = Person(Jason(),David())\n",
    "person.eat()"
   ]
  },
  {
   "cell_type": "markdown",
   "metadata": {},
   "source": [
    "### BFS vs DFS\n",
    "* BFS - Breadth First Search\n",
    "  * **Queue** 사용 / FIFO(First In First Out) / 뒤에 집어넣고 앞에서 뺀다\n",
    "* DFS - Depth First Search\n",
    "  * **Stack** 사용 / LIFO(Last In First Out) / push와 pop 사용"
   ]
  },
  {
   "cell_type": "markdown",
   "metadata": {},
   "source": [
    "### named tuple\n",
    "* tuple의 자식 클래스로써 클래스 선언 없이 객체를 생성할 수 있게 해준다"
   ]
  },
  {
   "cell_type": "code",
   "execution_count": 45,
   "metadata": {},
   "outputs": [
    {
     "name": "stdout",
     "output_type": "stream",
     "text": [
      "Car(engine='V6', door='side') <class '__main__.Car'>\n"
     ]
    }
   ],
   "source": [
    "from collections import namedtuple\n",
    "Car = namedtuple('Car', 'engine door') #'Car': 객체 이름 / 'engine과 door': 객체 속성 (space로 띄운다)\n",
    "\n",
    "car1 = Car('V8', 'side')\n",
    "car2 = Car(engine = 'V6', door = 'side') #두 가지 방식 모두 가능\n",
    "print(car2, type(car2))"
   ]
  },
  {
   "cell_type": "markdown",
   "metadata": {},
   "source": [
    "### 클래스 설계의 원칙 (SOLID)\n",
    "* 아래의 원칙의 이름을 외우기 보다는 그 원칙의 의미를 이해하고 적용하는 것이 중요\n",
    ">* Single Responsibility Principle\n",
    ">  * 하나의 클래스는 단 한 개의 책임을 가진다\n",
    ">* Open-Closed\n",
    ">  * 확장에는 열려있어야 하고, 변경에는 닫혀있어야 한다\n",
    ">* Liskov substitution\n",
    ">  * 상위 타입의 객체를 하위타입의 객체로 치환해도 상위 타입을 사용하는 프로그램은 정상적으로 동작해야 한다\n",
    ">* Interface Segregation\n",
    ">  * 인터페이스는 그 인터페이스를 사용하는 클라이언트 기준으로 분리해야한다\n",
    ">* Dependency Inversion\n",
    ">  * 객체를 생성하는 코드를 클래스의 외부로 책임을 넘겨서, 해당 클래스의 수정이 용이해지도록 한다\n",
    " \n",
    "* [출처](https://scotch.io/bar-talk/s-o-l-i-d-the-first-five-principles-of-object-oriented-design) [객체지향과 디자인 패턴 관련 책](http://www.aladin.co.kr/shop/wproduct.aspx?ItemId=28301535)"
   ]
  },
  {
   "cell_type": "markdown",
   "metadata": {},
   "source": [
    "## Design Pattern\n",
    "* 그동안 개발에 사용되었던 정형화된 패턴을 모아놓은 방법론 \n",
    "* [more about Design Pattern](https://en.wikipedia.org/wiki/Design_Patterns)"
   ]
  },
  {
   "cell_type": "markdown",
   "metadata": {},
   "source": [
    "### Observer Pattern\n",
    "* 관찰자 / 비관찰자 관계에서 관찰자에게 특정 이벤트의 발생의 알림을 전달하는 패턴"
   ]
  },
  {
   "cell_type": "code",
   "execution_count": 46,
   "metadata": {},
   "outputs": [
    {
     "name": "stdout",
     "output_type": "stream",
     "text": [
      "user activation event received..\n",
      "send sms\n",
      "user activation event received..\n",
      "send email\n"
     ]
    }
   ],
   "source": [
    "# 실습코드\n",
    "\n",
    "class SMSObserver(object):\n",
    "    def notify(self, event_data):\n",
    "        print(event_data, 'received..')\n",
    "        print('send sms')\n",
    "        \n",
    "class EmailObserver(object):\n",
    "    def notify(self, event_data):\n",
    "        print(event_data, 'received..')\n",
    "        print('send email')\n",
    "        \n",
    "class Notifier(object):\n",
    "    def __init__(self):\n",
    "        self.observers = []\n",
    "        \n",
    "    def register(self, observer):\n",
    "        self.observers.append(observer)\n",
    "        \n",
    "    def unregister(self, observer):\n",
    "        self.observers.remove(observer)\n",
    "        \n",
    "    def notify(self, event_data):\n",
    "        for observer in self.observers:\n",
    "            observer.notify(event_data)\n",
    "    \n",
    "notifier = Notifier()\n",
    "\n",
    "sms_observer = SMSObserver()\n",
    "email_observer = EmailObserver()\n",
    "\n",
    "notifier.register(sms_observer)\n",
    "notifier.register(email_observer)\n",
    "\n",
    "notifier.notify('user activation event')"
   ]
  },
  {
   "cell_type": "markdown",
   "metadata": {},
   "source": [
    "### Builder Pattern\n",
    "* 복잡한 객체를 생성하는 패턴"
   ]
  },
  {
   "cell_type": "code",
   "execution_count": null,
   "metadata": {
    "collapsed": true
   },
   "outputs": [],
   "source": [
    "class Student(object): #__init__()에서 모든 속성을 생성하는 대신 다음과 같이 나누어서 생성\n",
    "    def set_name(self, name): \n",
    "        self.name = name\n",
    "        return self\n",
    "    \n",
    "    def set_age(self, age):\n",
    "        self.age = age\n",
    "        return self\n",
    "    \n",
    "    def set_height(self, height):\n",
    "        self.height = height\n",
    "        return self"
   ]
  },
  {
   "cell_type": "markdown",
   "metadata": {},
   "source": [
    "### Factory Pattern\n",
    "* 객체를 생성하는 객체(Factory)를 만드는 패턴\n",
    "  > 예) 안드로이드, 아이폰, 윈도우폰에 각각 push 메시지를 전송해야한다. 해당 기능을 이용하는 쪽에서는 각각 호출하게 될 폰의 종류를 알 수 있는데, 어떻게 설계 할 수 있을까?"
   ]
  },
  {
   "cell_type": "code",
   "execution_count": null,
   "metadata": {
    "collapsed": true
   },
   "outputs": [],
   "source": [
    "# 실습 코드\n",
    "class BasicNotifier(object):\n",
    "    def __init__(self):\n",
    "        pass \n",
    "    \n",
    "    def send(self, push_key, push_obj):\n",
    "        pass\n",
    "    \n",
    "    \n",
    "class WindowsPhoneNotifier(BasicNotifier):\n",
    "    def __init__(self):\n",
    "        pass \n",
    "    \n",
    "    def send(self, push_key, push_obj):\n",
    "        a = 0\n",
    "        \n",
    "class iOSNotifier(BasicNotifier):\n",
    "    def __init__(self):\n",
    "        pass \n",
    "    \n",
    "    def send(self, push_key, push_obj):\n",
    "        b = 0\n",
    "        \n",
    "\n",
    "class NotifierFactory(object):\n",
    "    def __init__(self):\n",
    "        pass\n",
    "    \n",
    "    def create_notifier(self, devicetype):\n",
    "        notifier = BasicNotifier()\n",
    "        if devicetype == 'windwos':\n",
    "            notifier = WindowsPhoneNotifier()\n",
    "        elif devicetype == 'ios':\n",
    "            notifier = iOSNotifier()\n",
    "        elif devicetype == 'android':\n",
    "            notifier = Andrpod()            \n",
    "        return notifier\n",
    "    \n",
    "## client\n",
    "notifier_factory = NotifierFactory()\n",
    "notifier = notifier_factory.create_notifier('android')\n",
    "notifier.send()\n",
    "\n",
    "notifier = notifier_factory.create_notifier('ios')\n",
    "notifier.send()"
   ]
  }
 ],
 "metadata": {
  "kernelspec": {
   "display_name": "Python 3",
   "language": "python",
   "name": "python3"
  },
  "language_info": {
   "codemirror_mode": {
    "name": "ipython",
    "version": 3
   },
   "file_extension": ".py",
   "mimetype": "text/x-python",
   "name": "python",
   "nbconvert_exporter": "python",
   "pygments_lexer": "ipython3",
   "version": "3.6.2"
  }
 },
 "nbformat": 4,
 "nbformat_minor": 2
}
