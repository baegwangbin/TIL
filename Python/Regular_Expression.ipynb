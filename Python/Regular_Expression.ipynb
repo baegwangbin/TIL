{
 "cells": [
  {
   "cell_type": "markdown",
   "metadata": {},
   "source": [
    "# Regular Expression\n",
    "[more about regular expression](https://docs.python.org/3/library/re.html)"
   ]
  },
  {
   "cell_type": "markdown",
   "metadata": {},
   "source": [
    "># 1. Patterns"
   ]
  },
  {
   "cell_type": "markdown",
   "metadata": {},
   "source": [
    "### 1) a-Z, A-Z, 0-9\n",
    "* 정확히 해당 문자와 일치 / 기본적으로 대소문자 구별 / 구별하지 않도록 설정 가능"
   ]
  },
  {
   "cell_type": "markdown",
   "metadata": {},
   "source": [
    "### 2) Back Slash (\\\\)\n",
    "* 다른 문자와 함께 사용되어 특수한 의미를 지님\n",
    "  * \\d : [0-9]와 동일\n",
    "  * \\D : [^0-9]와 동일\n",
    "  * \\s : 공백 문자 (\\t, \\n, \\r - tab, newline, return)\n",
    "  * \\S : 공백이 아닌 문자\n",
    "  * \\w : [0-9a-zA-Z_]와 동일\n",
    "  * \\W : [^0-9a-zA-Z_]와 동일\n",
    "* 메타 캐릭터가 캐릭터 자체를 표현하도록 할 경우 사용\n",
    "  * \\\\. : 마침표\n",
    "  * \\\\\\ : 백슬래시"
   ]
  },
  {
   "cell_type": "markdown",
   "metadata": {},
   "source": [
    "### 3) . (마침표)\n",
    "* 공백을 제외한 모든 문자를 의미"
   ]
  },
  {
   "cell_type": "markdown",
   "metadata": {},
   "source": [
    "### 4) ^, $\n",
    "* ^: 문자열의 **맨 앞부터** 일치하는 경우 검색\n",
    "* \\$: 문자열의 **맨 뒤부터** 일치하는 경우 검색"
   ]
  },
  {
   "cell_type": "markdown",
   "metadata": {},
   "source": [
    "### 5) +,`*`,? \n",
    "* greedy search (maximum matching)\n",
    "* +: 1 or more\n",
    "* `*`: 0 or more\n",
    "* ?: 0 or 1"
   ]
  },
  {
   "cell_type": "markdown",
   "metadata": {},
   "source": [
    "### 6) +?, `*`?, ??\n",
    "* non-greedy search (minimum matching)"
   ]
  },
  {
   "cell_type": "markdown",
   "metadata": {},
   "source": [
    "### 7) {}\n",
    "* 반복 횟수 제한\n",
    "* {4} - 4번 반복\n",
    "* {3,4} - 3~4번 반복"
   ]
  },
  {
   "cell_type": "markdown",
   "metadata": {},
   "source": [
    "### 8) {}?\n",
    "* 제한된 반복 횟수 내에서 non-greedy하게 동작"
   ]
  },
  {
   "cell_type": "markdown",
   "metadata": {},
   "source": [
    "### 9) Meta Characters\n",
    "* `'or'`과 동일한 의미\n",
    "* `'.'`: []안에 있을 경우 그냥 마침표를 의미\n",
    "* `'^'`: 맨 앞에 있을 경우 해당 문자 패턴이 아닌 것을 의미 / 다른 위치에 있는 경우 문자 '^'를 의미\n",
    "* `'-'`: 범위를 의미"
   ]
  },
  {
   "cell_type": "markdown",
   "metadata": {},
   "source": [
    "># 2. Methods"
   ]
  },
  {
   "cell_type": "markdown",
   "metadata": {},
   "source": [
    "### 1) search\n",
    "* `m = re.search(pattern, string)`\n",
    "* 첫 번째로 패턴을 찾으면 match객체를 반환, 없는 경우 None 반환\n",
    "* 일반적으로 패턴에는 escape string이 사용되므로 raw string 검색 시 r을 붙임"
   ]
  },
  {
   "cell_type": "code",
   "execution_count": 14,
   "metadata": {},
   "outputs": [
    {
     "name": "stdout",
     "output_type": "stream",
     "text": [
      "<_sre.SRE_Match object; span=(3, 7), match='test'>\n",
      "3\n",
      "7\n"
     ]
    }
   ],
   "source": [
    "import re\n",
    "match = re.search(r'test', '111test111')\n",
    "print(match)\n",
    "print(match.start()) # 문자열에서 매치하는 패턴의 시작 인덱스\n",
    "print(match.end())   # 문자열에서 매치하는 패턴의 마지막 인덱스 + 1### Example - email address search\n",
    "str1 = 'haha this is awesom macmath22@ macmath22@gmail.com test@gmail.co.kr monkey summer hot'\n",
    "pattern = r'[\\w.-]+@[\\w.-]+'\n",
    "m = re.search(pattern, str1).group()\n",
    "m\n",
    "\n",
    "# python email checker regex\n",
    "email_regex = r\"(^[a-zA-Z0-9_.+-]+@[a-zA-Z0-9-]+\\.[a-zA-Z0-9-.]+$)\"\n",
    "m = re.search(email_regex,\"macmath22@gmail.co.kr\")\n",
    "m.group()"
   ]
  },
  {
   "cell_type": "markdown",
   "metadata": {},
   "source": [
    "### Grouping\n",
    "* ()를 하나의 그룹으로 인식\n",
    "* 매칭 결과를 각 그룹별로 분리 가능"
   ]
  },
  {
   "cell_type": "code",
   "execution_count": 13,
   "metadata": {},
   "outputs": [
    {
     "name": "stdout",
     "output_type": "stream",
     "text": [
      "baegwangbin@gmail.com\n",
      "baegwangbin@gmail.com\n",
      "baegwangbin\n",
      "gmail.com\n",
      "('baegwangbin', 'gmail.com')\n"
     ]
    }
   ],
   "source": [
    "m = re.search(r'(\\w+)@(.+)', \"My email is baegwangbin@gmail.com\")\n",
    "\n",
    "print(m.group()) #전체\n",
    "print(m.group(0)) #전체\n",
    "print(m.group(1)) #첫 번째 그룹\n",
    "print(m.group(2)) #두 번째 그룹\n",
    "print(m.groups()) #전체 그룹을 튜플 형태로 변환"
   ]
  },
  {
   "cell_type": "code",
   "execution_count": 82,
   "metadata": {},
   "outputs": [
    {
     "name": "stdout",
     "output_type": "stream",
     "text": [
      "pipipipikkk12345\n",
      "pipipipikkk12345\n",
      "pipipipi\n",
      "pi\n",
      "kkk\n",
      "('pipipipi', 'pi', 'kkk', '5')\n"
     ]
    }
   ],
   "source": [
    "# 반복이 사용되는 경우 그루핑과 반복의 위치가 중요\n",
    "# 반복이 그루핑 내에 사용되는 경우 전체 매칭이 서브그룹화\n",
    "# 반복이 그루핑 밖에 사용 되는 경우 마지막 매칭만 서브 그룹화\n",
    "m = re.search(r'((pi)+)(k+)(\\d)+', 'pipipipikkk12345')\n",
    "#m = re.search(r'(pi)+(k+)(\\d+)', 'pitpitpipikkk12345')\n",
    "\n",
    "print(m.group())\n",
    "print(m.group(0))\n",
    "print(m.group(1))\n",
    "print(m.group(2))\n",
    "print(m.group(3))\n",
    "\n",
    "print(m.groups())"
   ]
  },
  {
   "cell_type": "markdown",
   "metadata": {},
   "source": [
    "### 2) match\n",
    "* `m = re.match(pattern, string)`\n",
    "* search에서 앞에 ^를 붙인 것과 동일\n",
    "* search와 유사하나, 주어진 문자열의 시작부터 비교하여 패턴이 있는지 확인\n",
    "* 시작부터 해당 패턴이 존재하지 않다면 None 반환"
   ]
  },
  {
   "cell_type": "markdown",
   "metadata": {},
   "source": [
    "### 3) findall\n",
    "* `m = re.findall(pattern, string)`\n",
    "* 매칭되는 모든 결과를 리스트 형태로 반환"
   ]
  },
  {
   "cell_type": "markdown",
   "metadata": {},
   "source": [
    "### 4) sub\n",
    "* `m = re.sub(pattern, repl, string, count=0)`\n",
    "* replace pattern with **repl** and return new string\n",
    "* repl: **string** or **function**\n",
    "* count: 0인 경우는 전체를, 1이상이면 해당 숫자만큼 치환"
   ]
  },
  {
   "cell_type": "code",
   "execution_count": 2,
   "metadata": {},
   "outputs": [
    {
     "name": "stdout",
     "output_type": "stream",
     "text": [
      "one to the two to the three\n"
     ]
    }
   ],
   "source": [
    "nmap = {'1': 'one', '2': 'two', '3': 'three'}\n",
    "s = \"1 to the 2 to the 3\"\n",
    "\n",
    "# note that m.group() is used as parameter, not m\n",
    "print(re.sub(r'\\d', lambda m: nmap[m.group()], s))"
   ]
  },
  {
   "cell_type": "markdown",
   "metadata": {},
   "source": [
    "### 5) split\n",
    "* `re.split(pattern, string)`"
   ]
  },
  {
   "cell_type": "code",
   "execution_count": 5,
   "metadata": {},
   "outputs": [
    {
     "name": "stdout",
     "output_type": "stream",
     "text": [
      "['one', 'two', 'three', 'four', 'five', 'six']\n"
     ]
    },
    {
     "name": "stderr",
     "output_type": "stream",
     "text": [
      "/home/dockeruser/anaconda3/lib/python3.6/re.py:212: FutureWarning: split() requires a non-empty pattern match.\n",
      "  return _compile(pattern, flags).split(string, maxsplit)\n"
     ]
    }
   ],
   "source": [
    "a = \"one,two three.four*five:six\"\n",
    "print(re.split(r'[:,.*\\s]*', a))"
   ]
  },
  {
   "cell_type": "markdown",
   "metadata": {},
   "source": [
    "### 6) compile\n",
    "* `re.compile(pattern)`\n",
    "* save the pattern as \"re.RegexObject\" object"
   ]
  },
  {
   "cell_type": "code",
   "execution_count": 12,
   "metadata": {},
   "outputs": [
    {
     "name": "stdout",
     "output_type": "stream",
     "text": [
      "test1@test1.com\n",
      "['test1@test1.com', 'test2@test2.com']\n",
      "My email is test\n"
     ]
    }
   ],
   "source": [
    "import re\n",
    "\n",
    "email_reg = re.compile(r'[\\w.-]+@[\\w.-]+')\n",
    "print(email_reg.search('test1@test1.com and test2@test2.com').group())\n",
    "print(email_reg.findall('test1@test1.com and test2@test2.com'))\n",
    "print(email_reg.sub('test', 'My email is test3@test3.com'))"
   ]
  },
  {
   "cell_type": "markdown",
   "metadata": {
    "collapsed": true
   },
   "source": [
    "># 3. Examples & Practices"
   ]
  },
  {
   "cell_type": "markdown",
   "metadata": {},
   "source": [
    "### 1) search - email address search"
   ]
  },
  {
   "cell_type": "code",
   "execution_count": 16,
   "metadata": {},
   "outputs": [
    {
     "data": {
      "text/plain": [
       "'baegwangbin@gmail.com'"
      ]
     },
     "execution_count": 16,
     "metadata": {},
     "output_type": "execute_result"
    }
   ],
   "source": [
    "pattern1 = r'[\\w.-]+@[\\w.-]+'\n",
    "str1 = 'can you find where my address is? baegwangbin@gmail.com'\n",
    "m = re.search(pattern1, str1).group()\n",
    "m"
   ]
  },
  {
   "cell_type": "code",
   "execution_count": 19,
   "metadata": {},
   "outputs": [
    {
     "data": {
      "text/plain": [
       "'baegwangbin@gmail.com'"
      ]
     },
     "execution_count": 19,
     "metadata": {},
     "output_type": "execute_result"
    }
   ],
   "source": [
    "#widely used e-mail pattern\n",
    "email_regex = r\"([a-zA-Z0-9_.+-]+@[a-zA-Z0-9-]+\\.[a-zA-Z0-9-.]+)\"\n",
    "m = re.search(email_regex, str1)\n",
    "m.group()"
   ]
  },
  {
   "cell_type": "markdown",
   "metadata": {},
   "source": [
    "### 2) search - news crawling & email address search "
   ]
  },
  {
   "cell_type": "code",
   "execution_count": 23,
   "metadata": {},
   "outputs": [
    {
     "name": "stdout",
     "output_type": "stream",
     "text": [
      "moon@inews24.com\n",
      "ecowoori@hani.co.kr\n"
     ]
    }
   ],
   "source": [
    "import requests\n",
    "from bs4 import BeautifulSoup\n",
    "\n",
    "def get_news_content(url):\n",
    "    response = requests.get(url)\n",
    "    content = response.text\n",
    "\n",
    "    soup = BeautifulSoup(content, 'html5lib')\n",
    "    div = soup.find('div', attrs = {'id' : 'harmonyContainer'})\n",
    "    \n",
    "    content = ''\n",
    "    for paragraph in div.find_all('p'):\n",
    "        content += paragraph.get_text()\n",
    "        \n",
    "    return content\n",
    "\n",
    "news = {}\n",
    "news[1] = get_news_content('http://v.media.daum.net/v/20170924152555405')\n",
    "news[2] = get_news_content('http://v.media.daum.net/v/20170922100806612')\n",
    "news[3] = get_news_content('http://v.media.daum.net/v/20170924145729977?d=y')\n",
    "\n",
    "pattern2 = r'[\\w_]+[\\w.-]*@[\\w.-]+'\n",
    "\n",
    "for news in news.values():\n",
    "    m = re.search(pattern2, news)\n",
    "    if m:\n",
    "        print(m.group())"
   ]
  },
  {
   "cell_type": "markdown",
   "metadata": {},
   "source": [
    "### 3) findall - find a word in context "
   ]
  },
  {
   "cell_type": "code",
   "execution_count": 31,
   "metadata": {},
   "outputs": [
    {
     "name": "stdout",
     "output_type": "stream",
     "text": [
      "['Python', 'Python', 'Python', 'Python', 'Python', 'Python', 'Python'] \n",
      " The word 'Python' appeared 7 times in the given context.\n"
     ]
    }
   ],
   "source": [
    "context = '''Python is a widely used high-level programming language for general-purpose programming, \n",
    "created by Guido van Rossum and first released in 1991. An interpreted language, Python has a design \n",
    "philosophy that emphasizes code readability (notably using whitespace indentation to delimit code blocks \n",
    "rather than curly brackets or keywords), and a syntax that allows programmers to express concepts in fewer \n",
    "lines of code than might be used in languages such as C++ or Java.[23][24] The language provides constructs \n",
    "intended to enable writing clear programs on both a small and large scale.[25] Python features a dynamic type \n",
    "system and automatic memory management and supports multiple programming paradigms, including object-oriented, \n",
    "imperative, functional programming, and procedural styles. It has a large and comprehensive standard library.[26]\n",
    "\n",
    "Python interpreters are available for many operating systems, allowing Python code to run on a wide variety \n",
    "of systems. CPython, the reference implementation of Python, is open source software[27] and has a community-based \n",
    "development model, as do nearly all of its variant implementations. CPython is managed by the non-profit Python Software Foundation.\n",
    "'''\n",
    "\n",
    "# \\b - suitable for word search\n",
    "pattern3 = r'\\b[Pp]ython\\b'\n",
    "m = re.findall(pattern3, content)\n",
    "\n",
    "print(m, \"\\n The word 'Python' appeared {} times in the given context.\".format(len(m)))"
   ]
  }
 ],
 "metadata": {
  "kernelspec": {
   "display_name": "Python 3",
   "language": "python",
   "name": "python3"
  },
  "language_info": {
   "codemirror_mode": {
    "name": "ipython",
    "version": 3
   },
   "file_extension": ".py",
   "mimetype": "text/x-python",
   "name": "python",
   "nbconvert_exporter": "python",
   "pygments_lexer": "ipython3",
   "version": "3.6.2"
  }
 },
 "nbformat": 4,
 "nbformat_minor": 2
}
