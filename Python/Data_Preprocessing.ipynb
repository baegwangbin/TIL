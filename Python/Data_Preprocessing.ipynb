{
 "cells": [
  {
   "cell_type": "markdown",
   "metadata": {},
   "source": [
    "# Data Preprocessing with Scikit-Learn"
   ]
  },
  {
   "cell_type": "markdown",
   "metadata": {},
   "source": [
    "># 1. Scaling\n",
    "* `scale(X)`: Standard Normal Gaussian (average=0, variance=1)\n",
    "* `robust_scale(X)`: use median & interquartile range / minimize the influence of the outliers\n",
    "* `minmax_scale(X)`: min$\\rightarrow$1, max$\\rightarrow$1\n",
    "* `maxabs_scale(X)`: maximum absolute $\\rightarrow$ 1"
   ]
  },
  {
   "cell_type": "markdown",
   "metadata": {},
   "source": [
    "```python\n",
    "from sklearn.preprocessing import StandardScaler\n",
    "\n",
    "scaler = StandardScaler() \n",
    "scaler.fit(data1) \n",
    "data2 = scaler.transform(data1)\n",
    "```"
   ]
  },
  {
   "cell_type": "markdown",
   "metadata": {},
   "source": [
    "># 2. Normalization\n",
    "* Magnitude of each vector $\\rightarrow$ 1"
   ]
  },
  {
   "cell_type": "markdown",
   "metadata": {},
   "source": [
    "```python\n",
    "from sklearn.preprocessing import normalize\n",
    "\n",
    "y = normalize(x)\n",
    "```"
   ]
  },
  {
   "cell_type": "markdown",
   "metadata": {},
   "source": [
    "># 3. Encoding"
   ]
  },
  {
   "cell_type": "markdown",
   "metadata": {},
   "source": [
    "### One-Hot-Encoding\n",
    "* Integers $\\rightarrow$ K-dim vector\n",
    "\n",
    "```python\n",
    "from sklearn.preprocessing import OneHotEncoder\n",
    "ohe = OneHotEncoder()\n",
    "ohe.fit(X)\n",
    "ohe.n_values_, ohe.feature_indices_, ohe.active_features_\n",
    "ohe.transform(X).toarray() #transform into array\n",
    "```"
   ]
  },
  {
   "cell_type": "markdown",
   "metadata": {},
   "source": [
    "### Label Binarizer\n",
    "* OHE for string\n",
    "\n",
    "```python\n",
    "from sklearn.preprocessing import LabelBinarizer\n",
    "lb = LabelBinarizer()\n",
    "lb.fit(y)\n",
    "lb.classes_\n",
    "lb.transform(y)\n",
    "```"
   ]
  },
  {
   "cell_type": "markdown",
   "metadata": {},
   "source": [
    "### Label Encoding\n",
    "* Labels $\\rightarrow$ integers\n",
    "\n",
    "```python\n",
    "from sklearn.preprocessing import LabelEncoder\n",
    "le = LabelEncoder()\n",
    "le.fit(z)\n",
    "le.classes_\n",
    "le.transform([1, 1, 2, 6]) \n",
    "le.inverse_transform([0, 0, 1, 2])\n",
    "```"
   ]
  },
  {
   "cell_type": "markdown",
   "metadata": {},
   "source": [
    "### Binarizer\n",
    "* 0/1 based on threshold (default = 0)\n",
    "\n",
    "```python\n",
    "from sklearn.preprocessing import Binarizer\n",
    "bn = Binarizer(threshold = 1.1)\n",
    "bn.fit(X)\n",
    "bn.tranform(X)\n",
    "```"
   ]
  },
  {
   "cell_type": "markdown",
   "metadata": {
    "collapsed": true
   },
   "source": [
    "># 4. Imputer\n",
    "* Fills up empty information\n",
    "* Parameters\n",
    "  * `missing_values`\n",
    "  * `strategy`: how to fill them\n",
    "    * `mean`\n",
    "    * `median`\n",
    "    * `most_frequent`"
   ]
  },
  {
   "cell_type": "markdown",
   "metadata": {},
   "source": [
    "```python\n",
    "from sklearn.preprocessing import Imputer\n",
    "imp = Imputer(missing_values='NaN', strategy='mean', axis=0)\n",
    "imp.fit_transform(X)\n",
    "```"
   ]
  },
  {
   "cell_type": "markdown",
   "metadata": {},
   "source": [
    "># 5. Polynomial Features\n",
    "$$ x \\;\\; \\rightarrow \\;\\; [ 1, x, x^2, x^3, \\cdots ] $$\n",
    "$$$$\n",
    "$$ [x_1, x_2] \\;\\; \\rightarrow \\;\\; [ 1, x_1, x_2, x_1 \\cdot x_2 ] $$\n",
    "* Parameters\n",
    "  * `degree`\n",
    "  * `interaction_only`\n",
    "  * `include_bias`"
   ]
  },
  {
   "cell_type": "markdown",
   "metadata": {},
   "source": [
    "```python\n",
    "from sklearn.preprocessing import PolynomialFeatures\n",
    "poly = PolynomialFeatures(2)\n",
    "poly.fit_transform(X)\n",
    "```"
   ]
  },
  {
   "cell_type": "markdown",
   "metadata": {
    "school_cell_uuid": "4e17c42713dd4f1fb5c264f303fac3a4"
   },
   "source": [
    "># 6. Function Transformer\n",
    "$$ x \\;\\; \\rightarrow \\;\\; [ f_1(x),  f_2(x),  f_3(x),  \\cdots ] $$"
   ]
  },
  {
   "cell_type": "markdown",
   "metadata": {
    "collapsed": true,
    "school_cell_uuid": "f870d22f390c428098133134944f773c"
   },
   "source": [
    "```python\n",
    "from sklearn.preprocessing import FunctionTransformer\n",
    "\n",
    "def all_but_first_column(X):\n",
    "    return X[:, 1:]\n",
    "    \n",
    "FunctionTransformer(all_but_first_column).fit_transform(X)\n",
    "```"
   ]
  }
 ],
 "metadata": {
  "kernelspec": {
   "display_name": "Python 3",
   "language": "python",
   "name": "python3"
  },
  "language_info": {
   "codemirror_mode": {
    "name": "ipython",
    "version": 3
   },
   "file_extension": ".py",
   "mimetype": "text/x-python",
   "name": "python",
   "nbconvert_exporter": "python",
   "pygments_lexer": "ipython3",
   "version": "3.6.2"
  }
 },
 "nbformat": 4,
 "nbformat_minor": 2
}
